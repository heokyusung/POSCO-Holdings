{
 "cells": [
  {
   "cell_type": "code",
   "execution_count": 2,
   "id": "2c4d2174",
   "metadata": {},
   "outputs": [],
   "source": [
    "import pandas as pd"
   ]
  },
  {
   "cell_type": "code",
   "execution_count": 7,
   "id": "0073bd91",
   "metadata": {},
   "outputs": [
    {
     "name": "stdout",
     "output_type": "stream",
     "text": [
      "['2001-2020', '2021-2025']\n"
     ]
    }
   ],
   "source": [
    "xls = pd.ExcelFile('2001-continue_POSCO.xlsx')\n",
    "print(xls.sheet_names)"
   ]
  },
  {
   "cell_type": "code",
   "execution_count": 8,
   "id": "22925b9d",
   "metadata": {},
   "outputs": [],
   "source": [
    "df1 = pd.read_excel('2001-continue_POSCO.xlsx', sheet_name='2001-2020')\n",
    "df2 = pd.read_excel('2001-continue_POSCO.xlsx', sheet_name='2021-2025')"
   ]
  },
  {
   "cell_type": "code",
   "execution_count": 11,
   "id": "a03d3152",
   "metadata": {},
   "outputs": [
    {
     "name": "stdout",
     "output_type": "stream",
     "text": [
      "<class 'pandas.core.frame.DataFrame'>\n",
      "RangeIndex: 2088 entries, 0 to 2087\n",
      "Data columns (total 21 columns):\n",
      " #   Column   Non-Null Count  Dtype         \n",
      "---  ------   --------------  -----         \n",
      " 0   과제상태     2088 non-null   object        \n",
      " 1   총괄과제번호   2088 non-null   float64       \n",
      " 2   연구과제명    2088 non-null   object        \n",
      " 3   당해시작일    2088 non-null   datetime64[ns]\n",
      " 4   당해종료일    2088 non-null   datetime64[ns]\n",
      " 5   과제구분     2088 non-null   object        \n",
      " 6   사업코드명    2088 non-null   object        \n",
      " 7   시행기관명    2088 non-null   object        \n",
      " 8   연구책임자    2088 non-null   int64         \n",
      " 9   직위       2088 non-null   object        \n",
      " 10  사원하위그룹   2088 non-null   object        \n",
      " 11  연구책임자명   2088 non-null   object        \n",
      " 12  총연구비     2088 non-null   int64         \n",
      " 13  직접비      2088 non-null   int64         \n",
      " 14  위탁연구비    2088 non-null   int64         \n",
      " 15  간접비      2088 non-null   int64         \n",
      " 16  실행예산     2088 non-null   int64         \n",
      " 17  입금액      2088 non-null   int64         \n",
      " 18  집행금액     2088 non-null   int64         \n",
      " 19  잔    액   2088 non-null   int64         \n",
      " 20  직접비집행비율  2088 non-null   int64         \n",
      "dtypes: datetime64[ns](2), float64(1), int64(10), object(8)\n",
      "memory usage: 342.7+ KB\n",
      "<class 'pandas.core.frame.DataFrame'>\n",
      "RangeIndex: 338 entries, 0 to 337\n",
      "Data columns (total 21 columns):\n",
      " #   Column   Non-Null Count  Dtype         \n",
      "---  ------   --------------  -----         \n",
      " 0   과제상태     338 non-null    object        \n",
      " 1   총괄과제번호   338 non-null    float64       \n",
      " 2   연구과제명    338 non-null    object        \n",
      " 3   당해시작일    338 non-null    datetime64[ns]\n",
      " 4   당해종료일    338 non-null    datetime64[ns]\n",
      " 5   과제구분     338 non-null    object        \n",
      " 6   사업코드명    338 non-null    object        \n",
      " 7   시행기관명    338 non-null    object        \n",
      " 8   연구책임자    338 non-null    int64         \n",
      " 9   직위       338 non-null    object        \n",
      " 10  사원하위그룹   338 non-null    object        \n",
      " 11  연구책임자명   338 non-null    object        \n",
      " 12  총연구비     338 non-null    int64         \n",
      " 13  직접비      338 non-null    int64         \n",
      " 14  위탁연구비    338 non-null    int64         \n",
      " 15  간접비      338 non-null    int64         \n",
      " 16  실행예산     338 non-null    int64         \n",
      " 17  입금액      338 non-null    int64         \n",
      " 18  집행금액     338 non-null    int64         \n",
      " 19  잔    액   338 non-null    int64         \n",
      " 20  직접비집행비율  338 non-null    int64         \n",
      "dtypes: datetime64[ns](2), float64(1), int64(10), object(8)\n",
      "memory usage: 55.6+ KB\n"
     ]
    }
   ],
   "source": [
    "df1.info()\n",
    "df2.info()"
   ]
  },
  {
   "cell_type": "code",
   "execution_count": null,
   "id": "1934f466",
   "metadata": {},
   "outputs": [],
   "source": [
    "# 원본 엑셀 2개의 시트를 불러와서 1개의 데이터프레임으로 합치기\n",
    "\n",
    "df = pd.concat([df1, df2], ignore_index=True)"
   ]
  },
  {
   "cell_type": "code",
   "execution_count": 14,
   "id": "21777287",
   "metadata": {},
   "outputs": [],
   "source": [
    "# 열 이름 정리 (공백 제거)\n",
    "\n",
    "df.columns = df.columns.str.strip()"
   ]
  },
  {
   "cell_type": "code",
   "execution_count": 15,
   "id": "e906576a",
   "metadata": {},
   "outputs": [
    {
     "data": {
      "text/plain": [
       "Index(['과제상태', '총괄과제번호', '연구과제명', '당해시작일', '당해종료일', '과제구분', '사업코드명', '시행기관명',\n",
       "       '연구책임자', '직위', '사원하위그룹', '연구책임자명', '총연구비', '직접비', '위탁연구비', '간접비',\n",
       "       '실행예산', '입금액', '집행금액', '잔    액', '직접비집행비율'],\n",
       "      dtype='object')"
      ]
     },
     "execution_count": 15,
     "metadata": {},
     "output_type": "execute_result"
    }
   ],
   "source": [
    "df.columns"
   ]
  },
  {
   "cell_type": "code",
   "execution_count": 19,
   "id": "52283da9",
   "metadata": {},
   "outputs": [],
   "source": [
    "#  열 이름 정리 (공백 제거 및 특수문자 제거)\n",
    "df.columns = df.columns.str.replace(r\"[^\\w\\s]\", \"\", regex=True) \n",
    "df.columns = df.columns.str.replace(r\"\\s+\", \"\", regex=True)"
   ]
  },
  {
   "cell_type": "code",
   "execution_count": 17,
   "id": "d88c95ef",
   "metadata": {},
   "outputs": [
    {
     "name": "stdout",
     "output_type": "stream",
     "text": [
      "['과제상태', '총괄과제번호', '연구과제명', '당해시작일', '당해종료일', '과제구분', '사업코드명', '시행기관명', '연구책임자', '직위', '사원하위그룹', '연구책임자명', '총연구비', '직접비', '위탁연구비', '간접비', '실행예산', '입금액', '집행금액', '잔액', '직접비집행비율']\n"
     ]
    }
   ],
   "source": [
    "print(df.columns.tolist())"
   ]
  },
  {
   "cell_type": "code",
   "execution_count": 21,
   "id": "a1ffc4b6",
   "metadata": {},
   "outputs": [],
   "source": [
    "from langchain_core.documents import Document\n",
    "\n",
    "# 각 행을 Document로 변환\n",
    "docs = []\n",
    "for i, row in df.iterrows():\n",
    "    content = \"\\n\".join([f\"{col}: {row[col]}\" for col in df.columns])\n",
    "    docs.append(Document(page_content=content, metadata={\"row\": i}))\n"
   ]
  },
  {
   "cell_type": "code",
   "execution_count": 22,
   "id": "ccfd3502",
   "metadata": {},
   "outputs": [
    {
     "name": "stdout",
     "output_type": "stream",
     "text": [
      "page_content='과제상태: 마감\n",
      "총괄과제번호: 2.000371\n",
      "연구과제명: COKE성상 결정요인에 대한 실증시험 연구\n",
      "당해시작일: 2001-08-01 00:00:00\n",
      "당해종료일: 2004-07-31 00:00:00\n",
      "과제구분: POSCO일반과제\n",
      "사업코드명: 현업과제\n",
      "시행기관명: 포스코\n",
      "연구책임자: 20141\n",
      "직위: 대우교수\n",
      "사원하위그룹: 비전임교원\n",
      "연구책임자명: 이희천\n",
      "총연구비: 1196753000\n",
      "직접비: 732539384\n",
      "위탁연구비: 0\n",
      "간접비: 418853616\n",
      "실행예산: 0\n",
      "입금액: 1196753000\n",
      "집행금액: 0\n",
      "잔액: 0\n",
      "직접비집행비율: 0' metadata={'row': 0}\n"
     ]
    }
   ],
   "source": [
    "# 첫 번째 Document 출력\n",
    "\n",
    "print(docs[0])"
   ]
  },
  {
   "cell_type": "code",
   "execution_count": 24,
   "id": "ba77e376",
   "metadata": {},
   "outputs": [],
   "source": [
    "from langchain.text_splitter import RecursiveCharacterTextSplitter\n",
    "\n",
    "splitter = RecursiveCharacterTextSplitter(chunk_size=500, chunk_overlap=50)\n",
    "split_docs = splitter.split_documents(docs)\n"
   ]
  },
  {
   "cell_type": "code",
   "execution_count": 25,
   "id": "16aac0cd",
   "metadata": {},
   "outputs": [
    {
     "name": "stderr",
     "output_type": "stream",
     "text": [
      "c:\\Users\\LG\\Desktop\\project\\POSCO-Holdings\\new_env\\Lib\\site-packages\\tqdm\\auto.py:21: TqdmWarning: IProgress not found. Please update jupyter and ipywidgets. See https://ipywidgets.readthedocs.io/en/stable/user_install.html\n",
      "  from .autonotebook import tqdm as notebook_tqdm\n",
      "No sentence-transformers model found with name BM-K/KoSimCSE-roberta. Creating a new one with mean pooling.\n",
      "c:\\Users\\LG\\Desktop\\project\\POSCO-Holdings\\new_env\\Lib\\site-packages\\huggingface_hub\\file_download.py:143: UserWarning: `huggingface_hub` cache-system uses symlinks by default to efficiently store duplicated files but your machine does not support them in C:\\Users\\LG\\.cache\\huggingface\\hub\\models--BM-K--KoSimCSE-roberta. Caching files will still work but in a degraded version that might require more space on your disk. This warning can be disabled by setting the `HF_HUB_DISABLE_SYMLINKS_WARNING` environment variable. For more details, see https://huggingface.co/docs/huggingface_hub/how-to-cache#limitations.\n",
      "To support symlinks on Windows, you either need to activate Developer Mode or to run Python as an administrator. In order to activate developer mode, see this article: https://docs.microsoft.com/en-us/windows/apps/get-started/enable-your-device-for-development\n",
      "  warnings.warn(message)\n"
     ]
    }
   ],
   "source": [
    "# 임베딩\n",
    "\n",
    "from sentence_transformers import SentenceTransformer\n",
    "\n",
    "model = SentenceTransformer(\"BM-K/KoSimCSE-roberta\")\n"
   ]
  },
  {
   "cell_type": "code",
   "execution_count": 26,
   "id": "30cb7cb4",
   "metadata": {},
   "outputs": [
    {
     "name": "stdout",
     "output_type": "stream",
     "text": [
      "(768,)\n"
     ]
    }
   ],
   "source": [
    "def get_embedding(text: str):\n",
    "    return model.encode(text, convert_to_numpy=True)\n",
    "\n",
    "# 임베딩 테스트\n",
    "embedding = get_embedding(\"이 과제는 포스코와 산학협력으로 진행된다.\")\n",
    "print(embedding.shape)  # (768,)\n",
    "\n"
   ]
  },
  {
   "cell_type": "code",
   "execution_count": 27,
   "id": "2ec1d563",
   "metadata": {},
   "outputs": [],
   "source": [
    "# 예: langchain Document 리스트를 가정\n",
    "embeddings = [get_embedding(doc.page_content) for doc in docs]\n"
   ]
  },
  {
   "cell_type": "code",
   "execution_count": 29,
   "id": "a387749e",
   "metadata": {},
   "outputs": [
    {
     "ename": "AttributeError",
     "evalue": "type object 'Chroma' has no attribute 'from_embeddings'",
     "output_type": "error",
     "traceback": [
      "\u001b[31m---------------------------------------------------------------------------\u001b[39m",
      "\u001b[31mAttributeError\u001b[39m                            Traceback (most recent call last)",
      "\u001b[36mCell\u001b[39m\u001b[36m \u001b[39m\u001b[32mIn[29]\u001b[39m\u001b[32m, line 3\u001b[39m\n\u001b[32m      1\u001b[39m \u001b[38;5;28;01mfrom\u001b[39;00m\u001b[38;5;250m \u001b[39m\u001b[34;01mlangchain\u001b[39;00m\u001b[34;01m.\u001b[39;00m\u001b[34;01mvectorstores\u001b[39;00m\u001b[38;5;250m \u001b[39m\u001b[38;5;28;01mimport\u001b[39;00m Chroma\n\u001b[32m----> \u001b[39m\u001b[32m3\u001b[39m db = \u001b[43mChroma\u001b[49m\u001b[43m.\u001b[49m\u001b[43mfrom_embeddings\u001b[49m(\n\u001b[32m      4\u001b[39m     texts=docs,\n\u001b[32m      5\u001b[39m     embeddings=embeddings,\n\u001b[32m      6\u001b[39m     persist_directory=\u001b[33m\"\u001b[39m\u001b[33m./my_chroma_db\u001b[39m\u001b[33m\"\u001b[39m  \u001b[38;5;66;03m# ← 이 폴더에 로컬 저장\u001b[39;00m\n\u001b[32m      7\u001b[39m )\n\u001b[32m      8\u001b[39m db.persist()  \u001b[38;5;66;03m# 저장 명령\u001b[39;00m\n",
      "\u001b[31mAttributeError\u001b[39m: type object 'Chroma' has no attribute 'from_embeddings'"
     ]
    }
   ],
   "source": [
    "from langchain.vectorstores import Chroma\n",
    "\n",
    "db = Chroma.from_embeddings(\n",
    "    texts=docs,\n",
    "    embeddings=embeddings,\n",
    "    persist_directory=\"./my_chroma_db\"  # ← 이 폴더에 로컬 저장\n",
    ")\n",
    "db.persist()  # 저장 명령\n"
   ]
  },
  {
   "cell_type": "code",
   "execution_count": null,
   "id": "d239a807",
   "metadata": {},
   "outputs": [],
   "source": []
  }
 ],
 "metadata": {
  "kernelspec": {
   "display_name": "new_env",
   "language": "python",
   "name": "python3"
  },
  "language_info": {
   "codemirror_mode": {
    "name": "ipython",
    "version": 3
   },
   "file_extension": ".py",
   "mimetype": "text/x-python",
   "name": "python",
   "nbconvert_exporter": "python",
   "pygments_lexer": "ipython3",
   "version": "3.11.13"
  }
 },
 "nbformat": 4,
 "nbformat_minor": 5
}
