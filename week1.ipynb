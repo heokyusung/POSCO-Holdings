{
 "cells": [
  {
   "cell_type": "code",
   "execution_count": 907,
   "id": "2e3b4850",
   "metadata": {},
   "outputs": [],
   "source": [
    "import pandas as pd"
   ]
  },
  {
   "cell_type": "code",
   "execution_count": 908,
   "id": "a8c96d01",
   "metadata": {},
   "outputs": [],
   "source": [
    "import numpy as np\n",
    "import matplotlib.pyplot as plt "
   ]
  },
  {
   "cell_type": "code",
   "execution_count": 909,
   "id": "654456e1",
   "metadata": {},
   "outputs": [
    {
     "name": "stdout",
     "output_type": "stream",
     "text": [
      "Hello, World!\n"
     ]
    }
   ],
   "source": [
    "print(\"Hello, World!\")"
   ]
  },
  {
   "cell_type": "code",
   "execution_count": 910,
   "id": "85aab830",
   "metadata": {},
   "outputs": [],
   "source": [
    "age = 25"
   ]
  },
  {
   "cell_type": "code",
   "execution_count": 911,
   "id": "8b95a856",
   "metadata": {},
   "outputs": [],
   "source": [
    "name = \"Alice\""
   ]
  },
  {
   "cell_type": "code",
   "execution_count": 912,
   "id": "4d3e0717",
   "metadata": {},
   "outputs": [
    {
     "name": "stdout",
     "output_type": "stream",
     "text": [
      "<class 'int'>\n"
     ]
    }
   ],
   "source": [
    "print(type(age))"
   ]
  },
  {
   "cell_type": "code",
   "execution_count": 913,
   "id": "842277a5",
   "metadata": {},
   "outputs": [
    {
     "name": "stdout",
     "output_type": "stream",
     "text": [
      "<class 'str'>\n"
     ]
    }
   ],
   "source": [
    "print(type(name))"
   ]
  },
  {
   "cell_type": "code",
   "execution_count": 914,
   "id": "d222d26b",
   "metadata": {},
   "outputs": [],
   "source": [
    "a = True"
   ]
  },
  {
   "cell_type": "code",
   "execution_count": 915,
   "id": "d72ab62a",
   "metadata": {},
   "outputs": [],
   "source": [
    "b = False"
   ]
  },
  {
   "cell_type": "code",
   "execution_count": 916,
   "id": "349a7e69",
   "metadata": {},
   "outputs": [
    {
     "name": "stdout",
     "output_type": "stream",
     "text": [
      "a:True, type: <class 'bool'>\n"
     ]
    }
   ],
   "source": [
    "print(f\"a:{a}, type: {type(a)}\")"
   ]
  },
  {
   "cell_type": "code",
   "execution_count": 917,
   "id": "17cd6509",
   "metadata": {},
   "outputs": [
    {
     "name": "stdout",
     "output_type": "stream",
     "text": [
      "a:True, b:False\n"
     ]
    }
   ],
   "source": [
    "print(f\"a:{a}, b:{b}\")"
   ]
  },
  {
   "cell_type": "code",
   "execution_count": 918,
   "id": "2a86f6bb",
   "metadata": {},
   "outputs": [
    {
     "name": "stdout",
     "output_type": "stream",
     "text": [
      "a+b: 1\n"
     ]
    }
   ],
   "source": [
    "print(f\"a+b: {a+b}\")"
   ]
  },
  {
   "cell_type": "code",
   "execution_count": 919,
   "id": "793c12eb",
   "metadata": {},
   "outputs": [],
   "source": [
    "name = \"Alice\"\n",
    "greeting = \"Hello, World!\"\n",
    "full_greeting = greeting + \" My name is \" + name\n"
   ]
  },
  {
   "cell_type": "code",
   "execution_count": 920,
   "id": "d1e1f0d1",
   "metadata": {},
   "outputs": [
    {
     "name": "stdout",
     "output_type": "stream",
     "text": [
      "Hello, World! My name is Alice\n"
     ]
    }
   ],
   "source": [
    "print(full_greeting)"
   ]
  },
  {
   "cell_type": "code",
   "execution_count": 921,
   "id": "02fcb093",
   "metadata": {},
   "outputs": [
    {
     "name": "stdout",
     "output_type": "stream",
     "text": [
      "Type of name:<class 'str'>\n"
     ]
    }
   ],
   "source": [
    "print(f\"Type of name:{type(name)}\")"
   ]
  },
  {
   "cell_type": "code",
   "execution_count": 922,
   "id": "18d5482c",
   "metadata": {},
   "outputs": [
    {
     "name": "stdout",
     "output_type": "stream",
     "text": [
      "len\n"
     ]
    }
   ],
   "source": [
    "print(f\"len\")"
   ]
  },
  {
   "cell_type": "code",
   "execution_count": 923,
   "id": "5c36b007",
   "metadata": {},
   "outputs": [
    {
     "name": "stdout",
     "output_type": "stream",
     "text": [
      "lenth of name: 5\n"
     ]
    }
   ],
   "source": [
    "print(f\"lenth of name: {len(name)}\")"
   ]
  },
  {
   "cell_type": "code",
   "execution_count": 924,
   "id": "6fd35aa1",
   "metadata": {},
   "outputs": [
    {
     "data": {
      "text/plain": [
       "'Hellooo, Wooorld!'"
      ]
     },
     "execution_count": 924,
     "metadata": {},
     "output_type": "execute_result"
    }
   ],
   "source": [
    "greeting.replace('o','ooo')"
   ]
  },
  {
   "cell_type": "code",
   "execution_count": 925,
   "id": "b9991ed5",
   "metadata": {},
   "outputs": [
    {
     "data": {
      "text/plain": [
       "'HELLO, WORLD!'"
      ]
     },
     "execution_count": 925,
     "metadata": {},
     "output_type": "execute_result"
    }
   ],
   "source": [
    "greeting.upper()"
   ]
  },
  {
   "cell_type": "code",
   "execution_count": 926,
   "id": "01d0f356",
   "metadata": {},
   "outputs": [
    {
     "data": {
      "text/plain": [
       "'hello, world!'"
      ]
     },
     "execution_count": 926,
     "metadata": {},
     "output_type": "execute_result"
    }
   ],
   "source": [
    "greeting.lower()"
   ]
  },
  {
   "cell_type": "code",
   "execution_count": 927,
   "id": "02fc23e2",
   "metadata": {},
   "outputs": [
    {
     "data": {
      "text/plain": [
       "'Hello, World!'"
      ]
     },
     "execution_count": 927,
     "metadata": {},
     "output_type": "execute_result"
    }
   ],
   "source": [
    "greeting"
   ]
  },
  {
   "cell_type": "code",
   "execution_count": 928,
   "id": "3154da23",
   "metadata": {},
   "outputs": [
    {
     "data": {
      "text/plain": [
       "30"
      ]
     },
     "execution_count": 928,
     "metadata": {},
     "output_type": "execute_result"
    }
   ],
   "source": [
    "len(full_greeting)"
   ]
  },
  {
   "cell_type": "code",
   "execution_count": 929,
   "id": "625004eb",
   "metadata": {},
   "outputs": [
    {
     "name": "stdout",
     "output_type": "stream",
     "text": [
      "Hello, World! My name is Alice\n"
     ]
    }
   ],
   "source": [
    "print(full_greeting)"
   ]
  },
  {
   "cell_type": "code",
   "execution_count": 930,
   "id": "a090d624",
   "metadata": {},
   "outputs": [],
   "source": [
    "# Split the full_greeting string by comma\n",
    "a = full_greeting.split(',')"
   ]
  },
  {
   "cell_type": "code",
   "execution_count": 931,
   "id": "9317e06c",
   "metadata": {},
   "outputs": [
    {
     "data": {
      "text/plain": [
       "['Hello', ' World! My name is Alice']"
      ]
     },
     "execution_count": 931,
     "metadata": {},
     "output_type": "execute_result"
    }
   ],
   "source": [
    "a"
   ]
  },
  {
   "cell_type": "code",
   "execution_count": 932,
   "id": "1e4fc36f",
   "metadata": {},
   "outputs": [
    {
     "data": {
      "text/plain": [
       "list"
      ]
     },
     "execution_count": 932,
     "metadata": {},
     "output_type": "execute_result"
    }
   ],
   "source": [
    "type(a)"
   ]
  },
  {
   "cell_type": "code",
   "execution_count": 933,
   "id": "3b8ac114",
   "metadata": {},
   "outputs": [
    {
     "data": {
      "text/plain": [
       "2"
      ]
     },
     "execution_count": 933,
     "metadata": {},
     "output_type": "execute_result"
    }
   ],
   "source": [
    "len(a)"
   ]
  },
  {
   "cell_type": "code",
   "execution_count": 934,
   "id": "5ba00a31",
   "metadata": {},
   "outputs": [
    {
     "data": {
      "text/plain": [
       "type[0]"
      ]
     },
     "execution_count": 934,
     "metadata": {},
     "output_type": "execute_result"
    }
   ],
   "source": [
    "type[0]"
   ]
  },
  {
   "cell_type": "code",
   "execution_count": 935,
   "id": "8f909b94",
   "metadata": {},
   "outputs": [
    {
     "name": "stdout",
     "output_type": "stream",
     "text": [
      "Hello\n"
     ]
    }
   ],
   "source": [
    "print(a[0])"
   ]
  },
  {
   "cell_type": "code",
   "execution_count": 936,
   "id": "24c3aa1e",
   "metadata": {},
   "outputs": [],
   "source": [
    "my_list = [1, 2, 3, 4, 5]"
   ]
  },
  {
   "cell_type": "code",
   "execution_count": 937,
   "id": "ae9bc323",
   "metadata": {},
   "outputs": [],
   "source": [
    "my_list.insert(10,100)"
   ]
  },
  {
   "cell_type": "code",
   "execution_count": 938,
   "id": "2db48dfa",
   "metadata": {},
   "outputs": [
    {
     "data": {
      "text/plain": [
       "[1, 2, 3, 4, 5, 100]"
      ]
     },
     "execution_count": 938,
     "metadata": {},
     "output_type": "execute_result"
    }
   ],
   "source": [
    "my_list"
   ]
  },
  {
   "cell_type": "code",
   "execution_count": 939,
   "id": "70726a94",
   "metadata": {},
   "outputs": [
    {
     "data": {
      "text/plain": [
       "6"
      ]
     },
     "execution_count": 939,
     "metadata": {},
     "output_type": "execute_result"
    }
   ],
   "source": [
    "len(my_list)"
   ]
  },
  {
   "cell_type": "code",
   "execution_count": 940,
   "id": "1bd36694",
   "metadata": {},
   "outputs": [],
   "source": [
    "del my_list[5]"
   ]
  },
  {
   "cell_type": "code",
   "execution_count": 941,
   "id": "237451eb",
   "metadata": {},
   "outputs": [
    {
     "data": {
      "text/plain": [
       "[1, 2, 3, 4, 5]"
      ]
     },
     "execution_count": 941,
     "metadata": {},
     "output_type": "execute_result"
    }
   ],
   "source": [
    "my_list"
   ]
  },
  {
   "cell_type": "code",
   "execution_count": 942,
   "id": "683af970",
   "metadata": {},
   "outputs": [],
   "source": [
    "my_list.insert(5, 100)"
   ]
  },
  {
   "cell_type": "code",
   "execution_count": 943,
   "id": "3ccaf236",
   "metadata": {},
   "outputs": [
    {
     "data": {
      "text/plain": [
       "[1, 2, 3, 4, 5, 100]"
      ]
     },
     "execution_count": 943,
     "metadata": {},
     "output_type": "execute_result"
    }
   ],
   "source": [
    "my_list"
   ]
  },
  {
   "cell_type": "code",
   "execution_count": 944,
   "id": "1d8d9c2c",
   "metadata": {},
   "outputs": [],
   "source": [
    "my_list.insert(0, 0)"
   ]
  },
  {
   "cell_type": "code",
   "execution_count": 945,
   "id": "a8a14367",
   "metadata": {},
   "outputs": [
    {
     "data": {
      "text/plain": [
       "[0, 1, 2, 3, 4, 5, 100]"
      ]
     },
     "execution_count": 945,
     "metadata": {},
     "output_type": "execute_result"
    }
   ],
   "source": [
    "my_list"
   ]
  },
  {
   "cell_type": "code",
   "execution_count": 946,
   "id": "bbf72efd",
   "metadata": {},
   "outputs": [],
   "source": [
    "my_list.append(5)"
   ]
  },
  {
   "cell_type": "code",
   "execution_count": 947,
   "id": "f22516c2",
   "metadata": {},
   "outputs": [
    {
     "data": {
      "text/plain": [
       "[0, 1, 2, 3, 4, 5, 100, 5]"
      ]
     },
     "execution_count": 947,
     "metadata": {},
     "output_type": "execute_result"
    }
   ],
   "source": [
    "my_list"
   ]
  },
  {
   "cell_type": "code",
   "execution_count": 948,
   "id": "1d3c43c9",
   "metadata": {},
   "outputs": [],
   "source": [
    "my_list.remove(5)"
   ]
  },
  {
   "cell_type": "code",
   "execution_count": 949,
   "id": "3ad3f931",
   "metadata": {},
   "outputs": [
    {
     "data": {
      "text/plain": [
       "[0, 1, 2, 3, 4, 100, 5]"
      ]
     },
     "execution_count": 949,
     "metadata": {},
     "output_type": "execute_result"
    }
   ],
   "source": [
    "my_list"
   ]
  },
  {
   "cell_type": "code",
   "execution_count": 950,
   "id": "4895a004",
   "metadata": {},
   "outputs": [
    {
     "data": {
      "text/plain": [
       "4"
      ]
     },
     "execution_count": 950,
     "metadata": {},
     "output_type": "execute_result"
    }
   ],
   "source": [
    "my_list.pop(4)"
   ]
  },
  {
   "cell_type": "code",
   "execution_count": 951,
   "id": "c6f72b05",
   "metadata": {},
   "outputs": [
    {
     "data": {
      "text/plain": [
       "[0, 1, 2, 3, 100, 5]"
      ]
     },
     "execution_count": 951,
     "metadata": {},
     "output_type": "execute_result"
    }
   ],
   "source": [
    "my_list"
   ]
  },
  {
   "cell_type": "code",
   "execution_count": 952,
   "id": "c6df1fba",
   "metadata": {},
   "outputs": [
    {
     "data": {
      "text/plain": [
       "4"
      ]
     },
     "execution_count": 952,
     "metadata": {},
     "output_type": "execute_result"
    }
   ],
   "source": [
    "my_list.index(100)"
   ]
  },
  {
   "cell_type": "code",
   "execution_count": 953,
   "id": "de3d3fc9",
   "metadata": {},
   "outputs": [
    {
     "name": "stdout",
     "output_type": "stream",
     "text": [
      "None\n"
     ]
    }
   ],
   "source": [
    "print(my_list.reverse())"
   ]
  },
  {
   "cell_type": "code",
   "execution_count": 954,
   "id": "1d24af71",
   "metadata": {},
   "outputs": [
    {
     "data": {
      "text/plain": [
       "[5, 100, 3, 2, 1, 0]"
      ]
     },
     "execution_count": 954,
     "metadata": {},
     "output_type": "execute_result"
    }
   ],
   "source": [
    "my_list"
   ]
  },
  {
   "cell_type": "code",
   "execution_count": 955,
   "id": "8de6518e",
   "metadata": {},
   "outputs": [],
   "source": [
    "import numpy as np"
   ]
  },
  {
   "cell_type": "code",
   "execution_count": 956,
   "id": "f27cbb2a",
   "metadata": {},
   "outputs": [],
   "source": [
    "import seaborn as sns"
   ]
  },
  {
   "cell_type": "code",
   "execution_count": 957,
   "id": "c9906cc3",
   "metadata": {},
   "outputs": [],
   "source": [
    "data = np.random.rand(5)"
   ]
  },
  {
   "cell_type": "code",
   "execution_count": 958,
   "id": "0806a331",
   "metadata": {},
   "outputs": [
    {
     "data": {
      "text/plain": [
       "array([0.36551662, 0.85132834, 0.16150216, 0.78153713, 0.5587977 ])"
      ]
     },
     "execution_count": 958,
     "metadata": {},
     "output_type": "execute_result"
    }
   ],
   "source": [
    "data"
   ]
  },
  {
   "cell_type": "code",
   "execution_count": 959,
   "id": "0c136460",
   "metadata": {},
   "outputs": [
    {
     "data": {
      "text/plain": [
       "numpy.ndarray"
      ]
     },
     "execution_count": 959,
     "metadata": {},
     "output_type": "execute_result"
    }
   ],
   "source": [
    "type(data)"
   ]
  },
  {
   "cell_type": "code",
   "execution_count": 960,
   "id": "eaf46b23",
   "metadata": {},
   "outputs": [
    {
     "data": {
      "text/plain": [
       "[0.3655166244181335,\n",
       " 0.8513283445576049,\n",
       " 0.16150215925293754,\n",
       " 0.7815371263427054,\n",
       " 0.5587977003705701]"
      ]
     },
     "execution_count": 960,
     "metadata": {},
     "output_type": "execute_result"
    }
   ],
   "source": [
    "data.tolist()"
   ]
  },
  {
   "cell_type": "code",
   "execution_count": 961,
   "id": "056049df",
   "metadata": {},
   "outputs": [],
   "source": [
    "data = {'Name' : ['Alice', 'Bob', 'Charlie'],\n",
    "        'Age' : [25, 30, 35],\n",
    "        'City' : ['New York', 'Los Angeles', 'Chicago']}"
   ]
  },
  {
   "cell_type": "code",
   "execution_count": 962,
   "id": "b2393820",
   "metadata": {},
   "outputs": [
    {
     "data": {
      "text/plain": [
       "{'Name': ['Alice', 'Bob', 'Charlie'],\n",
       " 'Age': [25, 30, 35],\n",
       " 'City': ['New York', 'Los Angeles', 'Chicago']}"
      ]
     },
     "execution_count": 962,
     "metadata": {},
     "output_type": "execute_result"
    }
   ],
   "source": [
    "data"
   ]
  },
  {
   "cell_type": "code",
   "execution_count": 963,
   "id": "14d4b816",
   "metadata": {},
   "outputs": [
    {
     "data": {
      "text/plain": [
       "dict"
      ]
     },
     "execution_count": 963,
     "metadata": {},
     "output_type": "execute_result"
    }
   ],
   "source": [
    "type(data)"
   ]
  },
  {
   "cell_type": "code",
   "execution_count": 964,
   "id": "dee61838",
   "metadata": {},
   "outputs": [],
   "source": [
    "df = pd.DataFrame(data)"
   ]
  },
  {
   "cell_type": "code",
   "execution_count": 965,
   "id": "ac0cf532",
   "metadata": {},
   "outputs": [],
   "source": [
    "import pandas as pd"
   ]
  },
  {
   "cell_type": "code",
   "execution_count": 966,
   "id": "0be3c8e3",
   "metadata": {},
   "outputs": [],
   "source": [
    "df = pd.DataFrame(data)"
   ]
  },
  {
   "cell_type": "code",
   "execution_count": 967,
   "id": "f572561a",
   "metadata": {},
   "outputs": [
    {
     "data": {
      "text/html": [
       "<div>\n",
       "<style scoped>\n",
       "    .dataframe tbody tr th:only-of-type {\n",
       "        vertical-align: middle;\n",
       "    }\n",
       "\n",
       "    .dataframe tbody tr th {\n",
       "        vertical-align: top;\n",
       "    }\n",
       "\n",
       "    .dataframe thead th {\n",
       "        text-align: right;\n",
       "    }\n",
       "</style>\n",
       "<table border=\"1\" class=\"dataframe\">\n",
       "  <thead>\n",
       "    <tr style=\"text-align: right;\">\n",
       "      <th></th>\n",
       "      <th>Name</th>\n",
       "      <th>Age</th>\n",
       "      <th>City</th>\n",
       "    </tr>\n",
       "  </thead>\n",
       "  <tbody>\n",
       "    <tr>\n",
       "      <th>0</th>\n",
       "      <td>Alice</td>\n",
       "      <td>25</td>\n",
       "      <td>New York</td>\n",
       "    </tr>\n",
       "    <tr>\n",
       "      <th>1</th>\n",
       "      <td>Bob</td>\n",
       "      <td>30</td>\n",
       "      <td>Los Angeles</td>\n",
       "    </tr>\n",
       "    <tr>\n",
       "      <th>2</th>\n",
       "      <td>Charlie</td>\n",
       "      <td>35</td>\n",
       "      <td>Chicago</td>\n",
       "    </tr>\n",
       "  </tbody>\n",
       "</table>\n",
       "</div>"
      ],
      "text/plain": [
       "      Name  Age         City\n",
       "0    Alice   25     New York\n",
       "1      Bob   30  Los Angeles\n",
       "2  Charlie   35      Chicago"
      ]
     },
     "execution_count": 967,
     "metadata": {},
     "output_type": "execute_result"
    }
   ],
   "source": [
    "df"
   ]
  },
  {
   "cell_type": "code",
   "execution_count": 968,
   "id": "83d006ae",
   "metadata": {},
   "outputs": [],
   "source": [
    "df['Age'] = df['Age'] + 1"
   ]
  },
  {
   "cell_type": "code",
   "execution_count": 969,
   "id": "2d3fd6a5",
   "metadata": {},
   "outputs": [
    {
     "data": {
      "text/plain": [
       "{'Name': ['Alice', 'Bob', 'Charlie'],\n",
       " 'Age': [25, 30, 35],\n",
       " 'City': ['New York', 'Los Angeles', 'Chicago']}"
      ]
     },
     "execution_count": 969,
     "metadata": {},
     "output_type": "execute_result"
    }
   ],
   "source": [
    "data"
   ]
  },
  {
   "cell_type": "code",
   "execution_count": 970,
   "id": "75390e23",
   "metadata": {},
   "outputs": [
    {
     "data": {
      "text/html": [
       "<div>\n",
       "<style scoped>\n",
       "    .dataframe tbody tr th:only-of-type {\n",
       "        vertical-align: middle;\n",
       "    }\n",
       "\n",
       "    .dataframe tbody tr th {\n",
       "        vertical-align: top;\n",
       "    }\n",
       "\n",
       "    .dataframe thead th {\n",
       "        text-align: right;\n",
       "    }\n",
       "</style>\n",
       "<table border=\"1\" class=\"dataframe\">\n",
       "  <thead>\n",
       "    <tr style=\"text-align: right;\">\n",
       "      <th></th>\n",
       "      <th>Name</th>\n",
       "      <th>Age</th>\n",
       "      <th>City</th>\n",
       "    </tr>\n",
       "  </thead>\n",
       "  <tbody>\n",
       "    <tr>\n",
       "      <th>0</th>\n",
       "      <td>Alice</td>\n",
       "      <td>26</td>\n",
       "      <td>New York</td>\n",
       "    </tr>\n",
       "    <tr>\n",
       "      <th>1</th>\n",
       "      <td>Bob</td>\n",
       "      <td>31</td>\n",
       "      <td>Los Angeles</td>\n",
       "    </tr>\n",
       "    <tr>\n",
       "      <th>2</th>\n",
       "      <td>Charlie</td>\n",
       "      <td>36</td>\n",
       "      <td>Chicago</td>\n",
       "    </tr>\n",
       "  </tbody>\n",
       "</table>\n",
       "</div>"
      ],
      "text/plain": [
       "      Name  Age         City\n",
       "0    Alice   26     New York\n",
       "1      Bob   31  Los Angeles\n",
       "2  Charlie   36      Chicago"
      ]
     },
     "execution_count": 970,
     "metadata": {},
     "output_type": "execute_result"
    }
   ],
   "source": [
    "df"
   ]
  },
  {
   "cell_type": "code",
   "execution_count": 971,
   "id": "59796929",
   "metadata": {},
   "outputs": [],
   "source": [
    "df['Job'] = ['Engineer', 'Artist', 'Doctor']"
   ]
  },
  {
   "cell_type": "code",
   "execution_count": 972,
   "id": "711523cf",
   "metadata": {},
   "outputs": [
    {
     "data": {
      "text/html": [
       "<div>\n",
       "<style scoped>\n",
       "    .dataframe tbody tr th:only-of-type {\n",
       "        vertical-align: middle;\n",
       "    }\n",
       "\n",
       "    .dataframe tbody tr th {\n",
       "        vertical-align: top;\n",
       "    }\n",
       "\n",
       "    .dataframe thead th {\n",
       "        text-align: right;\n",
       "    }\n",
       "</style>\n",
       "<table border=\"1\" class=\"dataframe\">\n",
       "  <thead>\n",
       "    <tr style=\"text-align: right;\">\n",
       "      <th></th>\n",
       "      <th>Name</th>\n",
       "      <th>Age</th>\n",
       "      <th>City</th>\n",
       "      <th>Job</th>\n",
       "    </tr>\n",
       "  </thead>\n",
       "  <tbody>\n",
       "    <tr>\n",
       "      <th>0</th>\n",
       "      <td>Alice</td>\n",
       "      <td>26</td>\n",
       "      <td>New York</td>\n",
       "      <td>Engineer</td>\n",
       "    </tr>\n",
       "    <tr>\n",
       "      <th>1</th>\n",
       "      <td>Bob</td>\n",
       "      <td>31</td>\n",
       "      <td>Los Angeles</td>\n",
       "      <td>Artist</td>\n",
       "    </tr>\n",
       "    <tr>\n",
       "      <th>2</th>\n",
       "      <td>Charlie</td>\n",
       "      <td>36</td>\n",
       "      <td>Chicago</td>\n",
       "      <td>Doctor</td>\n",
       "    </tr>\n",
       "  </tbody>\n",
       "</table>\n",
       "</div>"
      ],
      "text/plain": [
       "      Name  Age         City       Job\n",
       "0    Alice   26     New York  Engineer\n",
       "1      Bob   31  Los Angeles    Artist\n",
       "2  Charlie   36      Chicago    Doctor"
      ]
     },
     "execution_count": 972,
     "metadata": {},
     "output_type": "execute_result"
    }
   ],
   "source": [
    "df"
   ]
  },
  {
   "cell_type": "code",
   "execution_count": 973,
   "id": "76c8e76f",
   "metadata": {},
   "outputs": [],
   "source": [
    "df.loc[df['Name'] == 'Bob','City'] = 'San Francisco'"
   ]
  },
  {
   "cell_type": "code",
   "execution_count": 974,
   "id": "0053add9",
   "metadata": {},
   "outputs": [
    {
     "data": {
      "text/html": [
       "<div>\n",
       "<style scoped>\n",
       "    .dataframe tbody tr th:only-of-type {\n",
       "        vertical-align: middle;\n",
       "    }\n",
       "\n",
       "    .dataframe tbody tr th {\n",
       "        vertical-align: top;\n",
       "    }\n",
       "\n",
       "    .dataframe thead th {\n",
       "        text-align: right;\n",
       "    }\n",
       "</style>\n",
       "<table border=\"1\" class=\"dataframe\">\n",
       "  <thead>\n",
       "    <tr style=\"text-align: right;\">\n",
       "      <th></th>\n",
       "      <th>Name</th>\n",
       "      <th>Age</th>\n",
       "      <th>City</th>\n",
       "      <th>Job</th>\n",
       "    </tr>\n",
       "  </thead>\n",
       "  <tbody>\n",
       "    <tr>\n",
       "      <th>0</th>\n",
       "      <td>Alice</td>\n",
       "      <td>26</td>\n",
       "      <td>New York</td>\n",
       "      <td>Engineer</td>\n",
       "    </tr>\n",
       "    <tr>\n",
       "      <th>1</th>\n",
       "      <td>Bob</td>\n",
       "      <td>31</td>\n",
       "      <td>San Francisco</td>\n",
       "      <td>Artist</td>\n",
       "    </tr>\n",
       "    <tr>\n",
       "      <th>2</th>\n",
       "      <td>Charlie</td>\n",
       "      <td>36</td>\n",
       "      <td>Chicago</td>\n",
       "      <td>Doctor</td>\n",
       "    </tr>\n",
       "  </tbody>\n",
       "</table>\n",
       "</div>"
      ],
      "text/plain": [
       "      Name  Age           City       Job\n",
       "0    Alice   26       New York  Engineer\n",
       "1      Bob   31  San Francisco    Artist\n",
       "2  Charlie   36        Chicago    Doctor"
      ]
     },
     "execution_count": 974,
     "metadata": {},
     "output_type": "execute_result"
    }
   ],
   "source": [
    "df"
   ]
  },
  {
   "cell_type": "code",
   "execution_count": 975,
   "id": "324d0387",
   "metadata": {},
   "outputs": [],
   "source": [
    "new_row = {'Name':'David', 'Age':28, 'City' : 'Seattle', 'Job':'Teacher'}"
   ]
  },
  {
   "cell_type": "code",
   "execution_count": 976,
   "id": "2df410b7",
   "metadata": {},
   "outputs": [],
   "source": [
    "df = pd.concat([df, pd.DataFrame([new_row])], ignore_index=True)"
   ]
  },
  {
   "cell_type": "code",
   "execution_count": 977,
   "id": "db419e73",
   "metadata": {},
   "outputs": [
    {
     "data": {
      "text/html": [
       "<div>\n",
       "<style scoped>\n",
       "    .dataframe tbody tr th:only-of-type {\n",
       "        vertical-align: middle;\n",
       "    }\n",
       "\n",
       "    .dataframe tbody tr th {\n",
       "        vertical-align: top;\n",
       "    }\n",
       "\n",
       "    .dataframe thead th {\n",
       "        text-align: right;\n",
       "    }\n",
       "</style>\n",
       "<table border=\"1\" class=\"dataframe\">\n",
       "  <thead>\n",
       "    <tr style=\"text-align: right;\">\n",
       "      <th></th>\n",
       "      <th>Name</th>\n",
       "      <th>Age</th>\n",
       "      <th>City</th>\n",
       "      <th>Job</th>\n",
       "    </tr>\n",
       "  </thead>\n",
       "  <tbody>\n",
       "    <tr>\n",
       "      <th>0</th>\n",
       "      <td>Alice</td>\n",
       "      <td>26</td>\n",
       "      <td>New York</td>\n",
       "      <td>Engineer</td>\n",
       "    </tr>\n",
       "    <tr>\n",
       "      <th>1</th>\n",
       "      <td>Bob</td>\n",
       "      <td>31</td>\n",
       "      <td>San Francisco</td>\n",
       "      <td>Artist</td>\n",
       "    </tr>\n",
       "    <tr>\n",
       "      <th>2</th>\n",
       "      <td>Charlie</td>\n",
       "      <td>36</td>\n",
       "      <td>Chicago</td>\n",
       "      <td>Doctor</td>\n",
       "    </tr>\n",
       "    <tr>\n",
       "      <th>3</th>\n",
       "      <td>David</td>\n",
       "      <td>28</td>\n",
       "      <td>Seattle</td>\n",
       "      <td>Teacher</td>\n",
       "    </tr>\n",
       "  </tbody>\n",
       "</table>\n",
       "</div>"
      ],
      "text/plain": [
       "      Name  Age           City       Job\n",
       "0    Alice   26       New York  Engineer\n",
       "1      Bob   31  San Francisco    Artist\n",
       "2  Charlie   36        Chicago    Doctor\n",
       "3    David   28        Seattle   Teacher"
      ]
     },
     "execution_count": 977,
     "metadata": {},
     "output_type": "execute_result"
    }
   ],
   "source": [
    "df"
   ]
  },
  {
   "cell_type": "code",
   "execution_count": 978,
   "id": "6884cc86",
   "metadata": {},
   "outputs": [
    {
     "data": {
      "text/plain": [
       "{'Name': ['Alice', 'Bob', 'Charlie'],\n",
       " 'Age': [25, 30, 35],\n",
       " 'City': ['New York', 'Los Angeles', 'Chicago']}"
      ]
     },
     "execution_count": 978,
     "metadata": {},
     "output_type": "execute_result"
    }
   ],
   "source": [
    "data"
   ]
  },
  {
   "cell_type": "code",
   "execution_count": 979,
   "id": "10d03a02",
   "metadata": {},
   "outputs": [
    {
     "data": {
      "text/plain": [
       "{'Name': 'David', 'Age': 28, 'City': 'Seattle', 'Job': 'Teacher'}"
      ]
     },
     "execution_count": 979,
     "metadata": {},
     "output_type": "execute_result"
    }
   ],
   "source": [
    "new_row"
   ]
  },
  {
   "cell_type": "code",
   "execution_count": 980,
   "id": "876b1c7b",
   "metadata": {},
   "outputs": [
    {
     "data": {
      "text/html": [
       "<div>\n",
       "<style scoped>\n",
       "    .dataframe tbody tr th:only-of-type {\n",
       "        vertical-align: middle;\n",
       "    }\n",
       "\n",
       "    .dataframe tbody tr th {\n",
       "        vertical-align: top;\n",
       "    }\n",
       "\n",
       "    .dataframe thead th {\n",
       "        text-align: right;\n",
       "    }\n",
       "</style>\n",
       "<table border=\"1\" class=\"dataframe\">\n",
       "  <thead>\n",
       "    <tr style=\"text-align: right;\">\n",
       "      <th></th>\n",
       "      <th>Name</th>\n",
       "      <th>Age</th>\n",
       "      <th>City</th>\n",
       "    </tr>\n",
       "  </thead>\n",
       "  <tbody>\n",
       "    <tr>\n",
       "      <th>0</th>\n",
       "      <td>Alice</td>\n",
       "      <td>25</td>\n",
       "      <td>New York</td>\n",
       "    </tr>\n",
       "    <tr>\n",
       "      <th>1</th>\n",
       "      <td>Bob</td>\n",
       "      <td>30</td>\n",
       "      <td>Los Angeles</td>\n",
       "    </tr>\n",
       "    <tr>\n",
       "      <th>2</th>\n",
       "      <td>Charlie</td>\n",
       "      <td>35</td>\n",
       "      <td>Chicago</td>\n",
       "    </tr>\n",
       "  </tbody>\n",
       "</table>\n",
       "</div>"
      ],
      "text/plain": [
       "      Name  Age         City\n",
       "0    Alice   25     New York\n",
       "1      Bob   30  Los Angeles\n",
       "2  Charlie   35      Chicago"
      ]
     },
     "execution_count": 980,
     "metadata": {},
     "output_type": "execute_result"
    }
   ],
   "source": [
    "pd.DataFrame(data)"
   ]
  },
  {
   "cell_type": "code",
   "execution_count": 981,
   "id": "438fd0bd",
   "metadata": {},
   "outputs": [
    {
     "data": {
      "text/html": [
       "<div>\n",
       "<style scoped>\n",
       "    .dataframe tbody tr th:only-of-type {\n",
       "        vertical-align: middle;\n",
       "    }\n",
       "\n",
       "    .dataframe tbody tr th {\n",
       "        vertical-align: top;\n",
       "    }\n",
       "\n",
       "    .dataframe thead th {\n",
       "        text-align: right;\n",
       "    }\n",
       "</style>\n",
       "<table border=\"1\" class=\"dataframe\">\n",
       "  <thead>\n",
       "    <tr style=\"text-align: right;\">\n",
       "      <th></th>\n",
       "      <th>Name</th>\n",
       "      <th>Age</th>\n",
       "      <th>City</th>\n",
       "      <th>Job</th>\n",
       "    </tr>\n",
       "  </thead>\n",
       "  <tbody>\n",
       "    <tr>\n",
       "      <th>0</th>\n",
       "      <td>David</td>\n",
       "      <td>28</td>\n",
       "      <td>Seattle</td>\n",
       "      <td>Teacher</td>\n",
       "    </tr>\n",
       "  </tbody>\n",
       "</table>\n",
       "</div>"
      ],
      "text/plain": [
       "    Name  Age     City      Job\n",
       "0  David   28  Seattle  Teacher"
      ]
     },
     "execution_count": 981,
     "metadata": {},
     "output_type": "execute_result"
    }
   ],
   "source": [
    "pd.DataFrame([new_row])"
   ]
  },
  {
   "cell_type": "code",
   "execution_count": 982,
   "id": "9b1e846e",
   "metadata": {},
   "outputs": [
    {
     "data": {
      "text/html": [
       "<div>\n",
       "<style scoped>\n",
       "    .dataframe tbody tr th:only-of-type {\n",
       "        vertical-align: middle;\n",
       "    }\n",
       "\n",
       "    .dataframe tbody tr th {\n",
       "        vertical-align: top;\n",
       "    }\n",
       "\n",
       "    .dataframe thead th {\n",
       "        text-align: right;\n",
       "    }\n",
       "</style>\n",
       "<table border=\"1\" class=\"dataframe\">\n",
       "  <thead>\n",
       "    <tr style=\"text-align: right;\">\n",
       "      <th></th>\n",
       "      <th>Name</th>\n",
       "      <th>Age</th>\n",
       "      <th>City</th>\n",
       "      <th>Job</th>\n",
       "    </tr>\n",
       "  </thead>\n",
       "  <tbody>\n",
       "    <tr>\n",
       "      <th>0</th>\n",
       "      <td>Alice</td>\n",
       "      <td>26</td>\n",
       "      <td>New York</td>\n",
       "      <td>Engineer</td>\n",
       "    </tr>\n",
       "    <tr>\n",
       "      <th>1</th>\n",
       "      <td>Bob</td>\n",
       "      <td>31</td>\n",
       "      <td>San Francisco</td>\n",
       "      <td>Artist</td>\n",
       "    </tr>\n",
       "    <tr>\n",
       "      <th>2</th>\n",
       "      <td>Charlie</td>\n",
       "      <td>36</td>\n",
       "      <td>Chicago</td>\n",
       "      <td>Doctor</td>\n",
       "    </tr>\n",
       "    <tr>\n",
       "      <th>3</th>\n",
       "      <td>David</td>\n",
       "      <td>28</td>\n",
       "      <td>Seattle</td>\n",
       "      <td>Teacher</td>\n",
       "    </tr>\n",
       "  </tbody>\n",
       "</table>\n",
       "</div>"
      ],
      "text/plain": [
       "      Name  Age           City       Job\n",
       "0    Alice   26       New York  Engineer\n",
       "1      Bob   31  San Francisco    Artist\n",
       "2  Charlie   36        Chicago    Doctor\n",
       "3    David   28        Seattle   Teacher"
      ]
     },
     "execution_count": 982,
     "metadata": {},
     "output_type": "execute_result"
    }
   ],
   "source": [
    "df"
   ]
  },
  {
   "cell_type": "code",
   "execution_count": 983,
   "id": "045f2e6d",
   "metadata": {},
   "outputs": [],
   "source": [
    "df.loc[len(df)] = ['David', 40, 'Daegu', 'Unknown']\n"
   ]
  },
  {
   "cell_type": "code",
   "execution_count": 984,
   "id": "161c75a7",
   "metadata": {},
   "outputs": [
    {
     "data": {
      "text/html": [
       "<div>\n",
       "<style scoped>\n",
       "    .dataframe tbody tr th:only-of-type {\n",
       "        vertical-align: middle;\n",
       "    }\n",
       "\n",
       "    .dataframe tbody tr th {\n",
       "        vertical-align: top;\n",
       "    }\n",
       "\n",
       "    .dataframe thead th {\n",
       "        text-align: right;\n",
       "    }\n",
       "</style>\n",
       "<table border=\"1\" class=\"dataframe\">\n",
       "  <thead>\n",
       "    <tr style=\"text-align: right;\">\n",
       "      <th></th>\n",
       "      <th>Name</th>\n",
       "      <th>Age</th>\n",
       "      <th>City</th>\n",
       "      <th>Job</th>\n",
       "    </tr>\n",
       "  </thead>\n",
       "  <tbody>\n",
       "    <tr>\n",
       "      <th>0</th>\n",
       "      <td>Alice</td>\n",
       "      <td>26</td>\n",
       "      <td>New York</td>\n",
       "      <td>Engineer</td>\n",
       "    </tr>\n",
       "    <tr>\n",
       "      <th>1</th>\n",
       "      <td>Bob</td>\n",
       "      <td>31</td>\n",
       "      <td>San Francisco</td>\n",
       "      <td>Artist</td>\n",
       "    </tr>\n",
       "    <tr>\n",
       "      <th>2</th>\n",
       "      <td>Charlie</td>\n",
       "      <td>36</td>\n",
       "      <td>Chicago</td>\n",
       "      <td>Doctor</td>\n",
       "    </tr>\n",
       "    <tr>\n",
       "      <th>3</th>\n",
       "      <td>David</td>\n",
       "      <td>28</td>\n",
       "      <td>Seattle</td>\n",
       "      <td>Teacher</td>\n",
       "    </tr>\n",
       "    <tr>\n",
       "      <th>4</th>\n",
       "      <td>David</td>\n",
       "      <td>40</td>\n",
       "      <td>Daegu</td>\n",
       "      <td>Unknown</td>\n",
       "    </tr>\n",
       "  </tbody>\n",
       "</table>\n",
       "</div>"
      ],
      "text/plain": [
       "      Name  Age           City       Job\n",
       "0    Alice   26       New York  Engineer\n",
       "1      Bob   31  San Francisco    Artist\n",
       "2  Charlie   36        Chicago    Doctor\n",
       "3    David   28        Seattle   Teacher\n",
       "4    David   40          Daegu   Unknown"
      ]
     },
     "execution_count": 984,
     "metadata": {},
     "output_type": "execute_result"
    }
   ],
   "source": [
    "df"
   ]
  },
  {
   "cell_type": "code",
   "execution_count": 985,
   "id": "7c78b53d",
   "metadata": {},
   "outputs": [],
   "source": [
    "df.loc[5] = ['David', 40, 'Daegu', 'Unknown']"
   ]
  },
  {
   "cell_type": "code",
   "execution_count": 986,
   "id": "19998c6e",
   "metadata": {},
   "outputs": [
    {
     "data": {
      "text/html": [
       "<div>\n",
       "<style scoped>\n",
       "    .dataframe tbody tr th:only-of-type {\n",
       "        vertical-align: middle;\n",
       "    }\n",
       "\n",
       "    .dataframe tbody tr th {\n",
       "        vertical-align: top;\n",
       "    }\n",
       "\n",
       "    .dataframe thead th {\n",
       "        text-align: right;\n",
       "    }\n",
       "</style>\n",
       "<table border=\"1\" class=\"dataframe\">\n",
       "  <thead>\n",
       "    <tr style=\"text-align: right;\">\n",
       "      <th></th>\n",
       "      <th>Name</th>\n",
       "      <th>Age</th>\n",
       "      <th>City</th>\n",
       "      <th>Job</th>\n",
       "    </tr>\n",
       "  </thead>\n",
       "  <tbody>\n",
       "    <tr>\n",
       "      <th>0</th>\n",
       "      <td>Alice</td>\n",
       "      <td>26</td>\n",
       "      <td>New York</td>\n",
       "      <td>Engineer</td>\n",
       "    </tr>\n",
       "    <tr>\n",
       "      <th>1</th>\n",
       "      <td>Bob</td>\n",
       "      <td>31</td>\n",
       "      <td>San Francisco</td>\n",
       "      <td>Artist</td>\n",
       "    </tr>\n",
       "    <tr>\n",
       "      <th>2</th>\n",
       "      <td>Charlie</td>\n",
       "      <td>36</td>\n",
       "      <td>Chicago</td>\n",
       "      <td>Doctor</td>\n",
       "    </tr>\n",
       "    <tr>\n",
       "      <th>3</th>\n",
       "      <td>David</td>\n",
       "      <td>28</td>\n",
       "      <td>Seattle</td>\n",
       "      <td>Teacher</td>\n",
       "    </tr>\n",
       "    <tr>\n",
       "      <th>4</th>\n",
       "      <td>David</td>\n",
       "      <td>40</td>\n",
       "      <td>Daegu</td>\n",
       "      <td>Unknown</td>\n",
       "    </tr>\n",
       "    <tr>\n",
       "      <th>5</th>\n",
       "      <td>David</td>\n",
       "      <td>40</td>\n",
       "      <td>Daegu</td>\n",
       "      <td>Unknown</td>\n",
       "    </tr>\n",
       "  </tbody>\n",
       "</table>\n",
       "</div>"
      ],
      "text/plain": [
       "      Name  Age           City       Job\n",
       "0    Alice   26       New York  Engineer\n",
       "1      Bob   31  San Francisco    Artist\n",
       "2  Charlie   36        Chicago    Doctor\n",
       "3    David   28        Seattle   Teacher\n",
       "4    David   40          Daegu   Unknown\n",
       "5    David   40          Daegu   Unknown"
      ]
     },
     "execution_count": 986,
     "metadata": {},
     "output_type": "execute_result"
    }
   ],
   "source": [
    "df"
   ]
  },
  {
   "cell_type": "code",
   "execution_count": 987,
   "id": "fb90bd54",
   "metadata": {},
   "outputs": [],
   "source": [
    "import matplotlib.pyplot as plt"
   ]
  },
  {
   "cell_type": "code",
   "execution_count": 988,
   "id": "991e4b31",
   "metadata": {},
   "outputs": [],
   "source": [
    "x = [1, 2, 3, 4, 5]\n",
    "y = [2, 4, 6, 8, 10]"
   ]
  },
  {
   "cell_type": "code",
   "execution_count": 989,
   "id": "60eb962b",
   "metadata": {},
   "outputs": [
    {
     "data": {
      "text/plain": [
       "[<matplotlib.lines.Line2D at 0x1d01f5479d0>]"
      ]
     },
     "execution_count": 989,
     "metadata": {},
     "output_type": "execute_result"
    },
    {
     "name": "stderr",
     "output_type": "stream",
     "text": [
      "findfont: Font family 'AppleGothic' not found.\n",
      "findfont: Font family 'AppleGothic' not found.\n",
      "findfont: Font family 'AppleGothic' not found.\n",
      "findfont: Font family 'AppleGothic' not found.\n",
      "findfont: Font family 'AppleGothic' not found.\n",
      "findfont: Font family 'AppleGothic' not found.\n",
      "findfont: Font family 'AppleGothic' not found.\n",
      "findfont: Font family 'AppleGothic' not found.\n",
      "findfont: Font family 'AppleGothic' not found.\n",
      "findfont: Font family 'AppleGothic' not found.\n",
      "findfont: Font family 'AppleGothic' not found.\n",
      "findfont: Font family 'AppleGothic' not found.\n",
      "findfont: Font family 'AppleGothic' not found.\n",
      "findfont: Font family 'AppleGothic' not found.\n",
      "findfont: Font family 'AppleGothic' not found.\n",
      "findfont: Font family 'AppleGothic' not found.\n",
      "findfont: Font family 'AppleGothic' not found.\n",
      "findfont: Font family 'AppleGothic' not found.\n",
      "findfont: Font family 'AppleGothic' not found.\n",
      "findfont: Font family 'AppleGothic' not found.\n",
      "findfont: Font family 'AppleGothic' not found.\n",
      "findfont: Font family 'AppleGothic' not found.\n",
      "findfont: Font family 'AppleGothic' not found.\n",
      "findfont: Font family 'AppleGothic' not found.\n",
      "findfont: Font family 'AppleGothic' not found.\n",
      "findfont: Font family 'AppleGothic' not found.\n",
      "findfont: Font family 'AppleGothic' not found.\n",
      "findfont: Font family 'AppleGothic' not found.\n",
      "findfont: Font family 'AppleGothic' not found.\n",
      "findfont: Font family 'AppleGothic' not found.\n",
      "findfont: Font family 'AppleGothic' not found.\n",
      "findfont: Font family 'AppleGothic' not found.\n",
      "findfont: Font family 'AppleGothic' not found.\n",
      "findfont: Font family 'AppleGothic' not found.\n",
      "findfont: Font family 'AppleGothic' not found.\n",
      "findfont: Font family 'AppleGothic' not found.\n",
      "findfont: Font family 'AppleGothic' not found.\n",
      "findfont: Font family 'AppleGothic' not found.\n",
      "findfont: Font family 'AppleGothic' not found.\n",
      "findfont: Font family 'AppleGothic' not found.\n",
      "findfont: Font family 'AppleGothic' not found.\n",
      "findfont: Font family 'AppleGothic' not found.\n",
      "findfont: Font family 'AppleGothic' not found.\n",
      "findfont: Font family 'AppleGothic' not found.\n",
      "findfont: Font family 'AppleGothic' not found.\n",
      "findfont: Font family 'AppleGothic' not found.\n",
      "findfont: Font family 'AppleGothic' not found.\n",
      "findfont: Font family 'AppleGothic' not found.\n",
      "findfont: Font family 'AppleGothic' not found.\n",
      "findfont: Font family 'AppleGothic' not found.\n",
      "findfont: Font family 'AppleGothic' not found.\n",
      "findfont: Font family 'AppleGothic' not found.\n",
      "findfont: Font family 'AppleGothic' not found.\n",
      "findfont: Font family 'AppleGothic' not found.\n",
      "findfont: Font family 'AppleGothic' not found.\n",
      "findfont: Font family 'AppleGothic' not found.\n",
      "findfont: Font family 'AppleGothic' not found.\n",
      "findfont: Font family 'AppleGothic' not found.\n",
      "findfont: Font family 'AppleGothic' not found.\n",
      "findfont: Font family 'AppleGothic' not found.\n",
      "findfont: Font family 'AppleGothic' not found.\n",
      "findfont: Font family 'AppleGothic' not found.\n",
      "findfont: Font family 'AppleGothic' not found.\n",
      "findfont: Font family 'AppleGothic' not found.\n",
      "findfont: Font family 'AppleGothic' not found.\n",
      "findfont: Font family 'AppleGothic' not found.\n",
      "findfont: Font family 'AppleGothic' not found.\n",
      "findfont: Font family 'AppleGothic' not found.\n",
      "findfont: Font family 'AppleGothic' not found.\n",
      "findfont: Font family 'AppleGothic' not found.\n",
      "findfont: Font family 'AppleGothic' not found.\n",
      "findfont: Font family 'AppleGothic' not found.\n",
      "findfont: Font family 'AppleGothic' not found.\n",
      "findfont: Font family 'AppleGothic' not found.\n"
     ]
    },
    {
     "data": {
      "image/png": "[encoded data removed]",
      "text/plain": [
       "<Figure size 640x480 with 1 Axes>"
      ]
     },
     "metadata": {},
     "output_type": "display_data"
    }
   ],
   "source": [
    "plt.plot(x, y)"
   ]
  },
  {
   "cell_type": "code",
   "execution_count": 990,
   "id": "913ac22b",
   "metadata": {},
   "outputs": [
    {
     "data": {
      "text/plain": [
       "[<matplotlib.lines.Line2D at 0x1d01f5e0450>]"
      ]
     },
     "execution_count": 990,
     "metadata": {},
     "output_type": "execute_result"
    },
    {
     "name": "stderr",
     "output_type": "stream",
     "text": [
      "findfont: Font family 'AppleGothic' not found.\n",
      "findfont: Font family 'AppleGothic' not found.\n",
      "findfont: Font family 'AppleGothic' not found.\n",
      "findfont: Font family 'AppleGothic' not found.\n",
      "findfont: Font family 'AppleGothic' not found.\n",
      "findfont: Font family 'AppleGothic' not found.\n",
      "findfont: Font family 'AppleGothic' not found.\n",
      "findfont: Font family 'AppleGothic' not found.\n",
      "findfont: Font family 'AppleGothic' not found.\n",
      "findfont: Font family 'AppleGothic' not found.\n",
      "findfont: Font family 'AppleGothic' not found.\n",
      "findfont: Font family 'AppleGothic' not found.\n",
      "findfont: Font family 'AppleGothic' not found.\n",
      "findfont: Font family 'AppleGothic' not found.\n",
      "findfont: Font family 'AppleGothic' not found.\n",
      "findfont: Font family 'AppleGothic' not found.\n",
      "findfont: Font family 'AppleGothic' not found.\n",
      "findfont: Font family 'AppleGothic' not found.\n",
      "findfont: Font family 'AppleGothic' not found.\n",
      "findfont: Font family 'AppleGothic' not found.\n",
      "findfont: Font family 'AppleGothic' not found.\n",
      "findfont: Font family 'AppleGothic' not found.\n",
      "findfont: Font family 'AppleGothic' not found.\n",
      "findfont: Font family 'AppleGothic' not found.\n",
      "findfont: Font family 'AppleGothic' not found.\n",
      "findfont: Font family 'AppleGothic' not found.\n",
      "findfont: Font family 'AppleGothic' not found.\n",
      "findfont: Font family 'AppleGothic' not found.\n",
      "findfont: Font family 'AppleGothic' not found.\n",
      "findfont: Font family 'AppleGothic' not found.\n",
      "findfont: Font family 'AppleGothic' not found.\n",
      "findfont: Font family 'AppleGothic' not found.\n",
      "findfont: Font family 'AppleGothic' not found.\n",
      "findfont: Font family 'AppleGothic' not found.\n",
      "findfont: Font family 'AppleGothic' not found.\n",
      "findfont: Font family 'AppleGothic' not found.\n",
      "findfont: Font family 'AppleGothic' not found.\n",
      "findfont: Font family 'AppleGothic' not found.\n",
      "findfont: Font family 'AppleGothic' not found.\n",
      "findfont: Font family 'AppleGothic' not found.\n",
      "findfont: Font family 'AppleGothic' not found.\n",
      "findfont: Font family 'AppleGothic' not found.\n",
      "findfont: Font family 'AppleGothic' not found.\n",
      "findfont: Font family 'AppleGothic' not found.\n",
      "findfont: Font family 'AppleGothic' not found.\n",
      "findfont: Font family 'AppleGothic' not found.\n",
      "findfont: Font family 'AppleGothic' not found.\n",
      "findfont: Font family 'AppleGothic' not found.\n",
      "findfont: Font family 'AppleGothic' not found.\n",
      "findfont: Font family 'AppleGothic' not found.\n",
      "findfont: Font family 'AppleGothic' not found.\n",
      "findfont: Font family 'AppleGothic' not found.\n",
      "findfont: Font family 'AppleGothic' not found.\n",
      "findfont: Font family 'AppleGothic' not found.\n",
      "findfont: Font family 'AppleGothic' not found.\n",
      "findfont: Font family 'AppleGothic' not found.\n",
      "findfont: Font family 'AppleGothic' not found.\n",
      "findfont: Font family 'AppleGothic' not found.\n"
     ]
    },
    {
     "data": {
      "image/png": "[encoded data removed]",
      "text/plain": [
       "<Figure size 640x480 with 1 Axes>"
      ]
     },
     "metadata": {},
     "output_type": "display_data"
    }
   ],
   "source": [
    "plt.plot(x)\n",
    "plt.plot(y)"
   ]
  },
  {
   "cell_type": "code",
   "execution_count": 991,
   "id": "fd777c2c",
   "metadata": {},
   "outputs": [],
   "source": [
    "import seaborn as sns"
   ]
  },
  {
   "cell_type": "code",
   "execution_count": 992,
   "id": "551c0a1b",
   "metadata": {},
   "outputs": [],
   "source": [
    "x = [1, 2, 3, 4, 5]\n",
    "y = [2, 4, 6, 8, 10]\n",
    "\n",
    "df = pd.DataFrame({'x': x, 'y': y})"
   ]
  },
  {
   "cell_type": "code",
   "execution_count": 993,
   "id": "007cd867",
   "metadata": {},
   "outputs": [
    {
     "data": {
      "text/html": [
       "<div>\n",
       "<style scoped>\n",
       "    .dataframe tbody tr th:only-of-type {\n",
       "        vertical-align: middle;\n",
       "    }\n",
       "\n",
       "    .dataframe tbody tr th {\n",
       "        vertical-align: top;\n",
       "    }\n",
       "\n",
       "    .dataframe thead th {\n",
       "        text-align: right;\n",
       "    }\n",
       "</style>\n",
       "<table border=\"1\" class=\"dataframe\">\n",
       "  <thead>\n",
       "    <tr style=\"text-align: right;\">\n",
       "      <th></th>\n",
       "      <th>x</th>\n",
       "      <th>y</th>\n",
       "    </tr>\n",
       "  </thead>\n",
       "  <tbody>\n",
       "    <tr>\n",
       "      <th>0</th>\n",
       "      <td>1</td>\n",
       "      <td>2</td>\n",
       "    </tr>\n",
       "    <tr>\n",
       "      <th>1</th>\n",
       "      <td>2</td>\n",
       "      <td>4</td>\n",
       "    </tr>\n",
       "    <tr>\n",
       "      <th>2</th>\n",
       "      <td>3</td>\n",
       "      <td>6</td>\n",
       "    </tr>\n",
       "    <tr>\n",
       "      <th>3</th>\n",
       "      <td>4</td>\n",
       "      <td>8</td>\n",
       "    </tr>\n",
       "    <tr>\n",
       "      <th>4</th>\n",
       "      <td>5</td>\n",
       "      <td>10</td>\n",
       "    </tr>\n",
       "  </tbody>\n",
       "</table>\n",
       "</div>"
      ],
      "text/plain": [
       "   x   y\n",
       "0  1   2\n",
       "1  2   4\n",
       "2  3   6\n",
       "3  4   8\n",
       "4  5  10"
      ]
     },
     "execution_count": 993,
     "metadata": {},
     "output_type": "execute_result"
    }
   ],
   "source": [
    "df"
   ]
  },
  {
   "cell_type": "code",
   "execution_count": 994,
   "id": "0f575c6c",
   "metadata": {},
   "outputs": [
    {
     "data": {
      "text/plain": [
       "<Axes: >"
      ]
     },
     "execution_count": 994,
     "metadata": {},
     "output_type": "execute_result"
    },
    {
     "name": "stderr",
     "output_type": "stream",
     "text": [
      "findfont: Font family 'AppleGothic' not found.\n",
      "findfont: Font family 'AppleGothic' not found.\n",
      "findfont: Font family 'AppleGothic' not found.\n",
      "findfont: Font family 'AppleGothic' not found.\n",
      "findfont: Font family 'AppleGothic' not found.\n",
      "findfont: Font family 'AppleGothic' not found.\n",
      "findfont: Font family 'AppleGothic' not found.\n",
      "findfont: Font family 'AppleGothic' not found.\n",
      "findfont: Font family 'AppleGothic' not found.\n",
      "findfont: Font family 'AppleGothic' not found.\n",
      "findfont: Font family 'AppleGothic' not found.\n",
      "findfont: Font family 'AppleGothic' not found.\n",
      "findfont: Font family 'AppleGothic' not found.\n",
      "findfont: Font family 'AppleGothic' not found.\n",
      "findfont: Font family 'AppleGothic' not found.\n",
      "findfont: Font family 'AppleGothic' not found.\n",
      "findfont: Font family 'AppleGothic' not found.\n",
      "findfont: Font family 'AppleGothic' not found.\n",
      "findfont: Font family 'AppleGothic' not found.\n",
      "findfont: Font family 'AppleGothic' not found.\n",
      "findfont: Font family 'AppleGothic' not found.\n",
      "findfont: Font family 'AppleGothic' not found.\n",
      "findfont: Font family 'AppleGothic' not found.\n",
      "findfont: Font family 'AppleGothic' not found.\n",
      "findfont: Font family 'AppleGothic' not found.\n",
      "findfont: Font family 'AppleGothic' not found.\n",
      "findfont: Font family 'AppleGothic' not found.\n",
      "findfont: Font family 'AppleGothic' not found.\n",
      "findfont: Font family 'AppleGothic' not found.\n",
      "findfont: Font family 'AppleGothic' not found.\n",
      "findfont: Font family 'AppleGothic' not found.\n",
      "findfont: Font family 'AppleGothic' not found.\n",
      "findfont: Font family 'AppleGothic' not found.\n",
      "findfont: Font family 'AppleGothic' not found.\n",
      "findfont: Font family 'AppleGothic' not found.\n",
      "findfont: Font family 'AppleGothic' not found.\n",
      "findfont: Font family 'AppleGothic' not found.\n",
      "findfont: Font family 'AppleGothic' not found.\n",
      "findfont: Font family 'AppleGothic' not found.\n",
      "findfont: Font family 'AppleGothic' not found.\n",
      "findfont: Font family 'AppleGothic' not found.\n",
      "findfont: Font family 'AppleGothic' not found.\n",
      "findfont: Font family 'AppleGothic' not found.\n",
      "findfont: Font family 'AppleGothic' not found.\n",
      "findfont: Font family 'AppleGothic' not found.\n",
      "findfont: Font family 'AppleGothic' not found.\n",
      "findfont: Font family 'AppleGothic' not found.\n",
      "findfont: Font family 'AppleGothic' not found.\n",
      "findfont: Font family 'AppleGothic' not found.\n",
      "findfont: Font family 'AppleGothic' not found.\n",
      "findfont: Font family 'AppleGothic' not found.\n",
      "findfont: Font family 'AppleGothic' not found.\n",
      "findfont: Font family 'AppleGothic' not found.\n",
      "findfont: Font family 'AppleGothic' not found.\n",
      "findfont: Font family 'AppleGothic' not found.\n",
      "findfont: Font family 'AppleGothic' not found.\n",
      "findfont: Font family 'AppleGothic' not found.\n",
      "findfont: Font family 'AppleGothic' not found.\n",
      "findfont: Font family 'AppleGothic' not found.\n",
      "findfont: Font family 'AppleGothic' not found.\n",
      "findfont: Font family 'AppleGothic' not found.\n",
      "findfont: Font family 'AppleGothic' not found.\n",
      "findfont: Font family 'AppleGothic' not found.\n",
      "findfont: Font family 'AppleGothic' not found.\n",
      "findfont: Font family 'AppleGothic' not found.\n",
      "findfont: Font family 'AppleGothic' not found.\n"
     ]
    },
    {
     "data": {
      "image/png": "[encoded data removed]",
      "text/plain": [
       "<Figure size 640x480 with 1 Axes>"
      ]
     },
     "metadata": {},
     "output_type": "display_data"
    }
   ],
   "source": [
    "sns.lineplot(data=df)"
   ]
  },
  {
   "cell_type": "code",
   "execution_count": 995,
   "id": "95492e57",
   "metadata": {},
   "outputs": [],
   "source": [
    "plt.show()"
   ]
  },
  {
   "cell_type": "code",
   "execution_count": 996,
   "id": "d17af3eb",
   "metadata": {},
   "outputs": [
    {
     "data": {
      "text/plain": [
       "<Axes: xlabel='x', ylabel='y'>"
      ]
     },
     "execution_count": 996,
     "metadata": {},
     "output_type": "execute_result"
    },
    {
     "name": "stderr",
     "output_type": "stream",
     "text": [
      "findfont: Font family 'AppleGothic' not found.\n",
      "findfont: Font family 'AppleGothic' not found.\n",
      "findfont: Font family 'AppleGothic' not found.\n",
      "findfont: Font family 'AppleGothic' not found.\n",
      "findfont: Font family 'AppleGothic' not found.\n",
      "findfont: Font family 'AppleGothic' not found.\n",
      "findfont: Font family 'AppleGothic' not found.\n",
      "findfont: Font family 'AppleGothic' not found.\n",
      "findfont: Font family 'AppleGothic' not found.\n",
      "findfont: Font family 'AppleGothic' not found.\n",
      "findfont: Font family 'AppleGothic' not found.\n",
      "findfont: Font family 'AppleGothic' not found.\n",
      "findfont: Font family 'AppleGothic' not found.\n",
      "findfont: Font family 'AppleGothic' not found.\n",
      "findfont: Font family 'AppleGothic' not found.\n",
      "findfont: Font family 'AppleGothic' not found.\n",
      "findfont: Font family 'AppleGothic' not found.\n",
      "findfont: Font family 'AppleGothic' not found.\n",
      "findfont: Font family 'AppleGothic' not found.\n",
      "findfont: Font family 'AppleGothic' not found.\n",
      "findfont: Font family 'AppleGothic' not found.\n",
      "findfont: Font family 'AppleGothic' not found.\n",
      "findfont: Font family 'AppleGothic' not found.\n",
      "findfont: Font family 'AppleGothic' not found.\n",
      "findfont: Font family 'AppleGothic' not found.\n",
      "findfont: Font family 'AppleGothic' not found.\n",
      "findfont: Font family 'AppleGothic' not found.\n",
      "findfont: Font family 'AppleGothic' not found.\n",
      "findfont: Font family 'AppleGothic' not found.\n",
      "findfont: Font family 'AppleGothic' not found.\n",
      "findfont: Font family 'AppleGothic' not found.\n",
      "findfont: Font family 'AppleGothic' not found.\n",
      "findfont: Font family 'AppleGothic' not found.\n",
      "findfont: Font family 'AppleGothic' not found.\n",
      "findfont: Font family 'AppleGothic' not found.\n",
      "findfont: Font family 'AppleGothic' not found.\n",
      "findfont: Font family 'AppleGothic' not found.\n",
      "findfont: Font family 'AppleGothic' not found.\n",
      "findfont: Font family 'AppleGothic' not found.\n",
      "findfont: Font family 'AppleGothic' not found.\n",
      "findfont: Font family 'AppleGothic' not found.\n",
      "findfont: Font family 'AppleGothic' not found.\n",
      "findfont: Font family 'AppleGothic' not found.\n",
      "findfont: Font family 'AppleGothic' not found.\n",
      "findfont: Font family 'AppleGothic' not found.\n",
      "findfont: Font family 'AppleGothic' not found.\n",
      "findfont: Font family 'AppleGothic' not found.\n",
      "findfont: Font family 'AppleGothic' not found.\n",
      "findfont: Font family 'AppleGothic' not found.\n",
      "findfont: Font family 'AppleGothic' not found.\n",
      "findfont: Font family 'AppleGothic' not found.\n",
      "findfont: Font family 'AppleGothic' not found.\n",
      "findfont: Font family 'AppleGothic' not found.\n",
      "findfont: Font family 'AppleGothic' not found.\n",
      "findfont: Font family 'AppleGothic' not found.\n",
      "findfont: Font family 'AppleGothic' not found.\n",
      "findfont: Font family 'AppleGothic' not found.\n",
      "findfont: Font family 'AppleGothic' not found.\n",
      "findfont: Font family 'AppleGothic' not found.\n",
      "findfont: Font family 'AppleGothic' not found.\n",
      "findfont: Font family 'AppleGothic' not found.\n",
      "findfont: Font family 'AppleGothic' not found.\n",
      "findfont: Font family 'AppleGothic' not found.\n",
      "findfont: Font family 'AppleGothic' not found.\n",
      "findfont: Font family 'AppleGothic' not found.\n",
      "findfont: Font family 'AppleGothic' not found.\n",
      "findfont: Font family 'AppleGothic' not found.\n",
      "findfont: Font family 'AppleGothic' not found.\n",
      "findfont: Font family 'AppleGothic' not found.\n",
      "findfont: Font family 'AppleGothic' not found.\n",
      "findfont: Font family 'AppleGothic' not found.\n",
      "findfont: Font family 'AppleGothic' not found.\n",
      "findfont: Font family 'AppleGothic' not found.\n",
      "findfont: Font family 'AppleGothic' not found.\n",
      "findfont: Font family 'AppleGothic' not found.\n",
      "findfont: Font family 'AppleGothic' not found.\n",
      "findfont: Font family 'AppleGothic' not found.\n",
      "findfont: Font family 'AppleGothic' not found.\n",
      "findfont: Font family 'AppleGothic' not found.\n",
      "findfont: Font family 'AppleGothic' not found.\n",
      "findfont: Font family 'AppleGothic' not found.\n",
      "findfont: Font family 'AppleGothic' not found.\n"
     ]
    },
    {
     "data": {
      "image/png": "[encoded data removed]",
      "text/plain": [
       "<Figure size 640x480 with 1 Axes>"
      ]
     },
     "metadata": {},
     "output_type": "display_data"
    }
   ],
   "source": [
    "sns.lineplot(data=df, x='x', y='y')"
   ]
  },
  {
   "cell_type": "code",
   "execution_count": 997,
   "id": "0fa09500",
   "metadata": {},
   "outputs": [],
   "source": [
    "df = pd.read_csv('인천.csv', encoding='euc-kr')\n"
   ]
  },
  {
   "cell_type": "code",
   "execution_count": 998,
   "id": "13a9c565",
   "metadata": {},
   "outputs": [
    {
     "data": {
      "text/html": [
       "<div>\n",
       "<style scoped>\n",
       "    .dataframe tbody tr th:only-of-type {\n",
       "        vertical-align: middle;\n",
       "    }\n",
       "\n",
       "    .dataframe tbody tr th {\n",
       "        vertical-align: top;\n",
       "    }\n",
       "\n",
       "    .dataframe thead th {\n",
       "        text-align: right;\n",
       "    }\n",
       "</style>\n",
       "<table border=\"1\" class=\"dataframe\">\n",
       "  <thead>\n",
       "    <tr style=\"text-align: right;\">\n",
       "      <th></th>\n",
       "      <th>일자</th>\n",
       "      <th>요일</th>\n",
       "      <th>도로명</th>\n",
       "      <th>링크아이디</th>\n",
       "      <th>검지기아이디</th>\n",
       "      <th>지점명</th>\n",
       "      <th>방향</th>\n",
       "      <th>시점명</th>\n",
       "      <th>종점명</th>\n",
       "      <th>00시</th>\n",
       "      <th>...</th>\n",
       "      <th>14시</th>\n",
       "      <th>15시</th>\n",
       "      <th>16시</th>\n",
       "      <th>17시</th>\n",
       "      <th>18시</th>\n",
       "      <th>19시</th>\n",
       "      <th>20시</th>\n",
       "      <th>21시</th>\n",
       "      <th>22시</th>\n",
       "      <th>23시</th>\n",
       "    </tr>\n",
       "  </thead>\n",
       "  <tbody>\n",
       "    <tr>\n",
       "      <th>0</th>\n",
       "      <td>2021-01-01</td>\n",
       "      <td>금</td>\n",
       "      <td>테크노파크로</td>\n",
       "      <td>1640137900</td>\n",
       "      <td>SDTRVCT00100001</td>\n",
       "      <td>한국생산기술연구원 맞은편</td>\n",
       "      <td>상행</td>\n",
       "      <td>한국생산기술연구원앞</td>\n",
       "      <td>미추홀타워입구</td>\n",
       "      <td>87</td>\n",
       "      <td>...</td>\n",
       "      <td>387</td>\n",
       "      <td>435</td>\n",
       "      <td>473</td>\n",
       "      <td>453</td>\n",
       "      <td>408</td>\n",
       "      <td>367</td>\n",
       "      <td>284</td>\n",
       "      <td>200</td>\n",
       "      <td>138</td>\n",
       "      <td>111</td>\n",
       "    </tr>\n",
       "    <tr>\n",
       "      <th>1</th>\n",
       "      <td>2021-01-02</td>\n",
       "      <td>토</td>\n",
       "      <td>테크노파크로</td>\n",
       "      <td>1640137900</td>\n",
       "      <td>SDTRVCT00100001</td>\n",
       "      <td>한국생산기술연구원 맞은편</td>\n",
       "      <td>상행</td>\n",
       "      <td>한국생산기술연구원앞</td>\n",
       "      <td>미추홀타워입구</td>\n",
       "      <td>69</td>\n",
       "      <td>...</td>\n",
       "      <td>514</td>\n",
       "      <td>579</td>\n",
       "      <td>522</td>\n",
       "      <td>546</td>\n",
       "      <td>518</td>\n",
       "      <td>427</td>\n",
       "      <td>303</td>\n",
       "      <td>249</td>\n",
       "      <td>205</td>\n",
       "      <td>91</td>\n",
       "    </tr>\n",
       "    <tr>\n",
       "      <th>2</th>\n",
       "      <td>2021-01-03</td>\n",
       "      <td>일</td>\n",
       "      <td>테크노파크로</td>\n",
       "      <td>1640137900</td>\n",
       "      <td>SDTRVCT00100001</td>\n",
       "      <td>한국생산기술연구원 맞은편</td>\n",
       "      <td>상행</td>\n",
       "      <td>한국생산기술연구원앞</td>\n",
       "      <td>미추홀타워입구</td>\n",
       "      <td>63</td>\n",
       "      <td>...</td>\n",
       "      <td>418</td>\n",
       "      <td>497</td>\n",
       "      <td>497</td>\n",
       "      <td>458</td>\n",
       "      <td>416</td>\n",
       "      <td>330</td>\n",
       "      <td>280</td>\n",
       "      <td>209</td>\n",
       "      <td>144</td>\n",
       "      <td>80</td>\n",
       "    </tr>\n",
       "    <tr>\n",
       "      <th>3</th>\n",
       "      <td>2021-01-04</td>\n",
       "      <td>월</td>\n",
       "      <td>테크노파크로</td>\n",
       "      <td>1640137900</td>\n",
       "      <td>SDTRVCT00100001</td>\n",
       "      <td>한국생산기술연구원 맞은편</td>\n",
       "      <td>상행</td>\n",
       "      <td>한국생산기술연구원앞</td>\n",
       "      <td>미추홀타워입구</td>\n",
       "      <td>50</td>\n",
       "      <td>...</td>\n",
       "      <td>395</td>\n",
       "      <td>424</td>\n",
       "      <td>410</td>\n",
       "      <td>455</td>\n",
       "      <td>592</td>\n",
       "      <td>534</td>\n",
       "      <td>423</td>\n",
       "      <td>288</td>\n",
       "      <td>187</td>\n",
       "      <td>113</td>\n",
       "    </tr>\n",
       "    <tr>\n",
       "      <th>4</th>\n",
       "      <td>2021-01-05</td>\n",
       "      <td>화</td>\n",
       "      <td>테크노파크로</td>\n",
       "      <td>1640137900</td>\n",
       "      <td>SDTRVCT00100001</td>\n",
       "      <td>한국생산기술연구원 맞은편</td>\n",
       "      <td>상행</td>\n",
       "      <td>한국생산기술연구원앞</td>\n",
       "      <td>미추홀타워입구</td>\n",
       "      <td>76</td>\n",
       "      <td>...</td>\n",
       "      <td>427</td>\n",
       "      <td>435</td>\n",
       "      <td>421</td>\n",
       "      <td>469</td>\n",
       "      <td>534</td>\n",
       "      <td>610</td>\n",
       "      <td>458</td>\n",
       "      <td>335</td>\n",
       "      <td>253</td>\n",
       "      <td>121</td>\n",
       "    </tr>\n",
       "  </tbody>\n",
       "</table>\n",
       "<p>5 rows × 33 columns</p>\n",
       "</div>"
      ],
      "text/plain": [
       "           일자 요일     도로명       링크아이디           검지기아이디            지점명  방향  \\\n",
       "0  2021-01-01  금  테크노파크로  1640137900  SDTRVCT00100001  한국생산기술연구원 맞은편  상행   \n",
       "1  2021-01-02  토  테크노파크로  1640137900  SDTRVCT00100001  한국생산기술연구원 맞은편  상행   \n",
       "2  2021-01-03  일  테크노파크로  1640137900  SDTRVCT00100001  한국생산기술연구원 맞은편  상행   \n",
       "3  2021-01-04  월  테크노파크로  1640137900  SDTRVCT00100001  한국생산기술연구원 맞은편  상행   \n",
       "4  2021-01-05  화  테크노파크로  1640137900  SDTRVCT00100001  한국생산기술연구원 맞은편  상행   \n",
       "\n",
       "          시점명      종점명  00시  ...  14시  15시  16시  17시  18시  19시  20시  21시  22시  \\\n",
       "0  한국생산기술연구원앞  미추홀타워입구   87  ...  387  435  473  453  408  367  284  200  138   \n",
       "1  한국생산기술연구원앞  미추홀타워입구   69  ...  514  579  522  546  518  427  303  249  205   \n",
       "2  한국생산기술연구원앞  미추홀타워입구   63  ...  418  497  497  458  416  330  280  209  144   \n",
       "3  한국생산기술연구원앞  미추홀타워입구   50  ...  395  424  410  455  592  534  423  288  187   \n",
       "4  한국생산기술연구원앞  미추홀타워입구   76  ...  427  435  421  469  534  610  458  335  253   \n",
       "\n",
       "   23시  \n",
       "0  111  \n",
       "1   91  \n",
       "2   80  \n",
       "3  113  \n",
       "4  121  \n",
       "\n",
       "[5 rows x 33 columns]"
      ]
     },
     "execution_count": 998,
     "metadata": {},
     "output_type": "execute_result"
    }
   ],
   "source": [
    "df.head()"
   ]
  },
  {
   "cell_type": "code",
   "execution_count": 999,
   "id": "e6d6c47f",
   "metadata": {},
   "outputs": [
    {
     "data": {
      "text/plain": [
       "1440"
      ]
     },
     "execution_count": 999,
     "metadata": {},
     "output_type": "execute_result"
    }
   ],
   "source": [
    "len(df)"
   ]
  },
  {
   "cell_type": "code",
   "execution_count": 1000,
   "id": "ebce1508",
   "metadata": {},
   "outputs": [
    {
     "name": "stdout",
     "output_type": "stream",
     "text": [
      "<class 'pandas.core.frame.DataFrame'>\n",
      "RangeIndex: 1440 entries, 0 to 1439\n",
      "Data columns (total 33 columns):\n",
      " #   Column  Non-Null Count  Dtype \n",
      "---  ------  --------------  ----- \n",
      " 0   일자      1440 non-null   object\n",
      " 1   요일      1440 non-null   object\n",
      " 2   도로명     1440 non-null   object\n",
      " 3   링크아이디   1440 non-null   int64 \n",
      " 4   검지기아이디  1440 non-null   object\n",
      " 5   지점명     1440 non-null   object\n",
      " 6   방향      1440 non-null   object\n",
      " 7   시점명     1440 non-null   object\n",
      " 8   종점명     1440 non-null   object\n",
      " 9   00시     1440 non-null   int64 \n",
      " 10  01시     1440 non-null   int64 \n",
      " 11  02시     1440 non-null   int64 \n",
      " 12  03시     1440 non-null   int64 \n",
      " 13  04시     1440 non-null   int64 \n",
      " 14  05시     1440 non-null   int64 \n",
      " 15  06시     1440 non-null   int64 \n",
      " 16  07시     1440 non-null   int64 \n",
      " 17  08시     1440 non-null   int64 \n",
      " 18  09시     1440 non-null   int64 \n",
      " 19  10시     1440 non-null   int64 \n",
      " 20  11시     1440 non-null   int64 \n",
      " 21  12시     1440 non-null   int64 \n",
      " 22  13시     1440 non-null   int64 \n",
      " 23  14시     1440 non-null   int64 \n",
      " 24  15시     1440 non-null   int64 \n",
      " 25  16시     1440 non-null   int64 \n",
      " 26  17시     1440 non-null   int64 \n",
      " 27  18시     1440 non-null   int64 \n",
      " 28  19시     1440 non-null   int64 \n",
      " 29  20시     1440 non-null   int64 \n",
      " 30  21시     1440 non-null   int64 \n",
      " 31  22시     1440 non-null   int64 \n",
      " 32  23시     1440 non-null   int64 \n",
      "dtypes: int64(25), object(8)\n",
      "memory usage: 371.4+ KB\n"
     ]
    }
   ],
   "source": [
    "df.info()"
   ]
  },
  {
   "cell_type": "code",
   "execution_count": 1001,
   "id": "7998e6f6",
   "metadata": {},
   "outputs": [
    {
     "data": {
      "text/plain": [
       "Index(['일자', '요일', '도로명', '링크아이디', '검지기아이디', '지점명', '방향', '시점명', '종점명', '00시',\n",
       "       '01시', '02시', '03시', '04시', '05시', '06시', '07시', '08시', '09시', '10시',\n",
       "       '11시', '12시', '13시', '14시', '15시', '16시', '17시', '18시', '19시', '20시',\n",
       "       '21시', '22시', '23시'],\n",
       "      dtype='object')"
      ]
     },
     "execution_count": 1001,
     "metadata": {},
     "output_type": "execute_result"
    }
   ],
   "source": [
    "df.columns"
   ]
  },
  {
   "cell_type": "code",
   "execution_count": 1002,
   "id": "b01b8f95",
   "metadata": {},
   "outputs": [
    {
     "data": {
      "text/plain": [
       "RangeIndex(start=0, stop=1440, step=1)"
      ]
     },
     "execution_count": 1002,
     "metadata": {},
     "output_type": "execute_result"
    }
   ],
   "source": [
    "df.index\n"
   ]
  },
  {
   "cell_type": "code",
   "execution_count": 1003,
   "id": "ad4bff4a",
   "metadata": {},
   "outputs": [],
   "source": [
    "df_9am = df[['도로명','방향', '09시']]"
   ]
  },
  {
   "cell_type": "code",
   "execution_count": 1004,
   "id": "c7353fb6",
   "metadata": {},
   "outputs": [
    {
     "data": {
      "text/html": [
       "<div>\n",
       "<style scoped>\n",
       "    .dataframe tbody tr th:only-of-type {\n",
       "        vertical-align: middle;\n",
       "    }\n",
       "\n",
       "    .dataframe tbody tr th {\n",
       "        vertical-align: top;\n",
       "    }\n",
       "\n",
       "    .dataframe thead th {\n",
       "        text-align: right;\n",
       "    }\n",
       "</style>\n",
       "<table border=\"1\" class=\"dataframe\">\n",
       "  <thead>\n",
       "    <tr style=\"text-align: right;\">\n",
       "      <th></th>\n",
       "      <th>도로명</th>\n",
       "      <th>방향</th>\n",
       "      <th>09시</th>\n",
       "    </tr>\n",
       "  </thead>\n",
       "  <tbody>\n",
       "    <tr>\n",
       "      <th>0</th>\n",
       "      <td>테크노파크로</td>\n",
       "      <td>상행</td>\n",
       "      <td>106</td>\n",
       "    </tr>\n",
       "    <tr>\n",
       "      <th>1</th>\n",
       "      <td>테크노파크로</td>\n",
       "      <td>상행</td>\n",
       "      <td>144</td>\n",
       "    </tr>\n",
       "    <tr>\n",
       "      <th>2</th>\n",
       "      <td>테크노파크로</td>\n",
       "      <td>상행</td>\n",
       "      <td>93</td>\n",
       "    </tr>\n",
       "    <tr>\n",
       "      <th>3</th>\n",
       "      <td>테크노파크로</td>\n",
       "      <td>상행</td>\n",
       "      <td>654</td>\n",
       "    </tr>\n",
       "    <tr>\n",
       "      <th>4</th>\n",
       "      <td>테크노파크로</td>\n",
       "      <td>상행</td>\n",
       "      <td>663</td>\n",
       "    </tr>\n",
       "    <tr>\n",
       "      <th>...</th>\n",
       "      <td>...</td>\n",
       "      <td>...</td>\n",
       "      <td>...</td>\n",
       "    </tr>\n",
       "    <tr>\n",
       "      <th>1435</th>\n",
       "      <td>송도문화로</td>\n",
       "      <td>상행</td>\n",
       "      <td>143</td>\n",
       "    </tr>\n",
       "    <tr>\n",
       "      <th>1436</th>\n",
       "      <td>송도문화로</td>\n",
       "      <td>상행</td>\n",
       "      <td>72</td>\n",
       "    </tr>\n",
       "    <tr>\n",
       "      <th>1437</th>\n",
       "      <td>송도문화로</td>\n",
       "      <td>상행</td>\n",
       "      <td>381</td>\n",
       "    </tr>\n",
       "    <tr>\n",
       "      <th>1438</th>\n",
       "      <td>송도문화로</td>\n",
       "      <td>상행</td>\n",
       "      <td>358</td>\n",
       "    </tr>\n",
       "    <tr>\n",
       "      <th>1439</th>\n",
       "      <td>송도문화로</td>\n",
       "      <td>상행</td>\n",
       "      <td>369</td>\n",
       "    </tr>\n",
       "  </tbody>\n",
       "</table>\n",
       "<p>1440 rows × 3 columns</p>\n",
       "</div>"
      ],
      "text/plain": [
       "         도로명  방향  09시\n",
       "0     테크노파크로  상행  106\n",
       "1     테크노파크로  상행  144\n",
       "2     테크노파크로  상행   93\n",
       "3     테크노파크로  상행  654\n",
       "4     테크노파크로  상행  663\n",
       "...      ...  ..  ...\n",
       "1435   송도문화로  상행  143\n",
       "1436   송도문화로  상행   72\n",
       "1437   송도문화로  상행  381\n",
       "1438   송도문화로  상행  358\n",
       "1439   송도문화로  상행  369\n",
       "\n",
       "[1440 rows x 3 columns]"
      ]
     },
     "execution_count": 1004,
     "metadata": {},
     "output_type": "execute_result"
    }
   ],
   "source": [
    "df_9am"
   ]
  },
  {
   "cell_type": "code",
   "execution_count": 1005,
   "id": "35d4aabd",
   "metadata": {},
   "outputs": [],
   "source": [
    "df_9am.to_csv('송도국제도시_9am.csv', index=False, encoding='euc-kr')"
   ]
  },
  {
   "cell_type": "code",
   "execution_count": 1006,
   "id": "5d506c3c",
   "metadata": {},
   "outputs": [],
   "source": [
    "df.to_json(\"인천.json\", orient='records', force_ascii=False,indent = 2)"
   ]
  },
  {
   "cell_type": "code",
   "execution_count": 1007,
   "id": "3abac077",
   "metadata": {},
   "outputs": [],
   "source": [
    "df_json = pd.read_json(\"인천.json\")"
   ]
  },
  {
   "cell_type": "code",
   "execution_count": 1008,
   "id": "8e2a35b4",
   "metadata": {},
   "outputs": [
    {
     "data": {
      "text/html": [
       "<div>\n",
       "<style scoped>\n",
       "    .dataframe tbody tr th:only-of-type {\n",
       "        vertical-align: middle;\n",
       "    }\n",
       "\n",
       "    .dataframe tbody tr th {\n",
       "        vertical-align: top;\n",
       "    }\n",
       "\n",
       "    .dataframe thead th {\n",
       "        text-align: right;\n",
       "    }\n",
       "</style>\n",
       "<table border=\"1\" class=\"dataframe\">\n",
       "  <thead>\n",
       "    <tr style=\"text-align: right;\">\n",
       "      <th></th>\n",
       "      <th>일자</th>\n",
       "      <th>요일</th>\n",
       "      <th>도로명</th>\n",
       "      <th>링크아이디</th>\n",
       "      <th>검지기아이디</th>\n",
       "      <th>지점명</th>\n",
       "      <th>방향</th>\n",
       "      <th>시점명</th>\n",
       "      <th>종점명</th>\n",
       "      <th>00시</th>\n",
       "      <th>...</th>\n",
       "      <th>14시</th>\n",
       "      <th>15시</th>\n",
       "      <th>16시</th>\n",
       "      <th>17시</th>\n",
       "      <th>18시</th>\n",
       "      <th>19시</th>\n",
       "      <th>20시</th>\n",
       "      <th>21시</th>\n",
       "      <th>22시</th>\n",
       "      <th>23시</th>\n",
       "    </tr>\n",
       "  </thead>\n",
       "  <tbody>\n",
       "    <tr>\n",
       "      <th>0</th>\n",
       "      <td>2021-01-01</td>\n",
       "      <td>금</td>\n",
       "      <td>테크노파크로</td>\n",
       "      <td>1640137900</td>\n",
       "      <td>SDTRVCT00100001</td>\n",
       "      <td>한국생산기술연구원 맞은편</td>\n",
       "      <td>상행</td>\n",
       "      <td>한국생산기술연구원앞</td>\n",
       "      <td>미추홀타워입구</td>\n",
       "      <td>87</td>\n",
       "      <td>...</td>\n",
       "      <td>387</td>\n",
       "      <td>435</td>\n",
       "      <td>473</td>\n",
       "      <td>453</td>\n",
       "      <td>408</td>\n",
       "      <td>367</td>\n",
       "      <td>284</td>\n",
       "      <td>200</td>\n",
       "      <td>138</td>\n",
       "      <td>111</td>\n",
       "    </tr>\n",
       "    <tr>\n",
       "      <th>1</th>\n",
       "      <td>2021-01-02</td>\n",
       "      <td>토</td>\n",
       "      <td>테크노파크로</td>\n",
       "      <td>1640137900</td>\n",
       "      <td>SDTRVCT00100001</td>\n",
       "      <td>한국생산기술연구원 맞은편</td>\n",
       "      <td>상행</td>\n",
       "      <td>한국생산기술연구원앞</td>\n",
       "      <td>미추홀타워입구</td>\n",
       "      <td>69</td>\n",
       "      <td>...</td>\n",
       "      <td>514</td>\n",
       "      <td>579</td>\n",
       "      <td>522</td>\n",
       "      <td>546</td>\n",
       "      <td>518</td>\n",
       "      <td>427</td>\n",
       "      <td>303</td>\n",
       "      <td>249</td>\n",
       "      <td>205</td>\n",
       "      <td>91</td>\n",
       "    </tr>\n",
       "    <tr>\n",
       "      <th>2</th>\n",
       "      <td>2021-01-03</td>\n",
       "      <td>일</td>\n",
       "      <td>테크노파크로</td>\n",
       "      <td>1640137900</td>\n",
       "      <td>SDTRVCT00100001</td>\n",
       "      <td>한국생산기술연구원 맞은편</td>\n",
       "      <td>상행</td>\n",
       "      <td>한국생산기술연구원앞</td>\n",
       "      <td>미추홀타워입구</td>\n",
       "      <td>63</td>\n",
       "      <td>...</td>\n",
       "      <td>418</td>\n",
       "      <td>497</td>\n",
       "      <td>497</td>\n",
       "      <td>458</td>\n",
       "      <td>416</td>\n",
       "      <td>330</td>\n",
       "      <td>280</td>\n",
       "      <td>209</td>\n",
       "      <td>144</td>\n",
       "      <td>80</td>\n",
       "    </tr>\n",
       "    <tr>\n",
       "      <th>3</th>\n",
       "      <td>2021-01-04</td>\n",
       "      <td>월</td>\n",
       "      <td>테크노파크로</td>\n",
       "      <td>1640137900</td>\n",
       "      <td>SDTRVCT00100001</td>\n",
       "      <td>한국생산기술연구원 맞은편</td>\n",
       "      <td>상행</td>\n",
       "      <td>한국생산기술연구원앞</td>\n",
       "      <td>미추홀타워입구</td>\n",
       "      <td>50</td>\n",
       "      <td>...</td>\n",
       "      <td>395</td>\n",
       "      <td>424</td>\n",
       "      <td>410</td>\n",
       "      <td>455</td>\n",
       "      <td>592</td>\n",
       "      <td>534</td>\n",
       "      <td>423</td>\n",
       "      <td>288</td>\n",
       "      <td>187</td>\n",
       "      <td>113</td>\n",
       "    </tr>\n",
       "    <tr>\n",
       "      <th>4</th>\n",
       "      <td>2021-01-05</td>\n",
       "      <td>화</td>\n",
       "      <td>테크노파크로</td>\n",
       "      <td>1640137900</td>\n",
       "      <td>SDTRVCT00100001</td>\n",
       "      <td>한국생산기술연구원 맞은편</td>\n",
       "      <td>상행</td>\n",
       "      <td>한국생산기술연구원앞</td>\n",
       "      <td>미추홀타워입구</td>\n",
       "      <td>76</td>\n",
       "      <td>...</td>\n",
       "      <td>427</td>\n",
       "      <td>435</td>\n",
       "      <td>421</td>\n",
       "      <td>469</td>\n",
       "      <td>534</td>\n",
       "      <td>610</td>\n",
       "      <td>458</td>\n",
       "      <td>335</td>\n",
       "      <td>253</td>\n",
       "      <td>121</td>\n",
       "    </tr>\n",
       "    <tr>\n",
       "      <th>...</th>\n",
       "      <td>...</td>\n",
       "      <td>...</td>\n",
       "      <td>...</td>\n",
       "      <td>...</td>\n",
       "      <td>...</td>\n",
       "      <td>...</td>\n",
       "      <td>...</td>\n",
       "      <td>...</td>\n",
       "      <td>...</td>\n",
       "      <td>...</td>\n",
       "      <td>...</td>\n",
       "      <td>...</td>\n",
       "      <td>...</td>\n",
       "      <td>...</td>\n",
       "      <td>...</td>\n",
       "      <td>...</td>\n",
       "      <td>...</td>\n",
       "      <td>...</td>\n",
       "      <td>...</td>\n",
       "      <td>...</td>\n",
       "      <td>...</td>\n",
       "    </tr>\n",
       "    <tr>\n",
       "      <th>1435</th>\n",
       "      <td>2021-03-27</td>\n",
       "      <td>토</td>\n",
       "      <td>송도문화로</td>\n",
       "      <td>1650255500</td>\n",
       "      <td>SDTRVCT00100016</td>\n",
       "      <td>글로벌캠퍼스</td>\n",
       "      <td>상행</td>\n",
       "      <td>인천글로벌캠퍼스</td>\n",
       "      <td>송도에듀포레푸르지오</td>\n",
       "      <td>109</td>\n",
       "      <td>...</td>\n",
       "      <td>441</td>\n",
       "      <td>425</td>\n",
       "      <td>497</td>\n",
       "      <td>393</td>\n",
       "      <td>345</td>\n",
       "      <td>279</td>\n",
       "      <td>220</td>\n",
       "      <td>205</td>\n",
       "      <td>177</td>\n",
       "      <td>117</td>\n",
       "    </tr>\n",
       "    <tr>\n",
       "      <th>1436</th>\n",
       "      <td>2021-03-28</td>\n",
       "      <td>일</td>\n",
       "      <td>송도문화로</td>\n",
       "      <td>1650255500</td>\n",
       "      <td>SDTRVCT00100016</td>\n",
       "      <td>글로벌캠퍼스</td>\n",
       "      <td>상행</td>\n",
       "      <td>인천글로벌캠퍼스</td>\n",
       "      <td>송도에듀포레푸르지오</td>\n",
       "      <td>64</td>\n",
       "      <td>...</td>\n",
       "      <td>345</td>\n",
       "      <td>320</td>\n",
       "      <td>338</td>\n",
       "      <td>294</td>\n",
       "      <td>313</td>\n",
       "      <td>248</td>\n",
       "      <td>187</td>\n",
       "      <td>166</td>\n",
       "      <td>181</td>\n",
       "      <td>96</td>\n",
       "    </tr>\n",
       "    <tr>\n",
       "      <th>1437</th>\n",
       "      <td>2021-03-29</td>\n",
       "      <td>월</td>\n",
       "      <td>송도문화로</td>\n",
       "      <td>1650255500</td>\n",
       "      <td>SDTRVCT00100016</td>\n",
       "      <td>글로벌캠퍼스</td>\n",
       "      <td>상행</td>\n",
       "      <td>인천글로벌캠퍼스</td>\n",
       "      <td>송도에듀포레푸르지오</td>\n",
       "      <td>56</td>\n",
       "      <td>...</td>\n",
       "      <td>168</td>\n",
       "      <td>223</td>\n",
       "      <td>237</td>\n",
       "      <td>355</td>\n",
       "      <td>659</td>\n",
       "      <td>818</td>\n",
       "      <td>528</td>\n",
       "      <td>367</td>\n",
       "      <td>239</td>\n",
       "      <td>159</td>\n",
       "    </tr>\n",
       "    <tr>\n",
       "      <th>1438</th>\n",
       "      <td>2021-03-30</td>\n",
       "      <td>화</td>\n",
       "      <td>송도문화로</td>\n",
       "      <td>1650255500</td>\n",
       "      <td>SDTRVCT00100016</td>\n",
       "      <td>글로벌캠퍼스</td>\n",
       "      <td>상행</td>\n",
       "      <td>인천글로벌캠퍼스</td>\n",
       "      <td>송도에듀포레푸르지오</td>\n",
       "      <td>78</td>\n",
       "      <td>...</td>\n",
       "      <td>199</td>\n",
       "      <td>207</td>\n",
       "      <td>249</td>\n",
       "      <td>347</td>\n",
       "      <td>625</td>\n",
       "      <td>785</td>\n",
       "      <td>593</td>\n",
       "      <td>401</td>\n",
       "      <td>294</td>\n",
       "      <td>143</td>\n",
       "    </tr>\n",
       "    <tr>\n",
       "      <th>1439</th>\n",
       "      <td>2021-03-31</td>\n",
       "      <td>수</td>\n",
       "      <td>송도문화로</td>\n",
       "      <td>1650255500</td>\n",
       "      <td>SDTRVCT00100016</td>\n",
       "      <td>글로벌캠퍼스</td>\n",
       "      <td>상행</td>\n",
       "      <td>인천글로벌캠퍼스</td>\n",
       "      <td>송도에듀포레푸르지오</td>\n",
       "      <td>78</td>\n",
       "      <td>...</td>\n",
       "      <td>211</td>\n",
       "      <td>244</td>\n",
       "      <td>249</td>\n",
       "      <td>395</td>\n",
       "      <td>674</td>\n",
       "      <td>803</td>\n",
       "      <td>519</td>\n",
       "      <td>411</td>\n",
       "      <td>279</td>\n",
       "      <td>203</td>\n",
       "    </tr>\n",
       "  </tbody>\n",
       "</table>\n",
       "<p>1440 rows × 33 columns</p>\n",
       "</div>"
      ],
      "text/plain": [
       "              일자 요일     도로명       링크아이디           검지기아이디            지점명  방향  \\\n",
       "0     2021-01-01  금  테크노파크로  1640137900  SDTRVCT00100001  한국생산기술연구원 맞은편  상행   \n",
       "1     2021-01-02  토  테크노파크로  1640137900  SDTRVCT00100001  한국생산기술연구원 맞은편  상행   \n",
       "2     2021-01-03  일  테크노파크로  1640137900  SDTRVCT00100001  한국생산기술연구원 맞은편  상행   \n",
       "3     2021-01-04  월  테크노파크로  1640137900  SDTRVCT00100001  한국생산기술연구원 맞은편  상행   \n",
       "4     2021-01-05  화  테크노파크로  1640137900  SDTRVCT00100001  한국생산기술연구원 맞은편  상행   \n",
       "...          ... ..     ...         ...              ...            ...  ..   \n",
       "1435  2021-03-27  토   송도문화로  1650255500  SDTRVCT00100016         글로벌캠퍼스  상행   \n",
       "1436  2021-03-28  일   송도문화로  1650255500  SDTRVCT00100016         글로벌캠퍼스  상행   \n",
       "1437  2021-03-29  월   송도문화로  1650255500  SDTRVCT00100016         글로벌캠퍼스  상행   \n",
       "1438  2021-03-30  화   송도문화로  1650255500  SDTRVCT00100016         글로벌캠퍼스  상행   \n",
       "1439  2021-03-31  수   송도문화로  1650255500  SDTRVCT00100016         글로벌캠퍼스  상행   \n",
       "\n",
       "             시점명         종점명  00시  ...  14시  15시  16시  17시  18시  19시  20시  \\\n",
       "0     한국생산기술연구원앞     미추홀타워입구   87  ...  387  435  473  453  408  367  284   \n",
       "1     한국생산기술연구원앞     미추홀타워입구   69  ...  514  579  522  546  518  427  303   \n",
       "2     한국생산기술연구원앞     미추홀타워입구   63  ...  418  497  497  458  416  330  280   \n",
       "3     한국생산기술연구원앞     미추홀타워입구   50  ...  395  424  410  455  592  534  423   \n",
       "4     한국생산기술연구원앞     미추홀타워입구   76  ...  427  435  421  469  534  610  458   \n",
       "...          ...         ...  ...  ...  ...  ...  ...  ...  ...  ...  ...   \n",
       "1435    인천글로벌캠퍼스  송도에듀포레푸르지오  109  ...  441  425  497  393  345  279  220   \n",
       "1436    인천글로벌캠퍼스  송도에듀포레푸르지오   64  ...  345  320  338  294  313  248  187   \n",
       "1437    인천글로벌캠퍼스  송도에듀포레푸르지오   56  ...  168  223  237  355  659  818  528   \n",
       "1438    인천글로벌캠퍼스  송도에듀포레푸르지오   78  ...  199  207  249  347  625  785  593   \n",
       "1439    인천글로벌캠퍼스  송도에듀포레푸르지오   78  ...  211  244  249  395  674  803  519   \n",
       "\n",
       "      21시  22시  23시  \n",
       "0     200  138  111  \n",
       "1     249  205   91  \n",
       "2     209  144   80  \n",
       "3     288  187  113  \n",
       "4     335  253  121  \n",
       "...   ...  ...  ...  \n",
       "1435  205  177  117  \n",
       "1436  166  181   96  \n",
       "1437  367  239  159  \n",
       "1438  401  294  143  \n",
       "1439  411  279  203  \n",
       "\n",
       "[1440 rows x 33 columns]"
      ]
     },
     "execution_count": 1008,
     "metadata": {},
     "output_type": "execute_result"
    }
   ],
   "source": [
    "df_json"
   ]
  },
  {
   "cell_type": "code",
   "execution_count": 1009,
   "id": "0902482c",
   "metadata": {},
   "outputs": [
    {
     "data": {
      "text/html": [
       "<div>\n",
       "<style scoped>\n",
       "    .dataframe tbody tr th:only-of-type {\n",
       "        vertical-align: middle;\n",
       "    }\n",
       "\n",
       "    .dataframe tbody tr th {\n",
       "        vertical-align: top;\n",
       "    }\n",
       "\n",
       "    .dataframe thead th {\n",
       "        text-align: right;\n",
       "    }\n",
       "</style>\n",
       "<table border=\"1\" class=\"dataframe\">\n",
       "  <thead>\n",
       "    <tr style=\"text-align: right;\">\n",
       "      <th></th>\n",
       "      <th>도로명</th>\n",
       "      <th>방향</th>\n",
       "      <th>09시</th>\n",
       "    </tr>\n",
       "  </thead>\n",
       "  <tbody>\n",
       "    <tr>\n",
       "      <th>0</th>\n",
       "      <td>테크노파크로</td>\n",
       "      <td>상행</td>\n",
       "      <td>106</td>\n",
       "    </tr>\n",
       "    <tr>\n",
       "      <th>1</th>\n",
       "      <td>테크노파크로</td>\n",
       "      <td>상행</td>\n",
       "      <td>144</td>\n",
       "    </tr>\n",
       "    <tr>\n",
       "      <th>2</th>\n",
       "      <td>테크노파크로</td>\n",
       "      <td>상행</td>\n",
       "      <td>93</td>\n",
       "    </tr>\n",
       "    <tr>\n",
       "      <th>3</th>\n",
       "      <td>테크노파크로</td>\n",
       "      <td>상행</td>\n",
       "      <td>654</td>\n",
       "    </tr>\n",
       "    <tr>\n",
       "      <th>4</th>\n",
       "      <td>테크노파크로</td>\n",
       "      <td>상행</td>\n",
       "      <td>663</td>\n",
       "    </tr>\n",
       "    <tr>\n",
       "      <th>...</th>\n",
       "      <td>...</td>\n",
       "      <td>...</td>\n",
       "      <td>...</td>\n",
       "    </tr>\n",
       "    <tr>\n",
       "      <th>1435</th>\n",
       "      <td>송도문화로</td>\n",
       "      <td>상행</td>\n",
       "      <td>143</td>\n",
       "    </tr>\n",
       "    <tr>\n",
       "      <th>1436</th>\n",
       "      <td>송도문화로</td>\n",
       "      <td>상행</td>\n",
       "      <td>72</td>\n",
       "    </tr>\n",
       "    <tr>\n",
       "      <th>1437</th>\n",
       "      <td>송도문화로</td>\n",
       "      <td>상행</td>\n",
       "      <td>381</td>\n",
       "    </tr>\n",
       "    <tr>\n",
       "      <th>1438</th>\n",
       "      <td>송도문화로</td>\n",
       "      <td>상행</td>\n",
       "      <td>358</td>\n",
       "    </tr>\n",
       "    <tr>\n",
       "      <th>1439</th>\n",
       "      <td>송도문화로</td>\n",
       "      <td>상행</td>\n",
       "      <td>369</td>\n",
       "    </tr>\n",
       "  </tbody>\n",
       "</table>\n",
       "<p>1440 rows × 3 columns</p>\n",
       "</div>"
      ],
      "text/plain": [
       "         도로명  방향  09시\n",
       "0     테크노파크로  상행  106\n",
       "1     테크노파크로  상행  144\n",
       "2     테크노파크로  상행   93\n",
       "3     테크노파크로  상행  654\n",
       "4     테크노파크로  상행  663\n",
       "...      ...  ..  ...\n",
       "1435   송도문화로  상행  143\n",
       "1436   송도문화로  상행   72\n",
       "1437   송도문화로  상행  381\n",
       "1438   송도문화로  상행  358\n",
       "1439   송도문화로  상행  369\n",
       "\n",
       "[1440 rows x 3 columns]"
      ]
     },
     "execution_count": 1009,
     "metadata": {},
     "output_type": "execute_result"
    }
   ],
   "source": [
    "df_9am"
   ]
  },
  {
   "cell_type": "code",
   "execution_count": 1010,
   "id": "9f6f850e",
   "metadata": {},
   "outputs": [
    {
     "data": {
      "text/plain": [
       "0       False\n",
       "1       False\n",
       "2       False\n",
       "3       False\n",
       "4       False\n",
       "        ...  \n",
       "1435    False\n",
       "1436    False\n",
       "1437    False\n",
       "1438    False\n",
       "1439    False\n",
       "Length: 1440, dtype: bool"
      ]
     },
     "execution_count": 1010,
     "metadata": {},
     "output_type": "execute_result"
    }
   ],
   "source": [
    "(df[\"도로명\"] == \"송도국제대로\") & (df[\"일자\"]== \"2021-01-01\")"
   ]
  },
  {
   "cell_type": "code",
   "execution_count": 1011,
   "id": "e0dd695a",
   "metadata": {},
   "outputs": [
    {
     "data": {
      "text/html": [
       "<div>\n",
       "<style scoped>\n",
       "    .dataframe tbody tr th:only-of-type {\n",
       "        vertical-align: middle;\n",
       "    }\n",
       "\n",
       "    .dataframe tbody tr th {\n",
       "        vertical-align: top;\n",
       "    }\n",
       "\n",
       "    .dataframe thead th {\n",
       "        text-align: right;\n",
       "    }\n",
       "</style>\n",
       "<table border=\"1\" class=\"dataframe\">\n",
       "  <thead>\n",
       "    <tr style=\"text-align: right;\">\n",
       "      <th></th>\n",
       "      <th>일자</th>\n",
       "      <th>요일</th>\n",
       "      <th>도로명</th>\n",
       "      <th>링크아이디</th>\n",
       "      <th>검지기아이디</th>\n",
       "      <th>지점명</th>\n",
       "      <th>방향</th>\n",
       "      <th>시점명</th>\n",
       "      <th>종점명</th>\n",
       "      <th>00시</th>\n",
       "      <th>...</th>\n",
       "      <th>14시</th>\n",
       "      <th>15시</th>\n",
       "      <th>16시</th>\n",
       "      <th>17시</th>\n",
       "      <th>18시</th>\n",
       "      <th>19시</th>\n",
       "      <th>20시</th>\n",
       "      <th>21시</th>\n",
       "      <th>22시</th>\n",
       "      <th>23시</th>\n",
       "    </tr>\n",
       "  </thead>\n",
       "  <tbody>\n",
       "    <tr>\n",
       "      <th>124</th>\n",
       "      <td>2021-01-01</td>\n",
       "      <td>금</td>\n",
       "      <td>송도국제대로</td>\n",
       "      <td>1640151000</td>\n",
       "      <td>SDTRVCT00100005</td>\n",
       "      <td>캠퍼스타운역 2번출구</td>\n",
       "      <td>상행</td>\n",
       "      <td>아이파크A113동앞</td>\n",
       "      <td>캠퍼스타운역</td>\n",
       "      <td>395</td>\n",
       "      <td>...</td>\n",
       "      <td>1357</td>\n",
       "      <td>1743</td>\n",
       "      <td>1932</td>\n",
       "      <td>2149</td>\n",
       "      <td>2015</td>\n",
       "      <td>1846</td>\n",
       "      <td>1469</td>\n",
       "      <td>1468</td>\n",
       "      <td>912</td>\n",
       "      <td>435</td>\n",
       "    </tr>\n",
       "    <tr>\n",
       "      <th>155</th>\n",
       "      <td>2021-01-01</td>\n",
       "      <td>금</td>\n",
       "      <td>송도국제대로</td>\n",
       "      <td>1640147300</td>\n",
       "      <td>SDTRVCT00100006</td>\n",
       "      <td>테크노파크역 1번출구</td>\n",
       "      <td>하행</td>\n",
       "      <td>인천글로벌캠퍼스</td>\n",
       "      <td>프리미엄아울렛앞</td>\n",
       "      <td>326</td>\n",
       "      <td>...</td>\n",
       "      <td>1117</td>\n",
       "      <td>1399</td>\n",
       "      <td>1491</td>\n",
       "      <td>1352</td>\n",
       "      <td>1278</td>\n",
       "      <td>1061</td>\n",
       "      <td>809</td>\n",
       "      <td>750</td>\n",
       "      <td>679</td>\n",
       "      <td>370</td>\n",
       "    </tr>\n",
       "  </tbody>\n",
       "</table>\n",
       "<p>2 rows × 33 columns</p>\n",
       "</div>"
      ],
      "text/plain": [
       "             일자 요일     도로명       링크아이디           검지기아이디          지점명  방향  \\\n",
       "124  2021-01-01  금  송도국제대로  1640151000  SDTRVCT00100005  캠퍼스타운역 2번출구  상행   \n",
       "155  2021-01-01  금  송도국제대로  1640147300  SDTRVCT00100006  테크노파크역 1번출구  하행   \n",
       "\n",
       "            시점명       종점명  00시  ...   14시   15시   16시   17시   18시   19시   20시  \\\n",
       "124  아이파크A113동앞    캠퍼스타운역  395  ...  1357  1743  1932  2149  2015  1846  1469   \n",
       "155    인천글로벌캠퍼스  프리미엄아울렛앞  326  ...  1117  1399  1491  1352  1278  1061   809   \n",
       "\n",
       "      21시  22시  23시  \n",
       "124  1468  912  435  \n",
       "155   750  679  370  \n",
       "\n",
       "[2 rows x 33 columns]"
      ]
     },
     "execution_count": 1011,
     "metadata": {},
     "output_type": "execute_result"
    }
   ],
   "source": [
    "df[(df[\"도로명\"] == \"송도국제대로\") & (df[\"일자\"]== \"2021-01-01\")]"
   ]
  },
  {
   "cell_type": "code",
   "execution_count": 1012,
   "id": "232fe4a5",
   "metadata": {},
   "outputs": [
    {
     "data": {
      "text/plain": [
       "124    591\n",
       "155    421\n",
       "Name: 09시, dtype: int64"
      ]
     },
     "execution_count": 1012,
     "metadata": {},
     "output_type": "execute_result"
    }
   ],
   "source": [
    "df[(df[\"도로명\"] == \"송도국제대로\") & (df[\"일자\"]== \"2021-01-01\")][\"09시\"]"
   ]
  },
  {
   "cell_type": "code",
   "execution_count": 1013,
   "id": "0aa4547c",
   "metadata": {},
   "outputs": [],
   "source": [
    "condition = (df['도로명'] == \"송도국제대로\")"
   ]
  },
  {
   "cell_type": "code",
   "execution_count": 1014,
   "id": "9f95dd08",
   "metadata": {},
   "outputs": [
    {
     "name": "stdout",
     "output_type": "stream",
     "text": [
      "0       False\n",
      "1       False\n",
      "2       False\n",
      "3       False\n",
      "4       False\n",
      "        ...  \n",
      "1435    False\n",
      "1436    False\n",
      "1437    False\n",
      "1438    False\n",
      "1439    False\n",
      "Name: 도로명, Length: 1440, dtype: bool\n"
     ]
    }
   ],
   "source": [
    "print(condition)"
   ]
  },
  {
   "cell_type": "code",
   "execution_count": 1015,
   "id": "d2b34df8",
   "metadata": {},
   "outputs": [
    {
     "name": "stdout",
     "output_type": "stream",
     "text": [
      "1915.3055555555557\n"
     ]
    }
   ],
   "source": [
    "print(df.loc[condition, '09시'].mean())"
   ]
  },
  {
   "cell_type": "code",
   "execution_count": 1016,
   "id": "477d3efe",
   "metadata": {},
   "outputs": [
    {
     "name": "stdout",
     "output_type": "stream",
     "text": [
      "          09시       14시       18시\n",
      "09시  1.000000  0.661098  0.750643\n",
      "14시  0.661098  1.000000  0.897277\n",
      "18시  0.750643  0.897277  1.000000\n"
     ]
    }
   ],
   "source": [
    "print(df[['09시', '14시', '18시']].corr())"
   ]
  },
  {
   "cell_type": "code",
   "execution_count": 1017,
   "id": "b43a591c",
   "metadata": {},
   "outputs": [
    {
     "name": "stdout",
     "output_type": "stream",
     "text": [
      "               09시          13시\n",
      "count  1440.000000  1440.000000\n",
      "mean    841.231250   660.964583\n",
      "std     724.194009   402.906705\n",
      "min      35.000000    50.000000\n",
      "25%     278.500000   381.000000\n",
      "50%     607.500000   607.500000\n",
      "75%    1181.500000   845.000000\n",
      "max    2783.000000  2201.000000\n"
     ]
    }
   ],
   "source": [
    "print(df[['09시','13시']].describe())"
   ]
  },
  {
   "cell_type": "code",
   "execution_count": 1018,
   "id": "c5f59c3e",
   "metadata": {},
   "outputs": [
    {
     "data": {
      "text/plain": [
       "도로명\n",
       "테크노파크로     180\n",
       "아트센터대로     180\n",
       "컨벤시아대로     180\n",
       "송도국제대로     180\n",
       "인천타워대로     180\n",
       "첨단대로       180\n",
       "송도과학로      180\n",
       "송도바이오대로     90\n",
       "송도문화로       90\n",
       "Name: count, dtype: int64"
      ]
     },
     "execution_count": 1018,
     "metadata": {},
     "output_type": "execute_result"
    }
   ],
   "source": [
    "df['도로명'].value_counts()"
   ]
  },
  {
   "cell_type": "code",
   "execution_count": 1019,
   "id": "2995b412",
   "metadata": {},
   "outputs": [
    {
     "data": {
      "text/plain": [
       "0       테크노파크로\n",
       "1       테크노파크로\n",
       "2       테크노파크로\n",
       "3       테크노파크로\n",
       "4       테크노파크로\n",
       "         ...  \n",
       "1435     송도문화로\n",
       "1436     송도문화로\n",
       "1437     송도문화로\n",
       "1438     송도문화로\n",
       "1439     송도문화로\n",
       "Name: 도로명, Length: 1440, dtype: object"
      ]
     },
     "execution_count": 1019,
     "metadata": {},
     "output_type": "execute_result"
    }
   ],
   "source": [
    "df['도로명']"
   ]
  },
  {
   "cell_type": "code",
   "execution_count": 1020,
   "id": "f311d73c",
   "metadata": {},
   "outputs": [
    {
     "data": {
      "text/html": [
       "<div>\n",
       "<style scoped>\n",
       "    .dataframe tbody tr th:only-of-type {\n",
       "        vertical-align: middle;\n",
       "    }\n",
       "\n",
       "    .dataframe tbody tr th {\n",
       "        vertical-align: top;\n",
       "    }\n",
       "\n",
       "    .dataframe thead th {\n",
       "        text-align: right;\n",
       "    }\n",
       "</style>\n",
       "<table border=\"1\" class=\"dataframe\">\n",
       "  <thead>\n",
       "    <tr style=\"text-align: right;\">\n",
       "      <th></th>\n",
       "      <th>일자</th>\n",
       "      <th>요일</th>\n",
       "      <th>도로명</th>\n",
       "      <th>링크아이디</th>\n",
       "      <th>검지기아이디</th>\n",
       "      <th>지점명</th>\n",
       "      <th>방향</th>\n",
       "      <th>시점명</th>\n",
       "      <th>종점명</th>\n",
       "      <th>00시</th>\n",
       "      <th>...</th>\n",
       "      <th>14시</th>\n",
       "      <th>15시</th>\n",
       "      <th>16시</th>\n",
       "      <th>17시</th>\n",
       "      <th>18시</th>\n",
       "      <th>19시</th>\n",
       "      <th>20시</th>\n",
       "      <th>21시</th>\n",
       "      <th>22시</th>\n",
       "      <th>23시</th>\n",
       "    </tr>\n",
       "  </thead>\n",
       "  <tbody>\n",
       "    <tr>\n",
       "      <th>10</th>\n",
       "      <td>2021-01-11</td>\n",
       "      <td>월</td>\n",
       "      <td>테크노파크로</td>\n",
       "      <td>1640137900</td>\n",
       "      <td>SDTRVCT00100001</td>\n",
       "      <td>한국생산기술연구원 맞은편</td>\n",
       "      <td>상행</td>\n",
       "      <td>한국생산기술연구원앞</td>\n",
       "      <td>미추홀타워입구</td>\n",
       "      <td>88</td>\n",
       "      <td>...</td>\n",
       "      <td>444</td>\n",
       "      <td>432</td>\n",
       "      <td>437</td>\n",
       "      <td>494</td>\n",
       "      <td>522</td>\n",
       "      <td>638</td>\n",
       "      <td>456</td>\n",
       "      <td>343</td>\n",
       "      <td>298</td>\n",
       "      <td>115</td>\n",
       "    </tr>\n",
       "    <tr>\n",
       "      <th>11</th>\n",
       "      <td>2021-01-12</td>\n",
       "      <td>화</td>\n",
       "      <td>테크노파크로</td>\n",
       "      <td>1640137900</td>\n",
       "      <td>SDTRVCT00100001</td>\n",
       "      <td>한국생산기술연구원 맞은편</td>\n",
       "      <td>상행</td>\n",
       "      <td>한국생산기술연구원앞</td>\n",
       "      <td>미추홀타워입구</td>\n",
       "      <td>66</td>\n",
       "      <td>...</td>\n",
       "      <td>432</td>\n",
       "      <td>510</td>\n",
       "      <td>235</td>\n",
       "      <td>379</td>\n",
       "      <td>426</td>\n",
       "      <td>456</td>\n",
       "      <td>295</td>\n",
       "      <td>175</td>\n",
       "      <td>172</td>\n",
       "      <td>75</td>\n",
       "    </tr>\n",
       "    <tr>\n",
       "      <th>12</th>\n",
       "      <td>2021-01-13</td>\n",
       "      <td>수</td>\n",
       "      <td>테크노파크로</td>\n",
       "      <td>1640137900</td>\n",
       "      <td>SDTRVCT00100001</td>\n",
       "      <td>한국생산기술연구원 맞은편</td>\n",
       "      <td>상행</td>\n",
       "      <td>한국생산기술연구원앞</td>\n",
       "      <td>미추홀타워입구</td>\n",
       "      <td>61</td>\n",
       "      <td>...</td>\n",
       "      <td>398</td>\n",
       "      <td>429</td>\n",
       "      <td>479</td>\n",
       "      <td>485</td>\n",
       "      <td>585</td>\n",
       "      <td>630</td>\n",
       "      <td>427</td>\n",
       "      <td>340</td>\n",
       "      <td>274</td>\n",
       "      <td>133</td>\n",
       "    </tr>\n",
       "    <tr>\n",
       "      <th>13</th>\n",
       "      <td>2021-01-14</td>\n",
       "      <td>목</td>\n",
       "      <td>테크노파크로</td>\n",
       "      <td>1640137900</td>\n",
       "      <td>SDTRVCT00100001</td>\n",
       "      <td>한국생산기술연구원 맞은편</td>\n",
       "      <td>상행</td>\n",
       "      <td>한국생산기술연구원앞</td>\n",
       "      <td>미추홀타워입구</td>\n",
       "      <td>68</td>\n",
       "      <td>...</td>\n",
       "      <td>492</td>\n",
       "      <td>456</td>\n",
       "      <td>449</td>\n",
       "      <td>475</td>\n",
       "      <td>524</td>\n",
       "      <td>599</td>\n",
       "      <td>410</td>\n",
       "      <td>305</td>\n",
       "      <td>272</td>\n",
       "      <td>144</td>\n",
       "    </tr>\n",
       "    <tr>\n",
       "      <th>14</th>\n",
       "      <td>2021-01-15</td>\n",
       "      <td>금</td>\n",
       "      <td>테크노파크로</td>\n",
       "      <td>1640137900</td>\n",
       "      <td>SDTRVCT00100001</td>\n",
       "      <td>한국생산기술연구원 맞은편</td>\n",
       "      <td>상행</td>\n",
       "      <td>한국생산기술연구원앞</td>\n",
       "      <td>미추홀타워입구</td>\n",
       "      <td>76</td>\n",
       "      <td>...</td>\n",
       "      <td>453</td>\n",
       "      <td>434</td>\n",
       "      <td>482</td>\n",
       "      <td>583</td>\n",
       "      <td>645</td>\n",
       "      <td>632</td>\n",
       "      <td>500</td>\n",
       "      <td>324</td>\n",
       "      <td>268</td>\n",
       "      <td>134</td>\n",
       "    </tr>\n",
       "    <tr>\n",
       "      <th>...</th>\n",
       "      <td>...</td>\n",
       "      <td>...</td>\n",
       "      <td>...</td>\n",
       "      <td>...</td>\n",
       "      <td>...</td>\n",
       "      <td>...</td>\n",
       "      <td>...</td>\n",
       "      <td>...</td>\n",
       "      <td>...</td>\n",
       "      <td>...</td>\n",
       "      <td>...</td>\n",
       "      <td>...</td>\n",
       "      <td>...</td>\n",
       "      <td>...</td>\n",
       "      <td>...</td>\n",
       "      <td>...</td>\n",
       "      <td>...</td>\n",
       "      <td>...</td>\n",
       "      <td>...</td>\n",
       "      <td>...</td>\n",
       "      <td>...</td>\n",
       "    </tr>\n",
       "    <tr>\n",
       "      <th>1435</th>\n",
       "      <td>2021-03-27</td>\n",
       "      <td>토</td>\n",
       "      <td>송도문화로</td>\n",
       "      <td>1650255500</td>\n",
       "      <td>SDTRVCT00100016</td>\n",
       "      <td>글로벌캠퍼스</td>\n",
       "      <td>상행</td>\n",
       "      <td>인천글로벌캠퍼스</td>\n",
       "      <td>송도에듀포레푸르지오</td>\n",
       "      <td>109</td>\n",
       "      <td>...</td>\n",
       "      <td>441</td>\n",
       "      <td>425</td>\n",
       "      <td>497</td>\n",
       "      <td>393</td>\n",
       "      <td>345</td>\n",
       "      <td>279</td>\n",
       "      <td>220</td>\n",
       "      <td>205</td>\n",
       "      <td>177</td>\n",
       "      <td>117</td>\n",
       "    </tr>\n",
       "    <tr>\n",
       "      <th>1436</th>\n",
       "      <td>2021-03-28</td>\n",
       "      <td>일</td>\n",
       "      <td>송도문화로</td>\n",
       "      <td>1650255500</td>\n",
       "      <td>SDTRVCT00100016</td>\n",
       "      <td>글로벌캠퍼스</td>\n",
       "      <td>상행</td>\n",
       "      <td>인천글로벌캠퍼스</td>\n",
       "      <td>송도에듀포레푸르지오</td>\n",
       "      <td>64</td>\n",
       "      <td>...</td>\n",
       "      <td>345</td>\n",
       "      <td>320</td>\n",
       "      <td>338</td>\n",
       "      <td>294</td>\n",
       "      <td>313</td>\n",
       "      <td>248</td>\n",
       "      <td>187</td>\n",
       "      <td>166</td>\n",
       "      <td>181</td>\n",
       "      <td>96</td>\n",
       "    </tr>\n",
       "    <tr>\n",
       "      <th>1437</th>\n",
       "      <td>2021-03-29</td>\n",
       "      <td>월</td>\n",
       "      <td>송도문화로</td>\n",
       "      <td>1650255500</td>\n",
       "      <td>SDTRVCT00100016</td>\n",
       "      <td>글로벌캠퍼스</td>\n",
       "      <td>상행</td>\n",
       "      <td>인천글로벌캠퍼스</td>\n",
       "      <td>송도에듀포레푸르지오</td>\n",
       "      <td>56</td>\n",
       "      <td>...</td>\n",
       "      <td>168</td>\n",
       "      <td>223</td>\n",
       "      <td>237</td>\n",
       "      <td>355</td>\n",
       "      <td>659</td>\n",
       "      <td>818</td>\n",
       "      <td>528</td>\n",
       "      <td>367</td>\n",
       "      <td>239</td>\n",
       "      <td>159</td>\n",
       "    </tr>\n",
       "    <tr>\n",
       "      <th>1438</th>\n",
       "      <td>2021-03-30</td>\n",
       "      <td>화</td>\n",
       "      <td>송도문화로</td>\n",
       "      <td>1650255500</td>\n",
       "      <td>SDTRVCT00100016</td>\n",
       "      <td>글로벌캠퍼스</td>\n",
       "      <td>상행</td>\n",
       "      <td>인천글로벌캠퍼스</td>\n",
       "      <td>송도에듀포레푸르지오</td>\n",
       "      <td>78</td>\n",
       "      <td>...</td>\n",
       "      <td>199</td>\n",
       "      <td>207</td>\n",
       "      <td>249</td>\n",
       "      <td>347</td>\n",
       "      <td>625</td>\n",
       "      <td>785</td>\n",
       "      <td>593</td>\n",
       "      <td>401</td>\n",
       "      <td>294</td>\n",
       "      <td>143</td>\n",
       "    </tr>\n",
       "    <tr>\n",
       "      <th>1439</th>\n",
       "      <td>2021-03-31</td>\n",
       "      <td>수</td>\n",
       "      <td>송도문화로</td>\n",
       "      <td>1650255500</td>\n",
       "      <td>SDTRVCT00100016</td>\n",
       "      <td>글로벌캠퍼스</td>\n",
       "      <td>상행</td>\n",
       "      <td>인천글로벌캠퍼스</td>\n",
       "      <td>송도에듀포레푸르지오</td>\n",
       "      <td>78</td>\n",
       "      <td>...</td>\n",
       "      <td>211</td>\n",
       "      <td>244</td>\n",
       "      <td>249</td>\n",
       "      <td>395</td>\n",
       "      <td>674</td>\n",
       "      <td>803</td>\n",
       "      <td>519</td>\n",
       "      <td>411</td>\n",
       "      <td>279</td>\n",
       "      <td>203</td>\n",
       "    </tr>\n",
       "  </tbody>\n",
       "</table>\n",
       "<p>1430 rows × 33 columns</p>\n",
       "</div>"
      ],
      "text/plain": [
       "              일자 요일     도로명       링크아이디           검지기아이디            지점명  방향  \\\n",
       "10    2021-01-11  월  테크노파크로  1640137900  SDTRVCT00100001  한국생산기술연구원 맞은편  상행   \n",
       "11    2021-01-12  화  테크노파크로  1640137900  SDTRVCT00100001  한국생산기술연구원 맞은편  상행   \n",
       "12    2021-01-13  수  테크노파크로  1640137900  SDTRVCT00100001  한국생산기술연구원 맞은편  상행   \n",
       "13    2021-01-14  목  테크노파크로  1640137900  SDTRVCT00100001  한국생산기술연구원 맞은편  상행   \n",
       "14    2021-01-15  금  테크노파크로  1640137900  SDTRVCT00100001  한국생산기술연구원 맞은편  상행   \n",
       "...          ... ..     ...         ...              ...            ...  ..   \n",
       "1435  2021-03-27  토   송도문화로  1650255500  SDTRVCT00100016         글로벌캠퍼스  상행   \n",
       "1436  2021-03-28  일   송도문화로  1650255500  SDTRVCT00100016         글로벌캠퍼스  상행   \n",
       "1437  2021-03-29  월   송도문화로  1650255500  SDTRVCT00100016         글로벌캠퍼스  상행   \n",
       "1438  2021-03-30  화   송도문화로  1650255500  SDTRVCT00100016         글로벌캠퍼스  상행   \n",
       "1439  2021-03-31  수   송도문화로  1650255500  SDTRVCT00100016         글로벌캠퍼스  상행   \n",
       "\n",
       "             시점명         종점명  00시  ...  14시  15시  16시  17시  18시  19시  20시  \\\n",
       "10    한국생산기술연구원앞     미추홀타워입구   88  ...  444  432  437  494  522  638  456   \n",
       "11    한국생산기술연구원앞     미추홀타워입구   66  ...  432  510  235  379  426  456  295   \n",
       "12    한국생산기술연구원앞     미추홀타워입구   61  ...  398  429  479  485  585  630  427   \n",
       "13    한국생산기술연구원앞     미추홀타워입구   68  ...  492  456  449  475  524  599  410   \n",
       "14    한국생산기술연구원앞     미추홀타워입구   76  ...  453  434  482  583  645  632  500   \n",
       "...          ...         ...  ...  ...  ...  ...  ...  ...  ...  ...  ...   \n",
       "1435    인천글로벌캠퍼스  송도에듀포레푸르지오  109  ...  441  425  497  393  345  279  220   \n",
       "1436    인천글로벌캠퍼스  송도에듀포레푸르지오   64  ...  345  320  338  294  313  248  187   \n",
       "1437    인천글로벌캠퍼스  송도에듀포레푸르지오   56  ...  168  223  237  355  659  818  528   \n",
       "1438    인천글로벌캠퍼스  송도에듀포레푸르지오   78  ...  199  207  249  347  625  785  593   \n",
       "1439    인천글로벌캠퍼스  송도에듀포레푸르지오   78  ...  211  244  249  395  674  803  519   \n",
       "\n",
       "      21시  22시  23시  \n",
       "10    343  298  115  \n",
       "11    175  172   75  \n",
       "12    340  274  133  \n",
       "13    305  272  144  \n",
       "14    324  268  134  \n",
       "...   ...  ...  ...  \n",
       "1435  205  177  117  \n",
       "1436  166  181   96  \n",
       "1437  367  239  159  \n",
       "1438  401  294  143  \n",
       "1439  411  279  203  \n",
       "\n",
       "[1430 rows x 33 columns]"
      ]
     },
     "execution_count": 1020,
     "metadata": {},
     "output_type": "execute_result"
    }
   ],
   "source": [
    "df.drop(np.arange(10))"
   ]
  },
  {
   "cell_type": "code",
   "execution_count": 1021,
   "id": "dfcacfd5",
   "metadata": {},
   "outputs": [
    {
     "data": {
      "text/html": [
       "<div>\n",
       "<style scoped>\n",
       "    .dataframe tbody tr th:only-of-type {\n",
       "        vertical-align: middle;\n",
       "    }\n",
       "\n",
       "    .dataframe tbody tr th {\n",
       "        vertical-align: top;\n",
       "    }\n",
       "\n",
       "    .dataframe thead th {\n",
       "        text-align: right;\n",
       "    }\n",
       "</style>\n",
       "<table border=\"1\" class=\"dataframe\">\n",
       "  <thead>\n",
       "    <tr style=\"text-align: right;\">\n",
       "      <th></th>\n",
       "      <th>일자</th>\n",
       "      <th>요일</th>\n",
       "      <th>도로명</th>\n",
       "      <th>링크아이디</th>\n",
       "      <th>검지기아이디</th>\n",
       "      <th>지점명</th>\n",
       "      <th>방향</th>\n",
       "      <th>시점명</th>\n",
       "      <th>종점명</th>\n",
       "      <th>00시</th>\n",
       "      <th>...</th>\n",
       "      <th>14시</th>\n",
       "      <th>15시</th>\n",
       "      <th>16시</th>\n",
       "      <th>17시</th>\n",
       "      <th>18시</th>\n",
       "      <th>19시</th>\n",
       "      <th>20시</th>\n",
       "      <th>21시</th>\n",
       "      <th>22시</th>\n",
       "      <th>23시</th>\n",
       "    </tr>\n",
       "  </thead>\n",
       "  <tbody>\n",
       "    <tr>\n",
       "      <th>0</th>\n",
       "      <td>2021-01-01</td>\n",
       "      <td>금</td>\n",
       "      <td>테크노파크로</td>\n",
       "      <td>1640137900</td>\n",
       "      <td>SDTRVCT00100001</td>\n",
       "      <td>한국생산기술연구원 맞은편</td>\n",
       "      <td>상행</td>\n",
       "      <td>한국생산기술연구원앞</td>\n",
       "      <td>미추홀타워입구</td>\n",
       "      <td>87</td>\n",
       "      <td>...</td>\n",
       "      <td>387</td>\n",
       "      <td>435</td>\n",
       "      <td>473</td>\n",
       "      <td>453</td>\n",
       "      <td>408</td>\n",
       "      <td>367</td>\n",
       "      <td>284</td>\n",
       "      <td>200</td>\n",
       "      <td>138</td>\n",
       "      <td>111</td>\n",
       "    </tr>\n",
       "    <tr>\n",
       "      <th>1</th>\n",
       "      <td>2021-01-02</td>\n",
       "      <td>토</td>\n",
       "      <td>테크노파크로</td>\n",
       "      <td>1640137900</td>\n",
       "      <td>SDTRVCT00100001</td>\n",
       "      <td>한국생산기술연구원 맞은편</td>\n",
       "      <td>상행</td>\n",
       "      <td>한국생산기술연구원앞</td>\n",
       "      <td>미추홀타워입구</td>\n",
       "      <td>69</td>\n",
       "      <td>...</td>\n",
       "      <td>514</td>\n",
       "      <td>579</td>\n",
       "      <td>522</td>\n",
       "      <td>546</td>\n",
       "      <td>518</td>\n",
       "      <td>427</td>\n",
       "      <td>303</td>\n",
       "      <td>249</td>\n",
       "      <td>205</td>\n",
       "      <td>91</td>\n",
       "    </tr>\n",
       "    <tr>\n",
       "      <th>2</th>\n",
       "      <td>2021-01-03</td>\n",
       "      <td>일</td>\n",
       "      <td>테크노파크로</td>\n",
       "      <td>1640137900</td>\n",
       "      <td>SDTRVCT00100001</td>\n",
       "      <td>한국생산기술연구원 맞은편</td>\n",
       "      <td>상행</td>\n",
       "      <td>한국생산기술연구원앞</td>\n",
       "      <td>미추홀타워입구</td>\n",
       "      <td>63</td>\n",
       "      <td>...</td>\n",
       "      <td>418</td>\n",
       "      <td>497</td>\n",
       "      <td>497</td>\n",
       "      <td>458</td>\n",
       "      <td>416</td>\n",
       "      <td>330</td>\n",
       "      <td>280</td>\n",
       "      <td>209</td>\n",
       "      <td>144</td>\n",
       "      <td>80</td>\n",
       "    </tr>\n",
       "    <tr>\n",
       "      <th>3</th>\n",
       "      <td>2021-01-04</td>\n",
       "      <td>월</td>\n",
       "      <td>테크노파크로</td>\n",
       "      <td>1640137900</td>\n",
       "      <td>SDTRVCT00100001</td>\n",
       "      <td>한국생산기술연구원 맞은편</td>\n",
       "      <td>상행</td>\n",
       "      <td>한국생산기술연구원앞</td>\n",
       "      <td>미추홀타워입구</td>\n",
       "      <td>50</td>\n",
       "      <td>...</td>\n",
       "      <td>395</td>\n",
       "      <td>424</td>\n",
       "      <td>410</td>\n",
       "      <td>455</td>\n",
       "      <td>592</td>\n",
       "      <td>534</td>\n",
       "      <td>423</td>\n",
       "      <td>288</td>\n",
       "      <td>187</td>\n",
       "      <td>113</td>\n",
       "    </tr>\n",
       "    <tr>\n",
       "      <th>4</th>\n",
       "      <td>2021-01-05</td>\n",
       "      <td>화</td>\n",
       "      <td>테크노파크로</td>\n",
       "      <td>1640137900</td>\n",
       "      <td>SDTRVCT00100001</td>\n",
       "      <td>한국생산기술연구원 맞은편</td>\n",
       "      <td>상행</td>\n",
       "      <td>한국생산기술연구원앞</td>\n",
       "      <td>미추홀타워입구</td>\n",
       "      <td>76</td>\n",
       "      <td>...</td>\n",
       "      <td>427</td>\n",
       "      <td>435</td>\n",
       "      <td>421</td>\n",
       "      <td>469</td>\n",
       "      <td>534</td>\n",
       "      <td>610</td>\n",
       "      <td>458</td>\n",
       "      <td>335</td>\n",
       "      <td>253</td>\n",
       "      <td>121</td>\n",
       "    </tr>\n",
       "    <tr>\n",
       "      <th>...</th>\n",
       "      <td>...</td>\n",
       "      <td>...</td>\n",
       "      <td>...</td>\n",
       "      <td>...</td>\n",
       "      <td>...</td>\n",
       "      <td>...</td>\n",
       "      <td>...</td>\n",
       "      <td>...</td>\n",
       "      <td>...</td>\n",
       "      <td>...</td>\n",
       "      <td>...</td>\n",
       "      <td>...</td>\n",
       "      <td>...</td>\n",
       "      <td>...</td>\n",
       "      <td>...</td>\n",
       "      <td>...</td>\n",
       "      <td>...</td>\n",
       "      <td>...</td>\n",
       "      <td>...</td>\n",
       "      <td>...</td>\n",
       "      <td>...</td>\n",
       "    </tr>\n",
       "    <tr>\n",
       "      <th>1435</th>\n",
       "      <td>2021-03-27</td>\n",
       "      <td>토</td>\n",
       "      <td>송도문화로</td>\n",
       "      <td>1650255500</td>\n",
       "      <td>SDTRVCT00100016</td>\n",
       "      <td>글로벌캠퍼스</td>\n",
       "      <td>상행</td>\n",
       "      <td>인천글로벌캠퍼스</td>\n",
       "      <td>송도에듀포레푸르지오</td>\n",
       "      <td>109</td>\n",
       "      <td>...</td>\n",
       "      <td>441</td>\n",
       "      <td>425</td>\n",
       "      <td>497</td>\n",
       "      <td>393</td>\n",
       "      <td>345</td>\n",
       "      <td>279</td>\n",
       "      <td>220</td>\n",
       "      <td>205</td>\n",
       "      <td>177</td>\n",
       "      <td>117</td>\n",
       "    </tr>\n",
       "    <tr>\n",
       "      <th>1436</th>\n",
       "      <td>2021-03-28</td>\n",
       "      <td>일</td>\n",
       "      <td>송도문화로</td>\n",
       "      <td>1650255500</td>\n",
       "      <td>SDTRVCT00100016</td>\n",
       "      <td>글로벌캠퍼스</td>\n",
       "      <td>상행</td>\n",
       "      <td>인천글로벌캠퍼스</td>\n",
       "      <td>송도에듀포레푸르지오</td>\n",
       "      <td>64</td>\n",
       "      <td>...</td>\n",
       "      <td>345</td>\n",
       "      <td>320</td>\n",
       "      <td>338</td>\n",
       "      <td>294</td>\n",
       "      <td>313</td>\n",
       "      <td>248</td>\n",
       "      <td>187</td>\n",
       "      <td>166</td>\n",
       "      <td>181</td>\n",
       "      <td>96</td>\n",
       "    </tr>\n",
       "    <tr>\n",
       "      <th>1437</th>\n",
       "      <td>2021-03-29</td>\n",
       "      <td>월</td>\n",
       "      <td>송도문화로</td>\n",
       "      <td>1650255500</td>\n",
       "      <td>SDTRVCT00100016</td>\n",
       "      <td>글로벌캠퍼스</td>\n",
       "      <td>상행</td>\n",
       "      <td>인천글로벌캠퍼스</td>\n",
       "      <td>송도에듀포레푸르지오</td>\n",
       "      <td>56</td>\n",
       "      <td>...</td>\n",
       "      <td>168</td>\n",
       "      <td>223</td>\n",
       "      <td>237</td>\n",
       "      <td>355</td>\n",
       "      <td>659</td>\n",
       "      <td>818</td>\n",
       "      <td>528</td>\n",
       "      <td>367</td>\n",
       "      <td>239</td>\n",
       "      <td>159</td>\n",
       "    </tr>\n",
       "    <tr>\n",
       "      <th>1438</th>\n",
       "      <td>2021-03-30</td>\n",
       "      <td>화</td>\n",
       "      <td>송도문화로</td>\n",
       "      <td>1650255500</td>\n",
       "      <td>SDTRVCT00100016</td>\n",
       "      <td>글로벌캠퍼스</td>\n",
       "      <td>상행</td>\n",
       "      <td>인천글로벌캠퍼스</td>\n",
       "      <td>송도에듀포레푸르지오</td>\n",
       "      <td>78</td>\n",
       "      <td>...</td>\n",
       "      <td>199</td>\n",
       "      <td>207</td>\n",
       "      <td>249</td>\n",
       "      <td>347</td>\n",
       "      <td>625</td>\n",
       "      <td>785</td>\n",
       "      <td>593</td>\n",
       "      <td>401</td>\n",
       "      <td>294</td>\n",
       "      <td>143</td>\n",
       "    </tr>\n",
       "    <tr>\n",
       "      <th>1439</th>\n",
       "      <td>2021-03-31</td>\n",
       "      <td>수</td>\n",
       "      <td>송도문화로</td>\n",
       "      <td>1650255500</td>\n",
       "      <td>SDTRVCT00100016</td>\n",
       "      <td>글로벌캠퍼스</td>\n",
       "      <td>상행</td>\n",
       "      <td>인천글로벌캠퍼스</td>\n",
       "      <td>송도에듀포레푸르지오</td>\n",
       "      <td>78</td>\n",
       "      <td>...</td>\n",
       "      <td>211</td>\n",
       "      <td>244</td>\n",
       "      <td>249</td>\n",
       "      <td>395</td>\n",
       "      <td>674</td>\n",
       "      <td>803</td>\n",
       "      <td>519</td>\n",
       "      <td>411</td>\n",
       "      <td>279</td>\n",
       "      <td>203</td>\n",
       "    </tr>\n",
       "  </tbody>\n",
       "</table>\n",
       "<p>1440 rows × 33 columns</p>\n",
       "</div>"
      ],
      "text/plain": [
       "              일자 요일     도로명       링크아이디           검지기아이디            지점명  방향  \\\n",
       "0     2021-01-01  금  테크노파크로  1640137900  SDTRVCT00100001  한국생산기술연구원 맞은편  상행   \n",
       "1     2021-01-02  토  테크노파크로  1640137900  SDTRVCT00100001  한국생산기술연구원 맞은편  상행   \n",
       "2     2021-01-03  일  테크노파크로  1640137900  SDTRVCT00100001  한국생산기술연구원 맞은편  상행   \n",
       "3     2021-01-04  월  테크노파크로  1640137900  SDTRVCT00100001  한국생산기술연구원 맞은편  상행   \n",
       "4     2021-01-05  화  테크노파크로  1640137900  SDTRVCT00100001  한국생산기술연구원 맞은편  상행   \n",
       "...          ... ..     ...         ...              ...            ...  ..   \n",
       "1435  2021-03-27  토   송도문화로  1650255500  SDTRVCT00100016         글로벌캠퍼스  상행   \n",
       "1436  2021-03-28  일   송도문화로  1650255500  SDTRVCT00100016         글로벌캠퍼스  상행   \n",
       "1437  2021-03-29  월   송도문화로  1650255500  SDTRVCT00100016         글로벌캠퍼스  상행   \n",
       "1438  2021-03-30  화   송도문화로  1650255500  SDTRVCT00100016         글로벌캠퍼스  상행   \n",
       "1439  2021-03-31  수   송도문화로  1650255500  SDTRVCT00100016         글로벌캠퍼스  상행   \n",
       "\n",
       "             시점명         종점명  00시  ...  14시  15시  16시  17시  18시  19시  20시  \\\n",
       "0     한국생산기술연구원앞     미추홀타워입구   87  ...  387  435  473  453  408  367  284   \n",
       "1     한국생산기술연구원앞     미추홀타워입구   69  ...  514  579  522  546  518  427  303   \n",
       "2     한국생산기술연구원앞     미추홀타워입구   63  ...  418  497  497  458  416  330  280   \n",
       "3     한국생산기술연구원앞     미추홀타워입구   50  ...  395  424  410  455  592  534  423   \n",
       "4     한국생산기술연구원앞     미추홀타워입구   76  ...  427  435  421  469  534  610  458   \n",
       "...          ...         ...  ...  ...  ...  ...  ...  ...  ...  ...  ...   \n",
       "1435    인천글로벌캠퍼스  송도에듀포레푸르지오  109  ...  441  425  497  393  345  279  220   \n",
       "1436    인천글로벌캠퍼스  송도에듀포레푸르지오   64  ...  345  320  338  294  313  248  187   \n",
       "1437    인천글로벌캠퍼스  송도에듀포레푸르지오   56  ...  168  223  237  355  659  818  528   \n",
       "1438    인천글로벌캠퍼스  송도에듀포레푸르지오   78  ...  199  207  249  347  625  785  593   \n",
       "1439    인천글로벌캠퍼스  송도에듀포레푸르지오   78  ...  211  244  249  395  674  803  519   \n",
       "\n",
       "      21시  22시  23시  \n",
       "0     200  138  111  \n",
       "1     249  205   91  \n",
       "2     209  144   80  \n",
       "3     288  187  113  \n",
       "4     335  253  121  \n",
       "...   ...  ...  ...  \n",
       "1435  205  177  117  \n",
       "1436  166  181   96  \n",
       "1437  367  239  159  \n",
       "1438  401  294  143  \n",
       "1439  411  279  203  \n",
       "\n",
       "[1440 rows x 33 columns]"
      ]
     },
     "execution_count": 1021,
     "metadata": {},
     "output_type": "execute_result"
    }
   ],
   "source": [
    "df"
   ]
  },
  {
   "cell_type": "code",
   "execution_count": 1022,
   "id": "a60c2d03",
   "metadata": {},
   "outputs": [
    {
     "data": {
      "text/html": [
       "<div>\n",
       "<style scoped>\n",
       "    .dataframe tbody tr th:only-of-type {\n",
       "        vertical-align: middle;\n",
       "    }\n",
       "\n",
       "    .dataframe tbody tr th {\n",
       "        vertical-align: top;\n",
       "    }\n",
       "\n",
       "    .dataframe thead th {\n",
       "        text-align: right;\n",
       "    }\n",
       "</style>\n",
       "<table border=\"1\" class=\"dataframe\">\n",
       "  <thead>\n",
       "    <tr style=\"text-align: right;\">\n",
       "      <th></th>\n",
       "      <th>일자</th>\n",
       "      <th>요일</th>\n",
       "      <th>도로명</th>\n",
       "      <th>지점명</th>\n",
       "      <th>방향</th>\n",
       "      <th>시점명</th>\n",
       "      <th>종점명</th>\n",
       "      <th>00시</th>\n",
       "      <th>01시</th>\n",
       "      <th>02시</th>\n",
       "      <th>...</th>\n",
       "      <th>14시</th>\n",
       "      <th>15시</th>\n",
       "      <th>16시</th>\n",
       "      <th>17시</th>\n",
       "      <th>18시</th>\n",
       "      <th>19시</th>\n",
       "      <th>20시</th>\n",
       "      <th>21시</th>\n",
       "      <th>22시</th>\n",
       "      <th>23시</th>\n",
       "    </tr>\n",
       "  </thead>\n",
       "  <tbody>\n",
       "    <tr>\n",
       "      <th>0</th>\n",
       "      <td>2021-01-01</td>\n",
       "      <td>금</td>\n",
       "      <td>테크노파크로</td>\n",
       "      <td>한국생산기술연구원 맞은편</td>\n",
       "      <td>상행</td>\n",
       "      <td>한국생산기술연구원앞</td>\n",
       "      <td>미추홀타워입구</td>\n",
       "      <td>87</td>\n",
       "      <td>57</td>\n",
       "      <td>53</td>\n",
       "      <td>...</td>\n",
       "      <td>387</td>\n",
       "      <td>435</td>\n",
       "      <td>473</td>\n",
       "      <td>453</td>\n",
       "      <td>408</td>\n",
       "      <td>367</td>\n",
       "      <td>284</td>\n",
       "      <td>200</td>\n",
       "      <td>138</td>\n",
       "      <td>111</td>\n",
       "    </tr>\n",
       "    <tr>\n",
       "      <th>1</th>\n",
       "      <td>2021-01-02</td>\n",
       "      <td>토</td>\n",
       "      <td>테크노파크로</td>\n",
       "      <td>한국생산기술연구원 맞은편</td>\n",
       "      <td>상행</td>\n",
       "      <td>한국생산기술연구원앞</td>\n",
       "      <td>미추홀타워입구</td>\n",
       "      <td>69</td>\n",
       "      <td>26</td>\n",
       "      <td>23</td>\n",
       "      <td>...</td>\n",
       "      <td>514</td>\n",
       "      <td>579</td>\n",
       "      <td>522</td>\n",
       "      <td>546</td>\n",
       "      <td>518</td>\n",
       "      <td>427</td>\n",
       "      <td>303</td>\n",
       "      <td>249</td>\n",
       "      <td>205</td>\n",
       "      <td>91</td>\n",
       "    </tr>\n",
       "    <tr>\n",
       "      <th>2</th>\n",
       "      <td>2021-01-03</td>\n",
       "      <td>일</td>\n",
       "      <td>테크노파크로</td>\n",
       "      <td>한국생산기술연구원 맞은편</td>\n",
       "      <td>상행</td>\n",
       "      <td>한국생산기술연구원앞</td>\n",
       "      <td>미추홀타워입구</td>\n",
       "      <td>63</td>\n",
       "      <td>43</td>\n",
       "      <td>29</td>\n",
       "      <td>...</td>\n",
       "      <td>418</td>\n",
       "      <td>497</td>\n",
       "      <td>497</td>\n",
       "      <td>458</td>\n",
       "      <td>416</td>\n",
       "      <td>330</td>\n",
       "      <td>280</td>\n",
       "      <td>209</td>\n",
       "      <td>144</td>\n",
       "      <td>80</td>\n",
       "    </tr>\n",
       "    <tr>\n",
       "      <th>3</th>\n",
       "      <td>2021-01-04</td>\n",
       "      <td>월</td>\n",
       "      <td>테크노파크로</td>\n",
       "      <td>한국생산기술연구원 맞은편</td>\n",
       "      <td>상행</td>\n",
       "      <td>한국생산기술연구원앞</td>\n",
       "      <td>미추홀타워입구</td>\n",
       "      <td>50</td>\n",
       "      <td>34</td>\n",
       "      <td>22</td>\n",
       "      <td>...</td>\n",
       "      <td>395</td>\n",
       "      <td>424</td>\n",
       "      <td>410</td>\n",
       "      <td>455</td>\n",
       "      <td>592</td>\n",
       "      <td>534</td>\n",
       "      <td>423</td>\n",
       "      <td>288</td>\n",
       "      <td>187</td>\n",
       "      <td>113</td>\n",
       "    </tr>\n",
       "    <tr>\n",
       "      <th>4</th>\n",
       "      <td>2021-01-05</td>\n",
       "      <td>화</td>\n",
       "      <td>테크노파크로</td>\n",
       "      <td>한국생산기술연구원 맞은편</td>\n",
       "      <td>상행</td>\n",
       "      <td>한국생산기술연구원앞</td>\n",
       "      <td>미추홀타워입구</td>\n",
       "      <td>76</td>\n",
       "      <td>35</td>\n",
       "      <td>16</td>\n",
       "      <td>...</td>\n",
       "      <td>427</td>\n",
       "      <td>435</td>\n",
       "      <td>421</td>\n",
       "      <td>469</td>\n",
       "      <td>534</td>\n",
       "      <td>610</td>\n",
       "      <td>458</td>\n",
       "      <td>335</td>\n",
       "      <td>253</td>\n",
       "      <td>121</td>\n",
       "    </tr>\n",
       "    <tr>\n",
       "      <th>...</th>\n",
       "      <td>...</td>\n",
       "      <td>...</td>\n",
       "      <td>...</td>\n",
       "      <td>...</td>\n",
       "      <td>...</td>\n",
       "      <td>...</td>\n",
       "      <td>...</td>\n",
       "      <td>...</td>\n",
       "      <td>...</td>\n",
       "      <td>...</td>\n",
       "      <td>...</td>\n",
       "      <td>...</td>\n",
       "      <td>...</td>\n",
       "      <td>...</td>\n",
       "      <td>...</td>\n",
       "      <td>...</td>\n",
       "      <td>...</td>\n",
       "      <td>...</td>\n",
       "      <td>...</td>\n",
       "      <td>...</td>\n",
       "      <td>...</td>\n",
       "    </tr>\n",
       "    <tr>\n",
       "      <th>1435</th>\n",
       "      <td>2021-03-27</td>\n",
       "      <td>토</td>\n",
       "      <td>송도문화로</td>\n",
       "      <td>글로벌캠퍼스</td>\n",
       "      <td>상행</td>\n",
       "      <td>인천글로벌캠퍼스</td>\n",
       "      <td>송도에듀포레푸르지오</td>\n",
       "      <td>109</td>\n",
       "      <td>59</td>\n",
       "      <td>37</td>\n",
       "      <td>...</td>\n",
       "      <td>441</td>\n",
       "      <td>425</td>\n",
       "      <td>497</td>\n",
       "      <td>393</td>\n",
       "      <td>345</td>\n",
       "      <td>279</td>\n",
       "      <td>220</td>\n",
       "      <td>205</td>\n",
       "      <td>177</td>\n",
       "      <td>117</td>\n",
       "    </tr>\n",
       "    <tr>\n",
       "      <th>1436</th>\n",
       "      <td>2021-03-28</td>\n",
       "      <td>일</td>\n",
       "      <td>송도문화로</td>\n",
       "      <td>글로벌캠퍼스</td>\n",
       "      <td>상행</td>\n",
       "      <td>인천글로벌캠퍼스</td>\n",
       "      <td>송도에듀포레푸르지오</td>\n",
       "      <td>64</td>\n",
       "      <td>37</td>\n",
       "      <td>27</td>\n",
       "      <td>...</td>\n",
       "      <td>345</td>\n",
       "      <td>320</td>\n",
       "      <td>338</td>\n",
       "      <td>294</td>\n",
       "      <td>313</td>\n",
       "      <td>248</td>\n",
       "      <td>187</td>\n",
       "      <td>166</td>\n",
       "      <td>181</td>\n",
       "      <td>96</td>\n",
       "    </tr>\n",
       "    <tr>\n",
       "      <th>1437</th>\n",
       "      <td>2021-03-29</td>\n",
       "      <td>월</td>\n",
       "      <td>송도문화로</td>\n",
       "      <td>글로벌캠퍼스</td>\n",
       "      <td>상행</td>\n",
       "      <td>인천글로벌캠퍼스</td>\n",
       "      <td>송도에듀포레푸르지오</td>\n",
       "      <td>56</td>\n",
       "      <td>24</td>\n",
       "      <td>12</td>\n",
       "      <td>...</td>\n",
       "      <td>168</td>\n",
       "      <td>223</td>\n",
       "      <td>237</td>\n",
       "      <td>355</td>\n",
       "      <td>659</td>\n",
       "      <td>818</td>\n",
       "      <td>528</td>\n",
       "      <td>367</td>\n",
       "      <td>239</td>\n",
       "      <td>159</td>\n",
       "    </tr>\n",
       "    <tr>\n",
       "      <th>1438</th>\n",
       "      <td>2021-03-30</td>\n",
       "      <td>화</td>\n",
       "      <td>송도문화로</td>\n",
       "      <td>글로벌캠퍼스</td>\n",
       "      <td>상행</td>\n",
       "      <td>인천글로벌캠퍼스</td>\n",
       "      <td>송도에듀포레푸르지오</td>\n",
       "      <td>78</td>\n",
       "      <td>30</td>\n",
       "      <td>21</td>\n",
       "      <td>...</td>\n",
       "      <td>199</td>\n",
       "      <td>207</td>\n",
       "      <td>249</td>\n",
       "      <td>347</td>\n",
       "      <td>625</td>\n",
       "      <td>785</td>\n",
       "      <td>593</td>\n",
       "      <td>401</td>\n",
       "      <td>294</td>\n",
       "      <td>143</td>\n",
       "    </tr>\n",
       "    <tr>\n",
       "      <th>1439</th>\n",
       "      <td>2021-03-31</td>\n",
       "      <td>수</td>\n",
       "      <td>송도문화로</td>\n",
       "      <td>글로벌캠퍼스</td>\n",
       "      <td>상행</td>\n",
       "      <td>인천글로벌캠퍼스</td>\n",
       "      <td>송도에듀포레푸르지오</td>\n",
       "      <td>78</td>\n",
       "      <td>39</td>\n",
       "      <td>19</td>\n",
       "      <td>...</td>\n",
       "      <td>211</td>\n",
       "      <td>244</td>\n",
       "      <td>249</td>\n",
       "      <td>395</td>\n",
       "      <td>674</td>\n",
       "      <td>803</td>\n",
       "      <td>519</td>\n",
       "      <td>411</td>\n",
       "      <td>279</td>\n",
       "      <td>203</td>\n",
       "    </tr>\n",
       "  </tbody>\n",
       "</table>\n",
       "<p>1440 rows × 31 columns</p>\n",
       "</div>"
      ],
      "text/plain": [
       "              일자 요일     도로명            지점명  방향         시점명         종점명  00시  \\\n",
       "0     2021-01-01  금  테크노파크로  한국생산기술연구원 맞은편  상행  한국생산기술연구원앞     미추홀타워입구   87   \n",
       "1     2021-01-02  토  테크노파크로  한국생산기술연구원 맞은편  상행  한국생산기술연구원앞     미추홀타워입구   69   \n",
       "2     2021-01-03  일  테크노파크로  한국생산기술연구원 맞은편  상행  한국생산기술연구원앞     미추홀타워입구   63   \n",
       "3     2021-01-04  월  테크노파크로  한국생산기술연구원 맞은편  상행  한국생산기술연구원앞     미추홀타워입구   50   \n",
       "4     2021-01-05  화  테크노파크로  한국생산기술연구원 맞은편  상행  한국생산기술연구원앞     미추홀타워입구   76   \n",
       "...          ... ..     ...            ...  ..         ...         ...  ...   \n",
       "1435  2021-03-27  토   송도문화로         글로벌캠퍼스  상행    인천글로벌캠퍼스  송도에듀포레푸르지오  109   \n",
       "1436  2021-03-28  일   송도문화로         글로벌캠퍼스  상행    인천글로벌캠퍼스  송도에듀포레푸르지오   64   \n",
       "1437  2021-03-29  월   송도문화로         글로벌캠퍼스  상행    인천글로벌캠퍼스  송도에듀포레푸르지오   56   \n",
       "1438  2021-03-30  화   송도문화로         글로벌캠퍼스  상행    인천글로벌캠퍼스  송도에듀포레푸르지오   78   \n",
       "1439  2021-03-31  수   송도문화로         글로벌캠퍼스  상행    인천글로벌캠퍼스  송도에듀포레푸르지오   78   \n",
       "\n",
       "      01시  02시  ...  14시  15시  16시  17시  18시  19시  20시  21시  22시  23시  \n",
       "0      57   53  ...  387  435  473  453  408  367  284  200  138  111  \n",
       "1      26   23  ...  514  579  522  546  518  427  303  249  205   91  \n",
       "2      43   29  ...  418  497  497  458  416  330  280  209  144   80  \n",
       "3      34   22  ...  395  424  410  455  592  534  423  288  187  113  \n",
       "4      35   16  ...  427  435  421  469  534  610  458  335  253  121  \n",
       "...   ...  ...  ...  ...  ...  ...  ...  ...  ...  ...  ...  ...  ...  \n",
       "1435   59   37  ...  441  425  497  393  345  279  220  205  177  117  \n",
       "1436   37   27  ...  345  320  338  294  313  248  187  166  181   96  \n",
       "1437   24   12  ...  168  223  237  355  659  818  528  367  239  159  \n",
       "1438   30   21  ...  199  207  249  347  625  785  593  401  294  143  \n",
       "1439   39   19  ...  211  244  249  395  674  803  519  411  279  203  \n",
       "\n",
       "[1440 rows x 31 columns]"
      ]
     },
     "execution_count": 1022,
     "metadata": {},
     "output_type": "execute_result"
    }
   ],
   "source": [
    "df.drop(['링크아이디', '검지기아이디'], axis=1)"
   ]
  },
  {
   "cell_type": "code",
   "execution_count": 1023,
   "id": "e50e8ad3",
   "metadata": {},
   "outputs": [],
   "source": [
    "df.drop(['링크아이디', '검지기아이디'], axis=1, inplace=True)"
   ]
  },
  {
   "cell_type": "code",
   "execution_count": 1024,
   "id": "3cc1beba",
   "metadata": {},
   "outputs": [
    {
     "data": {
      "text/html": [
       "<div>\n",
       "<style scoped>\n",
       "    .dataframe tbody tr th:only-of-type {\n",
       "        vertical-align: middle;\n",
       "    }\n",
       "\n",
       "    .dataframe tbody tr th {\n",
       "        vertical-align: top;\n",
       "    }\n",
       "\n",
       "    .dataframe thead th {\n",
       "        text-align: right;\n",
       "    }\n",
       "</style>\n",
       "<table border=\"1\" class=\"dataframe\">\n",
       "  <thead>\n",
       "    <tr style=\"text-align: right;\">\n",
       "      <th></th>\n",
       "      <th>일자</th>\n",
       "      <th>요일</th>\n",
       "      <th>도로명</th>\n",
       "      <th>지점명</th>\n",
       "      <th>방향</th>\n",
       "      <th>시점명</th>\n",
       "      <th>종점명</th>\n",
       "      <th>00시</th>\n",
       "      <th>01시</th>\n",
       "      <th>02시</th>\n",
       "      <th>...</th>\n",
       "      <th>14시</th>\n",
       "      <th>15시</th>\n",
       "      <th>16시</th>\n",
       "      <th>17시</th>\n",
       "      <th>18시</th>\n",
       "      <th>19시</th>\n",
       "      <th>20시</th>\n",
       "      <th>21시</th>\n",
       "      <th>22시</th>\n",
       "      <th>23시</th>\n",
       "    </tr>\n",
       "  </thead>\n",
       "  <tbody>\n",
       "    <tr>\n",
       "      <th>0</th>\n",
       "      <td>2021-01-01</td>\n",
       "      <td>금</td>\n",
       "      <td>테크노파크로</td>\n",
       "      <td>한국생산기술연구원 맞은편</td>\n",
       "      <td>상행</td>\n",
       "      <td>한국생산기술연구원앞</td>\n",
       "      <td>미추홀타워입구</td>\n",
       "      <td>87</td>\n",
       "      <td>57</td>\n",
       "      <td>53</td>\n",
       "      <td>...</td>\n",
       "      <td>387</td>\n",
       "      <td>435</td>\n",
       "      <td>473</td>\n",
       "      <td>453</td>\n",
       "      <td>408</td>\n",
       "      <td>367</td>\n",
       "      <td>284</td>\n",
       "      <td>200</td>\n",
       "      <td>138</td>\n",
       "      <td>111</td>\n",
       "    </tr>\n",
       "    <tr>\n",
       "      <th>1</th>\n",
       "      <td>2021-01-02</td>\n",
       "      <td>토</td>\n",
       "      <td>테크노파크로</td>\n",
       "      <td>한국생산기술연구원 맞은편</td>\n",
       "      <td>상행</td>\n",
       "      <td>한국생산기술연구원앞</td>\n",
       "      <td>미추홀타워입구</td>\n",
       "      <td>69</td>\n",
       "      <td>26</td>\n",
       "      <td>23</td>\n",
       "      <td>...</td>\n",
       "      <td>514</td>\n",
       "      <td>579</td>\n",
       "      <td>522</td>\n",
       "      <td>546</td>\n",
       "      <td>518</td>\n",
       "      <td>427</td>\n",
       "      <td>303</td>\n",
       "      <td>249</td>\n",
       "      <td>205</td>\n",
       "      <td>91</td>\n",
       "    </tr>\n",
       "    <tr>\n",
       "      <th>2</th>\n",
       "      <td>2021-01-03</td>\n",
       "      <td>일</td>\n",
       "      <td>테크노파크로</td>\n",
       "      <td>한국생산기술연구원 맞은편</td>\n",
       "      <td>상행</td>\n",
       "      <td>한국생산기술연구원앞</td>\n",
       "      <td>미추홀타워입구</td>\n",
       "      <td>63</td>\n",
       "      <td>43</td>\n",
       "      <td>29</td>\n",
       "      <td>...</td>\n",
       "      <td>418</td>\n",
       "      <td>497</td>\n",
       "      <td>497</td>\n",
       "      <td>458</td>\n",
       "      <td>416</td>\n",
       "      <td>330</td>\n",
       "      <td>280</td>\n",
       "      <td>209</td>\n",
       "      <td>144</td>\n",
       "      <td>80</td>\n",
       "    </tr>\n",
       "    <tr>\n",
       "      <th>3</th>\n",
       "      <td>2021-01-04</td>\n",
       "      <td>월</td>\n",
       "      <td>테크노파크로</td>\n",
       "      <td>한국생산기술연구원 맞은편</td>\n",
       "      <td>상행</td>\n",
       "      <td>한국생산기술연구원앞</td>\n",
       "      <td>미추홀타워입구</td>\n",
       "      <td>50</td>\n",
       "      <td>34</td>\n",
       "      <td>22</td>\n",
       "      <td>...</td>\n",
       "      <td>395</td>\n",
       "      <td>424</td>\n",
       "      <td>410</td>\n",
       "      <td>455</td>\n",
       "      <td>592</td>\n",
       "      <td>534</td>\n",
       "      <td>423</td>\n",
       "      <td>288</td>\n",
       "      <td>187</td>\n",
       "      <td>113</td>\n",
       "    </tr>\n",
       "    <tr>\n",
       "      <th>4</th>\n",
       "      <td>2021-01-05</td>\n",
       "      <td>화</td>\n",
       "      <td>테크노파크로</td>\n",
       "      <td>한국생산기술연구원 맞은편</td>\n",
       "      <td>상행</td>\n",
       "      <td>한국생산기술연구원앞</td>\n",
       "      <td>미추홀타워입구</td>\n",
       "      <td>76</td>\n",
       "      <td>35</td>\n",
       "      <td>16</td>\n",
       "      <td>...</td>\n",
       "      <td>427</td>\n",
       "      <td>435</td>\n",
       "      <td>421</td>\n",
       "      <td>469</td>\n",
       "      <td>534</td>\n",
       "      <td>610</td>\n",
       "      <td>458</td>\n",
       "      <td>335</td>\n",
       "      <td>253</td>\n",
       "      <td>121</td>\n",
       "    </tr>\n",
       "    <tr>\n",
       "      <th>...</th>\n",
       "      <td>...</td>\n",
       "      <td>...</td>\n",
       "      <td>...</td>\n",
       "      <td>...</td>\n",
       "      <td>...</td>\n",
       "      <td>...</td>\n",
       "      <td>...</td>\n",
       "      <td>...</td>\n",
       "      <td>...</td>\n",
       "      <td>...</td>\n",
       "      <td>...</td>\n",
       "      <td>...</td>\n",
       "      <td>...</td>\n",
       "      <td>...</td>\n",
       "      <td>...</td>\n",
       "      <td>...</td>\n",
       "      <td>...</td>\n",
       "      <td>...</td>\n",
       "      <td>...</td>\n",
       "      <td>...</td>\n",
       "      <td>...</td>\n",
       "    </tr>\n",
       "    <tr>\n",
       "      <th>1435</th>\n",
       "      <td>2021-03-27</td>\n",
       "      <td>토</td>\n",
       "      <td>송도문화로</td>\n",
       "      <td>글로벌캠퍼스</td>\n",
       "      <td>상행</td>\n",
       "      <td>인천글로벌캠퍼스</td>\n",
       "      <td>송도에듀포레푸르지오</td>\n",
       "      <td>109</td>\n",
       "      <td>59</td>\n",
       "      <td>37</td>\n",
       "      <td>...</td>\n",
       "      <td>441</td>\n",
       "      <td>425</td>\n",
       "      <td>497</td>\n",
       "      <td>393</td>\n",
       "      <td>345</td>\n",
       "      <td>279</td>\n",
       "      <td>220</td>\n",
       "      <td>205</td>\n",
       "      <td>177</td>\n",
       "      <td>117</td>\n",
       "    </tr>\n",
       "    <tr>\n",
       "      <th>1436</th>\n",
       "      <td>2021-03-28</td>\n",
       "      <td>일</td>\n",
       "      <td>송도문화로</td>\n",
       "      <td>글로벌캠퍼스</td>\n",
       "      <td>상행</td>\n",
       "      <td>인천글로벌캠퍼스</td>\n",
       "      <td>송도에듀포레푸르지오</td>\n",
       "      <td>64</td>\n",
       "      <td>37</td>\n",
       "      <td>27</td>\n",
       "      <td>...</td>\n",
       "      <td>345</td>\n",
       "      <td>320</td>\n",
       "      <td>338</td>\n",
       "      <td>294</td>\n",
       "      <td>313</td>\n",
       "      <td>248</td>\n",
       "      <td>187</td>\n",
       "      <td>166</td>\n",
       "      <td>181</td>\n",
       "      <td>96</td>\n",
       "    </tr>\n",
       "    <tr>\n",
       "      <th>1437</th>\n",
       "      <td>2021-03-29</td>\n",
       "      <td>월</td>\n",
       "      <td>송도문화로</td>\n",
       "      <td>글로벌캠퍼스</td>\n",
       "      <td>상행</td>\n",
       "      <td>인천글로벌캠퍼스</td>\n",
       "      <td>송도에듀포레푸르지오</td>\n",
       "      <td>56</td>\n",
       "      <td>24</td>\n",
       "      <td>12</td>\n",
       "      <td>...</td>\n",
       "      <td>168</td>\n",
       "      <td>223</td>\n",
       "      <td>237</td>\n",
       "      <td>355</td>\n",
       "      <td>659</td>\n",
       "      <td>818</td>\n",
       "      <td>528</td>\n",
       "      <td>367</td>\n",
       "      <td>239</td>\n",
       "      <td>159</td>\n",
       "    </tr>\n",
       "    <tr>\n",
       "      <th>1438</th>\n",
       "      <td>2021-03-30</td>\n",
       "      <td>화</td>\n",
       "      <td>송도문화로</td>\n",
       "      <td>글로벌캠퍼스</td>\n",
       "      <td>상행</td>\n",
       "      <td>인천글로벌캠퍼스</td>\n",
       "      <td>송도에듀포레푸르지오</td>\n",
       "      <td>78</td>\n",
       "      <td>30</td>\n",
       "      <td>21</td>\n",
       "      <td>...</td>\n",
       "      <td>199</td>\n",
       "      <td>207</td>\n",
       "      <td>249</td>\n",
       "      <td>347</td>\n",
       "      <td>625</td>\n",
       "      <td>785</td>\n",
       "      <td>593</td>\n",
       "      <td>401</td>\n",
       "      <td>294</td>\n",
       "      <td>143</td>\n",
       "    </tr>\n",
       "    <tr>\n",
       "      <th>1439</th>\n",
       "      <td>2021-03-31</td>\n",
       "      <td>수</td>\n",
       "      <td>송도문화로</td>\n",
       "      <td>글로벌캠퍼스</td>\n",
       "      <td>상행</td>\n",
       "      <td>인천글로벌캠퍼스</td>\n",
       "      <td>송도에듀포레푸르지오</td>\n",
       "      <td>78</td>\n",
       "      <td>39</td>\n",
       "      <td>19</td>\n",
       "      <td>...</td>\n",
       "      <td>211</td>\n",
       "      <td>244</td>\n",
       "      <td>249</td>\n",
       "      <td>395</td>\n",
       "      <td>674</td>\n",
       "      <td>803</td>\n",
       "      <td>519</td>\n",
       "      <td>411</td>\n",
       "      <td>279</td>\n",
       "      <td>203</td>\n",
       "    </tr>\n",
       "  </tbody>\n",
       "</table>\n",
       "<p>1440 rows × 31 columns</p>\n",
       "</div>"
      ],
      "text/plain": [
       "              일자 요일     도로명            지점명  방향         시점명         종점명  00시  \\\n",
       "0     2021-01-01  금  테크노파크로  한국생산기술연구원 맞은편  상행  한국생산기술연구원앞     미추홀타워입구   87   \n",
       "1     2021-01-02  토  테크노파크로  한국생산기술연구원 맞은편  상행  한국생산기술연구원앞     미추홀타워입구   69   \n",
       "2     2021-01-03  일  테크노파크로  한국생산기술연구원 맞은편  상행  한국생산기술연구원앞     미추홀타워입구   63   \n",
       "3     2021-01-04  월  테크노파크로  한국생산기술연구원 맞은편  상행  한국생산기술연구원앞     미추홀타워입구   50   \n",
       "4     2021-01-05  화  테크노파크로  한국생산기술연구원 맞은편  상행  한국생산기술연구원앞     미추홀타워입구   76   \n",
       "...          ... ..     ...            ...  ..         ...         ...  ...   \n",
       "1435  2021-03-27  토   송도문화로         글로벌캠퍼스  상행    인천글로벌캠퍼스  송도에듀포레푸르지오  109   \n",
       "1436  2021-03-28  일   송도문화로         글로벌캠퍼스  상행    인천글로벌캠퍼스  송도에듀포레푸르지오   64   \n",
       "1437  2021-03-29  월   송도문화로         글로벌캠퍼스  상행    인천글로벌캠퍼스  송도에듀포레푸르지오   56   \n",
       "1438  2021-03-30  화   송도문화로         글로벌캠퍼스  상행    인천글로벌캠퍼스  송도에듀포레푸르지오   78   \n",
       "1439  2021-03-31  수   송도문화로         글로벌캠퍼스  상행    인천글로벌캠퍼스  송도에듀포레푸르지오   78   \n",
       "\n",
       "      01시  02시  ...  14시  15시  16시  17시  18시  19시  20시  21시  22시  23시  \n",
       "0      57   53  ...  387  435  473  453  408  367  284  200  138  111  \n",
       "1      26   23  ...  514  579  522  546  518  427  303  249  205   91  \n",
       "2      43   29  ...  418  497  497  458  416  330  280  209  144   80  \n",
       "3      34   22  ...  395  424  410  455  592  534  423  288  187  113  \n",
       "4      35   16  ...  427  435  421  469  534  610  458  335  253  121  \n",
       "...   ...  ...  ...  ...  ...  ...  ...  ...  ...  ...  ...  ...  ...  \n",
       "1435   59   37  ...  441  425  497  393  345  279  220  205  177  117  \n",
       "1436   37   27  ...  345  320  338  294  313  248  187  166  181   96  \n",
       "1437   24   12  ...  168  223  237  355  659  818  528  367  239  159  \n",
       "1438   30   21  ...  199  207  249  347  625  785  593  401  294  143  \n",
       "1439   39   19  ...  211  244  249  395  674  803  519  411  279  203  \n",
       "\n",
       "[1440 rows x 31 columns]"
      ]
     },
     "execution_count": 1024,
     "metadata": {},
     "output_type": "execute_result"
    }
   ],
   "source": [
    "df"
   ]
  },
  {
   "cell_type": "code",
   "execution_count": 1025,
   "id": "a5f5fb0d",
   "metadata": {},
   "outputs": [],
   "source": [
    "hour_columns = [f\"{str(i).zfill(2)}시\" for i in range(24)]\n",
    "df['총교통량'] = df[hour_columns].sum(axis=1)\n",
    "\n"
   ]
  },
  {
   "cell_type": "code",
   "execution_count": 1026,
   "id": "8b0ef65d",
   "metadata": {},
   "outputs": [],
   "source": [
    "hour_columns = []   # 빈 리스트 만들기\n",
    "\n",
    "for i in range(24):\n",
    "    hour = str(i).zfill(2) + \"시\"   # 0~9는 앞에 0 붙이고 \"시\" 추가\n",
    "    hour_columns.append(hour)      # 리스트에 하나씩 추가\n"
   ]
  },
  {
   "cell_type": "code",
   "execution_count": 1027,
   "id": "80c0d151",
   "metadata": {},
   "outputs": [
    {
     "data": {
      "text/plain": [
       "['00시',\n",
       " '01시',\n",
       " '02시',\n",
       " '03시',\n",
       " '04시',\n",
       " '05시',\n",
       " '06시',\n",
       " '07시',\n",
       " '08시',\n",
       " '09시',\n",
       " '10시',\n",
       " '11시',\n",
       " '12시',\n",
       " '13시',\n",
       " '14시',\n",
       " '15시',\n",
       " '16시',\n",
       " '17시',\n",
       " '18시',\n",
       " '19시',\n",
       " '20시',\n",
       " '21시',\n",
       " '22시',\n",
       " '23시']"
      ]
     },
     "execution_count": 1027,
     "metadata": {},
     "output_type": "execute_result"
    }
   ],
   "source": [
    "hour_columns"
   ]
  },
  {
   "cell_type": "code",
   "execution_count": 1028,
   "id": "f086b27f",
   "metadata": {},
   "outputs": [
    {
     "data": {
      "text/plain": [
       "0       4767\n",
       "1       5983\n",
       "2       4939\n",
       "3       6887\n",
       "4       7195\n",
       "        ... \n",
       "1435    4843\n",
       "1436    3633\n",
       "1437    5282\n",
       "1438    5380\n",
       "1439    5611\n",
       "Name: 총교통량, Length: 1440, dtype: int64"
      ]
     },
     "execution_count": 1028,
     "metadata": {},
     "output_type": "execute_result"
    }
   ],
   "source": [
    "df['총교통량']"
   ]
  },
  {
   "cell_type": "code",
   "execution_count": 1029,
   "id": "af46512e",
   "metadata": {},
   "outputs": [],
   "source": [
    "df['교통정체'] = (df['총교통량']>7000)"
   ]
  },
  {
   "cell_type": "code",
   "execution_count": 1030,
   "id": "e85754e3",
   "metadata": {},
   "outputs": [
    {
     "data": {
      "text/html": [
       "<div>\n",
       "<style scoped>\n",
       "    .dataframe tbody tr th:only-of-type {\n",
       "        vertical-align: middle;\n",
       "    }\n",
       "\n",
       "    .dataframe tbody tr th {\n",
       "        vertical-align: top;\n",
       "    }\n",
       "\n",
       "    .dataframe thead th {\n",
       "        text-align: right;\n",
       "    }\n",
       "</style>\n",
       "<table border=\"1\" class=\"dataframe\">\n",
       "  <thead>\n",
       "    <tr style=\"text-align: right;\">\n",
       "      <th></th>\n",
       "      <th>일자</th>\n",
       "      <th>요일</th>\n",
       "      <th>도로명</th>\n",
       "      <th>지점명</th>\n",
       "      <th>방향</th>\n",
       "      <th>시점명</th>\n",
       "      <th>종점명</th>\n",
       "      <th>00시</th>\n",
       "      <th>01시</th>\n",
       "      <th>02시</th>\n",
       "      <th>...</th>\n",
       "      <th>16시</th>\n",
       "      <th>17시</th>\n",
       "      <th>18시</th>\n",
       "      <th>19시</th>\n",
       "      <th>20시</th>\n",
       "      <th>21시</th>\n",
       "      <th>22시</th>\n",
       "      <th>23시</th>\n",
       "      <th>총교통량</th>\n",
       "      <th>교통정체</th>\n",
       "    </tr>\n",
       "  </thead>\n",
       "  <tbody>\n",
       "    <tr>\n",
       "      <th>0</th>\n",
       "      <td>2021-01-01</td>\n",
       "      <td>금</td>\n",
       "      <td>테크노파크로</td>\n",
       "      <td>한국생산기술연구원 맞은편</td>\n",
       "      <td>상행</td>\n",
       "      <td>한국생산기술연구원앞</td>\n",
       "      <td>미추홀타워입구</td>\n",
       "      <td>87</td>\n",
       "      <td>57</td>\n",
       "      <td>53</td>\n",
       "      <td>...</td>\n",
       "      <td>473</td>\n",
       "      <td>453</td>\n",
       "      <td>408</td>\n",
       "      <td>367</td>\n",
       "      <td>284</td>\n",
       "      <td>200</td>\n",
       "      <td>138</td>\n",
       "      <td>111</td>\n",
       "      <td>4767</td>\n",
       "      <td>False</td>\n",
       "    </tr>\n",
       "    <tr>\n",
       "      <th>1</th>\n",
       "      <td>2021-01-02</td>\n",
       "      <td>토</td>\n",
       "      <td>테크노파크로</td>\n",
       "      <td>한국생산기술연구원 맞은편</td>\n",
       "      <td>상행</td>\n",
       "      <td>한국생산기술연구원앞</td>\n",
       "      <td>미추홀타워입구</td>\n",
       "      <td>69</td>\n",
       "      <td>26</td>\n",
       "      <td>23</td>\n",
       "      <td>...</td>\n",
       "      <td>522</td>\n",
       "      <td>546</td>\n",
       "      <td>518</td>\n",
       "      <td>427</td>\n",
       "      <td>303</td>\n",
       "      <td>249</td>\n",
       "      <td>205</td>\n",
       "      <td>91</td>\n",
       "      <td>5983</td>\n",
       "      <td>False</td>\n",
       "    </tr>\n",
       "    <tr>\n",
       "      <th>2</th>\n",
       "      <td>2021-01-03</td>\n",
       "      <td>일</td>\n",
       "      <td>테크노파크로</td>\n",
       "      <td>한국생산기술연구원 맞은편</td>\n",
       "      <td>상행</td>\n",
       "      <td>한국생산기술연구원앞</td>\n",
       "      <td>미추홀타워입구</td>\n",
       "      <td>63</td>\n",
       "      <td>43</td>\n",
       "      <td>29</td>\n",
       "      <td>...</td>\n",
       "      <td>497</td>\n",
       "      <td>458</td>\n",
       "      <td>416</td>\n",
       "      <td>330</td>\n",
       "      <td>280</td>\n",
       "      <td>209</td>\n",
       "      <td>144</td>\n",
       "      <td>80</td>\n",
       "      <td>4939</td>\n",
       "      <td>False</td>\n",
       "    </tr>\n",
       "    <tr>\n",
       "      <th>3</th>\n",
       "      <td>2021-01-04</td>\n",
       "      <td>월</td>\n",
       "      <td>테크노파크로</td>\n",
       "      <td>한국생산기술연구원 맞은편</td>\n",
       "      <td>상행</td>\n",
       "      <td>한국생산기술연구원앞</td>\n",
       "      <td>미추홀타워입구</td>\n",
       "      <td>50</td>\n",
       "      <td>34</td>\n",
       "      <td>22</td>\n",
       "      <td>...</td>\n",
       "      <td>410</td>\n",
       "      <td>455</td>\n",
       "      <td>592</td>\n",
       "      <td>534</td>\n",
       "      <td>423</td>\n",
       "      <td>288</td>\n",
       "      <td>187</td>\n",
       "      <td>113</td>\n",
       "      <td>6887</td>\n",
       "      <td>False</td>\n",
       "    </tr>\n",
       "    <tr>\n",
       "      <th>4</th>\n",
       "      <td>2021-01-05</td>\n",
       "      <td>화</td>\n",
       "      <td>테크노파크로</td>\n",
       "      <td>한국생산기술연구원 맞은편</td>\n",
       "      <td>상행</td>\n",
       "      <td>한국생산기술연구원앞</td>\n",
       "      <td>미추홀타워입구</td>\n",
       "      <td>76</td>\n",
       "      <td>35</td>\n",
       "      <td>16</td>\n",
       "      <td>...</td>\n",
       "      <td>421</td>\n",
       "      <td>469</td>\n",
       "      <td>534</td>\n",
       "      <td>610</td>\n",
       "      <td>458</td>\n",
       "      <td>335</td>\n",
       "      <td>253</td>\n",
       "      <td>121</td>\n",
       "      <td>7195</td>\n",
       "      <td>True</td>\n",
       "    </tr>\n",
       "  </tbody>\n",
       "</table>\n",
       "<p>5 rows × 33 columns</p>\n",
       "</div>"
      ],
      "text/plain": [
       "           일자 요일     도로명            지점명  방향         시점명      종점명  00시  01시  \\\n",
       "0  2021-01-01  금  테크노파크로  한국생산기술연구원 맞은편  상행  한국생산기술연구원앞  미추홀타워입구   87   57   \n",
       "1  2021-01-02  토  테크노파크로  한국생산기술연구원 맞은편  상행  한국생산기술연구원앞  미추홀타워입구   69   26   \n",
       "2  2021-01-03  일  테크노파크로  한국생산기술연구원 맞은편  상행  한국생산기술연구원앞  미추홀타워입구   63   43   \n",
       "3  2021-01-04  월  테크노파크로  한국생산기술연구원 맞은편  상행  한국생산기술연구원앞  미추홀타워입구   50   34   \n",
       "4  2021-01-05  화  테크노파크로  한국생산기술연구원 맞은편  상행  한국생산기술연구원앞  미추홀타워입구   76   35   \n",
       "\n",
       "   02시  ...  16시  17시  18시  19시  20시  21시  22시  23시  총교통량   교통정체  \n",
       "0   53  ...  473  453  408  367  284  200  138  111  4767  False  \n",
       "1   23  ...  522  546  518  427  303  249  205   91  5983  False  \n",
       "2   29  ...  497  458  416  330  280  209  144   80  4939  False  \n",
       "3   22  ...  410  455  592  534  423  288  187  113  6887  False  \n",
       "4   16  ...  421  469  534  610  458  335  253  121  7195   True  \n",
       "\n",
       "[5 rows x 33 columns]"
      ]
     },
     "execution_count": 1030,
     "metadata": {},
     "output_type": "execute_result"
    }
   ],
   "source": [
    "df.head()"
   ]
  },
  {
   "cell_type": "code",
   "execution_count": 1031,
   "id": "71e2422f",
   "metadata": {},
   "outputs": [],
   "source": [
    "plt.rcParams['font.family'] = 'Malgun Gothic'"
   ]
  },
  {
   "cell_type": "code",
   "execution_count": 1032,
   "id": "9b1851cd",
   "metadata": {},
   "outputs": [],
   "source": [
    "plt.rcParams['axes.unicode_minus'] = False  # 음수 기호 표시를 위한 설정"
   ]
  },
  {
   "cell_type": "code",
   "execution_count": 1033,
   "id": "8ad1a839",
   "metadata": {},
   "outputs": [
    {
     "data": {
      "text/plain": [
       "<Figure size 1200x600 with 0 Axes>"
      ]
     },
     "execution_count": 1033,
     "metadata": {},
     "output_type": "execute_result"
    },
    {
     "data": {
      "text/plain": [
       "<Figure size 1200x600 with 0 Axes>"
      ]
     },
     "metadata": {},
     "output_type": "display_data"
    }
   ],
   "source": [
    "plt.figure(figsize=(12,6))"
   ]
  },
  {
   "cell_type": "code",
   "execution_count": null,
   "id": "f1ccb6fa",
   "metadata": {},
   "outputs": [
    {
     "data": {
      "image/png": "[encoded data removed]",
      "text/plain": [
       "<Figure size 1200x600 with 1 Axes>"
      ]
     },
     "metadata": {},
     "output_type": "display_data"
    }
   ],
   "source": [
    "plt.rcParams['font.family'] = 'Malgun Gothic'\n",
    "plt.rcParams['axes.unicode_minus'] = False  # 음수 기호 표시를 위한 설정\n",
    "plt.figure(figsize=(12,6))\n",
    "plt.bar(df['도로명'], df['총교통량'], color='skyblue')\n",
    "plt.title('도로별 총교통량', fontsize=16)\n",
    "plt.show()"
   ]
  },
  {
   "cell_type": "code",
   "execution_count": 1035,
   "id": "d27e6a13",
   "metadata": {},
   "outputs": [
    {
     "data": {
      "text/plain": [
       "Text(0.5, 1.0, '도로별 총교통량')"
      ]
     },
     "execution_count": 1035,
     "metadata": {},
     "output_type": "execute_result"
    },
    {
     "name": "stderr",
     "output_type": "stream",
     "text": [
      "findfont: Font family 'AppleGothic' not found.\n",
      "findfont: Font family 'AppleGothic' not found.\n",
      "findfont: Font family 'AppleGothic' not found.\n",
      "findfont: Font family 'AppleGothic' not found.\n",
      "findfont: Font family 'AppleGothic' not found.\n",
      "findfont: Font family 'AppleGothic' not found.\n",
      "findfont: Font family 'AppleGothic' not found.\n",
      "findfont: Font family 'AppleGothic' not found.\n",
      "findfont: Font family 'AppleGothic' not found.\n",
      "c:\\Users\\LG\\Desktop\\project\\POSCO-Holdings\\new_env\\Lib\\site-packages\\IPython\\core\\events.py:82: UserWarning: Glyph 46020 (\\N{HANGUL SYLLABLE DO}) missing from font(s) DejaVu Sans.\n",
      "  func(*args, **kwargs)\n",
      "c:\\Users\\LG\\Desktop\\project\\POSCO-Holdings\\new_env\\Lib\\site-packages\\IPython\\core\\events.py:82: UserWarning: Glyph 47196 (\\N{HANGUL SYLLABLE RO}) missing from font(s) DejaVu Sans.\n",
      "  func(*args, **kwargs)\n",
      "c:\\Users\\LG\\Desktop\\project\\POSCO-Holdings\\new_env\\Lib\\site-packages\\IPython\\core\\events.py:82: UserWarning: Glyph 48324 (\\N{HANGUL SYLLABLE BYEOL}) missing from font(s) DejaVu Sans.\n",
      "  func(*args, **kwargs)\n",
      "c:\\Users\\LG\\Desktop\\project\\POSCO-Holdings\\new_env\\Lib\\site-packages\\IPython\\core\\events.py:82: UserWarning: Glyph 52509 (\\N{HANGUL SYLLABLE CONG}) missing from font(s) DejaVu Sans.\n",
      "  func(*args, **kwargs)\n",
      "c:\\Users\\LG\\Desktop\\project\\POSCO-Holdings\\new_env\\Lib\\site-packages\\IPython\\core\\events.py:82: UserWarning: Glyph 44368 (\\N{HANGUL SYLLABLE GYO}) missing from font(s) DejaVu Sans.\n",
      "  func(*args, **kwargs)\n",
      "c:\\Users\\LG\\Desktop\\project\\POSCO-Holdings\\new_env\\Lib\\site-packages\\IPython\\core\\events.py:82: UserWarning: Glyph 53685 (\\N{HANGUL SYLLABLE TONG}) missing from font(s) DejaVu Sans.\n",
      "  func(*args, **kwargs)\n",
      "c:\\Users\\LG\\Desktop\\project\\POSCO-Holdings\\new_env\\Lib\\site-packages\\IPython\\core\\events.py:82: UserWarning: Glyph 47049 (\\N{HANGUL SYLLABLE RYANG}) missing from font(s) DejaVu Sans.\n",
      "  func(*args, **kwargs)\n",
      "findfont: Font family 'AppleGothic' not found.\n",
      "findfont: Font family 'AppleGothic' not found.\n",
      "findfont: Font family 'AppleGothic' not found.\n",
      "findfont: Font family 'AppleGothic' not found.\n",
      "findfont: Font family 'AppleGothic' not found.\n",
      "findfont: Font family 'AppleGothic' not found.\n",
      "findfont: Font family 'AppleGothic' not found.\n",
      "findfont: Font family 'AppleGothic' not found.\n",
      "findfont: Font family 'AppleGothic' not found.\n",
      "findfont: Font family 'AppleGothic' not found.\n",
      "findfont: Font family 'AppleGothic' not found.\n",
      "findfont: Font family 'AppleGothic' not found.\n",
      "findfont: Font family 'AppleGothic' not found.\n",
      "findfont: Font family 'AppleGothic' not found.\n",
      "findfont: Font family 'AppleGothic' not found.\n",
      "findfont: Font family 'AppleGothic' not found.\n",
      "findfont: Font family 'AppleGothic' not found.\n",
      "findfont: Font family 'AppleGothic' not found.\n",
      "findfont: Font family 'AppleGothic' not found.\n",
      "findfont: Font family 'AppleGothic' not found.\n",
      "findfont: Font family 'AppleGothic' not found.\n",
      "findfont: Font family 'AppleGothic' not found.\n",
      "findfont: Font family 'AppleGothic' not found.\n",
      "findfont: Font family 'AppleGothic' not found.\n",
      "findfont: Font family 'AppleGothic' not found.\n",
      "findfont: Font family 'AppleGothic' not found.\n",
      "findfont: Font family 'AppleGothic' not found.\n",
      "findfont: Font family 'AppleGothic' not found.\n",
      "findfont: Font family 'AppleGothic' not found.\n",
      "findfont: Font family 'AppleGothic' not found.\n",
      "findfont: Font family 'AppleGothic' not found.\n",
      "findfont: Font family 'AppleGothic' not found.\n",
      "findfont: Font family 'AppleGothic' not found.\n",
      "findfont: Font family 'AppleGothic' not found.\n",
      "findfont: Font family 'AppleGothic' not found.\n"
     ]
    },
    {
     "data": {
      "image/png": "[encoded data removed]",
      "text/plain": [
       "<Figure size 640x480 with 1 Axes>"
      ]
     },
     "metadata": {},
     "output_type": "display_data"
    }
   ],
   "source": [
    "plt.title('도로별 총교통량', fontsize=16)"
   ]
  },
  {
   "cell_type": "code",
   "execution_count": 1036,
   "id": "c1138467",
   "metadata": {},
   "outputs": [],
   "source": [
    "plt.show()"
   ]
  },
  {
   "cell_type": "code",
   "execution_count": 1037,
   "id": "4f83c398",
   "metadata": {},
   "outputs": [],
   "source": [
    "hour_by_road = df.groupby('도로명')[hour_columns].mean()"
   ]
  },
  {
   "cell_type": "code",
   "execution_count": 1038,
   "id": "921c5d36",
   "metadata": {},
   "outputs": [
    {
     "name": "stderr",
     "output_type": "stream",
     "text": [
      "findfont: Font family 'AppleGothic' not found.\n",
      "findfont: Font family 'AppleGothic' not found.\n",
      "findfont: Font family 'AppleGothic' not found.\n",
      "findfont: Font family 'AppleGothic' not found.\n",
      "findfont: Font family 'AppleGothic' not found.\n",
      "findfont: Font family 'AppleGothic' not found.\n",
      "findfont: Font family 'AppleGothic' not found.\n"
     ]
    },
    {
     "name": "stderr",
     "output_type": "stream",
     "text": [
      "findfont: Font family 'AppleGothic' not found.\n",
      "c:\\Users\\LG\\Desktop\\project\\POSCO-Holdings\\new_env\\Lib\\site-packages\\IPython\\core\\pylabtools.py:170: UserWarning: Glyph 44368 (\\N{HANGUL SYLLABLE GYO}) missing from font(s) DejaVu Sans.\n",
      "  fig.canvas.print_figure(bytes_io, **kw)\n",
      "c:\\Users\\LG\\Desktop\\project\\POSCO-Holdings\\new_env\\Lib\\site-packages\\IPython\\core\\pylabtools.py:170: UserWarning: Glyph 53685 (\\N{HANGUL SYLLABLE TONG}) missing from font(s) DejaVu Sans.\n",
      "  fig.canvas.print_figure(bytes_io, **kw)\n",
      "c:\\Users\\LG\\Desktop\\project\\POSCO-Holdings\\new_env\\Lib\\site-packages\\IPython\\core\\pylabtools.py:170: UserWarning: Glyph 47049 (\\N{HANGUL SYLLABLE RYANG}) missing from font(s) DejaVu Sans.\n",
      "  fig.canvas.print_figure(bytes_io, **kw)\n",
      "findfont: Font family 'AppleGothic' not found.\n",
      "findfont: Font family 'AppleGothic' not found.\n",
      "c:\\Users\\LG\\Desktop\\project\\POSCO-Holdings\\new_env\\Lib\\site-packages\\IPython\\core\\pylabtools.py:170: UserWarning: Glyph 46020 (\\N{HANGUL SYLLABLE DO}) missing from font(s) DejaVu Sans.\n",
      "  fig.canvas.print_figure(bytes_io, **kw)\n",
      "c:\\Users\\LG\\Desktop\\project\\POSCO-Holdings\\new_env\\Lib\\site-packages\\IPython\\core\\pylabtools.py:170: UserWarning: Glyph 47196 (\\N{HANGUL SYLLABLE RO}) missing from font(s) DejaVu Sans.\n",
      "  fig.canvas.print_figure(bytes_io, **kw)\n",
      "c:\\Users\\LG\\Desktop\\project\\POSCO-Holdings\\new_env\\Lib\\site-packages\\IPython\\core\\pylabtools.py:170: UserWarning: Glyph 48324 (\\N{HANGUL SYLLABLE BYEOL}) missing from font(s) DejaVu Sans.\n",
      "  fig.canvas.print_figure(bytes_io, **kw)\n",
      "c:\\Users\\LG\\Desktop\\project\\POSCO-Holdings\\new_env\\Lib\\site-packages\\IPython\\core\\pylabtools.py:170: UserWarning: Glyph 49884 (\\N{HANGUL SYLLABLE SI}) missing from font(s) DejaVu Sans.\n",
      "  fig.canvas.print_figure(bytes_io, **kw)\n",
      "c:\\Users\\LG\\Desktop\\project\\POSCO-Holdings\\new_env\\Lib\\site-packages\\IPython\\core\\pylabtools.py:170: UserWarning: Glyph 44036 (\\N{HANGUL SYLLABLE GAN}) missing from font(s) DejaVu Sans.\n",
      "  fig.canvas.print_figure(bytes_io, **kw)\n",
      "c:\\Users\\LG\\Desktop\\project\\POSCO-Holdings\\new_env\\Lib\\site-packages\\IPython\\core\\pylabtools.py:170: UserWarning: Glyph 45824 (\\N{HANGUL SYLLABLE DAE}) missing from font(s) DejaVu Sans.\n",
      "  fig.canvas.print_figure(bytes_io, **kw)\n",
      "findfont: Font family 'AppleGothic' not found.\n",
      "findfont: Font family 'AppleGothic' not found.\n",
      "findfont: Font family 'AppleGothic' not found.\n",
      "findfont: Font family 'AppleGothic' not found.\n",
      "findfont: Font family 'AppleGothic' not found.\n",
      "findfont: Font family 'AppleGothic' not found.\n",
      "findfont: Font family 'AppleGothic' not found.\n",
      "findfont: Font family 'AppleGothic' not found.\n",
      "findfont: Font family 'AppleGothic' not found.\n",
      "findfont: Font family 'AppleGothic' not found.\n",
      "findfont: Font family 'AppleGothic' not found.\n",
      "findfont: Font family 'AppleGothic' not found.\n",
      "findfont: Font family 'AppleGothic' not found.\n",
      "findfont: Font family 'AppleGothic' not found.\n",
      "findfont: Font family 'AppleGothic' not found.\n",
      "findfont: Font family 'AppleGothic' not found.\n",
      "findfont: Font family 'AppleGothic' not found.\n",
      "findfont: Font family 'AppleGothic' not found.\n",
      "findfont: Font family 'AppleGothic' not found.\n",
      "findfont: Font family 'AppleGothic' not found.\n",
      "findfont: Font family 'AppleGothic' not found.\n",
      "findfont: Font family 'AppleGothic' not found.\n",
      "findfont: Font family 'AppleGothic' not found.\n",
      "findfont: Font family 'AppleGothic' not found.\n",
      "findfont: Font family 'AppleGothic' not found.\n",
      "findfont: Font family 'AppleGothic' not found.\n",
      "c:\\Users\\LG\\Desktop\\project\\POSCO-Holdings\\new_env\\Lib\\site-packages\\IPython\\core\\pylabtools.py:170: UserWarning: Glyph 47749 (\\N{HANGUL SYLLABLE MYEONG}) missing from font(s) DejaVu Sans.\n",
      "  fig.canvas.print_figure(bytes_io, **kw)\n",
      "findfont: Font family 'AppleGothic' not found.\n",
      "findfont: Font family 'AppleGothic' not found.\n",
      "c:\\Users\\LG\\Desktop\\project\\POSCO-Holdings\\new_env\\Lib\\site-packages\\IPython\\core\\pylabtools.py:170: UserWarning: Glyph 49569 (\\N{HANGUL SYLLABLE SONG}) missing from font(s) DejaVu Sans.\n",
      "  fig.canvas.print_figure(bytes_io, **kw)\n",
      "c:\\Users\\LG\\Desktop\\project\\POSCO-Holdings\\new_env\\Lib\\site-packages\\IPython\\core\\pylabtools.py:170: UserWarning: Glyph 44284 (\\N{HANGUL SYLLABLE GWA}) missing from font(s) DejaVu Sans.\n",
      "  fig.canvas.print_figure(bytes_io, **kw)\n",
      "c:\\Users\\LG\\Desktop\\project\\POSCO-Holdings\\new_env\\Lib\\site-packages\\IPython\\core\\pylabtools.py:170: UserWarning: Glyph 54617 (\\N{HANGUL SYLLABLE HAG}) missing from font(s) DejaVu Sans.\n",
      "  fig.canvas.print_figure(bytes_io, **kw)\n",
      "findfont: Font family 'AppleGothic' not found.\n",
      "c:\\Users\\LG\\Desktop\\project\\POSCO-Holdings\\new_env\\Lib\\site-packages\\IPython\\core\\pylabtools.py:170: UserWarning: Glyph 44397 (\\N{HANGUL SYLLABLE GUG}) missing from font(s) DejaVu Sans.\n",
      "  fig.canvas.print_figure(bytes_io, **kw)\n",
      "c:\\Users\\LG\\Desktop\\project\\POSCO-Holdings\\new_env\\Lib\\site-packages\\IPython\\core\\pylabtools.py:170: UserWarning: Glyph 51228 (\\N{HANGUL SYLLABLE JE}) missing from font(s) DejaVu Sans.\n",
      "  fig.canvas.print_figure(bytes_io, **kw)\n",
      "findfont: Font family 'AppleGothic' not found.\n",
      "c:\\Users\\LG\\Desktop\\project\\POSCO-Holdings\\new_env\\Lib\\site-packages\\IPython\\core\\pylabtools.py:170: UserWarning: Glyph 47928 (\\N{HANGUL SYLLABLE MUN}) missing from font(s) DejaVu Sans.\n",
      "  fig.canvas.print_figure(bytes_io, **kw)\n",
      "c:\\Users\\LG\\Desktop\\project\\POSCO-Holdings\\new_env\\Lib\\site-packages\\IPython\\core\\pylabtools.py:170: UserWarning: Glyph 54868 (\\N{HANGUL SYLLABLE HWA}) missing from font(s) DejaVu Sans.\n",
      "  fig.canvas.print_figure(bytes_io, **kw)\n",
      "findfont: Font family 'AppleGothic' not found.\n",
      "c:\\Users\\LG\\Desktop\\project\\POSCO-Holdings\\new_env\\Lib\\site-packages\\IPython\\core\\pylabtools.py:170: UserWarning: Glyph 48148 (\\N{HANGUL SYLLABLE BA}) missing from font(s) DejaVu Sans.\n",
      "  fig.canvas.print_figure(bytes_io, **kw)\n",
      "c:\\Users\\LG\\Desktop\\project\\POSCO-Holdings\\new_env\\Lib\\site-packages\\IPython\\core\\pylabtools.py:170: UserWarning: Glyph 51060 (\\N{HANGUL SYLLABLE I}) missing from font(s) DejaVu Sans.\n",
      "  fig.canvas.print_figure(bytes_io, **kw)\n",
      "c:\\Users\\LG\\Desktop\\project\\POSCO-Holdings\\new_env\\Lib\\site-packages\\IPython\\core\\pylabtools.py:170: UserWarning: Glyph 50724 (\\N{HANGUL SYLLABLE O}) missing from font(s) DejaVu Sans.\n",
      "  fig.canvas.print_figure(bytes_io, **kw)\n",
      "findfont: Font family 'AppleGothic' not found.\n",
      "c:\\Users\\LG\\Desktop\\project\\POSCO-Holdings\\new_env\\Lib\\site-packages\\IPython\\core\\pylabtools.py:170: UserWarning: Glyph 50500 (\\N{HANGUL SYLLABLE A}) missing from font(s) DejaVu Sans.\n",
      "  fig.canvas.print_figure(bytes_io, **kw)\n",
      "c:\\Users\\LG\\Desktop\\project\\POSCO-Holdings\\new_env\\Lib\\site-packages\\IPython\\core\\pylabtools.py:170: UserWarning: Glyph 53944 (\\N{HANGUL SYLLABLE TEU}) missing from font(s) DejaVu Sans.\n",
      "  fig.canvas.print_figure(bytes_io, **kw)\n",
      "c:\\Users\\LG\\Desktop\\project\\POSCO-Holdings\\new_env\\Lib\\site-packages\\IPython\\core\\pylabtools.py:170: UserWarning: Glyph 49468 (\\N{HANGUL SYLLABLE SEN}) missing from font(s) DejaVu Sans.\n",
      "  fig.canvas.print_figure(bytes_io, **kw)\n",
      "c:\\Users\\LG\\Desktop\\project\\POSCO-Holdings\\new_env\\Lib\\site-packages\\IPython\\core\\pylabtools.py:170: UserWarning: Glyph 53552 (\\N{HANGUL SYLLABLE TEO}) missing from font(s) DejaVu Sans.\n",
      "  fig.canvas.print_figure(bytes_io, **kw)\n",
      "findfont: Font family 'AppleGothic' not found.\n",
      "c:\\Users\\LG\\Desktop\\project\\POSCO-Holdings\\new_env\\Lib\\site-packages\\IPython\\core\\pylabtools.py:170: UserWarning: Glyph 51064 (\\N{HANGUL SYLLABLE IN}) missing from font(s) DejaVu Sans.\n",
      "  fig.canvas.print_figure(bytes_io, **kw)\n",
      "c:\\Users\\LG\\Desktop\\project\\POSCO-Holdings\\new_env\\Lib\\site-packages\\IPython\\core\\pylabtools.py:170: UserWarning: Glyph 52380 (\\N{HANGUL SYLLABLE CEON}) missing from font(s) DejaVu Sans.\n",
      "  fig.canvas.print_figure(bytes_io, **kw)\n",
      "c:\\Users\\LG\\Desktop\\project\\POSCO-Holdings\\new_env\\Lib\\site-packages\\IPython\\core\\pylabtools.py:170: UserWarning: Glyph 53440 (\\N{HANGUL SYLLABLE TA}) missing from font(s) DejaVu Sans.\n",
      "  fig.canvas.print_figure(bytes_io, **kw)\n",
      "c:\\Users\\LG\\Desktop\\project\\POSCO-Holdings\\new_env\\Lib\\site-packages\\IPython\\core\\pylabtools.py:170: UserWarning: Glyph 50892 (\\N{HANGUL SYLLABLE WEO}) missing from font(s) DejaVu Sans.\n",
      "  fig.canvas.print_figure(bytes_io, **kw)\n",
      "findfont: Font family 'AppleGothic' not found.\n",
      "c:\\Users\\LG\\Desktop\\project\\POSCO-Holdings\\new_env\\Lib\\site-packages\\IPython\\core\\pylabtools.py:170: UserWarning: Glyph 52392 (\\N{HANGUL SYLLABLE CEOM}) missing from font(s) DejaVu Sans.\n",
      "  fig.canvas.print_figure(bytes_io, **kw)\n",
      "c:\\Users\\LG\\Desktop\\project\\POSCO-Holdings\\new_env\\Lib\\site-packages\\IPython\\core\\pylabtools.py:170: UserWarning: Glyph 45800 (\\N{HANGUL SYLLABLE DAN}) missing from font(s) DejaVu Sans.\n",
      "  fig.canvas.print_figure(bytes_io, **kw)\n",
      "findfont: Font family 'AppleGothic' not found.\n",
      "c:\\Users\\LG\\Desktop\\project\\POSCO-Holdings\\new_env\\Lib\\site-packages\\IPython\\core\\pylabtools.py:170: UserWarning: Glyph 52968 (\\N{HANGUL SYLLABLE KEON}) missing from font(s) DejaVu Sans.\n",
      "  fig.canvas.print_figure(bytes_io, **kw)\n",
      "c:\\Users\\LG\\Desktop\\project\\POSCO-Holdings\\new_env\\Lib\\site-packages\\IPython\\core\\pylabtools.py:170: UserWarning: Glyph 48292 (\\N{HANGUL SYLLABLE BEN}) missing from font(s) DejaVu Sans.\n",
      "  fig.canvas.print_figure(bytes_io, **kw)\n",
      "findfont: Font family 'AppleGothic' not found.\n",
      "c:\\Users\\LG\\Desktop\\project\\POSCO-Holdings\\new_env\\Lib\\site-packages\\IPython\\core\\pylabtools.py:170: UserWarning: Glyph 53580 (\\N{HANGUL SYLLABLE TE}) missing from font(s) DejaVu Sans.\n",
      "  fig.canvas.print_figure(bytes_io, **kw)\n",
      "c:\\Users\\LG\\Desktop\\project\\POSCO-Holdings\\new_env\\Lib\\site-packages\\IPython\\core\\pylabtools.py:170: UserWarning: Glyph 53356 (\\N{HANGUL SYLLABLE KEU}) missing from font(s) DejaVu Sans.\n",
      "  fig.canvas.print_figure(bytes_io, **kw)\n",
      "c:\\Users\\LG\\Desktop\\project\\POSCO-Holdings\\new_env\\Lib\\site-packages\\IPython\\core\\pylabtools.py:170: UserWarning: Glyph 45432 (\\N{HANGUL SYLLABLE NO}) missing from font(s) DejaVu Sans.\n",
      "  fig.canvas.print_figure(bytes_io, **kw)\n",
      "c:\\Users\\LG\\Desktop\\project\\POSCO-Holdings\\new_env\\Lib\\site-packages\\IPython\\core\\pylabtools.py:170: UserWarning: Glyph 54028 (\\N{HANGUL SYLLABLE PA}) missing from font(s) DejaVu Sans.\n",
      "  fig.canvas.print_figure(bytes_io, **kw)\n",
      "findfont: Font family 'AppleGothic' not found.\n",
      "findfont: Font family 'AppleGothic' not found.\n",
      "findfont: Font family 'AppleGothic' not found.\n",
      "findfont: Font family 'AppleGothic' not found.\n",
      "findfont: Font family 'AppleGothic' not found.\n",
      "findfont: Font family 'AppleGothic' not found.\n",
      "findfont: Font family 'AppleGothic' not found.\n",
      "findfont: Font family 'AppleGothic' not found.\n",
      "findfont: Font family 'AppleGothic' not found.\n",
      "findfont: Font family 'AppleGothic' not found.\n",
      "findfont: Font family 'AppleGothic' not found.\n",
      "findfont: Font family 'AppleGothic' not found.\n",
      "findfont: Font family 'AppleGothic' not found.\n",
      "findfont: Font family 'AppleGothic' not found.\n",
      "findfont: Font family 'AppleGothic' not found.\n",
      "findfont: Font family 'AppleGothic' not found.\n",
      "findfont: Font family 'AppleGothic' not found.\n",
      "findfont: Font family 'AppleGothic' not found.\n",
      "findfont: Font family 'AppleGothic' not found.\n",
      "findfont: Font family 'AppleGothic' not found.\n",
      "findfont: Font family 'AppleGothic' not found.\n",
      "findfont: Font family 'AppleGothic' not found.\n",
      "findfont: Font family 'AppleGothic' not found.\n",
      "findfont: Font family 'AppleGothic' not found.\n",
      "findfont: Font family 'AppleGothic' not found.\n",
      "findfont: Font family 'AppleGothic' not found.\n",
      "findfont: Font family 'AppleGothic' not found.\n",
      "findfont: Font family 'AppleGothic' not found.\n",
      "findfont: Font family 'AppleGothic' not found.\n",
      "findfont: Font family 'AppleGothic' not found.\n",
      "findfont: Font family 'AppleGothic' not found.\n",
      "findfont: Font family 'AppleGothic' not found.\n",
      "findfont: Font family 'AppleGothic' not found.\n",
      "findfont: Font family 'AppleGothic' not found.\n",
      "findfont: Font family 'AppleGothic' not found.\n",
      "findfont: Font family 'AppleGothic' not found.\n",
      "findfont: Font family 'AppleGothic' not found.\n",
      "findfont: Font family 'AppleGothic' not found.\n",
      "findfont: Font family 'AppleGothic' not found.\n",
      "findfont: Font family 'AppleGothic' not found.\n",
      "findfont: Font family 'AppleGothic' not found.\n",
      "findfont: Font family 'AppleGothic' not found.\n",
      "findfont: Font family 'AppleGothic' not found.\n",
      "findfont: Font family 'AppleGothic' not found.\n",
      "findfont: Font family 'AppleGothic' not found.\n",
      "findfont: Font family 'AppleGothic' not found.\n",
      "findfont: Font family 'AppleGothic' not found.\n",
      "findfont: Font family 'AppleGothic' not found.\n",
      "findfont: Font family 'AppleGothic' not found.\n",
      "findfont: Font family 'AppleGothic' not found.\n",
      "findfont: Font family 'AppleGothic' not found.\n",
      "findfont: Font family 'AppleGothic' not found.\n",
      "findfont: Font family 'AppleGothic' not found.\n",
      "findfont: Font family 'AppleGothic' not found.\n",
      "findfont: Font family 'AppleGothic' not found.\n",
      "findfont: Font family 'AppleGothic' not found.\n",
      "findfont: Font family 'AppleGothic' not found.\n",
      "findfont: Font family 'AppleGothic' not found.\n",
      "findfont: Font family 'AppleGothic' not found.\n",
      "findfont: Font family 'AppleGothic' not found.\n",
      "findfont: Font family 'AppleGothic' not found.\n",
      "findfont: Font family 'AppleGothic' not found.\n",
      "findfont: Font family 'AppleGothic' not found.\n",
      "findfont: Font family 'AppleGothic' not found.\n",
      "findfont: Font family 'AppleGothic' not found.\n",
      "findfont: Font family 'AppleGothic' not found.\n",
      "findfont: Font family 'AppleGothic' not found.\n",
      "findfont: Font family 'AppleGothic' not found.\n",
      "findfont: Font family 'AppleGothic' not found.\n",
      "findfont: Font family 'AppleGothic' not found.\n",
      "findfont: Font family 'AppleGothic' not found.\n",
      "findfont: Font family 'AppleGothic' not found.\n",
      "findfont: Font family 'AppleGothic' not found.\n",
      "findfont: Font family 'AppleGothic' not found.\n",
      "findfont: Font family 'AppleGothic' not found.\n",
      "findfont: Font family 'AppleGothic' not found.\n",
      "findfont: Font family 'AppleGothic' not found.\n",
      "findfont: Font family 'AppleGothic' not found.\n",
      "findfont: Font family 'AppleGothic' not found.\n",
      "findfont: Font family 'AppleGothic' not found.\n",
      "findfont: Font family 'AppleGothic' not found.\n",
      "findfont: Font family 'AppleGothic' not found.\n",
      "findfont: Font family 'AppleGothic' not found.\n",
      "findfont: Font family 'AppleGothic' not found.\n",
      "findfont: Font family 'AppleGothic' not found.\n",
      "findfont: Font family 'AppleGothic' not found.\n",
      "findfont: Font family 'AppleGothic' not found.\n",
      "findfont: Font family 'AppleGothic' not found.\n"
     ]
    },
    {
     "data": {
      "image/png": "[encoded data removed]",
      "text/plain": [
       "<Figure size 1500x600 with 1 Axes>"
      ]
     },
     "metadata": {},
     "output_type": "display_data"
    }
   ],
   "source": [
    "plt.figure(figsize=(15, 6))\n",
    "\n",
    "for road_name, row in hour_by_road.iterrows():\n",
    "    plt.plot(hour_columns, row.values, label=road_name, marker='o')\n",
    "\n",
    "plt.title('도로별 시간대별 교통량', fontsize=16)\n",
    "plt.xlabel('시간대', fontsize=14)\n",
    "plt.ylabel('교통량', fontsize=14)\n",
    "plt.legend(title='도로명', fontsize=12)\n",
    "plt.show()"
   ]
  },
  {
   "cell_type": "code",
   "execution_count": 1039,
   "id": "367b846f",
   "metadata": {},
   "outputs": [
    {
     "data": {
      "text/html": [
       "<div>\n",
       "<style scoped>\n",
       "    .dataframe tbody tr th:only-of-type {\n",
       "        vertical-align: middle;\n",
       "    }\n",
       "\n",
       "    .dataframe tbody tr th {\n",
       "        vertical-align: top;\n",
       "    }\n",
       "\n",
       "    .dataframe thead th {\n",
       "        text-align: right;\n",
       "    }\n",
       "</style>\n",
       "<table border=\"1\" class=\"dataframe\">\n",
       "  <thead>\n",
       "    <tr style=\"text-align: right;\">\n",
       "      <th></th>\n",
       "      <th>도로명</th>\n",
       "      <th>방향</th>\n",
       "      <th>09시</th>\n",
       "    </tr>\n",
       "  </thead>\n",
       "  <tbody>\n",
       "    <tr>\n",
       "      <th>0</th>\n",
       "      <td>테크노파크로</td>\n",
       "      <td>상행</td>\n",
       "      <td>106</td>\n",
       "    </tr>\n",
       "    <tr>\n",
       "      <th>1</th>\n",
       "      <td>테크노파크로</td>\n",
       "      <td>상행</td>\n",
       "      <td>144</td>\n",
       "    </tr>\n",
       "    <tr>\n",
       "      <th>2</th>\n",
       "      <td>테크노파크로</td>\n",
       "      <td>상행</td>\n",
       "      <td>93</td>\n",
       "    </tr>\n",
       "    <tr>\n",
       "      <th>3</th>\n",
       "      <td>테크노파크로</td>\n",
       "      <td>상행</td>\n",
       "      <td>654</td>\n",
       "    </tr>\n",
       "    <tr>\n",
       "      <th>4</th>\n",
       "      <td>테크노파크로</td>\n",
       "      <td>상행</td>\n",
       "      <td>663</td>\n",
       "    </tr>\n",
       "    <tr>\n",
       "      <th>...</th>\n",
       "      <td>...</td>\n",
       "      <td>...</td>\n",
       "      <td>...</td>\n",
       "    </tr>\n",
       "    <tr>\n",
       "      <th>1435</th>\n",
       "      <td>송도문화로</td>\n",
       "      <td>상행</td>\n",
       "      <td>143</td>\n",
       "    </tr>\n",
       "    <tr>\n",
       "      <th>1436</th>\n",
       "      <td>송도문화로</td>\n",
       "      <td>상행</td>\n",
       "      <td>72</td>\n",
       "    </tr>\n",
       "    <tr>\n",
       "      <th>1437</th>\n",
       "      <td>송도문화로</td>\n",
       "      <td>상행</td>\n",
       "      <td>381</td>\n",
       "    </tr>\n",
       "    <tr>\n",
       "      <th>1438</th>\n",
       "      <td>송도문화로</td>\n",
       "      <td>상행</td>\n",
       "      <td>358</td>\n",
       "    </tr>\n",
       "    <tr>\n",
       "      <th>1439</th>\n",
       "      <td>송도문화로</td>\n",
       "      <td>상행</td>\n",
       "      <td>369</td>\n",
       "    </tr>\n",
       "  </tbody>\n",
       "</table>\n",
       "<p>1440 rows × 3 columns</p>\n",
       "</div>"
      ],
      "text/plain": [
       "         도로명  방향  09시\n",
       "0     테크노파크로  상행  106\n",
       "1     테크노파크로  상행  144\n",
       "2     테크노파크로  상행   93\n",
       "3     테크노파크로  상행  654\n",
       "4     테크노파크로  상행  663\n",
       "...      ...  ..  ...\n",
       "1435   송도문화로  상행  143\n",
       "1436   송도문화로  상행   72\n",
       "1437   송도문화로  상행  381\n",
       "1438   송도문화로  상행  358\n",
       "1439   송도문화로  상행  369\n",
       "\n",
       "[1440 rows x 3 columns]"
      ]
     },
     "execution_count": 1039,
     "metadata": {},
     "output_type": "execute_result"
    }
   ],
   "source": [
    "df_9am"
   ]
  },
  {
   "cell_type": "code",
   "execution_count": 1040,
   "id": "e5588d1d",
   "metadata": {},
   "outputs": [],
   "source": [
    "df_9am = df[[\"일자\", \"도로명\", \"09시\"]]"
   ]
  },
  {
   "cell_type": "code",
   "execution_count": 1041,
   "id": "f217ecfb",
   "metadata": {},
   "outputs": [
    {
     "name": "stderr",
     "output_type": "stream",
     "text": [
      "C:\\Users\\LG\\AppData\\Local\\Temp\\ipykernel_10476\\4057009972.py:1: SettingWithCopyWarning: \n",
      "A value is trying to be set on a copy of a slice from a DataFrame\n",
      "\n",
      "See the caveats in the documentation: https://pandas.pydata.org/pandas-docs/stable/user_guide/indexing.html#returning-a-view-versus-a-copy\n",
      "  df_9am.rename(columns={\"09시\": \"교통량\"}, inplace=True)\n"
     ]
    }
   ],
   "source": [
    "df_9am.rename(columns={\"09시\": \"교통량\"}, inplace=True)"
   ]
  },
  {
   "cell_type": "code",
   "execution_count": 1042,
   "id": "e9a05f51",
   "metadata": {},
   "outputs": [
    {
     "data": {
      "text/html": [
       "<div>\n",
       "<style scoped>\n",
       "    .dataframe tbody tr th:only-of-type {\n",
       "        vertical-align: middle;\n",
       "    }\n",
       "\n",
       "    .dataframe tbody tr th {\n",
       "        vertical-align: top;\n",
       "    }\n",
       "\n",
       "    .dataframe thead th {\n",
       "        text-align: right;\n",
       "    }\n",
       "</style>\n",
       "<table border=\"1\" class=\"dataframe\">\n",
       "  <thead>\n",
       "    <tr style=\"text-align: right;\">\n",
       "      <th></th>\n",
       "      <th>일자</th>\n",
       "      <th>도로명</th>\n",
       "      <th>교통량</th>\n",
       "    </tr>\n",
       "  </thead>\n",
       "  <tbody>\n",
       "    <tr>\n",
       "      <th>0</th>\n",
       "      <td>2021-01-01</td>\n",
       "      <td>테크노파크로</td>\n",
       "      <td>106</td>\n",
       "    </tr>\n",
       "    <tr>\n",
       "      <th>1</th>\n",
       "      <td>2021-01-02</td>\n",
       "      <td>테크노파크로</td>\n",
       "      <td>144</td>\n",
       "    </tr>\n",
       "    <tr>\n",
       "      <th>2</th>\n",
       "      <td>2021-01-03</td>\n",
       "      <td>테크노파크로</td>\n",
       "      <td>93</td>\n",
       "    </tr>\n",
       "    <tr>\n",
       "      <th>3</th>\n",
       "      <td>2021-01-04</td>\n",
       "      <td>테크노파크로</td>\n",
       "      <td>654</td>\n",
       "    </tr>\n",
       "    <tr>\n",
       "      <th>4</th>\n",
       "      <td>2021-01-05</td>\n",
       "      <td>테크노파크로</td>\n",
       "      <td>663</td>\n",
       "    </tr>\n",
       "    <tr>\n",
       "      <th>...</th>\n",
       "      <td>...</td>\n",
       "      <td>...</td>\n",
       "      <td>...</td>\n",
       "    </tr>\n",
       "    <tr>\n",
       "      <th>1435</th>\n",
       "      <td>2021-03-27</td>\n",
       "      <td>송도문화로</td>\n",
       "      <td>143</td>\n",
       "    </tr>\n",
       "    <tr>\n",
       "      <th>1436</th>\n",
       "      <td>2021-03-28</td>\n",
       "      <td>송도문화로</td>\n",
       "      <td>72</td>\n",
       "    </tr>\n",
       "    <tr>\n",
       "      <th>1437</th>\n",
       "      <td>2021-03-29</td>\n",
       "      <td>송도문화로</td>\n",
       "      <td>381</td>\n",
       "    </tr>\n",
       "    <tr>\n",
       "      <th>1438</th>\n",
       "      <td>2021-03-30</td>\n",
       "      <td>송도문화로</td>\n",
       "      <td>358</td>\n",
       "    </tr>\n",
       "    <tr>\n",
       "      <th>1439</th>\n",
       "      <td>2021-03-31</td>\n",
       "      <td>송도문화로</td>\n",
       "      <td>369</td>\n",
       "    </tr>\n",
       "  </tbody>\n",
       "</table>\n",
       "<p>1440 rows × 3 columns</p>\n",
       "</div>"
      ],
      "text/plain": [
       "              일자     도로명  교통량\n",
       "0     2021-01-01  테크노파크로  106\n",
       "1     2021-01-02  테크노파크로  144\n",
       "2     2021-01-03  테크노파크로   93\n",
       "3     2021-01-04  테크노파크로  654\n",
       "4     2021-01-05  테크노파크로  663\n",
       "...          ...     ...  ...\n",
       "1435  2021-03-27   송도문화로  143\n",
       "1436  2021-03-28   송도문화로   72\n",
       "1437  2021-03-29   송도문화로  381\n",
       "1438  2021-03-30   송도문화로  358\n",
       "1439  2021-03-31   송도문화로  369\n",
       "\n",
       "[1440 rows x 3 columns]"
      ]
     },
     "execution_count": 1042,
     "metadata": {},
     "output_type": "execute_result"
    }
   ],
   "source": [
    "df_9am"
   ]
  },
  {
   "cell_type": "code",
   "execution_count": 1043,
   "id": "c041bf96",
   "metadata": {},
   "outputs": [
    {
     "name": "stderr",
     "output_type": "stream",
     "text": [
      "C:\\Users\\LG\\AppData\\Local\\Temp\\ipykernel_10476\\116123473.py:1: FutureWarning: \n",
      "\n",
      "Passing `palette` without assigning `hue` is deprecated and will be removed in v0.14.0. Assign the `x` variable to `hue` and set `legend=False` for the same effect.\n",
      "\n",
      "  sns.boxplot(x='도로명', y='교통량', data=df_9am, showfliers=False, palette='Set1')\n"
     ]
    },
    {
     "data": {
      "text/plain": [
       "([0, 1, 2, 3, 4, 5, 6, 7, 8],\n",
       " [Text(0, 0, '테크노파크로'),\n",
       "  Text(1, 0, '아트센터대로'),\n",
       "  Text(2, 0, '컨벤시아대로'),\n",
       "  Text(3, 0, '송도국제대로'),\n",
       "  Text(4, 0, '인천타워대로'),\n",
       "  Text(5, 0, '첨단대로'),\n",
       "  Text(6, 0, '송도과학로'),\n",
       "  Text(7, 0, '송도바이오대로'),\n",
       "  Text(8, 0, '송도문화로')])"
      ]
     },
     "execution_count": 1043,
     "metadata": {},
     "output_type": "execute_result"
    },
    {
     "name": "stderr",
     "output_type": "stream",
     "text": [
      "findfont: Font family 'AppleGothic' not found.\n",
      "findfont: Font family 'AppleGothic' not found.\n",
      "c:\\Users\\LG\\Desktop\\project\\POSCO-Holdings\\new_env\\Lib\\site-packages\\IPython\\core\\events.py:82: UserWarning: Glyph 53580 (\\N{HANGUL SYLLABLE TE}) missing from font(s) DejaVu Sans.\n",
      "  func(*args, **kwargs)\n",
      "c:\\Users\\LG\\Desktop\\project\\POSCO-Holdings\\new_env\\Lib\\site-packages\\IPython\\core\\events.py:82: UserWarning: Glyph 53356 (\\N{HANGUL SYLLABLE KEU}) missing from font(s) DejaVu Sans.\n",
      "  func(*args, **kwargs)\n",
      "c:\\Users\\LG\\Desktop\\project\\POSCO-Holdings\\new_env\\Lib\\site-packages\\IPython\\core\\events.py:82: UserWarning: Glyph 45432 (\\N{HANGUL SYLLABLE NO}) missing from font(s) DejaVu Sans.\n",
      "  func(*args, **kwargs)\n",
      "c:\\Users\\LG\\Desktop\\project\\POSCO-Holdings\\new_env\\Lib\\site-packages\\IPython\\core\\events.py:82: UserWarning: Glyph 54028 (\\N{HANGUL SYLLABLE PA}) missing from font(s) DejaVu Sans.\n",
      "  func(*args, **kwargs)\n",
      "c:\\Users\\LG\\Desktop\\project\\POSCO-Holdings\\new_env\\Lib\\site-packages\\IPython\\core\\events.py:82: UserWarning: Glyph 47196 (\\N{HANGUL SYLLABLE RO}) missing from font(s) DejaVu Sans.\n",
      "  func(*args, **kwargs)\n",
      "findfont: Font family 'AppleGothic' not found.\n",
      "c:\\Users\\LG\\Desktop\\project\\POSCO-Holdings\\new_env\\Lib\\site-packages\\IPython\\core\\events.py:82: UserWarning: Glyph 50500 (\\N{HANGUL SYLLABLE A}) missing from font(s) DejaVu Sans.\n",
      "  func(*args, **kwargs)\n",
      "c:\\Users\\LG\\Desktop\\project\\POSCO-Holdings\\new_env\\Lib\\site-packages\\IPython\\core\\events.py:82: UserWarning: Glyph 53944 (\\N{HANGUL SYLLABLE TEU}) missing from font(s) DejaVu Sans.\n",
      "  func(*args, **kwargs)\n",
      "c:\\Users\\LG\\Desktop\\project\\POSCO-Holdings\\new_env\\Lib\\site-packages\\IPython\\core\\events.py:82: UserWarning: Glyph 49468 (\\N{HANGUL SYLLABLE SEN}) missing from font(s) DejaVu Sans.\n",
      "  func(*args, **kwargs)\n",
      "c:\\Users\\LG\\Desktop\\project\\POSCO-Holdings\\new_env\\Lib\\site-packages\\IPython\\core\\events.py:82: UserWarning: Glyph 53552 (\\N{HANGUL SYLLABLE TEO}) missing from font(s) DejaVu Sans.\n",
      "  func(*args, **kwargs)\n",
      "c:\\Users\\LG\\Desktop\\project\\POSCO-Holdings\\new_env\\Lib\\site-packages\\IPython\\core\\events.py:82: UserWarning: Glyph 45824 (\\N{HANGUL SYLLABLE DAE}) missing from font(s) DejaVu Sans.\n",
      "  func(*args, **kwargs)\n",
      "findfont: Font family 'AppleGothic' not found.\n",
      "c:\\Users\\LG\\Desktop\\project\\POSCO-Holdings\\new_env\\Lib\\site-packages\\IPython\\core\\events.py:82: UserWarning: Glyph 52968 (\\N{HANGUL SYLLABLE KEON}) missing from font(s) DejaVu Sans.\n",
      "  func(*args, **kwargs)\n",
      "c:\\Users\\LG\\Desktop\\project\\POSCO-Holdings\\new_env\\Lib\\site-packages\\IPython\\core\\events.py:82: UserWarning: Glyph 48292 (\\N{HANGUL SYLLABLE BEN}) missing from font(s) DejaVu Sans.\n",
      "  func(*args, **kwargs)\n",
      "c:\\Users\\LG\\Desktop\\project\\POSCO-Holdings\\new_env\\Lib\\site-packages\\IPython\\core\\events.py:82: UserWarning: Glyph 49884 (\\N{HANGUL SYLLABLE SI}) missing from font(s) DejaVu Sans.\n",
      "  func(*args, **kwargs)\n",
      "findfont: Font family 'AppleGothic' not found.\n",
      "c:\\Users\\LG\\Desktop\\project\\POSCO-Holdings\\new_env\\Lib\\site-packages\\IPython\\core\\events.py:82: UserWarning: Glyph 49569 (\\N{HANGUL SYLLABLE SONG}) missing from font(s) DejaVu Sans.\n",
      "  func(*args, **kwargs)\n",
      "c:\\Users\\LG\\Desktop\\project\\POSCO-Holdings\\new_env\\Lib\\site-packages\\IPython\\core\\events.py:82: UserWarning: Glyph 46020 (\\N{HANGUL SYLLABLE DO}) missing from font(s) DejaVu Sans.\n",
      "  func(*args, **kwargs)\n",
      "c:\\Users\\LG\\Desktop\\project\\POSCO-Holdings\\new_env\\Lib\\site-packages\\IPython\\core\\events.py:82: UserWarning: Glyph 44397 (\\N{HANGUL SYLLABLE GUG}) missing from font(s) DejaVu Sans.\n",
      "  func(*args, **kwargs)\n",
      "c:\\Users\\LG\\Desktop\\project\\POSCO-Holdings\\new_env\\Lib\\site-packages\\IPython\\core\\events.py:82: UserWarning: Glyph 51228 (\\N{HANGUL SYLLABLE JE}) missing from font(s) DejaVu Sans.\n",
      "  func(*args, **kwargs)\n",
      "findfont: Font family 'AppleGothic' not found.\n",
      "c:\\Users\\LG\\Desktop\\project\\POSCO-Holdings\\new_env\\Lib\\site-packages\\IPython\\core\\events.py:82: UserWarning: Glyph 51064 (\\N{HANGUL SYLLABLE IN}) missing from font(s) DejaVu Sans.\n",
      "  func(*args, **kwargs)\n",
      "c:\\Users\\LG\\Desktop\\project\\POSCO-Holdings\\new_env\\Lib\\site-packages\\IPython\\core\\events.py:82: UserWarning: Glyph 52380 (\\N{HANGUL SYLLABLE CEON}) missing from font(s) DejaVu Sans.\n",
      "  func(*args, **kwargs)\n",
      "c:\\Users\\LG\\Desktop\\project\\POSCO-Holdings\\new_env\\Lib\\site-packages\\IPython\\core\\events.py:82: UserWarning: Glyph 53440 (\\N{HANGUL SYLLABLE TA}) missing from font(s) DejaVu Sans.\n",
      "  func(*args, **kwargs)\n",
      "c:\\Users\\LG\\Desktop\\project\\POSCO-Holdings\\new_env\\Lib\\site-packages\\IPython\\core\\events.py:82: UserWarning: Glyph 50892 (\\N{HANGUL SYLLABLE WEO}) missing from font(s) DejaVu Sans.\n",
      "  func(*args, **kwargs)\n",
      "findfont: Font family 'AppleGothic' not found.\n",
      "c:\\Users\\LG\\Desktop\\project\\POSCO-Holdings\\new_env\\Lib\\site-packages\\IPython\\core\\events.py:82: UserWarning: Glyph 52392 (\\N{HANGUL SYLLABLE CEOM}) missing from font(s) DejaVu Sans.\n",
      "  func(*args, **kwargs)\n",
      "c:\\Users\\LG\\Desktop\\project\\POSCO-Holdings\\new_env\\Lib\\site-packages\\IPython\\core\\events.py:82: UserWarning: Glyph 45800 (\\N{HANGUL SYLLABLE DAN}) missing from font(s) DejaVu Sans.\n",
      "  func(*args, **kwargs)\n",
      "findfont: Font family 'AppleGothic' not found.\n",
      "c:\\Users\\LG\\Desktop\\project\\POSCO-Holdings\\new_env\\Lib\\site-packages\\IPython\\core\\events.py:82: UserWarning: Glyph 44284 (\\N{HANGUL SYLLABLE GWA}) missing from font(s) DejaVu Sans.\n",
      "  func(*args, **kwargs)\n",
      "c:\\Users\\LG\\Desktop\\project\\POSCO-Holdings\\new_env\\Lib\\site-packages\\IPython\\core\\events.py:82: UserWarning: Glyph 54617 (\\N{HANGUL SYLLABLE HAG}) missing from font(s) DejaVu Sans.\n",
      "  func(*args, **kwargs)\n",
      "findfont: Font family 'AppleGothic' not found.\n",
      "c:\\Users\\LG\\Desktop\\project\\POSCO-Holdings\\new_env\\Lib\\site-packages\\IPython\\core\\events.py:82: UserWarning: Glyph 48148 (\\N{HANGUL SYLLABLE BA}) missing from font(s) DejaVu Sans.\n",
      "  func(*args, **kwargs)\n",
      "c:\\Users\\LG\\Desktop\\project\\POSCO-Holdings\\new_env\\Lib\\site-packages\\IPython\\core\\events.py:82: UserWarning: Glyph 51060 (\\N{HANGUL SYLLABLE I}) missing from font(s) DejaVu Sans.\n",
      "  func(*args, **kwargs)\n",
      "c:\\Users\\LG\\Desktop\\project\\POSCO-Holdings\\new_env\\Lib\\site-packages\\IPython\\core\\events.py:82: UserWarning: Glyph 50724 (\\N{HANGUL SYLLABLE O}) missing from font(s) DejaVu Sans.\n",
      "  func(*args, **kwargs)\n",
      "findfont: Font family 'AppleGothic' not found.\n",
      "c:\\Users\\LG\\Desktop\\project\\POSCO-Holdings\\new_env\\Lib\\site-packages\\IPython\\core\\events.py:82: UserWarning: Glyph 47928 (\\N{HANGUL SYLLABLE MUN}) missing from font(s) DejaVu Sans.\n",
      "  func(*args, **kwargs)\n",
      "c:\\Users\\LG\\Desktop\\project\\POSCO-Holdings\\new_env\\Lib\\site-packages\\IPython\\core\\events.py:82: UserWarning: Glyph 54868 (\\N{HANGUL SYLLABLE HWA}) missing from font(s) DejaVu Sans.\n",
      "  func(*args, **kwargs)\n",
      "findfont: Font family 'AppleGothic' not found.\n",
      "findfont: Font family 'AppleGothic' not found.\n",
      "findfont: Font family 'AppleGothic' not found.\n",
      "findfont: Font family 'AppleGothic' not found.\n",
      "findfont: Font family 'AppleGothic' not found.\n",
      "findfont: Font family 'AppleGothic' not found.\n",
      "findfont: Font family 'AppleGothic' not found.\n",
      "findfont: Font family 'AppleGothic' not found.\n",
      "findfont: Font family 'AppleGothic' not found.\n",
      "findfont: Font family 'AppleGothic' not found.\n",
      "c:\\Users\\LG\\Desktop\\project\\POSCO-Holdings\\new_env\\Lib\\site-packages\\IPython\\core\\events.py:82: UserWarning: Glyph 47749 (\\N{HANGUL SYLLABLE MYEONG}) missing from font(s) DejaVu Sans.\n",
      "  func(*args, **kwargs)\n",
      "findfont: Font family 'AppleGothic' not found.\n",
      "findfont: Font family 'AppleGothic' not found.\n",
      "findfont: Font family 'AppleGothic' not found.\n",
      "findfont: Font family 'AppleGothic' not found.\n",
      "findfont: Font family 'AppleGothic' not found.\n",
      "findfont: Font family 'AppleGothic' not found.\n",
      "findfont: Font family 'AppleGothic' not found.\n",
      "findfont: Font family 'AppleGothic' not found.\n",
      "findfont: Font family 'AppleGothic' not found.\n",
      "findfont: Font family 'AppleGothic' not found.\n",
      "findfont: Font family 'AppleGothic' not found.\n",
      "findfont: Font family 'AppleGothic' not found.\n",
      "findfont: Font family 'AppleGothic' not found.\n",
      "findfont: Font family 'AppleGothic' not found.\n",
      "c:\\Users\\LG\\Desktop\\project\\POSCO-Holdings\\new_env\\Lib\\site-packages\\IPython\\core\\events.py:82: UserWarning: Glyph 44368 (\\N{HANGUL SYLLABLE GYO}) missing from font(s) DejaVu Sans.\n",
      "  func(*args, **kwargs)\n",
      "c:\\Users\\LG\\Desktop\\project\\POSCO-Holdings\\new_env\\Lib\\site-packages\\IPython\\core\\events.py:82: UserWarning: Glyph 53685 (\\N{HANGUL SYLLABLE TONG}) missing from font(s) DejaVu Sans.\n",
      "  func(*args, **kwargs)\n",
      "c:\\Users\\LG\\Desktop\\project\\POSCO-Holdings\\new_env\\Lib\\site-packages\\IPython\\core\\events.py:82: UserWarning: Glyph 47049 (\\N{HANGUL SYLLABLE RYANG}) missing from font(s) DejaVu Sans.\n",
      "  func(*args, **kwargs)\n",
      "findfont: Font family 'AppleGothic' not found.\n",
      "findfont: Font family 'AppleGothic' not found.\n",
      "findfont: Font family 'AppleGothic' not found.\n",
      "c:\\Users\\LG\\Desktop\\project\\POSCO-Holdings\\new_env\\Lib\\site-packages\\IPython\\core\\pylabtools.py:170: UserWarning: Glyph 53580 (\\N{HANGUL SYLLABLE TE}) missing from font(s) DejaVu Sans.\n",
      "  fig.canvas.print_figure(bytes_io, **kw)\n",
      "c:\\Users\\LG\\Desktop\\project\\POSCO-Holdings\\new_env\\Lib\\site-packages\\IPython\\core\\pylabtools.py:170: UserWarning: Glyph 53356 (\\N{HANGUL SYLLABLE KEU}) missing from font(s) DejaVu Sans.\n",
      "  fig.canvas.print_figure(bytes_io, **kw)\n",
      "c:\\Users\\LG\\Desktop\\project\\POSCO-Holdings\\new_env\\Lib\\site-packages\\IPython\\core\\pylabtools.py:170: UserWarning: Glyph 45432 (\\N{HANGUL SYLLABLE NO}) missing from font(s) DejaVu Sans.\n",
      "  fig.canvas.print_figure(bytes_io, **kw)\n",
      "c:\\Users\\LG\\Desktop\\project\\POSCO-Holdings\\new_env\\Lib\\site-packages\\IPython\\core\\pylabtools.py:170: UserWarning: Glyph 54028 (\\N{HANGUL SYLLABLE PA}) missing from font(s) DejaVu Sans.\n",
      "  fig.canvas.print_figure(bytes_io, **kw)\n",
      "c:\\Users\\LG\\Desktop\\project\\POSCO-Holdings\\new_env\\Lib\\site-packages\\IPython\\core\\pylabtools.py:170: UserWarning: Glyph 47196 (\\N{HANGUL SYLLABLE RO}) missing from font(s) DejaVu Sans.\n",
      "  fig.canvas.print_figure(bytes_io, **kw)\n",
      "findfont: Font family 'AppleGothic' not found.\n",
      "c:\\Users\\LG\\Desktop\\project\\POSCO-Holdings\\new_env\\Lib\\site-packages\\IPython\\core\\pylabtools.py:170: UserWarning: Glyph 50500 (\\N{HANGUL SYLLABLE A}) missing from font(s) DejaVu Sans.\n",
      "  fig.canvas.print_figure(bytes_io, **kw)\n",
      "c:\\Users\\LG\\Desktop\\project\\POSCO-Holdings\\new_env\\Lib\\site-packages\\IPython\\core\\pylabtools.py:170: UserWarning: Glyph 53944 (\\N{HANGUL SYLLABLE TEU}) missing from font(s) DejaVu Sans.\n",
      "  fig.canvas.print_figure(bytes_io, **kw)\n",
      "c:\\Users\\LG\\Desktop\\project\\POSCO-Holdings\\new_env\\Lib\\site-packages\\IPython\\core\\pylabtools.py:170: UserWarning: Glyph 49468 (\\N{HANGUL SYLLABLE SEN}) missing from font(s) DejaVu Sans.\n",
      "  fig.canvas.print_figure(bytes_io, **kw)\n",
      "c:\\Users\\LG\\Desktop\\project\\POSCO-Holdings\\new_env\\Lib\\site-packages\\IPython\\core\\pylabtools.py:170: UserWarning: Glyph 53552 (\\N{HANGUL SYLLABLE TEO}) missing from font(s) DejaVu Sans.\n",
      "  fig.canvas.print_figure(bytes_io, **kw)\n",
      "c:\\Users\\LG\\Desktop\\project\\POSCO-Holdings\\new_env\\Lib\\site-packages\\IPython\\core\\pylabtools.py:170: UserWarning: Glyph 45824 (\\N{HANGUL SYLLABLE DAE}) missing from font(s) DejaVu Sans.\n",
      "  fig.canvas.print_figure(bytes_io, **kw)\n",
      "findfont: Font family 'AppleGothic' not found.\n",
      "c:\\Users\\LG\\Desktop\\project\\POSCO-Holdings\\new_env\\Lib\\site-packages\\IPython\\core\\pylabtools.py:170: UserWarning: Glyph 52968 (\\N{HANGUL SYLLABLE KEON}) missing from font(s) DejaVu Sans.\n",
      "  fig.canvas.print_figure(bytes_io, **kw)\n",
      "c:\\Users\\LG\\Desktop\\project\\POSCO-Holdings\\new_env\\Lib\\site-packages\\IPython\\core\\pylabtools.py:170: UserWarning: Glyph 48292 (\\N{HANGUL SYLLABLE BEN}) missing from font(s) DejaVu Sans.\n",
      "  fig.canvas.print_figure(bytes_io, **kw)\n",
      "c:\\Users\\LG\\Desktop\\project\\POSCO-Holdings\\new_env\\Lib\\site-packages\\IPython\\core\\pylabtools.py:170: UserWarning: Glyph 49884 (\\N{HANGUL SYLLABLE SI}) missing from font(s) DejaVu Sans.\n",
      "  fig.canvas.print_figure(bytes_io, **kw)\n",
      "findfont: Font family 'AppleGothic' not found.\n",
      "c:\\Users\\LG\\Desktop\\project\\POSCO-Holdings\\new_env\\Lib\\site-packages\\IPython\\core\\pylabtools.py:170: UserWarning: Glyph 49569 (\\N{HANGUL SYLLABLE SONG}) missing from font(s) DejaVu Sans.\n",
      "  fig.canvas.print_figure(bytes_io, **kw)\n",
      "c:\\Users\\LG\\Desktop\\project\\POSCO-Holdings\\new_env\\Lib\\site-packages\\IPython\\core\\pylabtools.py:170: UserWarning: Glyph 46020 (\\N{HANGUL SYLLABLE DO}) missing from font(s) DejaVu Sans.\n",
      "  fig.canvas.print_figure(bytes_io, **kw)\n",
      "c:\\Users\\LG\\Desktop\\project\\POSCO-Holdings\\new_env\\Lib\\site-packages\\IPython\\core\\pylabtools.py:170: UserWarning: Glyph 44397 (\\N{HANGUL SYLLABLE GUG}) missing from font(s) DejaVu Sans.\n",
      "  fig.canvas.print_figure(bytes_io, **kw)\n",
      "c:\\Users\\LG\\Desktop\\project\\POSCO-Holdings\\new_env\\Lib\\site-packages\\IPython\\core\\pylabtools.py:170: UserWarning: Glyph 51228 (\\N{HANGUL SYLLABLE JE}) missing from font(s) DejaVu Sans.\n",
      "  fig.canvas.print_figure(bytes_io, **kw)\n",
      "findfont: Font family 'AppleGothic' not found.\n",
      "c:\\Users\\LG\\Desktop\\project\\POSCO-Holdings\\new_env\\Lib\\site-packages\\IPython\\core\\pylabtools.py:170: UserWarning: Glyph 51064 (\\N{HANGUL SYLLABLE IN}) missing from font(s) DejaVu Sans.\n",
      "  fig.canvas.print_figure(bytes_io, **kw)\n",
      "c:\\Users\\LG\\Desktop\\project\\POSCO-Holdings\\new_env\\Lib\\site-packages\\IPython\\core\\pylabtools.py:170: UserWarning: Glyph 52380 (\\N{HANGUL SYLLABLE CEON}) missing from font(s) DejaVu Sans.\n",
      "  fig.canvas.print_figure(bytes_io, **kw)\n",
      "c:\\Users\\LG\\Desktop\\project\\POSCO-Holdings\\new_env\\Lib\\site-packages\\IPython\\core\\pylabtools.py:170: UserWarning: Glyph 53440 (\\N{HANGUL SYLLABLE TA}) missing from font(s) DejaVu Sans.\n",
      "  fig.canvas.print_figure(bytes_io, **kw)\n",
      "c:\\Users\\LG\\Desktop\\project\\POSCO-Holdings\\new_env\\Lib\\site-packages\\IPython\\core\\pylabtools.py:170: UserWarning: Glyph 50892 (\\N{HANGUL SYLLABLE WEO}) missing from font(s) DejaVu Sans.\n",
      "  fig.canvas.print_figure(bytes_io, **kw)\n",
      "findfont: Font family 'AppleGothic' not found.\n",
      "c:\\Users\\LG\\Desktop\\project\\POSCO-Holdings\\new_env\\Lib\\site-packages\\IPython\\core\\pylabtools.py:170: UserWarning: Glyph 52392 (\\N{HANGUL SYLLABLE CEOM}) missing from font(s) DejaVu Sans.\n",
      "  fig.canvas.print_figure(bytes_io, **kw)\n",
      "c:\\Users\\LG\\Desktop\\project\\POSCO-Holdings\\new_env\\Lib\\site-packages\\IPython\\core\\pylabtools.py:170: UserWarning: Glyph 45800 (\\N{HANGUL SYLLABLE DAN}) missing from font(s) DejaVu Sans.\n",
      "  fig.canvas.print_figure(bytes_io, **kw)\n",
      "findfont: Font family 'AppleGothic' not found.\n",
      "c:\\Users\\LG\\Desktop\\project\\POSCO-Holdings\\new_env\\Lib\\site-packages\\IPython\\core\\pylabtools.py:170: UserWarning: Glyph 44284 (\\N{HANGUL SYLLABLE GWA}) missing from font(s) DejaVu Sans.\n",
      "  fig.canvas.print_figure(bytes_io, **kw)\n",
      "c:\\Users\\LG\\Desktop\\project\\POSCO-Holdings\\new_env\\Lib\\site-packages\\IPython\\core\\pylabtools.py:170: UserWarning: Glyph 54617 (\\N{HANGUL SYLLABLE HAG}) missing from font(s) DejaVu Sans.\n",
      "  fig.canvas.print_figure(bytes_io, **kw)\n",
      "findfont: Font family 'AppleGothic' not found.\n",
      "c:\\Users\\LG\\Desktop\\project\\POSCO-Holdings\\new_env\\Lib\\site-packages\\IPython\\core\\pylabtools.py:170: UserWarning: Glyph 48148 (\\N{HANGUL SYLLABLE BA}) missing from font(s) DejaVu Sans.\n",
      "  fig.canvas.print_figure(bytes_io, **kw)\n",
      "c:\\Users\\LG\\Desktop\\project\\POSCO-Holdings\\new_env\\Lib\\site-packages\\IPython\\core\\pylabtools.py:170: UserWarning: Glyph 51060 (\\N{HANGUL SYLLABLE I}) missing from font(s) DejaVu Sans.\n",
      "  fig.canvas.print_figure(bytes_io, **kw)\n",
      "c:\\Users\\LG\\Desktop\\project\\POSCO-Holdings\\new_env\\Lib\\site-packages\\IPython\\core\\pylabtools.py:170: UserWarning: Glyph 50724 (\\N{HANGUL SYLLABLE O}) missing from font(s) DejaVu Sans.\n",
      "  fig.canvas.print_figure(bytes_io, **kw)\n",
      "findfont: Font family 'AppleGothic' not found.\n",
      "c:\\Users\\LG\\Desktop\\project\\POSCO-Holdings\\new_env\\Lib\\site-packages\\IPython\\core\\pylabtools.py:170: UserWarning: Glyph 47928 (\\N{HANGUL SYLLABLE MUN}) missing from font(s) DejaVu Sans.\n",
      "  fig.canvas.print_figure(bytes_io, **kw)\n",
      "c:\\Users\\LG\\Desktop\\project\\POSCO-Holdings\\new_env\\Lib\\site-packages\\IPython\\core\\pylabtools.py:170: UserWarning: Glyph 54868 (\\N{HANGUL SYLLABLE HWA}) missing from font(s) DejaVu Sans.\n",
      "  fig.canvas.print_figure(bytes_io, **kw)\n",
      "findfont: Font family 'AppleGothic' not found.\n",
      "findfont: Font family 'AppleGothic' not found.\n",
      "findfont: Font family 'AppleGothic' not found.\n",
      "findfont: Font family 'AppleGothic' not found.\n",
      "findfont: Font family 'AppleGothic' not found.\n",
      "findfont: Font family 'AppleGothic' not found.\n",
      "findfont: Font family 'AppleGothic' not found.\n",
      "findfont: Font family 'AppleGothic' not found.\n",
      "findfont: Font family 'AppleGothic' not found.\n",
      "findfont: Font family 'AppleGothic' not found.\n",
      "c:\\Users\\LG\\Desktop\\project\\POSCO-Holdings\\new_env\\Lib\\site-packages\\IPython\\core\\pylabtools.py:170: UserWarning: Glyph 47749 (\\N{HANGUL SYLLABLE MYEONG}) missing from font(s) DejaVu Sans.\n",
      "  fig.canvas.print_figure(bytes_io, **kw)\n",
      "findfont: Font family 'AppleGothic' not found.\n",
      "findfont: Font family 'AppleGothic' not found.\n",
      "findfont: Font family 'AppleGothic' not found.\n",
      "findfont: Font family 'AppleGothic' not found.\n",
      "findfont: Font family 'AppleGothic' not found.\n",
      "findfont: Font family 'AppleGothic' not found.\n",
      "findfont: Font family 'AppleGothic' not found.\n",
      "findfont: Font family 'AppleGothic' not found.\n",
      "findfont: Font family 'AppleGothic' not found.\n",
      "findfont: Font family 'AppleGothic' not found.\n",
      "findfont: Font family 'AppleGothic' not found.\n",
      "findfont: Font family 'AppleGothic' not found.\n",
      "findfont: Font family 'AppleGothic' not found.\n",
      "findfont: Font family 'AppleGothic' not found.\n",
      "c:\\Users\\LG\\Desktop\\project\\POSCO-Holdings\\new_env\\Lib\\site-packages\\IPython\\core\\pylabtools.py:170: UserWarning: Glyph 44368 (\\N{HANGUL SYLLABLE GYO}) missing from font(s) DejaVu Sans.\n",
      "  fig.canvas.print_figure(bytes_io, **kw)\n",
      "c:\\Users\\LG\\Desktop\\project\\POSCO-Holdings\\new_env\\Lib\\site-packages\\IPython\\core\\pylabtools.py:170: UserWarning: Glyph 53685 (\\N{HANGUL SYLLABLE TONG}) missing from font(s) DejaVu Sans.\n",
      "  fig.canvas.print_figure(bytes_io, **kw)\n",
      "c:\\Users\\LG\\Desktop\\project\\POSCO-Holdings\\new_env\\Lib\\site-packages\\IPython\\core\\pylabtools.py:170: UserWarning: Glyph 47049 (\\N{HANGUL SYLLABLE RYANG}) missing from font(s) DejaVu Sans.\n",
      "  fig.canvas.print_figure(bytes_io, **kw)\n",
      "findfont: Font family 'AppleGothic' not found.\n"
     ]
    },
    {
     "data": {
      "image/png": "[encoded data removed]",
      "text/plain": [
       "<Figure size 640x480 with 1 Axes>"
      ]
     },
     "metadata": {},
     "output_type": "display_data"
    }
   ],
   "source": [
    "sns.boxplot(x='도로명', y='교통량', data=df_9am, showfliers=False, palette='Set1')\n",
    "sns.stripplot(x='도로명', y='교통량', data=df_9am, jitter=True, color='black', alpha=0.5)\n",
    "\n",
    "plt.xticks(rotation=45)"
   ]
  },
  {
   "cell_type": "code",
   "execution_count": 1044,
   "id": "4f129a5b",
   "metadata": {},
   "outputs": [],
   "source": [
    "import sklearn as skl"
   ]
  },
  {
   "cell_type": "code",
   "execution_count": 1045,
   "id": "33d4d343",
   "metadata": {},
   "outputs": [],
   "source": [
    "import sklearn as skl"
   ]
  },
  {
   "cell_type": "code",
   "execution_count": 1046,
   "id": "70417c94",
   "metadata": {},
   "outputs": [],
   "source": [
    "from sklearn.metrics import precision_score, recall_score, f1_score, accuracy_score"
   ]
  },
  {
   "cell_type": "code",
   "execution_count": 1047,
   "id": "64068b21",
   "metadata": {},
   "outputs": [],
   "source": [
    "y = [1, 2, 3, 4, 5]"
   ]
  },
  {
   "cell_type": "code",
   "execution_count": 1048,
   "id": "f4625612",
   "metadata": {},
   "outputs": [],
   "source": [
    "y_pred = [1.2, 2.2, 2.7, 3.5, 4.5]"
   ]
  },
  {
   "cell_type": "code",
   "execution_count": 1049,
   "id": "b05a9e19",
   "metadata": {},
   "outputs": [],
   "source": [
    "import numpy as np\n",
    "\n",
    "y = np.random.randint(0, 2, size=50)\n",
    "y_pred = np.random.randint(0, 2, size=50)\n",
    "\n",
    "from sklearn.metrics import precision_score, recall_score, f1_score, accuracy_score"
   ]
  },
  {
   "cell_type": "code",
   "execution_count": 1050,
   "id": "16f2d98f",
   "metadata": {},
   "outputs": [
    {
     "data": {
      "text/plain": [
       "0.44"
      ]
     },
     "execution_count": 1050,
     "metadata": {},
     "output_type": "execute_result"
    }
   ],
   "source": [
    "accuracy_score(y, y_pred)"
   ]
  },
  {
   "cell_type": "code",
   "execution_count": 1051,
   "id": "3d4095df",
   "metadata": {},
   "outputs": [],
   "source": [
    "p = precision_score(y, y_pred)"
   ]
  },
  {
   "cell_type": "code",
   "execution_count": 1052,
   "id": "3c5632c3",
   "metadata": {},
   "outputs": [
    {
     "data": {
      "text/plain": [
       "0.4"
      ]
     },
     "execution_count": 1052,
     "metadata": {},
     "output_type": "execute_result"
    }
   ],
   "source": [
    "p"
   ]
  },
  {
   "cell_type": "code",
   "execution_count": 1053,
   "id": "27205dc7",
   "metadata": {},
   "outputs": [
    {
     "data": {
      "text/plain": [
       "array([1, 0, 0, 1, 0, 0, 0, 0, 0, 1, 1, 0, 1, 1, 0, 1, 1, 0, 0, 0, 0, 1,\n",
       "       1, 1, 1, 0, 1, 0, 0, 1, 1, 1, 0, 0, 0, 0, 0, 1, 0, 1, 0, 1, 0, 1,\n",
       "       1, 0, 0, 0, 0, 1], dtype=int32)"
      ]
     },
     "execution_count": 1053,
     "metadata": {},
     "output_type": "execute_result"
    }
   ],
   "source": [
    "y"
   ]
  },
  {
   "cell_type": "code",
   "execution_count": 1054,
   "id": "4410dddf",
   "metadata": {},
   "outputs": [
    {
     "data": {
      "text/plain": [
       "array([1, 0, 1, 0, 1, 1, 1, 0, 1, 1, 1, 0, 1, 0, 1, 1, 1, 1, 1, 1, 1, 0,\n",
       "       1, 0, 1, 0, 1, 1, 1, 1, 0, 1, 0, 1, 1, 1, 1, 0, 0, 0, 1, 1, 0, 0,\n",
       "       0, 0, 0, 0, 1, 0], dtype=int32)"
      ]
     },
     "execution_count": 1054,
     "metadata": {},
     "output_type": "execute_result"
    }
   ],
   "source": [
    "y_pred"
   ]
  },
  {
   "cell_type": "code",
   "execution_count": 1055,
   "id": "7e54f1eb",
   "metadata": {},
   "outputs": [],
   "source": [
    "p = precision_score(y, y_pred)\n",
    "r = recall_score(y, y_pred)\n",
    "f1_macro = f1_score(y, y_pred, average='macro')\n",
    "f1_micro = f1_score(y, y_pred, average='micro')"
   ]
  },
  {
   "cell_type": "code",
   "execution_count": 1056,
   "id": "e521341d",
   "metadata": {},
   "outputs": [
    {
     "name": "stdout",
     "output_type": "stream",
     "text": [
      "Precision: 0.4, Recall: 0.5454545454545454, F1 Macro: 0.4391025641025641, F1 Micro: 0.44\n"
     ]
    }
   ],
   "source": [
    "print(f\"Precision: {p}, Recall: {r}, F1 Macro: {f1_macro}, F1 Micro: {f1_micro}\")\n"
   ]
  },
  {
   "cell_type": "code",
   "execution_count": 1057,
   "id": "204bd25c",
   "metadata": {},
   "outputs": [
    {
     "data": {
      "text/plain": [
       "['00시',\n",
       " '01시',\n",
       " '02시',\n",
       " '03시',\n",
       " '04시',\n",
       " '05시',\n",
       " '06시',\n",
       " '07시',\n",
       " '08시',\n",
       " '09시',\n",
       " '10시',\n",
       " '11시',\n",
       " '12시',\n",
       " '13시',\n",
       " '14시',\n",
       " '15시',\n",
       " '16시',\n",
       " '17시',\n",
       " '18시',\n",
       " '19시',\n",
       " '20시',\n",
       " '21시',\n",
       " '22시',\n",
       " '23시']"
      ]
     },
     "execution_count": 1057,
     "metadata": {},
     "output_type": "execute_result"
    }
   ],
   "source": [
    "hour_columns"
   ]
  },
  {
   "cell_type": "code",
   "execution_count": 1058,
   "id": "84905954",
   "metadata": {},
   "outputs": [],
   "source": [
    "X = df[hour_columns]"
   ]
  },
  {
   "cell_type": "code",
   "execution_count": 1059,
   "id": "d3351049",
   "metadata": {},
   "outputs": [
    {
     "data": {
      "text/html": [
       "<div>\n",
       "<style scoped>\n",
       "    .dataframe tbody tr th:only-of-type {\n",
       "        vertical-align: middle;\n",
       "    }\n",
       "\n",
       "    .dataframe tbody tr th {\n",
       "        vertical-align: top;\n",
       "    }\n",
       "\n",
       "    .dataframe thead th {\n",
       "        text-align: right;\n",
       "    }\n",
       "</style>\n",
       "<table border=\"1\" class=\"dataframe\">\n",
       "  <thead>\n",
       "    <tr style=\"text-align: right;\">\n",
       "      <th></th>\n",
       "      <th>00시</th>\n",
       "      <th>01시</th>\n",
       "      <th>02시</th>\n",
       "      <th>03시</th>\n",
       "      <th>04시</th>\n",
       "      <th>05시</th>\n",
       "      <th>06시</th>\n",
       "      <th>07시</th>\n",
       "      <th>08시</th>\n",
       "      <th>09시</th>\n",
       "      <th>...</th>\n",
       "      <th>14시</th>\n",
       "      <th>15시</th>\n",
       "      <th>16시</th>\n",
       "      <th>17시</th>\n",
       "      <th>18시</th>\n",
       "      <th>19시</th>\n",
       "      <th>20시</th>\n",
       "      <th>21시</th>\n",
       "      <th>22시</th>\n",
       "      <th>23시</th>\n",
       "    </tr>\n",
       "  </thead>\n",
       "  <tbody>\n",
       "    <tr>\n",
       "      <th>0</th>\n",
       "      <td>87</td>\n",
       "      <td>57</td>\n",
       "      <td>53</td>\n",
       "      <td>21</td>\n",
       "      <td>16</td>\n",
       "      <td>10</td>\n",
       "      <td>26</td>\n",
       "      <td>45</td>\n",
       "      <td>91</td>\n",
       "      <td>106</td>\n",
       "      <td>...</td>\n",
       "      <td>387</td>\n",
       "      <td>435</td>\n",
       "      <td>473</td>\n",
       "      <td>453</td>\n",
       "      <td>408</td>\n",
       "      <td>367</td>\n",
       "      <td>284</td>\n",
       "      <td>200</td>\n",
       "      <td>138</td>\n",
       "      <td>111</td>\n",
       "    </tr>\n",
       "    <tr>\n",
       "      <th>1</th>\n",
       "      <td>69</td>\n",
       "      <td>26</td>\n",
       "      <td>23</td>\n",
       "      <td>14</td>\n",
       "      <td>7</td>\n",
       "      <td>9</td>\n",
       "      <td>27</td>\n",
       "      <td>55</td>\n",
       "      <td>107</td>\n",
       "      <td>144</td>\n",
       "      <td>...</td>\n",
       "      <td>514</td>\n",
       "      <td>579</td>\n",
       "      <td>522</td>\n",
       "      <td>546</td>\n",
       "      <td>518</td>\n",
       "      <td>427</td>\n",
       "      <td>303</td>\n",
       "      <td>249</td>\n",
       "      <td>205</td>\n",
       "      <td>91</td>\n",
       "    </tr>\n",
       "    <tr>\n",
       "      <th>2</th>\n",
       "      <td>63</td>\n",
       "      <td>43</td>\n",
       "      <td>29</td>\n",
       "      <td>11</td>\n",
       "      <td>10</td>\n",
       "      <td>12</td>\n",
       "      <td>13</td>\n",
       "      <td>44</td>\n",
       "      <td>70</td>\n",
       "      <td>93</td>\n",
       "      <td>...</td>\n",
       "      <td>418</td>\n",
       "      <td>497</td>\n",
       "      <td>497</td>\n",
       "      <td>458</td>\n",
       "      <td>416</td>\n",
       "      <td>330</td>\n",
       "      <td>280</td>\n",
       "      <td>209</td>\n",
       "      <td>144</td>\n",
       "      <td>80</td>\n",
       "    </tr>\n",
       "    <tr>\n",
       "      <th>3</th>\n",
       "      <td>50</td>\n",
       "      <td>34</td>\n",
       "      <td>22</td>\n",
       "      <td>12</td>\n",
       "      <td>18</td>\n",
       "      <td>26</td>\n",
       "      <td>74</td>\n",
       "      <td>224</td>\n",
       "      <td>506</td>\n",
       "      <td>654</td>\n",
       "      <td>...</td>\n",
       "      <td>395</td>\n",
       "      <td>424</td>\n",
       "      <td>410</td>\n",
       "      <td>455</td>\n",
       "      <td>592</td>\n",
       "      <td>534</td>\n",
       "      <td>423</td>\n",
       "      <td>288</td>\n",
       "      <td>187</td>\n",
       "      <td>113</td>\n",
       "    </tr>\n",
       "    <tr>\n",
       "      <th>4</th>\n",
       "      <td>76</td>\n",
       "      <td>35</td>\n",
       "      <td>16</td>\n",
       "      <td>10</td>\n",
       "      <td>12</td>\n",
       "      <td>24</td>\n",
       "      <td>63</td>\n",
       "      <td>181</td>\n",
       "      <td>488</td>\n",
       "      <td>663</td>\n",
       "      <td>...</td>\n",
       "      <td>427</td>\n",
       "      <td>435</td>\n",
       "      <td>421</td>\n",
       "      <td>469</td>\n",
       "      <td>534</td>\n",
       "      <td>610</td>\n",
       "      <td>458</td>\n",
       "      <td>335</td>\n",
       "      <td>253</td>\n",
       "      <td>121</td>\n",
       "    </tr>\n",
       "    <tr>\n",
       "      <th>...</th>\n",
       "      <td>...</td>\n",
       "      <td>...</td>\n",
       "      <td>...</td>\n",
       "      <td>...</td>\n",
       "      <td>...</td>\n",
       "      <td>...</td>\n",
       "      <td>...</td>\n",
       "      <td>...</td>\n",
       "      <td>...</td>\n",
       "      <td>...</td>\n",
       "      <td>...</td>\n",
       "      <td>...</td>\n",
       "      <td>...</td>\n",
       "      <td>...</td>\n",
       "      <td>...</td>\n",
       "      <td>...</td>\n",
       "      <td>...</td>\n",
       "      <td>...</td>\n",
       "      <td>...</td>\n",
       "      <td>...</td>\n",
       "      <td>...</td>\n",
       "    </tr>\n",
       "    <tr>\n",
       "      <th>1435</th>\n",
       "      <td>109</td>\n",
       "      <td>59</td>\n",
       "      <td>37</td>\n",
       "      <td>14</td>\n",
       "      <td>23</td>\n",
       "      <td>13</td>\n",
       "      <td>22</td>\n",
       "      <td>29</td>\n",
       "      <td>68</td>\n",
       "      <td>143</td>\n",
       "      <td>...</td>\n",
       "      <td>441</td>\n",
       "      <td>425</td>\n",
       "      <td>497</td>\n",
       "      <td>393</td>\n",
       "      <td>345</td>\n",
       "      <td>279</td>\n",
       "      <td>220</td>\n",
       "      <td>205</td>\n",
       "      <td>177</td>\n",
       "      <td>117</td>\n",
       "    </tr>\n",
       "    <tr>\n",
       "      <th>1436</th>\n",
       "      <td>64</td>\n",
       "      <td>37</td>\n",
       "      <td>27</td>\n",
       "      <td>14</td>\n",
       "      <td>8</td>\n",
       "      <td>6</td>\n",
       "      <td>26</td>\n",
       "      <td>15</td>\n",
       "      <td>42</td>\n",
       "      <td>72</td>\n",
       "      <td>...</td>\n",
       "      <td>345</td>\n",
       "      <td>320</td>\n",
       "      <td>338</td>\n",
       "      <td>294</td>\n",
       "      <td>313</td>\n",
       "      <td>248</td>\n",
       "      <td>187</td>\n",
       "      <td>166</td>\n",
       "      <td>181</td>\n",
       "      <td>96</td>\n",
       "    </tr>\n",
       "    <tr>\n",
       "      <th>1437</th>\n",
       "      <td>56</td>\n",
       "      <td>24</td>\n",
       "      <td>12</td>\n",
       "      <td>10</td>\n",
       "      <td>10</td>\n",
       "      <td>16</td>\n",
       "      <td>36</td>\n",
       "      <td>55</td>\n",
       "      <td>128</td>\n",
       "      <td>381</td>\n",
       "      <td>...</td>\n",
       "      <td>168</td>\n",
       "      <td>223</td>\n",
       "      <td>237</td>\n",
       "      <td>355</td>\n",
       "      <td>659</td>\n",
       "      <td>818</td>\n",
       "      <td>528</td>\n",
       "      <td>367</td>\n",
       "      <td>239</td>\n",
       "      <td>159</td>\n",
       "    </tr>\n",
       "    <tr>\n",
       "      <th>1438</th>\n",
       "      <td>78</td>\n",
       "      <td>30</td>\n",
       "      <td>21</td>\n",
       "      <td>12</td>\n",
       "      <td>18</td>\n",
       "      <td>11</td>\n",
       "      <td>34</td>\n",
       "      <td>51</td>\n",
       "      <td>131</td>\n",
       "      <td>358</td>\n",
       "      <td>...</td>\n",
       "      <td>199</td>\n",
       "      <td>207</td>\n",
       "      <td>249</td>\n",
       "      <td>347</td>\n",
       "      <td>625</td>\n",
       "      <td>785</td>\n",
       "      <td>593</td>\n",
       "      <td>401</td>\n",
       "      <td>294</td>\n",
       "      <td>143</td>\n",
       "    </tr>\n",
       "    <tr>\n",
       "      <th>1439</th>\n",
       "      <td>78</td>\n",
       "      <td>39</td>\n",
       "      <td>19</td>\n",
       "      <td>9</td>\n",
       "      <td>8</td>\n",
       "      <td>16</td>\n",
       "      <td>37</td>\n",
       "      <td>49</td>\n",
       "      <td>144</td>\n",
       "      <td>369</td>\n",
       "      <td>...</td>\n",
       "      <td>211</td>\n",
       "      <td>244</td>\n",
       "      <td>249</td>\n",
       "      <td>395</td>\n",
       "      <td>674</td>\n",
       "      <td>803</td>\n",
       "      <td>519</td>\n",
       "      <td>411</td>\n",
       "      <td>279</td>\n",
       "      <td>203</td>\n",
       "    </tr>\n",
       "  </tbody>\n",
       "</table>\n",
       "<p>1440 rows × 24 columns</p>\n",
       "</div>"
      ],
      "text/plain": [
       "      00시  01시  02시  03시  04시  05시  06시  07시  08시  09시  ...  14시  15시  16시  \\\n",
       "0      87   57   53   21   16   10   26   45   91  106  ...  387  435  473   \n",
       "1      69   26   23   14    7    9   27   55  107  144  ...  514  579  522   \n",
       "2      63   43   29   11   10   12   13   44   70   93  ...  418  497  497   \n",
       "3      50   34   22   12   18   26   74  224  506  654  ...  395  424  410   \n",
       "4      76   35   16   10   12   24   63  181  488  663  ...  427  435  421   \n",
       "...   ...  ...  ...  ...  ...  ...  ...  ...  ...  ...  ...  ...  ...  ...   \n",
       "1435  109   59   37   14   23   13   22   29   68  143  ...  441  425  497   \n",
       "1436   64   37   27   14    8    6   26   15   42   72  ...  345  320  338   \n",
       "1437   56   24   12   10   10   16   36   55  128  381  ...  168  223  237   \n",
       "1438   78   30   21   12   18   11   34   51  131  358  ...  199  207  249   \n",
       "1439   78   39   19    9    8   16   37   49  144  369  ...  211  244  249   \n",
       "\n",
       "      17시  18시  19시  20시  21시  22시  23시  \n",
       "0     453  408  367  284  200  138  111  \n",
       "1     546  518  427  303  249  205   91  \n",
       "2     458  416  330  280  209  144   80  \n",
       "3     455  592  534  423  288  187  113  \n",
       "4     469  534  610  458  335  253  121  \n",
       "...   ...  ...  ...  ...  ...  ...  ...  \n",
       "1435  393  345  279  220  205  177  117  \n",
       "1436  294  313  248  187  166  181   96  \n",
       "1437  355  659  818  528  367  239  159  \n",
       "1438  347  625  785  593  401  294  143  \n",
       "1439  395  674  803  519  411  279  203  \n",
       "\n",
       "[1440 rows x 24 columns]"
      ]
     },
     "execution_count": 1059,
     "metadata": {},
     "output_type": "execute_result"
    }
   ],
   "source": [
    "X"
   ]
  },
  {
   "cell_type": "code",
   "execution_count": 1060,
   "id": "5c33dd7d",
   "metadata": {},
   "outputs": [],
   "source": [
    "from sklearn.cluster import KMeans"
   ]
  },
  {
   "cell_type": "code",
   "execution_count": 1062,
   "id": "d77f33f7",
   "metadata": {},
   "outputs": [],
   "source": [
    "kmeans_full = KMeans(n_clusters=9, random_state=42)\n",
    "df['cluster'] = kmeans_full.fit_predict(X)"
   ]
  },
  {
   "cell_type": "code",
   "execution_count": 1067,
   "id": "f68ee1dc",
   "metadata": {},
   "outputs": [
    {
     "data": {
      "text/plain": [
       "<matplotlib.collections.PathCollection at 0x1d02b9a5f10>"
      ]
     },
     "execution_count": 1067,
     "metadata": {},
     "output_type": "execute_result"
    },
    {
     "data": {
      "image/png": "[encoded data removed]",
      "text/plain": [
       "<Figure size 1000x600 with 1 Axes>"
      ]
     },
     "metadata": {},
     "output_type": "display_data"
    }
   ],
   "source": [
    "plt.figure(figsize=(10,6))\n",
    "plt.scatter(df[hour_columns[9]], df[hour_columns[18]], c=df['cluster'], cmap='tab10', s=50, alpha=0.7)\n",
    "plt.scatter(kmeans_full.cluster_centers_[:, 9], kmeans_full.cluster_centers_[:, 18], c='red', marker='x', s=100, label='Centroids')"
   ]
  },
  {
   "cell_type": "code",
   "execution_count": null,
   "id": "4802d914",
   "metadata": {},
   "outputs": [],
   "source": []
  }
 ],
 "metadata": {
  "kernelspec": {
   "display_name": "new_env",
   "language": "python",
   "name": "python3"
  },
  "language_info": {
   "codemirror_mode": {
    "name": "ipython",
    "version": 3
   },
   "file_extension": ".py",
   "mimetype": "text/x-python",
   "name": "python",
   "nbconvert_exporter": "python",
   "pygments_lexer": "ipython3",
   "version": "3.11.13"
  }
 },
 "nbformat": 4,
 "nbformat_minor": 5
}
