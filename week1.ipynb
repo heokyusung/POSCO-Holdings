{
 "cells": [
  {
   "cell_type": "code",
   "execution_count": 1,
   "id": "2e3b4850",
   "metadata": {},
   "outputs": [],
   "source": [
    "import pandas as pd"
   ]
  },
  {
   "cell_type": "code",
   "execution_count": 5,
   "id": "a8c96d01",
   "metadata": {},
   "outputs": [],
   "source": [
    "import numpy as np\n",
    "import matplotlib.pyplot as plt "
   ]
  },
  {
   "cell_type": "code",
   "execution_count": 7,
   "id": "654456e1",
   "metadata": {},
   "outputs": [
    {
     "name": "stdout",
     "output_type": "stream",
     "text": [
      "Hello, World!\n"
     ]
    }
   ],
   "source": [
    "print(\"Hello, World!\")"
   ]
  },
  {
   "cell_type": "code",
   "execution_count": 8,
   "id": "85aab830",
   "metadata": {},
   "outputs": [],
   "source": [
    "age = 25"
   ]
  },
  {
   "cell_type": "code",
   "execution_count": 9,
   "id": "8b95a856",
   "metadata": {},
   "outputs": [],
   "source": [
    "name = \"Alice\""
   ]
  },
  {
   "cell_type": "code",
   "execution_count": 10,
   "id": "4d3e0717",
   "metadata": {},
   "outputs": [
    {
     "name": "stdout",
     "output_type": "stream",
     "text": [
      "<class 'int'>\n"
     ]
    }
   ],
   "source": [
    "print(type(age))"
   ]
  },
  {
   "cell_type": "code",
   "execution_count": 11,
   "id": "842277a5",
   "metadata": {},
   "outputs": [
    {
     "name": "stdout",
     "output_type": "stream",
     "text": [
      "<class 'str'>\n"
     ]
    }
   ],
   "source": [
    "print(type(name))"
   ]
  },
  {
   "cell_type": "code",
   "execution_count": 12,
   "id": "d222d26b",
   "metadata": {},
   "outputs": [],
   "source": [
    "a = True"
   ]
  },
  {
   "cell_type": "code",
   "execution_count": 13,
   "id": "d72ab62a",
   "metadata": {},
   "outputs": [],
   "source": [
    "b = False"
   ]
  },
  {
   "cell_type": "code",
   "execution_count": 14,
   "id": "349a7e69",
   "metadata": {},
   "outputs": [
    {
     "name": "stdout",
     "output_type": "stream",
     "text": [
      "a:True, type: <class 'bool'>\n"
     ]
    }
   ],
   "source": [
    "print(f\"a:{a}, type: {type(a)}\")"
   ]
  },
  {
   "cell_type": "code",
   "execution_count": 16,
   "id": "17cd6509",
   "metadata": {},
   "outputs": [
    {
     "name": "stdout",
     "output_type": "stream",
     "text": [
      "a:True, b:False\n"
     ]
    }
   ],
   "source": [
    "print(f\"a:{a}, b:{b}\")"
   ]
  },
  {
   "cell_type": "code",
   "execution_count": 17,
   "id": "2a86f6bb",
   "metadata": {},
   "outputs": [
    {
     "name": "stdout",
     "output_type": "stream",
     "text": [
      "a+b: 1\n"
     ]
    }
   ],
   "source": [
    "print(f\"a+b: {a+b}\")"
   ]
  },
  {
   "cell_type": "code",
   "execution_count": 22,
   "id": "793c12eb",
   "metadata": {},
   "outputs": [],
   "source": [
    "name = \"Alice\"\n",
    "greeting = \"Hello, World!\"\n",
    "full_greeting = greeting + \" My name is \" + name\n"
   ]
  },
  {
   "cell_type": "code",
   "execution_count": 23,
   "id": "d1e1f0d1",
   "metadata": {},
   "outputs": [
    {
     "name": "stdout",
     "output_type": "stream",
     "text": [
      "Hello, World! My name is Alice\n"
     ]
    }
   ],
   "source": [
    "print(full_greeting)"
   ]
  },
  {
   "cell_type": "code",
   "execution_count": 24,
   "id": "02fcb093",
   "metadata": {},
   "outputs": [
    {
     "name": "stdout",
     "output_type": "stream",
     "text": [
      "Type of name:<class 'str'>\n"
     ]
    }
   ],
   "source": [
    "print(f\"Type of name:{type(name)}\")"
   ]
  },
  {
   "cell_type": "code",
   "execution_count": 25,
   "id": "18d5482c",
   "metadata": {},
   "outputs": [
    {
     "name": "stdout",
     "output_type": "stream",
     "text": [
      "len\n"
     ]
    }
   ],
   "source": [
    "print(f\"len\")"
   ]
  },
  {
   "cell_type": "code",
   "execution_count": 26,
   "id": "5c36b007",
   "metadata": {},
   "outputs": [
    {
     "name": "stdout",
     "output_type": "stream",
     "text": [
      "lenth of name: 5\n"
     ]
    }
   ],
   "source": [
    "print(f\"lenth of name: {len(name)}\")"
   ]
  },
  {
   "cell_type": "code",
   "execution_count": 27,
   "id": "6fd35aa1",
   "metadata": {},
   "outputs": [
    {
     "data": {
      "text/plain": [
       "'Hellooo, Wooorld!'"
      ]
     },
     "execution_count": 27,
     "metadata": {},
     "output_type": "execute_result"
    }
   ],
   "source": [
    "greeting.replace('o','ooo')"
   ]
  },
  {
   "cell_type": "code",
   "execution_count": 28,
   "id": "b9991ed5",
   "metadata": {},
   "outputs": [
    {
     "data": {
      "text/plain": [
       "'HELLO, WORLD!'"
      ]
     },
     "execution_count": 28,
     "metadata": {},
     "output_type": "execute_result"
    }
   ],
   "source": [
    "greeting.upper()"
   ]
  },
  {
   "cell_type": "code",
   "execution_count": 29,
   "id": "01d0f356",
   "metadata": {},
   "outputs": [
    {
     "data": {
      "text/plain": [
       "'hello, world!'"
      ]
     },
     "execution_count": 29,
     "metadata": {},
     "output_type": "execute_result"
    }
   ],
   "source": [
    "greeting.lower()"
   ]
  },
  {
   "cell_type": "code",
   "execution_count": 30,
   "id": "02fc23e2",
   "metadata": {},
   "outputs": [
    {
     "data": {
      "text/plain": [
       "'Hello, World!'"
      ]
     },
     "execution_count": 30,
     "metadata": {},
     "output_type": "execute_result"
    }
   ],
   "source": [
    "greeting"
   ]
  },
  {
   "cell_type": "code",
   "execution_count": 31,
   "id": "3154da23",
   "metadata": {},
   "outputs": [
    {
     "data": {
      "text/plain": [
       "30"
      ]
     },
     "execution_count": 31,
     "metadata": {},
     "output_type": "execute_result"
    }
   ],
   "source": [
    "len(full_greeting)"
   ]
  },
  {
   "cell_type": "code",
   "execution_count": 32,
   "id": "625004eb",
   "metadata": {},
   "outputs": [
    {
     "name": "stdout",
     "output_type": "stream",
     "text": [
      "Hello, World! My name is Alice\n"
     ]
    }
   ],
   "source": [
    "print(full_greeting)"
   ]
  },
  {
   "cell_type": "code",
   "execution_count": 36,
   "id": "a090d624",
   "metadata": {},
   "outputs": [],
   "source": [
    "# Split the full_greeting string by comma\n",
    "a = full_greeting.split(',')"
   ]
  },
  {
   "cell_type": "code",
   "execution_count": 37,
   "id": "9317e06c",
   "metadata": {},
   "outputs": [
    {
     "data": {
      "text/plain": [
       "['Hello', ' World! My name is Alice']"
      ]
     },
     "execution_count": 37,
     "metadata": {},
     "output_type": "execute_result"
    }
   ],
   "source": [
    "a"
   ]
  },
  {
   "cell_type": "code",
   "execution_count": 38,
   "id": "1e4fc36f",
   "metadata": {},
   "outputs": [
    {
     "data": {
      "text/plain": [
       "list"
      ]
     },
     "execution_count": 38,
     "metadata": {},
     "output_type": "execute_result"
    }
   ],
   "source": [
    "type(a)"
   ]
  },
  {
   "cell_type": "code",
   "execution_count": 39,
   "id": "3b8ac114",
   "metadata": {},
   "outputs": [
    {
     "data": {
      "text/plain": [
       "2"
      ]
     },
     "execution_count": 39,
     "metadata": {},
     "output_type": "execute_result"
    }
   ],
   "source": [
    "len(a)"
   ]
  },
  {
   "cell_type": "code",
   "execution_count": 40,
   "id": "5ba00a31",
   "metadata": {},
   "outputs": [
    {
     "data": {
      "text/plain": [
       "type[0]"
      ]
     },
     "execution_count": 40,
     "metadata": {},
     "output_type": "execute_result"
    }
   ],
   "source": [
    "type[0]"
   ]
  },
  {
   "cell_type": "code",
   "execution_count": 41,
   "id": "8f909b94",
   "metadata": {},
   "outputs": [
    {
     "name": "stdout",
     "output_type": "stream",
     "text": [
      "Hello\n"
     ]
    }
   ],
   "source": [
    "print(a[0])"
   ]
  },
  {
   "cell_type": "code",
   "execution_count": 42,
   "id": "24c3aa1e",
   "metadata": {},
   "outputs": [],
   "source": [
    "my_list = [1, 2, 3, 4, 5]"
   ]
  },
  {
   "cell_type": "code",
   "execution_count": 43,
   "id": "ae9bc323",
   "metadata": {},
   "outputs": [],
   "source": [
    "my_list.insert(10,100)"
   ]
  },
  {
   "cell_type": "code",
   "execution_count": 44,
   "id": "2db48dfa",
   "metadata": {},
   "outputs": [
    {
     "data": {
      "text/plain": [
       "[1, 2, 3, 4, 5, 100]"
      ]
     },
     "execution_count": 44,
     "metadata": {},
     "output_type": "execute_result"
    }
   ],
   "source": [
    "my_list"
   ]
  },
  {
   "cell_type": "code",
   "execution_count": 45,
   "id": "24e674c0",
   "metadata": {},
   "outputs": [
    {
     "ename": "IndexError",
     "evalue": "list index out of range",
     "output_type": "error",
     "traceback": [
      "\u001b[31m---------------------------------------------------------------------------\u001b[39m",
      "\u001b[31mIndexError\u001b[39m                                Traceback (most recent call last)",
      "\u001b[36mCell\u001b[39m\u001b[36m \u001b[39m\u001b[32mIn[45]\u001b[39m\u001b[32m, line 1\u001b[39m\n\u001b[32m----> \u001b[39m\u001b[32m1\u001b[39m \u001b[43mmy_list\u001b[49m\u001b[43m[\u001b[49m\u001b[32;43m10\u001b[39;49m\u001b[43m]\u001b[49m\n",
      "\u001b[31mIndexError\u001b[39m: list index out of range"
     ]
    }
   ],
   "source": [
    "my_list[10]"
   ]
  },
  {
   "cell_type": "code",
   "execution_count": 46,
   "id": "70726a94",
   "metadata": {},
   "outputs": [
    {
     "data": {
      "text/plain": [
       "6"
      ]
     },
     "execution_count": 46,
     "metadata": {},
     "output_type": "execute_result"
    }
   ],
   "source": [
    "len(my_list)"
   ]
  },
  {
   "cell_type": "code",
   "execution_count": 47,
   "id": "9ab71c39",
   "metadata": {},
   "outputs": [
    {
     "ename": "IndexError",
     "evalue": "list assignment index out of range",
     "output_type": "error",
     "traceback": [
      "\u001b[31m---------------------------------------------------------------------------\u001b[39m",
      "\u001b[31mIndexError\u001b[39m                                Traceback (most recent call last)",
      "\u001b[36mCell\u001b[39m\u001b[36m \u001b[39m\u001b[32mIn[47]\u001b[39m\u001b[32m, line 1\u001b[39m\n\u001b[32m----> \u001b[39m\u001b[32m1\u001b[39m \u001b[38;5;28;01mdel\u001b[39;00m \u001b[43mmy_list\u001b[49m\u001b[43m[\u001b[49m\u001b[32;43m10\u001b[39;49m\u001b[43m]\u001b[49m\n",
      "\u001b[31mIndexError\u001b[39m: list assignment index out of range"
     ]
    }
   ],
   "source": [
    "del my_list[10]"
   ]
  },
  {
   "cell_type": "code",
   "execution_count": 48,
   "id": "1bd36694",
   "metadata": {},
   "outputs": [],
   "source": [
    "del my_list[5]"
   ]
  },
  {
   "cell_type": "code",
   "execution_count": 49,
   "id": "237451eb",
   "metadata": {},
   "outputs": [
    {
     "data": {
      "text/plain": [
       "[1, 2, 3, 4, 5]"
      ]
     },
     "execution_count": 49,
     "metadata": {},
     "output_type": "execute_result"
    }
   ],
   "source": [
    "my_list"
   ]
  },
  {
   "cell_type": "code",
   "execution_count": 50,
   "id": "90861180",
   "metadata": {},
   "outputs": [
    {
     "ename": "IndexError",
     "evalue": "list assignment index out of range",
     "output_type": "error",
     "traceback": [
      "\u001b[31m---------------------------------------------------------------------------\u001b[39m",
      "\u001b[31mIndexError\u001b[39m                                Traceback (most recent call last)",
      "\u001b[36mCell\u001b[39m\u001b[36m \u001b[39m\u001b[32mIn[50]\u001b[39m\u001b[32m, line 1\u001b[39m\n\u001b[32m----> \u001b[39m\u001b[32m1\u001b[39m \u001b[43mmy_list\u001b[49m\u001b[43m[\u001b[49m\u001b[32;43m5\u001b[39;49m\u001b[43m]\u001b[49m =\u001b[32m100\u001b[39m\n",
      "\u001b[31mIndexError\u001b[39m: list assignment index out of range"
     ]
    }
   ],
   "source": [
    "my_list[5] =100"
   ]
  },
  {
   "cell_type": "code",
   "execution_count": 51,
   "id": "683af970",
   "metadata": {},
   "outputs": [],
   "source": [
    "my_list.insert(5, 100)"
   ]
  },
  {
   "cell_type": "code",
   "execution_count": 52,
   "id": "3ccaf236",
   "metadata": {},
   "outputs": [
    {
     "data": {
      "text/plain": [
       "[1, 2, 3, 4, 5, 100]"
      ]
     },
     "execution_count": 52,
     "metadata": {},
     "output_type": "execute_result"
    }
   ],
   "source": [
    "my_list"
   ]
  },
  {
   "cell_type": "code",
   "execution_count": 53,
   "id": "1d8d9c2c",
   "metadata": {},
   "outputs": [],
   "source": [
    "my_list.insert(0, 0)"
   ]
  },
  {
   "cell_type": "code",
   "execution_count": 54,
   "id": "a8a14367",
   "metadata": {},
   "outputs": [
    {
     "data": {
      "text/plain": [
       "[0, 1, 2, 3, 4, 5, 100]"
      ]
     },
     "execution_count": 54,
     "metadata": {},
     "output_type": "execute_result"
    }
   ],
   "source": [
    "my_list"
   ]
  },
  {
   "cell_type": "code",
   "execution_count": 55,
   "id": "bbf72efd",
   "metadata": {},
   "outputs": [],
   "source": [
    "my_list.append(5)"
   ]
  },
  {
   "cell_type": "code",
   "execution_count": 56,
   "id": "f22516c2",
   "metadata": {},
   "outputs": [
    {
     "data": {
      "text/plain": [
       "[0, 1, 2, 3, 4, 5, 100, 5]"
      ]
     },
     "execution_count": 56,
     "metadata": {},
     "output_type": "execute_result"
    }
   ],
   "source": [
    "my_list"
   ]
  },
  {
   "cell_type": "code",
   "execution_count": 59,
   "id": "1d3c43c9",
   "metadata": {},
   "outputs": [],
   "source": [
    "my_list.remove(5)"
   ]
  },
  {
   "cell_type": "code",
   "execution_count": 60,
   "id": "3ad3f931",
   "metadata": {},
   "outputs": [
    {
     "data": {
      "text/plain": [
       "[0, 1, 2, 3, 4, 100]"
      ]
     },
     "execution_count": 60,
     "metadata": {},
     "output_type": "execute_result"
    }
   ],
   "source": [
    "my_list"
   ]
  },
  {
   "cell_type": "code",
   "execution_count": 61,
   "id": "4895a004",
   "metadata": {},
   "outputs": [
    {
     "data": {
      "text/plain": [
       "4"
      ]
     },
     "execution_count": 61,
     "metadata": {},
     "output_type": "execute_result"
    }
   ],
   "source": [
    "my_list.pop(4)"
   ]
  },
  {
   "cell_type": "code",
   "execution_count": 62,
   "id": "c6f72b05",
   "metadata": {},
   "outputs": [
    {
     "data": {
      "text/plain": [
       "[0, 1, 2, 3, 100]"
      ]
     },
     "execution_count": 62,
     "metadata": {},
     "output_type": "execute_result"
    }
   ],
   "source": [
    "my_list"
   ]
  },
  {
   "cell_type": "code",
   "execution_count": 63,
   "id": "0d98855b",
   "metadata": {},
   "outputs": [
    {
     "ename": "TypeError",
     "evalue": "'list' object is not callable",
     "output_type": "error",
     "traceback": [
      "\u001b[31m---------------------------------------------------------------------------\u001b[39m",
      "\u001b[31mTypeError\u001b[39m                                 Traceback (most recent call last)",
      "\u001b[36mCell\u001b[39m\u001b[36m \u001b[39m\u001b[32mIn[63]\u001b[39m\u001b[32m, line 1\u001b[39m\n\u001b[32m----> \u001b[39m\u001b[32m1\u001b[39m \u001b[43mmy_list\u001b[49m\u001b[43m(\u001b[49m\u001b[32;43m100\u001b[39;49m\u001b[43m)\u001b[49m\n",
      "\u001b[31mTypeError\u001b[39m: 'list' object is not callable"
     ]
    }
   ],
   "source": [
    "my_list(100)"
   ]
  },
  {
   "cell_type": "code",
   "execution_count": 68,
   "id": "c6df1fba",
   "metadata": {},
   "outputs": [
    {
     "data": {
      "text/plain": [
       "4"
      ]
     },
     "execution_count": 68,
     "metadata": {},
     "output_type": "execute_result"
    }
   ],
   "source": [
    "my_list.index(100)"
   ]
  },
  {
   "cell_type": "code",
   "execution_count": 69,
   "id": "de3d3fc9",
   "metadata": {},
   "outputs": [
    {
     "name": "stdout",
     "output_type": "stream",
     "text": [
      "None\n"
     ]
    }
   ],
   "source": [
    "print(my_list.reverse())"
   ]
  },
  {
   "cell_type": "code",
   "execution_count": 70,
   "id": "1d24af71",
   "metadata": {},
   "outputs": [
    {
     "data": {
      "text/plain": [
       "[100, 3, 2, 1, 0]"
      ]
     },
     "execution_count": 70,
     "metadata": {},
     "output_type": "execute_result"
    }
   ],
   "source": [
    "my_list"
   ]
  },
  {
   "cell_type": "code",
   "execution_count": 71,
   "id": "8de6518e",
   "metadata": {},
   "outputs": [],
   "source": [
    "import numpy as np"
   ]
  },
  {
   "cell_type": "code",
   "execution_count": 73,
   "id": "f27cbb2a",
   "metadata": {},
   "outputs": [],
   "source": [
    "import seaborn as sns"
   ]
  },
  {
   "cell_type": "code",
   "execution_count": 74,
   "id": "c9906cc3",
   "metadata": {},
   "outputs": [],
   "source": [
    "data = np.random.rand(5)"
   ]
  },
  {
   "cell_type": "code",
   "execution_count": 75,
   "id": "0806a331",
   "metadata": {},
   "outputs": [
    {
     "data": {
      "text/plain": [
       "array([0.19317952, 0.34371101, 0.41987679, 0.12831938, 0.83127918])"
      ]
     },
     "execution_count": 75,
     "metadata": {},
     "output_type": "execute_result"
    }
   ],
   "source": [
    "data"
   ]
  },
  {
   "cell_type": "code",
   "execution_count": 76,
   "id": "0c136460",
   "metadata": {},
   "outputs": [
    {
     "data": {
      "text/plain": [
       "numpy.ndarray"
      ]
     },
     "execution_count": 76,
     "metadata": {},
     "output_type": "execute_result"
    }
   ],
   "source": [
    "type(data)"
   ]
  },
  {
   "cell_type": "code",
   "execution_count": 77,
   "id": "eaf46b23",
   "metadata": {},
   "outputs": [
    {
     "data": {
      "text/plain": [
       "[0.19317951934126143,\n",
       " 0.3437110149068927,\n",
       " 0.41987679407333833,\n",
       " 0.12831937831247398,\n",
       " 0.8312791770263962]"
      ]
     },
     "execution_count": 77,
     "metadata": {},
     "output_type": "execute_result"
    }
   ],
   "source": [
    "data.tolist()"
   ]
  },
  {
   "cell_type": "code",
   "execution_count": 78,
   "id": "056049df",
   "metadata": {},
   "outputs": [],
   "source": [
    "data = {'Name' : ['Alice', 'Bob', 'Charlie'],\n",
    "        'Age' : [25, 30, 35],\n",
    "        'City' : ['New York', 'Los Angeles', 'Chicago']}"
   ]
  },
  {
   "cell_type": "code",
   "execution_count": 79,
   "id": "b2393820",
   "metadata": {},
   "outputs": [
    {
     "data": {
      "text/plain": [
       "{'Name': ['Alice', 'Bob', 'Charlie'],\n",
       " 'Age': [25, 30, 35],\n",
       " 'City': ['New York', 'Los Angeles', 'Chicago']}"
      ]
     },
     "execution_count": 79,
     "metadata": {},
     "output_type": "execute_result"
    }
   ],
   "source": [
    "data"
   ]
  },
  {
   "cell_type": "code",
   "execution_count": 80,
   "id": "14d4b816",
   "metadata": {},
   "outputs": [
    {
     "data": {
      "text/plain": [
       "dict"
      ]
     },
     "execution_count": 80,
     "metadata": {},
     "output_type": "execute_result"
    }
   ],
   "source": [
    "type(data)"
   ]
  },
  {
   "cell_type": "code",
   "execution_count": 81,
   "id": "dee61838",
   "metadata": {},
   "outputs": [
    {
     "ename": "NameError",
     "evalue": "name 'pd' is not defined",
     "output_type": "error",
     "traceback": [
      "\u001b[31m---------------------------------------------------------------------------\u001b[39m",
      "\u001b[31mNameError\u001b[39m                                 Traceback (most recent call last)",
      "\u001b[36mCell\u001b[39m\u001b[36m \u001b[39m\u001b[32mIn[81]\u001b[39m\u001b[32m, line 1\u001b[39m\n\u001b[32m----> \u001b[39m\u001b[32m1\u001b[39m df = \u001b[43mpd\u001b[49m.DataFrame(data)\n",
      "\u001b[31mNameError\u001b[39m: name 'pd' is not defined"
     ]
    }
   ],
   "source": [
    "df = pd.DataFrame(data)"
   ]
  },
  {
   "cell_type": "code",
   "execution_count": 82,
   "id": "ac0cf532",
   "metadata": {},
   "outputs": [],
   "source": [
    "import pandas as pd"
   ]
  },
  {
   "cell_type": "code",
   "execution_count": 83,
   "id": "3d41c248",
   "metadata": {},
   "outputs": [
    {
     "ename": "NameError",
     "evalue": "name 'df' is not defined",
     "output_type": "error",
     "traceback": [
      "\u001b[31m---------------------------------------------------------------------------\u001b[39m",
      "\u001b[31mNameError\u001b[39m                                 Traceback (most recent call last)",
      "\u001b[36mCell\u001b[39m\u001b[36m \u001b[39m\u001b[32mIn[83]\u001b[39m\u001b[32m, line 1\u001b[39m\n\u001b[32m----> \u001b[39m\u001b[32m1\u001b[39m \u001b[43mdf\u001b[49m.DataFrame(data)\n",
      "\u001b[31mNameError\u001b[39m: name 'df' is not defined"
     ]
    }
   ],
   "source": [
    "df.DataFrame(data)"
   ]
  },
  {
   "cell_type": "code",
   "execution_count": 84,
   "id": "0be3c8e3",
   "metadata": {},
   "outputs": [],
   "source": [
    "df = pd.DataFrame(data)"
   ]
  },
  {
   "cell_type": "code",
   "execution_count": 85,
   "id": "f572561a",
   "metadata": {},
   "outputs": [
    {
     "data": {
      "text/html": [
       "<div>\n",
       "<style scoped>\n",
       "    .dataframe tbody tr th:only-of-type {\n",
       "        vertical-align: middle;\n",
       "    }\n",
       "\n",
       "    .dataframe tbody tr th {\n",
       "        vertical-align: top;\n",
       "    }\n",
       "\n",
       "    .dataframe thead th {\n",
       "        text-align: right;\n",
       "    }\n",
       "</style>\n",
       "<table border=\"1\" class=\"dataframe\">\n",
       "  <thead>\n",
       "    <tr style=\"text-align: right;\">\n",
       "      <th></th>\n",
       "      <th>Name</th>\n",
       "      <th>Age</th>\n",
       "      <th>City</th>\n",
       "    </tr>\n",
       "  </thead>\n",
       "  <tbody>\n",
       "    <tr>\n",
       "      <th>0</th>\n",
       "      <td>Alice</td>\n",
       "      <td>25</td>\n",
       "      <td>New York</td>\n",
       "    </tr>\n",
       "    <tr>\n",
       "      <th>1</th>\n",
       "      <td>Bob</td>\n",
       "      <td>30</td>\n",
       "      <td>Los Angeles</td>\n",
       "    </tr>\n",
       "    <tr>\n",
       "      <th>2</th>\n",
       "      <td>Charlie</td>\n",
       "      <td>35</td>\n",
       "      <td>Chicago</td>\n",
       "    </tr>\n",
       "  </tbody>\n",
       "</table>\n",
       "</div>"
      ],
      "text/plain": [
       "      Name  Age         City\n",
       "0    Alice   25     New York\n",
       "1      Bob   30  Los Angeles\n",
       "2  Charlie   35      Chicago"
      ]
     },
     "execution_count": 85,
     "metadata": {},
     "output_type": "execute_result"
    }
   ],
   "source": [
    "df"
   ]
  },
  {
   "cell_type": "code",
   "execution_count": 86,
   "id": "83d006ae",
   "metadata": {},
   "outputs": [],
   "source": [
    "df['Age'] = df['Age'] + 1"
   ]
  },
  {
   "cell_type": "code",
   "execution_count": 87,
   "id": "2d3fd6a5",
   "metadata": {},
   "outputs": [
    {
     "data": {
      "text/plain": [
       "{'Name': ['Alice', 'Bob', 'Charlie'],\n",
       " 'Age': [25, 30, 35],\n",
       " 'City': ['New York', 'Los Angeles', 'Chicago']}"
      ]
     },
     "execution_count": 87,
     "metadata": {},
     "output_type": "execute_result"
    }
   ],
   "source": [
    "data"
   ]
  },
  {
   "cell_type": "code",
   "execution_count": 88,
   "id": "75390e23",
   "metadata": {},
   "outputs": [
    {
     "data": {
      "text/html": [
       "<div>\n",
       "<style scoped>\n",
       "    .dataframe tbody tr th:only-of-type {\n",
       "        vertical-align: middle;\n",
       "    }\n",
       "\n",
       "    .dataframe tbody tr th {\n",
       "        vertical-align: top;\n",
       "    }\n",
       "\n",
       "    .dataframe thead th {\n",
       "        text-align: right;\n",
       "    }\n",
       "</style>\n",
       "<table border=\"1\" class=\"dataframe\">\n",
       "  <thead>\n",
       "    <tr style=\"text-align: right;\">\n",
       "      <th></th>\n",
       "      <th>Name</th>\n",
       "      <th>Age</th>\n",
       "      <th>City</th>\n",
       "    </tr>\n",
       "  </thead>\n",
       "  <tbody>\n",
       "    <tr>\n",
       "      <th>0</th>\n",
       "      <td>Alice</td>\n",
       "      <td>26</td>\n",
       "      <td>New York</td>\n",
       "    </tr>\n",
       "    <tr>\n",
       "      <th>1</th>\n",
       "      <td>Bob</td>\n",
       "      <td>31</td>\n",
       "      <td>Los Angeles</td>\n",
       "    </tr>\n",
       "    <tr>\n",
       "      <th>2</th>\n",
       "      <td>Charlie</td>\n",
       "      <td>36</td>\n",
       "      <td>Chicago</td>\n",
       "    </tr>\n",
       "  </tbody>\n",
       "</table>\n",
       "</div>"
      ],
      "text/plain": [
       "      Name  Age         City\n",
       "0    Alice   26     New York\n",
       "1      Bob   31  Los Angeles\n",
       "2  Charlie   36      Chicago"
      ]
     },
     "execution_count": 88,
     "metadata": {},
     "output_type": "execute_result"
    }
   ],
   "source": [
    "df"
   ]
  },
  {
   "cell_type": "code",
   "execution_count": 89,
   "id": "59796929",
   "metadata": {},
   "outputs": [],
   "source": [
    "df['Job'] = ['Engineer', 'Artist', 'Doctor']"
   ]
  },
  {
   "cell_type": "code",
   "execution_count": 90,
   "id": "711523cf",
   "metadata": {},
   "outputs": [
    {
     "data": {
      "text/html": [
       "<div>\n",
       "<style scoped>\n",
       "    .dataframe tbody tr th:only-of-type {\n",
       "        vertical-align: middle;\n",
       "    }\n",
       "\n",
       "    .dataframe tbody tr th {\n",
       "        vertical-align: top;\n",
       "    }\n",
       "\n",
       "    .dataframe thead th {\n",
       "        text-align: right;\n",
       "    }\n",
       "</style>\n",
       "<table border=\"1\" class=\"dataframe\">\n",
       "  <thead>\n",
       "    <tr style=\"text-align: right;\">\n",
       "      <th></th>\n",
       "      <th>Name</th>\n",
       "      <th>Age</th>\n",
       "      <th>City</th>\n",
       "      <th>Job</th>\n",
       "    </tr>\n",
       "  </thead>\n",
       "  <tbody>\n",
       "    <tr>\n",
       "      <th>0</th>\n",
       "      <td>Alice</td>\n",
       "      <td>26</td>\n",
       "      <td>New York</td>\n",
       "      <td>Engineer</td>\n",
       "    </tr>\n",
       "    <tr>\n",
       "      <th>1</th>\n",
       "      <td>Bob</td>\n",
       "      <td>31</td>\n",
       "      <td>Los Angeles</td>\n",
       "      <td>Artist</td>\n",
       "    </tr>\n",
       "    <tr>\n",
       "      <th>2</th>\n",
       "      <td>Charlie</td>\n",
       "      <td>36</td>\n",
       "      <td>Chicago</td>\n",
       "      <td>Doctor</td>\n",
       "    </tr>\n",
       "  </tbody>\n",
       "</table>\n",
       "</div>"
      ],
      "text/plain": [
       "      Name  Age         City       Job\n",
       "0    Alice   26     New York  Engineer\n",
       "1      Bob   31  Los Angeles    Artist\n",
       "2  Charlie   36      Chicago    Doctor"
      ]
     },
     "execution_count": 90,
     "metadata": {},
     "output_type": "execute_result"
    }
   ],
   "source": [
    "df"
   ]
  },
  {
   "cell_type": "code",
   "execution_count": 91,
   "id": "76c8e76f",
   "metadata": {},
   "outputs": [],
   "source": [
    "df.loc[df['Name'] == 'Bob','City'] = 'San Francisco'"
   ]
  },
  {
   "cell_type": "code",
   "execution_count": 92,
   "id": "0053add9",
   "metadata": {},
   "outputs": [
    {
     "data": {
      "text/html": [
       "<div>\n",
       "<style scoped>\n",
       "    .dataframe tbody tr th:only-of-type {\n",
       "        vertical-align: middle;\n",
       "    }\n",
       "\n",
       "    .dataframe tbody tr th {\n",
       "        vertical-align: top;\n",
       "    }\n",
       "\n",
       "    .dataframe thead th {\n",
       "        text-align: right;\n",
       "    }\n",
       "</style>\n",
       "<table border=\"1\" class=\"dataframe\">\n",
       "  <thead>\n",
       "    <tr style=\"text-align: right;\">\n",
       "      <th></th>\n",
       "      <th>Name</th>\n",
       "      <th>Age</th>\n",
       "      <th>City</th>\n",
       "      <th>Job</th>\n",
       "    </tr>\n",
       "  </thead>\n",
       "  <tbody>\n",
       "    <tr>\n",
       "      <th>0</th>\n",
       "      <td>Alice</td>\n",
       "      <td>26</td>\n",
       "      <td>New York</td>\n",
       "      <td>Engineer</td>\n",
       "    </tr>\n",
       "    <tr>\n",
       "      <th>1</th>\n",
       "      <td>Bob</td>\n",
       "      <td>31</td>\n",
       "      <td>San Francisco</td>\n",
       "      <td>Artist</td>\n",
       "    </tr>\n",
       "    <tr>\n",
       "      <th>2</th>\n",
       "      <td>Charlie</td>\n",
       "      <td>36</td>\n",
       "      <td>Chicago</td>\n",
       "      <td>Doctor</td>\n",
       "    </tr>\n",
       "  </tbody>\n",
       "</table>\n",
       "</div>"
      ],
      "text/plain": [
       "      Name  Age           City       Job\n",
       "0    Alice   26       New York  Engineer\n",
       "1      Bob   31  San Francisco    Artist\n",
       "2  Charlie   36        Chicago    Doctor"
      ]
     },
     "execution_count": 92,
     "metadata": {},
     "output_type": "execute_result"
    }
   ],
   "source": [
    "df"
   ]
  },
  {
   "cell_type": "code",
   "execution_count": 94,
   "id": "324d0387",
   "metadata": {},
   "outputs": [],
   "source": [
    "new_row = {'Name':'David', 'Age':28, 'City' : 'Seattle', 'Job':'Teacher'}"
   ]
  },
  {
   "cell_type": "code",
   "execution_count": 95,
   "id": "2df410b7",
   "metadata": {},
   "outputs": [],
   "source": [
    "df = pd.concat([df, pd.DataFrame([new_row])], ignore_index=True)"
   ]
  },
  {
   "cell_type": "code",
   "execution_count": 96,
   "id": "db419e73",
   "metadata": {},
   "outputs": [
    {
     "data": {
      "text/html": [
       "<div>\n",
       "<style scoped>\n",
       "    .dataframe tbody tr th:only-of-type {\n",
       "        vertical-align: middle;\n",
       "    }\n",
       "\n",
       "    .dataframe tbody tr th {\n",
       "        vertical-align: top;\n",
       "    }\n",
       "\n",
       "    .dataframe thead th {\n",
       "        text-align: right;\n",
       "    }\n",
       "</style>\n",
       "<table border=\"1\" class=\"dataframe\">\n",
       "  <thead>\n",
       "    <tr style=\"text-align: right;\">\n",
       "      <th></th>\n",
       "      <th>Name</th>\n",
       "      <th>Age</th>\n",
       "      <th>City</th>\n",
       "      <th>Job</th>\n",
       "    </tr>\n",
       "  </thead>\n",
       "  <tbody>\n",
       "    <tr>\n",
       "      <th>0</th>\n",
       "      <td>Alice</td>\n",
       "      <td>26</td>\n",
       "      <td>New York</td>\n",
       "      <td>Engineer</td>\n",
       "    </tr>\n",
       "    <tr>\n",
       "      <th>1</th>\n",
       "      <td>Bob</td>\n",
       "      <td>31</td>\n",
       "      <td>San Francisco</td>\n",
       "      <td>Artist</td>\n",
       "    </tr>\n",
       "    <tr>\n",
       "      <th>2</th>\n",
       "      <td>Charlie</td>\n",
       "      <td>36</td>\n",
       "      <td>Chicago</td>\n",
       "      <td>Doctor</td>\n",
       "    </tr>\n",
       "    <tr>\n",
       "      <th>3</th>\n",
       "      <td>David</td>\n",
       "      <td>28</td>\n",
       "      <td>Seattle</td>\n",
       "      <td>Teacher</td>\n",
       "    </tr>\n",
       "  </tbody>\n",
       "</table>\n",
       "</div>"
      ],
      "text/plain": [
       "      Name  Age           City       Job\n",
       "0    Alice   26       New York  Engineer\n",
       "1      Bob   31  San Francisco    Artist\n",
       "2  Charlie   36        Chicago    Doctor\n",
       "3    David   28        Seattle   Teacher"
      ]
     },
     "execution_count": 96,
     "metadata": {},
     "output_type": "execute_result"
    }
   ],
   "source": [
    "df"
   ]
  },
  {
   "cell_type": "code",
   "execution_count": 97,
   "id": "6884cc86",
   "metadata": {},
   "outputs": [
    {
     "data": {
      "text/plain": [
       "{'Name': ['Alice', 'Bob', 'Charlie'],\n",
       " 'Age': [25, 30, 35],\n",
       " 'City': ['New York', 'Los Angeles', 'Chicago']}"
      ]
     },
     "execution_count": 97,
     "metadata": {},
     "output_type": "execute_result"
    }
   ],
   "source": [
    "data"
   ]
  },
  {
   "cell_type": "code",
   "execution_count": 98,
   "id": "10d03a02",
   "metadata": {},
   "outputs": [
    {
     "data": {
      "text/plain": [
       "{'Name': 'David', 'Age': 28, 'City': 'Seattle', 'Job': 'Teacher'}"
      ]
     },
     "execution_count": 98,
     "metadata": {},
     "output_type": "execute_result"
    }
   ],
   "source": [
    "new_row"
   ]
  },
  {
   "cell_type": "code",
   "execution_count": 99,
   "id": "876b1c7b",
   "metadata": {},
   "outputs": [
    {
     "data": {
      "text/html": [
       "<div>\n",
       "<style scoped>\n",
       "    .dataframe tbody tr th:only-of-type {\n",
       "        vertical-align: middle;\n",
       "    }\n",
       "\n",
       "    .dataframe tbody tr th {\n",
       "        vertical-align: top;\n",
       "    }\n",
       "\n",
       "    .dataframe thead th {\n",
       "        text-align: right;\n",
       "    }\n",
       "</style>\n",
       "<table border=\"1\" class=\"dataframe\">\n",
       "  <thead>\n",
       "    <tr style=\"text-align: right;\">\n",
       "      <th></th>\n",
       "      <th>Name</th>\n",
       "      <th>Age</th>\n",
       "      <th>City</th>\n",
       "    </tr>\n",
       "  </thead>\n",
       "  <tbody>\n",
       "    <tr>\n",
       "      <th>0</th>\n",
       "      <td>Alice</td>\n",
       "      <td>25</td>\n",
       "      <td>New York</td>\n",
       "    </tr>\n",
       "    <tr>\n",
       "      <th>1</th>\n",
       "      <td>Bob</td>\n",
       "      <td>30</td>\n",
       "      <td>Los Angeles</td>\n",
       "    </tr>\n",
       "    <tr>\n",
       "      <th>2</th>\n",
       "      <td>Charlie</td>\n",
       "      <td>35</td>\n",
       "      <td>Chicago</td>\n",
       "    </tr>\n",
       "  </tbody>\n",
       "</table>\n",
       "</div>"
      ],
      "text/plain": [
       "      Name  Age         City\n",
       "0    Alice   25     New York\n",
       "1      Bob   30  Los Angeles\n",
       "2  Charlie   35      Chicago"
      ]
     },
     "execution_count": 99,
     "metadata": {},
     "output_type": "execute_result"
    }
   ],
   "source": [
    "pd.DataFrame(data)"
   ]
  },
  {
   "cell_type": "code",
   "execution_count": 101,
   "id": "438fd0bd",
   "metadata": {},
   "outputs": [
    {
     "data": {
      "text/html": [
       "<div>\n",
       "<style scoped>\n",
       "    .dataframe tbody tr th:only-of-type {\n",
       "        vertical-align: middle;\n",
       "    }\n",
       "\n",
       "    .dataframe tbody tr th {\n",
       "        vertical-align: top;\n",
       "    }\n",
       "\n",
       "    .dataframe thead th {\n",
       "        text-align: right;\n",
       "    }\n",
       "</style>\n",
       "<table border=\"1\" class=\"dataframe\">\n",
       "  <thead>\n",
       "    <tr style=\"text-align: right;\">\n",
       "      <th></th>\n",
       "      <th>Name</th>\n",
       "      <th>Age</th>\n",
       "      <th>City</th>\n",
       "      <th>Job</th>\n",
       "    </tr>\n",
       "  </thead>\n",
       "  <tbody>\n",
       "    <tr>\n",
       "      <th>0</th>\n",
       "      <td>David</td>\n",
       "      <td>28</td>\n",
       "      <td>Seattle</td>\n",
       "      <td>Teacher</td>\n",
       "    </tr>\n",
       "  </tbody>\n",
       "</table>\n",
       "</div>"
      ],
      "text/plain": [
       "    Name  Age     City      Job\n",
       "0  David   28  Seattle  Teacher"
      ]
     },
     "execution_count": 101,
     "metadata": {},
     "output_type": "execute_result"
    }
   ],
   "source": [
    "pd.DataFrame([new_row])"
   ]
  },
  {
   "cell_type": "code",
   "execution_count": 102,
   "id": "9b1e846e",
   "metadata": {},
   "outputs": [
    {
     "data": {
      "text/html": [
       "<div>\n",
       "<style scoped>\n",
       "    .dataframe tbody tr th:only-of-type {\n",
       "        vertical-align: middle;\n",
       "    }\n",
       "\n",
       "    .dataframe tbody tr th {\n",
       "        vertical-align: top;\n",
       "    }\n",
       "\n",
       "    .dataframe thead th {\n",
       "        text-align: right;\n",
       "    }\n",
       "</style>\n",
       "<table border=\"1\" class=\"dataframe\">\n",
       "  <thead>\n",
       "    <tr style=\"text-align: right;\">\n",
       "      <th></th>\n",
       "      <th>Name</th>\n",
       "      <th>Age</th>\n",
       "      <th>City</th>\n",
       "      <th>Job</th>\n",
       "    </tr>\n",
       "  </thead>\n",
       "  <tbody>\n",
       "    <tr>\n",
       "      <th>0</th>\n",
       "      <td>Alice</td>\n",
       "      <td>26</td>\n",
       "      <td>New York</td>\n",
       "      <td>Engineer</td>\n",
       "    </tr>\n",
       "    <tr>\n",
       "      <th>1</th>\n",
       "      <td>Bob</td>\n",
       "      <td>31</td>\n",
       "      <td>San Francisco</td>\n",
       "      <td>Artist</td>\n",
       "    </tr>\n",
       "    <tr>\n",
       "      <th>2</th>\n",
       "      <td>Charlie</td>\n",
       "      <td>36</td>\n",
       "      <td>Chicago</td>\n",
       "      <td>Doctor</td>\n",
       "    </tr>\n",
       "    <tr>\n",
       "      <th>3</th>\n",
       "      <td>David</td>\n",
       "      <td>28</td>\n",
       "      <td>Seattle</td>\n",
       "      <td>Teacher</td>\n",
       "    </tr>\n",
       "  </tbody>\n",
       "</table>\n",
       "</div>"
      ],
      "text/plain": [
       "      Name  Age           City       Job\n",
       "0    Alice   26       New York  Engineer\n",
       "1      Bob   31  San Francisco    Artist\n",
       "2  Charlie   36        Chicago    Doctor\n",
       "3    David   28        Seattle   Teacher"
      ]
     },
     "execution_count": 102,
     "metadata": {},
     "output_type": "execute_result"
    }
   ],
   "source": [
    "df"
   ]
  },
  {
   "cell_type": "code",
   "execution_count": 104,
   "id": "045f2e6d",
   "metadata": {},
   "outputs": [],
   "source": [
    "df.loc[len(df)] = ['David', 40, 'Daegu', 'Unknown']\n"
   ]
  },
  {
   "cell_type": "code",
   "execution_count": 105,
   "id": "161c75a7",
   "metadata": {},
   "outputs": [
    {
     "data": {
      "text/html": [
       "<div>\n",
       "<style scoped>\n",
       "    .dataframe tbody tr th:only-of-type {\n",
       "        vertical-align: middle;\n",
       "    }\n",
       "\n",
       "    .dataframe tbody tr th {\n",
       "        vertical-align: top;\n",
       "    }\n",
       "\n",
       "    .dataframe thead th {\n",
       "        text-align: right;\n",
       "    }\n",
       "</style>\n",
       "<table border=\"1\" class=\"dataframe\">\n",
       "  <thead>\n",
       "    <tr style=\"text-align: right;\">\n",
       "      <th></th>\n",
       "      <th>Name</th>\n",
       "      <th>Age</th>\n",
       "      <th>City</th>\n",
       "      <th>Job</th>\n",
       "    </tr>\n",
       "  </thead>\n",
       "  <tbody>\n",
       "    <tr>\n",
       "      <th>0</th>\n",
       "      <td>Alice</td>\n",
       "      <td>26</td>\n",
       "      <td>New York</td>\n",
       "      <td>Engineer</td>\n",
       "    </tr>\n",
       "    <tr>\n",
       "      <th>1</th>\n",
       "      <td>Bob</td>\n",
       "      <td>31</td>\n",
       "      <td>San Francisco</td>\n",
       "      <td>Artist</td>\n",
       "    </tr>\n",
       "    <tr>\n",
       "      <th>2</th>\n",
       "      <td>Charlie</td>\n",
       "      <td>36</td>\n",
       "      <td>Chicago</td>\n",
       "      <td>Doctor</td>\n",
       "    </tr>\n",
       "    <tr>\n",
       "      <th>3</th>\n",
       "      <td>David</td>\n",
       "      <td>28</td>\n",
       "      <td>Seattle</td>\n",
       "      <td>Teacher</td>\n",
       "    </tr>\n",
       "    <tr>\n",
       "      <th>4</th>\n",
       "      <td>David</td>\n",
       "      <td>40</td>\n",
       "      <td>Daegu</td>\n",
       "      <td>Unknown</td>\n",
       "    </tr>\n",
       "  </tbody>\n",
       "</table>\n",
       "</div>"
      ],
      "text/plain": [
       "      Name  Age           City       Job\n",
       "0    Alice   26       New York  Engineer\n",
       "1      Bob   31  San Francisco    Artist\n",
       "2  Charlie   36        Chicago    Doctor\n",
       "3    David   28        Seattle   Teacher\n",
       "4    David   40          Daegu   Unknown"
      ]
     },
     "execution_count": 105,
     "metadata": {},
     "output_type": "execute_result"
    }
   ],
   "source": [
    "df"
   ]
  },
  {
   "cell_type": "code",
   "execution_count": 106,
   "id": "7c78b53d",
   "metadata": {},
   "outputs": [],
   "source": [
    "df.loc[5] = ['David', 40, 'Daegu', 'Unknown']"
   ]
  },
  {
   "cell_type": "code",
   "execution_count": 107,
   "id": "19998c6e",
   "metadata": {},
   "outputs": [
    {
     "data": {
      "text/html": [
       "<div>\n",
       "<style scoped>\n",
       "    .dataframe tbody tr th:only-of-type {\n",
       "        vertical-align: middle;\n",
       "    }\n",
       "\n",
       "    .dataframe tbody tr th {\n",
       "        vertical-align: top;\n",
       "    }\n",
       "\n",
       "    .dataframe thead th {\n",
       "        text-align: right;\n",
       "    }\n",
       "</style>\n",
       "<table border=\"1\" class=\"dataframe\">\n",
       "  <thead>\n",
       "    <tr style=\"text-align: right;\">\n",
       "      <th></th>\n",
       "      <th>Name</th>\n",
       "      <th>Age</th>\n",
       "      <th>City</th>\n",
       "      <th>Job</th>\n",
       "    </tr>\n",
       "  </thead>\n",
       "  <tbody>\n",
       "    <tr>\n",
       "      <th>0</th>\n",
       "      <td>Alice</td>\n",
       "      <td>26</td>\n",
       "      <td>New York</td>\n",
       "      <td>Engineer</td>\n",
       "    </tr>\n",
       "    <tr>\n",
       "      <th>1</th>\n",
       "      <td>Bob</td>\n",
       "      <td>31</td>\n",
       "      <td>San Francisco</td>\n",
       "      <td>Artist</td>\n",
       "    </tr>\n",
       "    <tr>\n",
       "      <th>2</th>\n",
       "      <td>Charlie</td>\n",
       "      <td>36</td>\n",
       "      <td>Chicago</td>\n",
       "      <td>Doctor</td>\n",
       "    </tr>\n",
       "    <tr>\n",
       "      <th>3</th>\n",
       "      <td>David</td>\n",
       "      <td>28</td>\n",
       "      <td>Seattle</td>\n",
       "      <td>Teacher</td>\n",
       "    </tr>\n",
       "    <tr>\n",
       "      <th>4</th>\n",
       "      <td>David</td>\n",
       "      <td>40</td>\n",
       "      <td>Daegu</td>\n",
       "      <td>Unknown</td>\n",
       "    </tr>\n",
       "    <tr>\n",
       "      <th>5</th>\n",
       "      <td>David</td>\n",
       "      <td>40</td>\n",
       "      <td>Daegu</td>\n",
       "      <td>Unknown</td>\n",
       "    </tr>\n",
       "  </tbody>\n",
       "</table>\n",
       "</div>"
      ],
      "text/plain": [
       "      Name  Age           City       Job\n",
       "0    Alice   26       New York  Engineer\n",
       "1      Bob   31  San Francisco    Artist\n",
       "2  Charlie   36        Chicago    Doctor\n",
       "3    David   28        Seattle   Teacher\n",
       "4    David   40          Daegu   Unknown\n",
       "5    David   40          Daegu   Unknown"
      ]
     },
     "execution_count": 107,
     "metadata": {},
     "output_type": "execute_result"
    }
   ],
   "source": [
    "df"
   ]
  },
  {
   "cell_type": "code",
   "execution_count": 108,
   "id": "fb90bd54",
   "metadata": {},
   "outputs": [],
   "source": [
    "import matplotlib.pyplot as plt"
   ]
  },
  {
   "cell_type": "code",
   "execution_count": 109,
   "id": "991e4b31",
   "metadata": {},
   "outputs": [],
   "source": [
    "x = [1, 2, 3, 4, 5]\n",
    "y = [2, 4, 6, 8, 10]"
   ]
  },
  {
   "cell_type": "code",
   "execution_count": 110,
   "id": "60eb962b",
   "metadata": {},
   "outputs": [
    {
     "data": {
      "text/plain": [
       "[<matplotlib.lines.Line2D at 0x120185150>]"
      ]
     },
     "execution_count": 110,
     "metadata": {},
     "output_type": "execute_result"
    },
    {
     "data": {
      "image/png": "[encoded data removed]",
      "text/plain": [
       "<Figure size 640x480 with 1 Axes>"
      ]
     },
     "metadata": {},
     "output_type": "display_data"
    }
   ],
   "source": [
    "plt.plot(x, y)"
   ]
  },
  {
   "cell_type": "code",
   "execution_count": 111,
   "id": "913ac22b",
   "metadata": {},
   "outputs": [
    {
     "data": {
      "text/plain": [
       "[<matplotlib.lines.Line2D at 0x120765610>]"
      ]
     },
     "execution_count": 111,
     "metadata": {},
     "output_type": "execute_result"
    },
    {
     "data": {
      "image/png": "[encoded data removed]",
      "text/plain": [
       "<Figure size 640x480 with 1 Axes>"
      ]
     },
     "metadata": {},
     "output_type": "display_data"
    }
   ],
   "source": [
    "plt.plot(x)\n",
    "plt.plot(y)"
   ]
  },
  {
   "cell_type": "code",
   "execution_count": 112,
   "id": "fd777c2c",
   "metadata": {},
   "outputs": [],
   "source": [
    "import seaborn as sns"
   ]
  },
  {
   "cell_type": "code",
   "execution_count": 118,
   "id": "551c0a1b",
   "metadata": {},
   "outputs": [],
   "source": [
    "x = [1, 2, 3, 4, 5]\n",
    "y = [2, 4, 6, 8, 10]\n",
    "\n",
    "df = pd.DataFrame({'x': x, 'y': y})"
   ]
  },
  {
   "cell_type": "code",
   "execution_count": 114,
   "id": "007cd867",
   "metadata": {},
   "outputs": [
    {
     "data": {
      "text/html": [
       "<div>\n",
       "<style scoped>\n",
       "    .dataframe tbody tr th:only-of-type {\n",
       "        vertical-align: middle;\n",
       "    }\n",
       "\n",
       "    .dataframe tbody tr th {\n",
       "        vertical-align: top;\n",
       "    }\n",
       "\n",
       "    .dataframe thead th {\n",
       "        text-align: right;\n",
       "    }\n",
       "</style>\n",
       "<table border=\"1\" class=\"dataframe\">\n",
       "  <thead>\n",
       "    <tr style=\"text-align: right;\">\n",
       "      <th></th>\n",
       "      <th>x</th>\n",
       "      <th>y</th>\n",
       "    </tr>\n",
       "  </thead>\n",
       "  <tbody>\n",
       "    <tr>\n",
       "      <th>0</th>\n",
       "      <td>1</td>\n",
       "      <td>2</td>\n",
       "    </tr>\n",
       "    <tr>\n",
       "      <th>1</th>\n",
       "      <td>2</td>\n",
       "      <td>4</td>\n",
       "    </tr>\n",
       "    <tr>\n",
       "      <th>2</th>\n",
       "      <td>3</td>\n",
       "      <td>6</td>\n",
       "    </tr>\n",
       "    <tr>\n",
       "      <th>3</th>\n",
       "      <td>4</td>\n",
       "      <td>8</td>\n",
       "    </tr>\n",
       "    <tr>\n",
       "      <th>4</th>\n",
       "      <td>5</td>\n",
       "      <td>10</td>\n",
       "    </tr>\n",
       "  </tbody>\n",
       "</table>\n",
       "</div>"
      ],
      "text/plain": [
       "   x   y\n",
       "0  1   2\n",
       "1  2   4\n",
       "2  3   6\n",
       "3  4   8\n",
       "4  5  10"
      ]
     },
     "execution_count": 114,
     "metadata": {},
     "output_type": "execute_result"
    }
   ],
   "source": [
    "df"
   ]
  },
  {
   "cell_type": "code",
   "execution_count": 115,
   "id": "0f575c6c",
   "metadata": {},
   "outputs": [
    {
     "data": {
      "text/plain": [
       "<Axes: >"
      ]
     },
     "execution_count": 115,
     "metadata": {},
     "output_type": "execute_result"
    },
    {
     "data": {
      "image/png": "[encoded data removed]",
      "text/plain": [
       "<Figure size 640x480 with 1 Axes>"
      ]
     },
     "metadata": {},
     "output_type": "display_data"
    }
   ],
   "source": [
    "sns.lineplot(data=df)"
   ]
  },
  {
   "cell_type": "code",
   "execution_count": 116,
   "id": "95492e57",
   "metadata": {},
   "outputs": [],
   "source": [
    "plt.show()"
   ]
  },
  {
   "cell_type": "code",
   "execution_count": 117,
   "id": "d17af3eb",
   "metadata": {},
   "outputs": [
    {
     "data": {
      "text/plain": [
       "<Axes: xlabel='x', ylabel='y'>"
      ]
     },
     "execution_count": 117,
     "metadata": {},
     "output_type": "execute_result"
    },
    {
     "data": {
      "image/png": "[encoded data removed]",
      "text/plain": [
       "<Figure size 640x480 with 1 Axes>"
      ]
     },
     "metadata": {},
     "output_type": "display_data"
    }
   ],
   "source": [
    "sns.lineplot(data=df, x='x', y='y')"
   ]
  },
  {
   "cell_type": "code",
   "execution_count": 119,
   "id": "0fa09500",
   "metadata": {},
   "outputs": [],
   "source": [
    "df = pd.read_csv('인천.csv', encoding='euc-kr')\n"
   ]
  },
  {
   "cell_type": "code",
   "execution_count": 120,
   "id": "13a9c565",
   "metadata": {},
   "outputs": [
    {
     "data": {
      "text/html": [
       "<div>\n",
       "<style scoped>\n",
       "    .dataframe tbody tr th:only-of-type {\n",
       "        vertical-align: middle;\n",
       "    }\n",
       "\n",
       "    .dataframe tbody tr th {\n",
       "        vertical-align: top;\n",
       "    }\n",
       "\n",
       "    .dataframe thead th {\n",
       "        text-align: right;\n",
       "    }\n",
       "</style>\n",
       "<table border=\"1\" class=\"dataframe\">\n",
       "  <thead>\n",
       "    <tr style=\"text-align: right;\">\n",
       "      <th></th>\n",
       "      <th>일자</th>\n",
       "      <th>요일</th>\n",
       "      <th>도로명</th>\n",
       "      <th>링크아이디</th>\n",
       "      <th>검지기아이디</th>\n",
       "      <th>지점명</th>\n",
       "      <th>방향</th>\n",
       "      <th>시점명</th>\n",
       "      <th>종점명</th>\n",
       "      <th>00시</th>\n",
       "      <th>...</th>\n",
       "      <th>14시</th>\n",
       "      <th>15시</th>\n",
       "      <th>16시</th>\n",
       "      <th>17시</th>\n",
       "      <th>18시</th>\n",
       "      <th>19시</th>\n",
       "      <th>20시</th>\n",
       "      <th>21시</th>\n",
       "      <th>22시</th>\n",
       "      <th>23시</th>\n",
       "    </tr>\n",
       "  </thead>\n",
       "  <tbody>\n",
       "    <tr>\n",
       "      <th>0</th>\n",
       "      <td>2021-01-01</td>\n",
       "      <td>금</td>\n",
       "      <td>테크노파크로</td>\n",
       "      <td>1640137900</td>\n",
       "      <td>SDTRVCT00100001</td>\n",
       "      <td>한국생산기술연구원 맞은편</td>\n",
       "      <td>상행</td>\n",
       "      <td>한국생산기술연구원앞</td>\n",
       "      <td>미추홀타워입구</td>\n",
       "      <td>87</td>\n",
       "      <td>...</td>\n",
       "      <td>387</td>\n",
       "      <td>435</td>\n",
       "      <td>473</td>\n",
       "      <td>453</td>\n",
       "      <td>408</td>\n",
       "      <td>367</td>\n",
       "      <td>284</td>\n",
       "      <td>200</td>\n",
       "      <td>138</td>\n",
       "      <td>111</td>\n",
       "    </tr>\n",
       "    <tr>\n",
       "      <th>1</th>\n",
       "      <td>2021-01-02</td>\n",
       "      <td>토</td>\n",
       "      <td>테크노파크로</td>\n",
       "      <td>1640137900</td>\n",
       "      <td>SDTRVCT00100001</td>\n",
       "      <td>한국생산기술연구원 맞은편</td>\n",
       "      <td>상행</td>\n",
       "      <td>한국생산기술연구원앞</td>\n",
       "      <td>미추홀타워입구</td>\n",
       "      <td>69</td>\n",
       "      <td>...</td>\n",
       "      <td>514</td>\n",
       "      <td>579</td>\n",
       "      <td>522</td>\n",
       "      <td>546</td>\n",
       "      <td>518</td>\n",
       "      <td>427</td>\n",
       "      <td>303</td>\n",
       "      <td>249</td>\n",
       "      <td>205</td>\n",
       "      <td>91</td>\n",
       "    </tr>\n",
       "    <tr>\n",
       "      <th>2</th>\n",
       "      <td>2021-01-03</td>\n",
       "      <td>일</td>\n",
       "      <td>테크노파크로</td>\n",
       "      <td>1640137900</td>\n",
       "      <td>SDTRVCT00100001</td>\n",
       "      <td>한국생산기술연구원 맞은편</td>\n",
       "      <td>상행</td>\n",
       "      <td>한국생산기술연구원앞</td>\n",
       "      <td>미추홀타워입구</td>\n",
       "      <td>63</td>\n",
       "      <td>...</td>\n",
       "      <td>418</td>\n",
       "      <td>497</td>\n",
       "      <td>497</td>\n",
       "      <td>458</td>\n",
       "      <td>416</td>\n",
       "      <td>330</td>\n",
       "      <td>280</td>\n",
       "      <td>209</td>\n",
       "      <td>144</td>\n",
       "      <td>80</td>\n",
       "    </tr>\n",
       "    <tr>\n",
       "      <th>3</th>\n",
       "      <td>2021-01-04</td>\n",
       "      <td>월</td>\n",
       "      <td>테크노파크로</td>\n",
       "      <td>1640137900</td>\n",
       "      <td>SDTRVCT00100001</td>\n",
       "      <td>한국생산기술연구원 맞은편</td>\n",
       "      <td>상행</td>\n",
       "      <td>한국생산기술연구원앞</td>\n",
       "      <td>미추홀타워입구</td>\n",
       "      <td>50</td>\n",
       "      <td>...</td>\n",
       "      <td>395</td>\n",
       "      <td>424</td>\n",
       "      <td>410</td>\n",
       "      <td>455</td>\n",
       "      <td>592</td>\n",
       "      <td>534</td>\n",
       "      <td>423</td>\n",
       "      <td>288</td>\n",
       "      <td>187</td>\n",
       "      <td>113</td>\n",
       "    </tr>\n",
       "    <tr>\n",
       "      <th>4</th>\n",
       "      <td>2021-01-05</td>\n",
       "      <td>화</td>\n",
       "      <td>테크노파크로</td>\n",
       "      <td>1640137900</td>\n",
       "      <td>SDTRVCT00100001</td>\n",
       "      <td>한국생산기술연구원 맞은편</td>\n",
       "      <td>상행</td>\n",
       "      <td>한국생산기술연구원앞</td>\n",
       "      <td>미추홀타워입구</td>\n",
       "      <td>76</td>\n",
       "      <td>...</td>\n",
       "      <td>427</td>\n",
       "      <td>435</td>\n",
       "      <td>421</td>\n",
       "      <td>469</td>\n",
       "      <td>534</td>\n",
       "      <td>610</td>\n",
       "      <td>458</td>\n",
       "      <td>335</td>\n",
       "      <td>253</td>\n",
       "      <td>121</td>\n",
       "    </tr>\n",
       "  </tbody>\n",
       "</table>\n",
       "<p>5 rows × 33 columns</p>\n",
       "</div>"
      ],
      "text/plain": [
       "           일자 요일     도로명       링크아이디           검지기아이디            지점명  방향  \\\n",
       "0  2021-01-01  금  테크노파크로  1640137900  SDTRVCT00100001  한국생산기술연구원 맞은편  상행   \n",
       "1  2021-01-02  토  테크노파크로  1640137900  SDTRVCT00100001  한국생산기술연구원 맞은편  상행   \n",
       "2  2021-01-03  일  테크노파크로  1640137900  SDTRVCT00100001  한국생산기술연구원 맞은편  상행   \n",
       "3  2021-01-04  월  테크노파크로  1640137900  SDTRVCT00100001  한국생산기술연구원 맞은편  상행   \n",
       "4  2021-01-05  화  테크노파크로  1640137900  SDTRVCT00100001  한국생산기술연구원 맞은편  상행   \n",
       "\n",
       "          시점명      종점명  00시  ...  14시  15시  16시  17시  18시  19시  20시  21시  22시  \\\n",
       "0  한국생산기술연구원앞  미추홀타워입구   87  ...  387  435  473  453  408  367  284  200  138   \n",
       "1  한국생산기술연구원앞  미추홀타워입구   69  ...  514  579  522  546  518  427  303  249  205   \n",
       "2  한국생산기술연구원앞  미추홀타워입구   63  ...  418  497  497  458  416  330  280  209  144   \n",
       "3  한국생산기술연구원앞  미추홀타워입구   50  ...  395  424  410  455  592  534  423  288  187   \n",
       "4  한국생산기술연구원앞  미추홀타워입구   76  ...  427  435  421  469  534  610  458  335  253   \n",
       "\n",
       "   23시  \n",
       "0  111  \n",
       "1   91  \n",
       "2   80  \n",
       "3  113  \n",
       "4  121  \n",
       "\n",
       "[5 rows x 33 columns]"
      ]
     },
     "execution_count": 120,
     "metadata": {},
     "output_type": "execute_result"
    }
   ],
   "source": [
    "df.head()"
   ]
  },
  {
   "cell_type": "code",
   "execution_count": 121,
   "id": "e6d6c47f",
   "metadata": {},
   "outputs": [
    {
     "data": {
      "text/plain": [
       "1440"
      ]
     },
     "execution_count": 121,
     "metadata": {},
     "output_type": "execute_result"
    }
   ],
   "source": [
    "len(df)"
   ]
  },
  {
   "cell_type": "code",
   "execution_count": 122,
   "id": "ebce1508",
   "metadata": {},
   "outputs": [
    {
     "name": "stdout",
     "output_type": "stream",
     "text": [
      "<class 'pandas.core.frame.DataFrame'>\n",
      "RangeIndex: 1440 entries, 0 to 1439\n",
      "Data columns (total 33 columns):\n",
      " #   Column  Non-Null Count  Dtype \n",
      "---  ------  --------------  ----- \n",
      " 0   일자      1440 non-null   object\n",
      " 1   요일      1440 non-null   object\n",
      " 2   도로명     1440 non-null   object\n",
      " 3   링크아이디   1440 non-null   int64 \n",
      " 4   검지기아이디  1440 non-null   object\n",
      " 5   지점명     1440 non-null   object\n",
      " 6   방향      1440 non-null   object\n",
      " 7   시점명     1440 non-null   object\n",
      " 8   종점명     1440 non-null   object\n",
      " 9   00시     1440 non-null   int64 \n",
      " 10  01시     1440 non-null   int64 \n",
      " 11  02시     1440 non-null   int64 \n",
      " 12  03시     1440 non-null   int64 \n",
      " 13  04시     1440 non-null   int64 \n",
      " 14  05시     1440 non-null   int64 \n",
      " 15  06시     1440 non-null   int64 \n",
      " 16  07시     1440 non-null   int64 \n",
      " 17  08시     1440 non-null   int64 \n",
      " 18  09시     1440 non-null   int64 \n",
      " 19  10시     1440 non-null   int64 \n",
      " 20  11시     1440 non-null   int64 \n",
      " 21  12시     1440 non-null   int64 \n",
      " 22  13시     1440 non-null   int64 \n",
      " 23  14시     1440 non-null   int64 \n",
      " 24  15시     1440 non-null   int64 \n",
      " 25  16시     1440 non-null   int64 \n",
      " 26  17시     1440 non-null   int64 \n",
      " 27  18시     1440 non-null   int64 \n",
      " 28  19시     1440 non-null   int64 \n",
      " 29  20시     1440 non-null   int64 \n",
      " 30  21시     1440 non-null   int64 \n",
      " 31  22시     1440 non-null   int64 \n",
      " 32  23시     1440 non-null   int64 \n",
      "dtypes: int64(25), object(8)\n",
      "memory usage: 371.4+ KB\n"
     ]
    }
   ],
   "source": [
    "df.info()"
   ]
  },
  {
   "cell_type": "code",
   "execution_count": 123,
   "id": "7998e6f6",
   "metadata": {},
   "outputs": [
    {
     "data": {
      "text/plain": [
       "Index(['일자', '요일', '도로명', '링크아이디', '검지기아이디', '지점명', '방향', '시점명', '종점명', '00시',\n",
       "       '01시', '02시', '03시', '04시', '05시', '06시', '07시', '08시', '09시', '10시',\n",
       "       '11시', '12시', '13시', '14시', '15시', '16시', '17시', '18시', '19시', '20시',\n",
       "       '21시', '22시', '23시'],\n",
       "      dtype='object')"
      ]
     },
     "execution_count": 123,
     "metadata": {},
     "output_type": "execute_result"
    }
   ],
   "source": [
    "df.columns"
   ]
  },
  {
   "cell_type": "code",
   "execution_count": 124,
   "id": "aaddd70d",
   "metadata": {},
   "outputs": [
    {
     "ename": "AttributeError",
     "evalue": "'DataFrame' object has no attribute 'rows'",
     "output_type": "error",
     "traceback": [
      "\u001b[31m---------------------------------------------------------------------------\u001b[39m",
      "\u001b[31mAttributeError\u001b[39m                            Traceback (most recent call last)",
      "\u001b[32m/var/folders/sh/kdmn5r8d37g7thc_ndsngxyw0000gn/T/ipykernel_8565/3342542040.py\u001b[39m in \u001b[36m?\u001b[39m\u001b[34m()\u001b[39m\n\u001b[32m----> \u001b[39m\u001b[32m1\u001b[39m df.rows\n",
      "\u001b[32m~/week1/.venv/lib/python3.11/site-packages/pandas/core/generic.py\u001b[39m in \u001b[36m?\u001b[39m\u001b[34m(self, name)\u001b[39m\n\u001b[32m   6314\u001b[39m             \u001b[38;5;28;01mand\u001b[39;00m name \u001b[38;5;28;01mnot\u001b[39;00m \u001b[38;5;28;01min\u001b[39;00m self._accessors\n\u001b[32m   6315\u001b[39m             \u001b[38;5;28;01mand\u001b[39;00m self._info_axis._can_hold_identifiers_and_holds_name(name)\n\u001b[32m   6316\u001b[39m         ):\n\u001b[32m   6317\u001b[39m             \u001b[38;5;28;01mreturn\u001b[39;00m self[name]\n\u001b[32m-> \u001b[39m\u001b[32m6318\u001b[39m         \u001b[38;5;28;01mreturn\u001b[39;00m object.__getattribute__(self, name)\n",
      "\u001b[31mAttributeError\u001b[39m: 'DataFrame' object has no attribute 'rows'"
     ]
    }
   ],
   "source": [
    "df.rows"
   ]
  },
  {
   "cell_type": "code",
   "execution_count": 125,
   "id": "b01b8f95",
   "metadata": {},
   "outputs": [
    {
     "data": {
      "text/plain": [
       "RangeIndex(start=0, stop=1440, step=1)"
      ]
     },
     "execution_count": 125,
     "metadata": {},
     "output_type": "execute_result"
    }
   ],
   "source": [
    "df.index\n"
   ]
  },
  {
   "cell_type": "code",
   "execution_count": 128,
   "id": "ad4bff4a",
   "metadata": {},
   "outputs": [],
   "source": [
    "df_9am = df[['도로명','방향', '09시']]"
   ]
  },
  {
   "cell_type": "code",
   "execution_count": 129,
   "id": "c7353fb6",
   "metadata": {},
   "outputs": [
    {
     "data": {
      "text/html": [
       "<div>\n",
       "<style scoped>\n",
       "    .dataframe tbody tr th:only-of-type {\n",
       "        vertical-align: middle;\n",
       "    }\n",
       "\n",
       "    .dataframe tbody tr th {\n",
       "        vertical-align: top;\n",
       "    }\n",
       "\n",
       "    .dataframe thead th {\n",
       "        text-align: right;\n",
       "    }\n",
       "</style>\n",
       "<table border=\"1\" class=\"dataframe\">\n",
       "  <thead>\n",
       "    <tr style=\"text-align: right;\">\n",
       "      <th></th>\n",
       "      <th>도로명</th>\n",
       "      <th>방향</th>\n",
       "      <th>09시</th>\n",
       "    </tr>\n",
       "  </thead>\n",
       "  <tbody>\n",
       "    <tr>\n",
       "      <th>0</th>\n",
       "      <td>테크노파크로</td>\n",
       "      <td>상행</td>\n",
       "      <td>106</td>\n",
       "    </tr>\n",
       "    <tr>\n",
       "      <th>1</th>\n",
       "      <td>테크노파크로</td>\n",
       "      <td>상행</td>\n",
       "      <td>144</td>\n",
       "    </tr>\n",
       "    <tr>\n",
       "      <th>2</th>\n",
       "      <td>테크노파크로</td>\n",
       "      <td>상행</td>\n",
       "      <td>93</td>\n",
       "    </tr>\n",
       "    <tr>\n",
       "      <th>3</th>\n",
       "      <td>테크노파크로</td>\n",
       "      <td>상행</td>\n",
       "      <td>654</td>\n",
       "    </tr>\n",
       "    <tr>\n",
       "      <th>4</th>\n",
       "      <td>테크노파크로</td>\n",
       "      <td>상행</td>\n",
       "      <td>663</td>\n",
       "    </tr>\n",
       "    <tr>\n",
       "      <th>...</th>\n",
       "      <td>...</td>\n",
       "      <td>...</td>\n",
       "      <td>...</td>\n",
       "    </tr>\n",
       "    <tr>\n",
       "      <th>1435</th>\n",
       "      <td>송도문화로</td>\n",
       "      <td>상행</td>\n",
       "      <td>143</td>\n",
       "    </tr>\n",
       "    <tr>\n",
       "      <th>1436</th>\n",
       "      <td>송도문화로</td>\n",
       "      <td>상행</td>\n",
       "      <td>72</td>\n",
       "    </tr>\n",
       "    <tr>\n",
       "      <th>1437</th>\n",
       "      <td>송도문화로</td>\n",
       "      <td>상행</td>\n",
       "      <td>381</td>\n",
       "    </tr>\n",
       "    <tr>\n",
       "      <th>1438</th>\n",
       "      <td>송도문화로</td>\n",
       "      <td>상행</td>\n",
       "      <td>358</td>\n",
       "    </tr>\n",
       "    <tr>\n",
       "      <th>1439</th>\n",
       "      <td>송도문화로</td>\n",
       "      <td>상행</td>\n",
       "      <td>369</td>\n",
       "    </tr>\n",
       "  </tbody>\n",
       "</table>\n",
       "<p>1440 rows × 3 columns</p>\n",
       "</div>"
      ],
      "text/plain": [
       "         도로명  방향  09시\n",
       "0     테크노파크로  상행  106\n",
       "1     테크노파크로  상행  144\n",
       "2     테크노파크로  상행   93\n",
       "3     테크노파크로  상행  654\n",
       "4     테크노파크로  상행  663\n",
       "...      ...  ..  ...\n",
       "1435   송도문화로  상행  143\n",
       "1436   송도문화로  상행   72\n",
       "1437   송도문화로  상행  381\n",
       "1438   송도문화로  상행  358\n",
       "1439   송도문화로  상행  369\n",
       "\n",
       "[1440 rows x 3 columns]"
      ]
     },
     "execution_count": 129,
     "metadata": {},
     "output_type": "execute_result"
    }
   ],
   "source": [
    "df_9am"
   ]
  },
  {
   "cell_type": "code",
   "execution_count": 130,
   "id": "35d4aabd",
   "metadata": {},
   "outputs": [],
   "source": [
    "df_9am.to_csv('송도국제도시_9am.csv', index=False, encoding='euc-kr')"
   ]
  },
  {
   "cell_type": "code",
   "execution_count": 131,
   "id": "5d506c3c",
   "metadata": {},
   "outputs": [],
   "source": [
    "df.to_json(\"인천.json\", orient='records', force_ascii=False,indent = 2)"
   ]
  },
  {
   "cell_type": "code",
   "execution_count": 132,
   "id": "3abac077",
   "metadata": {},
   "outputs": [],
   "source": [
    "df_json = pd.read_json(\"인천.json\")"
   ]
  },
  {
   "cell_type": "code",
   "execution_count": 133,
   "id": "8e2a35b4",
   "metadata": {},
   "outputs": [
    {
     "data": {
      "text/html": [
       "<div>\n",
       "<style scoped>\n",
       "    .dataframe tbody tr th:only-of-type {\n",
       "        vertical-align: middle;\n",
       "    }\n",
       "\n",
       "    .dataframe tbody tr th {\n",
       "        vertical-align: top;\n",
       "    }\n",
       "\n",
       "    .dataframe thead th {\n",
       "        text-align: right;\n",
       "    }\n",
       "</style>\n",
       "<table border=\"1\" class=\"dataframe\">\n",
       "  <thead>\n",
       "    <tr style=\"text-align: right;\">\n",
       "      <th></th>\n",
       "      <th>일자</th>\n",
       "      <th>요일</th>\n",
       "      <th>도로명</th>\n",
       "      <th>링크아이디</th>\n",
       "      <th>검지기아이디</th>\n",
       "      <th>지점명</th>\n",
       "      <th>방향</th>\n",
       "      <th>시점명</th>\n",
       "      <th>종점명</th>\n",
       "      <th>00시</th>\n",
       "      <th>...</th>\n",
       "      <th>14시</th>\n",
       "      <th>15시</th>\n",
       "      <th>16시</th>\n",
       "      <th>17시</th>\n",
       "      <th>18시</th>\n",
       "      <th>19시</th>\n",
       "      <th>20시</th>\n",
       "      <th>21시</th>\n",
       "      <th>22시</th>\n",
       "      <th>23시</th>\n",
       "    </tr>\n",
       "  </thead>\n",
       "  <tbody>\n",
       "    <tr>\n",
       "      <th>0</th>\n",
       "      <td>2021-01-01</td>\n",
       "      <td>금</td>\n",
       "      <td>테크노파크로</td>\n",
       "      <td>1640137900</td>\n",
       "      <td>SDTRVCT00100001</td>\n",
       "      <td>한국생산기술연구원 맞은편</td>\n",
       "      <td>상행</td>\n",
       "      <td>한국생산기술연구원앞</td>\n",
       "      <td>미추홀타워입구</td>\n",
       "      <td>87</td>\n",
       "      <td>...</td>\n",
       "      <td>387</td>\n",
       "      <td>435</td>\n",
       "      <td>473</td>\n",
       "      <td>453</td>\n",
       "      <td>408</td>\n",
       "      <td>367</td>\n",
       "      <td>284</td>\n",
       "      <td>200</td>\n",
       "      <td>138</td>\n",
       "      <td>111</td>\n",
       "    </tr>\n",
       "    <tr>\n",
       "      <th>1</th>\n",
       "      <td>2021-01-02</td>\n",
       "      <td>토</td>\n",
       "      <td>테크노파크로</td>\n",
       "      <td>1640137900</td>\n",
       "      <td>SDTRVCT00100001</td>\n",
       "      <td>한국생산기술연구원 맞은편</td>\n",
       "      <td>상행</td>\n",
       "      <td>한국생산기술연구원앞</td>\n",
       "      <td>미추홀타워입구</td>\n",
       "      <td>69</td>\n",
       "      <td>...</td>\n",
       "      <td>514</td>\n",
       "      <td>579</td>\n",
       "      <td>522</td>\n",
       "      <td>546</td>\n",
       "      <td>518</td>\n",
       "      <td>427</td>\n",
       "      <td>303</td>\n",
       "      <td>249</td>\n",
       "      <td>205</td>\n",
       "      <td>91</td>\n",
       "    </tr>\n",
       "    <tr>\n",
       "      <th>2</th>\n",
       "      <td>2021-01-03</td>\n",
       "      <td>일</td>\n",
       "      <td>테크노파크로</td>\n",
       "      <td>1640137900</td>\n",
       "      <td>SDTRVCT00100001</td>\n",
       "      <td>한국생산기술연구원 맞은편</td>\n",
       "      <td>상행</td>\n",
       "      <td>한국생산기술연구원앞</td>\n",
       "      <td>미추홀타워입구</td>\n",
       "      <td>63</td>\n",
       "      <td>...</td>\n",
       "      <td>418</td>\n",
       "      <td>497</td>\n",
       "      <td>497</td>\n",
       "      <td>458</td>\n",
       "      <td>416</td>\n",
       "      <td>330</td>\n",
       "      <td>280</td>\n",
       "      <td>209</td>\n",
       "      <td>144</td>\n",
       "      <td>80</td>\n",
       "    </tr>\n",
       "    <tr>\n",
       "      <th>3</th>\n",
       "      <td>2021-01-04</td>\n",
       "      <td>월</td>\n",
       "      <td>테크노파크로</td>\n",
       "      <td>1640137900</td>\n",
       "      <td>SDTRVCT00100001</td>\n",
       "      <td>한국생산기술연구원 맞은편</td>\n",
       "      <td>상행</td>\n",
       "      <td>한국생산기술연구원앞</td>\n",
       "      <td>미추홀타워입구</td>\n",
       "      <td>50</td>\n",
       "      <td>...</td>\n",
       "      <td>395</td>\n",
       "      <td>424</td>\n",
       "      <td>410</td>\n",
       "      <td>455</td>\n",
       "      <td>592</td>\n",
       "      <td>534</td>\n",
       "      <td>423</td>\n",
       "      <td>288</td>\n",
       "      <td>187</td>\n",
       "      <td>113</td>\n",
       "    </tr>\n",
       "    <tr>\n",
       "      <th>4</th>\n",
       "      <td>2021-01-05</td>\n",
       "      <td>화</td>\n",
       "      <td>테크노파크로</td>\n",
       "      <td>1640137900</td>\n",
       "      <td>SDTRVCT00100001</td>\n",
       "      <td>한국생산기술연구원 맞은편</td>\n",
       "      <td>상행</td>\n",
       "      <td>한국생산기술연구원앞</td>\n",
       "      <td>미추홀타워입구</td>\n",
       "      <td>76</td>\n",
       "      <td>...</td>\n",
       "      <td>427</td>\n",
       "      <td>435</td>\n",
       "      <td>421</td>\n",
       "      <td>469</td>\n",
       "      <td>534</td>\n",
       "      <td>610</td>\n",
       "      <td>458</td>\n",
       "      <td>335</td>\n",
       "      <td>253</td>\n",
       "      <td>121</td>\n",
       "    </tr>\n",
       "    <tr>\n",
       "      <th>...</th>\n",
       "      <td>...</td>\n",
       "      <td>...</td>\n",
       "      <td>...</td>\n",
       "      <td>...</td>\n",
       "      <td>...</td>\n",
       "      <td>...</td>\n",
       "      <td>...</td>\n",
       "      <td>...</td>\n",
       "      <td>...</td>\n",
       "      <td>...</td>\n",
       "      <td>...</td>\n",
       "      <td>...</td>\n",
       "      <td>...</td>\n",
       "      <td>...</td>\n",
       "      <td>...</td>\n",
       "      <td>...</td>\n",
       "      <td>...</td>\n",
       "      <td>...</td>\n",
       "      <td>...</td>\n",
       "      <td>...</td>\n",
       "      <td>...</td>\n",
       "    </tr>\n",
       "    <tr>\n",
       "      <th>1435</th>\n",
       "      <td>2021-03-27</td>\n",
       "      <td>토</td>\n",
       "      <td>송도문화로</td>\n",
       "      <td>1650255500</td>\n",
       "      <td>SDTRVCT00100016</td>\n",
       "      <td>글로벌캠퍼스</td>\n",
       "      <td>상행</td>\n",
       "      <td>인천글로벌캠퍼스</td>\n",
       "      <td>송도에듀포레푸르지오</td>\n",
       "      <td>109</td>\n",
       "      <td>...</td>\n",
       "      <td>441</td>\n",
       "      <td>425</td>\n",
       "      <td>497</td>\n",
       "      <td>393</td>\n",
       "      <td>345</td>\n",
       "      <td>279</td>\n",
       "      <td>220</td>\n",
       "      <td>205</td>\n",
       "      <td>177</td>\n",
       "      <td>117</td>\n",
       "    </tr>\n",
       "    <tr>\n",
       "      <th>1436</th>\n",
       "      <td>2021-03-28</td>\n",
       "      <td>일</td>\n",
       "      <td>송도문화로</td>\n",
       "      <td>1650255500</td>\n",
       "      <td>SDTRVCT00100016</td>\n",
       "      <td>글로벌캠퍼스</td>\n",
       "      <td>상행</td>\n",
       "      <td>인천글로벌캠퍼스</td>\n",
       "      <td>송도에듀포레푸르지오</td>\n",
       "      <td>64</td>\n",
       "      <td>...</td>\n",
       "      <td>345</td>\n",
       "      <td>320</td>\n",
       "      <td>338</td>\n",
       "      <td>294</td>\n",
       "      <td>313</td>\n",
       "      <td>248</td>\n",
       "      <td>187</td>\n",
       "      <td>166</td>\n",
       "      <td>181</td>\n",
       "      <td>96</td>\n",
       "    </tr>\n",
       "    <tr>\n",
       "      <th>1437</th>\n",
       "      <td>2021-03-29</td>\n",
       "      <td>월</td>\n",
       "      <td>송도문화로</td>\n",
       "      <td>1650255500</td>\n",
       "      <td>SDTRVCT00100016</td>\n",
       "      <td>글로벌캠퍼스</td>\n",
       "      <td>상행</td>\n",
       "      <td>인천글로벌캠퍼스</td>\n",
       "      <td>송도에듀포레푸르지오</td>\n",
       "      <td>56</td>\n",
       "      <td>...</td>\n",
       "      <td>168</td>\n",
       "      <td>223</td>\n",
       "      <td>237</td>\n",
       "      <td>355</td>\n",
       "      <td>659</td>\n",
       "      <td>818</td>\n",
       "      <td>528</td>\n",
       "      <td>367</td>\n",
       "      <td>239</td>\n",
       "      <td>159</td>\n",
       "    </tr>\n",
       "    <tr>\n",
       "      <th>1438</th>\n",
       "      <td>2021-03-30</td>\n",
       "      <td>화</td>\n",
       "      <td>송도문화로</td>\n",
       "      <td>1650255500</td>\n",
       "      <td>SDTRVCT00100016</td>\n",
       "      <td>글로벌캠퍼스</td>\n",
       "      <td>상행</td>\n",
       "      <td>인천글로벌캠퍼스</td>\n",
       "      <td>송도에듀포레푸르지오</td>\n",
       "      <td>78</td>\n",
       "      <td>...</td>\n",
       "      <td>199</td>\n",
       "      <td>207</td>\n",
       "      <td>249</td>\n",
       "      <td>347</td>\n",
       "      <td>625</td>\n",
       "      <td>785</td>\n",
       "      <td>593</td>\n",
       "      <td>401</td>\n",
       "      <td>294</td>\n",
       "      <td>143</td>\n",
       "    </tr>\n",
       "    <tr>\n",
       "      <th>1439</th>\n",
       "      <td>2021-03-31</td>\n",
       "      <td>수</td>\n",
       "      <td>송도문화로</td>\n",
       "      <td>1650255500</td>\n",
       "      <td>SDTRVCT00100016</td>\n",
       "      <td>글로벌캠퍼스</td>\n",
       "      <td>상행</td>\n",
       "      <td>인천글로벌캠퍼스</td>\n",
       "      <td>송도에듀포레푸르지오</td>\n",
       "      <td>78</td>\n",
       "      <td>...</td>\n",
       "      <td>211</td>\n",
       "      <td>244</td>\n",
       "      <td>249</td>\n",
       "      <td>395</td>\n",
       "      <td>674</td>\n",
       "      <td>803</td>\n",
       "      <td>519</td>\n",
       "      <td>411</td>\n",
       "      <td>279</td>\n",
       "      <td>203</td>\n",
       "    </tr>\n",
       "  </tbody>\n",
       "</table>\n",
       "<p>1440 rows × 33 columns</p>\n",
       "</div>"
      ],
      "text/plain": [
       "              일자 요일     도로명       링크아이디           검지기아이디            지점명  방향  \\\n",
       "0     2021-01-01  금  테크노파크로  1640137900  SDTRVCT00100001  한국생산기술연구원 맞은편  상행   \n",
       "1     2021-01-02  토  테크노파크로  1640137900  SDTRVCT00100001  한국생산기술연구원 맞은편  상행   \n",
       "2     2021-01-03  일  테크노파크로  1640137900  SDTRVCT00100001  한국생산기술연구원 맞은편  상행   \n",
       "3     2021-01-04  월  테크노파크로  1640137900  SDTRVCT00100001  한국생산기술연구원 맞은편  상행   \n",
       "4     2021-01-05  화  테크노파크로  1640137900  SDTRVCT00100001  한국생산기술연구원 맞은편  상행   \n",
       "...          ... ..     ...         ...              ...            ...  ..   \n",
       "1435  2021-03-27  토   송도문화로  1650255500  SDTRVCT00100016         글로벌캠퍼스  상행   \n",
       "1436  2021-03-28  일   송도문화로  1650255500  SDTRVCT00100016         글로벌캠퍼스  상행   \n",
       "1437  2021-03-29  월   송도문화로  1650255500  SDTRVCT00100016         글로벌캠퍼스  상행   \n",
       "1438  2021-03-30  화   송도문화로  1650255500  SDTRVCT00100016         글로벌캠퍼스  상행   \n",
       "1439  2021-03-31  수   송도문화로  1650255500  SDTRVCT00100016         글로벌캠퍼스  상행   \n",
       "\n",
       "             시점명         종점명  00시  ...  14시  15시  16시  17시  18시  19시  20시  \\\n",
       "0     한국생산기술연구원앞     미추홀타워입구   87  ...  387  435  473  453  408  367  284   \n",
       "1     한국생산기술연구원앞     미추홀타워입구   69  ...  514  579  522  546  518  427  303   \n",
       "2     한국생산기술연구원앞     미추홀타워입구   63  ...  418  497  497  458  416  330  280   \n",
       "3     한국생산기술연구원앞     미추홀타워입구   50  ...  395  424  410  455  592  534  423   \n",
       "4     한국생산기술연구원앞     미추홀타워입구   76  ...  427  435  421  469  534  610  458   \n",
       "...          ...         ...  ...  ...  ...  ...  ...  ...  ...  ...  ...   \n",
       "1435    인천글로벌캠퍼스  송도에듀포레푸르지오  109  ...  441  425  497  393  345  279  220   \n",
       "1436    인천글로벌캠퍼스  송도에듀포레푸르지오   64  ...  345  320  338  294  313  248  187   \n",
       "1437    인천글로벌캠퍼스  송도에듀포레푸르지오   56  ...  168  223  237  355  659  818  528   \n",
       "1438    인천글로벌캠퍼스  송도에듀포레푸르지오   78  ...  199  207  249  347  625  785  593   \n",
       "1439    인천글로벌캠퍼스  송도에듀포레푸르지오   78  ...  211  244  249  395  674  803  519   \n",
       "\n",
       "      21시  22시  23시  \n",
       "0     200  138  111  \n",
       "1     249  205   91  \n",
       "2     209  144   80  \n",
       "3     288  187  113  \n",
       "4     335  253  121  \n",
       "...   ...  ...  ...  \n",
       "1435  205  177  117  \n",
       "1436  166  181   96  \n",
       "1437  367  239  159  \n",
       "1438  401  294  143  \n",
       "1439  411  279  203  \n",
       "\n",
       "[1440 rows x 33 columns]"
      ]
     },
     "execution_count": 133,
     "metadata": {},
     "output_type": "execute_result"
    }
   ],
   "source": [
    "df_json"
   ]
  },
  {
   "cell_type": "code",
   "execution_count": 134,
   "id": "0902482c",
   "metadata": {},
   "outputs": [
    {
     "data": {
      "text/html": [
       "<div>\n",
       "<style scoped>\n",
       "    .dataframe tbody tr th:only-of-type {\n",
       "        vertical-align: middle;\n",
       "    }\n",
       "\n",
       "    .dataframe tbody tr th {\n",
       "        vertical-align: top;\n",
       "    }\n",
       "\n",
       "    .dataframe thead th {\n",
       "        text-align: right;\n",
       "    }\n",
       "</style>\n",
       "<table border=\"1\" class=\"dataframe\">\n",
       "  <thead>\n",
       "    <tr style=\"text-align: right;\">\n",
       "      <th></th>\n",
       "      <th>도로명</th>\n",
       "      <th>방향</th>\n",
       "      <th>09시</th>\n",
       "    </tr>\n",
       "  </thead>\n",
       "  <tbody>\n",
       "    <tr>\n",
       "      <th>0</th>\n",
       "      <td>테크노파크로</td>\n",
       "      <td>상행</td>\n",
       "      <td>106</td>\n",
       "    </tr>\n",
       "    <tr>\n",
       "      <th>1</th>\n",
       "      <td>테크노파크로</td>\n",
       "      <td>상행</td>\n",
       "      <td>144</td>\n",
       "    </tr>\n",
       "    <tr>\n",
       "      <th>2</th>\n",
       "      <td>테크노파크로</td>\n",
       "      <td>상행</td>\n",
       "      <td>93</td>\n",
       "    </tr>\n",
       "    <tr>\n",
       "      <th>3</th>\n",
       "      <td>테크노파크로</td>\n",
       "      <td>상행</td>\n",
       "      <td>654</td>\n",
       "    </tr>\n",
       "    <tr>\n",
       "      <th>4</th>\n",
       "      <td>테크노파크로</td>\n",
       "      <td>상행</td>\n",
       "      <td>663</td>\n",
       "    </tr>\n",
       "    <tr>\n",
       "      <th>...</th>\n",
       "      <td>...</td>\n",
       "      <td>...</td>\n",
       "      <td>...</td>\n",
       "    </tr>\n",
       "    <tr>\n",
       "      <th>1435</th>\n",
       "      <td>송도문화로</td>\n",
       "      <td>상행</td>\n",
       "      <td>143</td>\n",
       "    </tr>\n",
       "    <tr>\n",
       "      <th>1436</th>\n",
       "      <td>송도문화로</td>\n",
       "      <td>상행</td>\n",
       "      <td>72</td>\n",
       "    </tr>\n",
       "    <tr>\n",
       "      <th>1437</th>\n",
       "      <td>송도문화로</td>\n",
       "      <td>상행</td>\n",
       "      <td>381</td>\n",
       "    </tr>\n",
       "    <tr>\n",
       "      <th>1438</th>\n",
       "      <td>송도문화로</td>\n",
       "      <td>상행</td>\n",
       "      <td>358</td>\n",
       "    </tr>\n",
       "    <tr>\n",
       "      <th>1439</th>\n",
       "      <td>송도문화로</td>\n",
       "      <td>상행</td>\n",
       "      <td>369</td>\n",
       "    </tr>\n",
       "  </tbody>\n",
       "</table>\n",
       "<p>1440 rows × 3 columns</p>\n",
       "</div>"
      ],
      "text/plain": [
       "         도로명  방향  09시\n",
       "0     테크노파크로  상행  106\n",
       "1     테크노파크로  상행  144\n",
       "2     테크노파크로  상행   93\n",
       "3     테크노파크로  상행  654\n",
       "4     테크노파크로  상행  663\n",
       "...      ...  ..  ...\n",
       "1435   송도문화로  상행  143\n",
       "1436   송도문화로  상행   72\n",
       "1437   송도문화로  상행  381\n",
       "1438   송도문화로  상행  358\n",
       "1439   송도문화로  상행  369\n",
       "\n",
       "[1440 rows x 3 columns]"
      ]
     },
     "execution_count": 134,
     "metadata": {},
     "output_type": "execute_result"
    }
   ],
   "source": [
    "df_9am"
   ]
  },
  {
   "cell_type": "code",
   "execution_count": 135,
   "id": "9f6f850e",
   "metadata": {},
   "outputs": [
    {
     "data": {
      "text/plain": [
       "0       False\n",
       "1       False\n",
       "2       False\n",
       "3       False\n",
       "4       False\n",
       "        ...  \n",
       "1435    False\n",
       "1436    False\n",
       "1437    False\n",
       "1438    False\n",
       "1439    False\n",
       "Length: 1440, dtype: bool"
      ]
     },
     "execution_count": 135,
     "metadata": {},
     "output_type": "execute_result"
    }
   ],
   "source": [
    "(df[\"도로명\"] == \"송도국제대로\") & (df[\"일자\"]== \"2021-01-01\")"
   ]
  },
  {
   "cell_type": "code",
   "execution_count": 136,
   "id": "e0dd695a",
   "metadata": {},
   "outputs": [
    {
     "data": {
      "text/html": [
       "<div>\n",
       "<style scoped>\n",
       "    .dataframe tbody tr th:only-of-type {\n",
       "        vertical-align: middle;\n",
       "    }\n",
       "\n",
       "    .dataframe tbody tr th {\n",
       "        vertical-align: top;\n",
       "    }\n",
       "\n",
       "    .dataframe thead th {\n",
       "        text-align: right;\n",
       "    }\n",
       "</style>\n",
       "<table border=\"1\" class=\"dataframe\">\n",
       "  <thead>\n",
       "    <tr style=\"text-align: right;\">\n",
       "      <th></th>\n",
       "      <th>일자</th>\n",
       "      <th>요일</th>\n",
       "      <th>도로명</th>\n",
       "      <th>링크아이디</th>\n",
       "      <th>검지기아이디</th>\n",
       "      <th>지점명</th>\n",
       "      <th>방향</th>\n",
       "      <th>시점명</th>\n",
       "      <th>종점명</th>\n",
       "      <th>00시</th>\n",
       "      <th>...</th>\n",
       "      <th>14시</th>\n",
       "      <th>15시</th>\n",
       "      <th>16시</th>\n",
       "      <th>17시</th>\n",
       "      <th>18시</th>\n",
       "      <th>19시</th>\n",
       "      <th>20시</th>\n",
       "      <th>21시</th>\n",
       "      <th>22시</th>\n",
       "      <th>23시</th>\n",
       "    </tr>\n",
       "  </thead>\n",
       "  <tbody>\n",
       "    <tr>\n",
       "      <th>124</th>\n",
       "      <td>2021-01-01</td>\n",
       "      <td>금</td>\n",
       "      <td>송도국제대로</td>\n",
       "      <td>1640151000</td>\n",
       "      <td>SDTRVCT00100005</td>\n",
       "      <td>캠퍼스타운역 2번출구</td>\n",
       "      <td>상행</td>\n",
       "      <td>아이파크A113동앞</td>\n",
       "      <td>캠퍼스타운역</td>\n",
       "      <td>395</td>\n",
       "      <td>...</td>\n",
       "      <td>1357</td>\n",
       "      <td>1743</td>\n",
       "      <td>1932</td>\n",
       "      <td>2149</td>\n",
       "      <td>2015</td>\n",
       "      <td>1846</td>\n",
       "      <td>1469</td>\n",
       "      <td>1468</td>\n",
       "      <td>912</td>\n",
       "      <td>435</td>\n",
       "    </tr>\n",
       "    <tr>\n",
       "      <th>155</th>\n",
       "      <td>2021-01-01</td>\n",
       "      <td>금</td>\n",
       "      <td>송도국제대로</td>\n",
       "      <td>1640147300</td>\n",
       "      <td>SDTRVCT00100006</td>\n",
       "      <td>테크노파크역 1번출구</td>\n",
       "      <td>하행</td>\n",
       "      <td>인천글로벌캠퍼스</td>\n",
       "      <td>프리미엄아울렛앞</td>\n",
       "      <td>326</td>\n",
       "      <td>...</td>\n",
       "      <td>1117</td>\n",
       "      <td>1399</td>\n",
       "      <td>1491</td>\n",
       "      <td>1352</td>\n",
       "      <td>1278</td>\n",
       "      <td>1061</td>\n",
       "      <td>809</td>\n",
       "      <td>750</td>\n",
       "      <td>679</td>\n",
       "      <td>370</td>\n",
       "    </tr>\n",
       "  </tbody>\n",
       "</table>\n",
       "<p>2 rows × 33 columns</p>\n",
       "</div>"
      ],
      "text/plain": [
       "             일자 요일     도로명       링크아이디           검지기아이디          지점명  방향  \\\n",
       "124  2021-01-01  금  송도국제대로  1640151000  SDTRVCT00100005  캠퍼스타운역 2번출구  상행   \n",
       "155  2021-01-01  금  송도국제대로  1640147300  SDTRVCT00100006  테크노파크역 1번출구  하행   \n",
       "\n",
       "            시점명       종점명  00시  ...   14시   15시   16시   17시   18시   19시   20시  \\\n",
       "124  아이파크A113동앞    캠퍼스타운역  395  ...  1357  1743  1932  2149  2015  1846  1469   \n",
       "155    인천글로벌캠퍼스  프리미엄아울렛앞  326  ...  1117  1399  1491  1352  1278  1061   809   \n",
       "\n",
       "      21시  22시  23시  \n",
       "124  1468  912  435  \n",
       "155   750  679  370  \n",
       "\n",
       "[2 rows x 33 columns]"
      ]
     },
     "execution_count": 136,
     "metadata": {},
     "output_type": "execute_result"
    }
   ],
   "source": [
    "df[(df[\"도로명\"] == \"송도국제대로\") & (df[\"일자\"]== \"2021-01-01\")]"
   ]
  },
  {
   "cell_type": "code",
   "execution_count": 140,
   "id": "232fe4a5",
   "metadata": {},
   "outputs": [
    {
     "data": {
      "text/plain": [
       "124    591\n",
       "155    421\n",
       "Name: 09시, dtype: int64"
      ]
     },
     "execution_count": 140,
     "metadata": {},
     "output_type": "execute_result"
    }
   ],
   "source": [
    "df[(df[\"도로명\"] == \"송도국제대로\") & (df[\"일자\"]== \"2021-01-01\")][\"09시\"]"
   ]
  },
  {
   "cell_type": "code",
   "execution_count": 142,
   "id": "0aa4547c",
   "metadata": {},
   "outputs": [],
   "source": [
    "condition = (df['도로명'] == \"송도국제대로\")"
   ]
  },
  {
   "cell_type": "code",
   "execution_count": 143,
   "id": "9f95dd08",
   "metadata": {},
   "outputs": [
    {
     "name": "stdout",
     "output_type": "stream",
     "text": [
      "0       False\n",
      "1       False\n",
      "2       False\n",
      "3       False\n",
      "4       False\n",
      "        ...  \n",
      "1435    False\n",
      "1436    False\n",
      "1437    False\n",
      "1438    False\n",
      "1439    False\n",
      "Name: 도로명, Length: 1440, dtype: bool\n"
     ]
    }
   ],
   "source": [
    "print(condition)"
   ]
  },
  {
   "cell_type": "code",
   "execution_count": 145,
   "id": "d2b34df8",
   "metadata": {},
   "outputs": [
    {
     "name": "stdout",
     "output_type": "stream",
     "text": [
      "1915.3055555555557\n"
     ]
    }
   ],
   "source": [
    "print(df.loc[condition, '09시'].mean())"
   ]
  },
  {
   "cell_type": "code",
   "execution_count": 146,
   "id": "477d3efe",
   "metadata": {},
   "outputs": [
    {
     "name": "stdout",
     "output_type": "stream",
     "text": [
      "          09시       14시       18시\n",
      "09시  1.000000  0.661098  0.750643\n",
      "14시  0.661098  1.000000  0.897277\n",
      "18시  0.750643  0.897277  1.000000\n"
     ]
    }
   ],
   "source": [
    "print(df[['09시', '14시', '18시']].corr())"
   ]
  },
  {
   "cell_type": "code",
   "execution_count": 147,
   "id": "b43a591c",
   "metadata": {},
   "outputs": [
    {
     "name": "stdout",
     "output_type": "stream",
     "text": [
      "               09시          13시\n",
      "count  1440.000000  1440.000000\n",
      "mean    841.231250   660.964583\n",
      "std     724.194009   402.906705\n",
      "min      35.000000    50.000000\n",
      "25%     278.500000   381.000000\n",
      "50%     607.500000   607.500000\n",
      "75%    1181.500000   845.000000\n",
      "max    2783.000000  2201.000000\n"
     ]
    }
   ],
   "source": [
    "print(df[['09시','13시']].describe())"
   ]
  },
  {
   "cell_type": "code",
   "execution_count": 148,
   "id": "c5f59c3e",
   "metadata": {},
   "outputs": [
    {
     "data": {
      "text/plain": [
       "도로명\n",
       "테크노파크로     180\n",
       "아트센터대로     180\n",
       "컨벤시아대로     180\n",
       "송도국제대로     180\n",
       "인천타워대로     180\n",
       "첨단대로       180\n",
       "송도과학로      180\n",
       "송도바이오대로     90\n",
       "송도문화로       90\n",
       "Name: count, dtype: int64"
      ]
     },
     "execution_count": 148,
     "metadata": {},
     "output_type": "execute_result"
    }
   ],
   "source": [
    "df['도로명'].value_counts()"
   ]
  },
  {
   "cell_type": "code",
   "execution_count": 149,
   "id": "2995b412",
   "metadata": {},
   "outputs": [
    {
     "data": {
      "text/plain": [
       "0       테크노파크로\n",
       "1       테크노파크로\n",
       "2       테크노파크로\n",
       "3       테크노파크로\n",
       "4       테크노파크로\n",
       "         ...  \n",
       "1435     송도문화로\n",
       "1436     송도문화로\n",
       "1437     송도문화로\n",
       "1438     송도문화로\n",
       "1439     송도문화로\n",
       "Name: 도로명, Length: 1440, dtype: object"
      ]
     },
     "execution_count": 149,
     "metadata": {},
     "output_type": "execute_result"
    }
   ],
   "source": [
    "df['도로명']"
   ]
  },
  {
   "cell_type": "code",
   "execution_count": 150,
   "id": "f311d73c",
   "metadata": {},
   "outputs": [
    {
     "data": {
      "text/html": [
       "<div>\n",
       "<style scoped>\n",
       "    .dataframe tbody tr th:only-of-type {\n",
       "        vertical-align: middle;\n",
       "    }\n",
       "\n",
       "    .dataframe tbody tr th {\n",
       "        vertical-align: top;\n",
       "    }\n",
       "\n",
       "    .dataframe thead th {\n",
       "        text-align: right;\n",
       "    }\n",
       "</style>\n",
       "<table border=\"1\" class=\"dataframe\">\n",
       "  <thead>\n",
       "    <tr style=\"text-align: right;\">\n",
       "      <th></th>\n",
       "      <th>일자</th>\n",
       "      <th>요일</th>\n",
       "      <th>도로명</th>\n",
       "      <th>링크아이디</th>\n",
       "      <th>검지기아이디</th>\n",
       "      <th>지점명</th>\n",
       "      <th>방향</th>\n",
       "      <th>시점명</th>\n",
       "      <th>종점명</th>\n",
       "      <th>00시</th>\n",
       "      <th>...</th>\n",
       "      <th>14시</th>\n",
       "      <th>15시</th>\n",
       "      <th>16시</th>\n",
       "      <th>17시</th>\n",
       "      <th>18시</th>\n",
       "      <th>19시</th>\n",
       "      <th>20시</th>\n",
       "      <th>21시</th>\n",
       "      <th>22시</th>\n",
       "      <th>23시</th>\n",
       "    </tr>\n",
       "  </thead>\n",
       "  <tbody>\n",
       "    <tr>\n",
       "      <th>10</th>\n",
       "      <td>2021-01-11</td>\n",
       "      <td>월</td>\n",
       "      <td>테크노파크로</td>\n",
       "      <td>1640137900</td>\n",
       "      <td>SDTRVCT00100001</td>\n",
       "      <td>한국생산기술연구원 맞은편</td>\n",
       "      <td>상행</td>\n",
       "      <td>한국생산기술연구원앞</td>\n",
       "      <td>미추홀타워입구</td>\n",
       "      <td>88</td>\n",
       "      <td>...</td>\n",
       "      <td>444</td>\n",
       "      <td>432</td>\n",
       "      <td>437</td>\n",
       "      <td>494</td>\n",
       "      <td>522</td>\n",
       "      <td>638</td>\n",
       "      <td>456</td>\n",
       "      <td>343</td>\n",
       "      <td>298</td>\n",
       "      <td>115</td>\n",
       "    </tr>\n",
       "    <tr>\n",
       "      <th>11</th>\n",
       "      <td>2021-01-12</td>\n",
       "      <td>화</td>\n",
       "      <td>테크노파크로</td>\n",
       "      <td>1640137900</td>\n",
       "      <td>SDTRVCT00100001</td>\n",
       "      <td>한국생산기술연구원 맞은편</td>\n",
       "      <td>상행</td>\n",
       "      <td>한국생산기술연구원앞</td>\n",
       "      <td>미추홀타워입구</td>\n",
       "      <td>66</td>\n",
       "      <td>...</td>\n",
       "      <td>432</td>\n",
       "      <td>510</td>\n",
       "      <td>235</td>\n",
       "      <td>379</td>\n",
       "      <td>426</td>\n",
       "      <td>456</td>\n",
       "      <td>295</td>\n",
       "      <td>175</td>\n",
       "      <td>172</td>\n",
       "      <td>75</td>\n",
       "    </tr>\n",
       "    <tr>\n",
       "      <th>12</th>\n",
       "      <td>2021-01-13</td>\n",
       "      <td>수</td>\n",
       "      <td>테크노파크로</td>\n",
       "      <td>1640137900</td>\n",
       "      <td>SDTRVCT00100001</td>\n",
       "      <td>한국생산기술연구원 맞은편</td>\n",
       "      <td>상행</td>\n",
       "      <td>한국생산기술연구원앞</td>\n",
       "      <td>미추홀타워입구</td>\n",
       "      <td>61</td>\n",
       "      <td>...</td>\n",
       "      <td>398</td>\n",
       "      <td>429</td>\n",
       "      <td>479</td>\n",
       "      <td>485</td>\n",
       "      <td>585</td>\n",
       "      <td>630</td>\n",
       "      <td>427</td>\n",
       "      <td>340</td>\n",
       "      <td>274</td>\n",
       "      <td>133</td>\n",
       "    </tr>\n",
       "    <tr>\n",
       "      <th>13</th>\n",
       "      <td>2021-01-14</td>\n",
       "      <td>목</td>\n",
       "      <td>테크노파크로</td>\n",
       "      <td>1640137900</td>\n",
       "      <td>SDTRVCT00100001</td>\n",
       "      <td>한국생산기술연구원 맞은편</td>\n",
       "      <td>상행</td>\n",
       "      <td>한국생산기술연구원앞</td>\n",
       "      <td>미추홀타워입구</td>\n",
       "      <td>68</td>\n",
       "      <td>...</td>\n",
       "      <td>492</td>\n",
       "      <td>456</td>\n",
       "      <td>449</td>\n",
       "      <td>475</td>\n",
       "      <td>524</td>\n",
       "      <td>599</td>\n",
       "      <td>410</td>\n",
       "      <td>305</td>\n",
       "      <td>272</td>\n",
       "      <td>144</td>\n",
       "    </tr>\n",
       "    <tr>\n",
       "      <th>14</th>\n",
       "      <td>2021-01-15</td>\n",
       "      <td>금</td>\n",
       "      <td>테크노파크로</td>\n",
       "      <td>1640137900</td>\n",
       "      <td>SDTRVCT00100001</td>\n",
       "      <td>한국생산기술연구원 맞은편</td>\n",
       "      <td>상행</td>\n",
       "      <td>한국생산기술연구원앞</td>\n",
       "      <td>미추홀타워입구</td>\n",
       "      <td>76</td>\n",
       "      <td>...</td>\n",
       "      <td>453</td>\n",
       "      <td>434</td>\n",
       "      <td>482</td>\n",
       "      <td>583</td>\n",
       "      <td>645</td>\n",
       "      <td>632</td>\n",
       "      <td>500</td>\n",
       "      <td>324</td>\n",
       "      <td>268</td>\n",
       "      <td>134</td>\n",
       "    </tr>\n",
       "    <tr>\n",
       "      <th>...</th>\n",
       "      <td>...</td>\n",
       "      <td>...</td>\n",
       "      <td>...</td>\n",
       "      <td>...</td>\n",
       "      <td>...</td>\n",
       "      <td>...</td>\n",
       "      <td>...</td>\n",
       "      <td>...</td>\n",
       "      <td>...</td>\n",
       "      <td>...</td>\n",
       "      <td>...</td>\n",
       "      <td>...</td>\n",
       "      <td>...</td>\n",
       "      <td>...</td>\n",
       "      <td>...</td>\n",
       "      <td>...</td>\n",
       "      <td>...</td>\n",
       "      <td>...</td>\n",
       "      <td>...</td>\n",
       "      <td>...</td>\n",
       "      <td>...</td>\n",
       "    </tr>\n",
       "    <tr>\n",
       "      <th>1435</th>\n",
       "      <td>2021-03-27</td>\n",
       "      <td>토</td>\n",
       "      <td>송도문화로</td>\n",
       "      <td>1650255500</td>\n",
       "      <td>SDTRVCT00100016</td>\n",
       "      <td>글로벌캠퍼스</td>\n",
       "      <td>상행</td>\n",
       "      <td>인천글로벌캠퍼스</td>\n",
       "      <td>송도에듀포레푸르지오</td>\n",
       "      <td>109</td>\n",
       "      <td>...</td>\n",
       "      <td>441</td>\n",
       "      <td>425</td>\n",
       "      <td>497</td>\n",
       "      <td>393</td>\n",
       "      <td>345</td>\n",
       "      <td>279</td>\n",
       "      <td>220</td>\n",
       "      <td>205</td>\n",
       "      <td>177</td>\n",
       "      <td>117</td>\n",
       "    </tr>\n",
       "    <tr>\n",
       "      <th>1436</th>\n",
       "      <td>2021-03-28</td>\n",
       "      <td>일</td>\n",
       "      <td>송도문화로</td>\n",
       "      <td>1650255500</td>\n",
       "      <td>SDTRVCT00100016</td>\n",
       "      <td>글로벌캠퍼스</td>\n",
       "      <td>상행</td>\n",
       "      <td>인천글로벌캠퍼스</td>\n",
       "      <td>송도에듀포레푸르지오</td>\n",
       "      <td>64</td>\n",
       "      <td>...</td>\n",
       "      <td>345</td>\n",
       "      <td>320</td>\n",
       "      <td>338</td>\n",
       "      <td>294</td>\n",
       "      <td>313</td>\n",
       "      <td>248</td>\n",
       "      <td>187</td>\n",
       "      <td>166</td>\n",
       "      <td>181</td>\n",
       "      <td>96</td>\n",
       "    </tr>\n",
       "    <tr>\n",
       "      <th>1437</th>\n",
       "      <td>2021-03-29</td>\n",
       "      <td>월</td>\n",
       "      <td>송도문화로</td>\n",
       "      <td>1650255500</td>\n",
       "      <td>SDTRVCT00100016</td>\n",
       "      <td>글로벌캠퍼스</td>\n",
       "      <td>상행</td>\n",
       "      <td>인천글로벌캠퍼스</td>\n",
       "      <td>송도에듀포레푸르지오</td>\n",
       "      <td>56</td>\n",
       "      <td>...</td>\n",
       "      <td>168</td>\n",
       "      <td>223</td>\n",
       "      <td>237</td>\n",
       "      <td>355</td>\n",
       "      <td>659</td>\n",
       "      <td>818</td>\n",
       "      <td>528</td>\n",
       "      <td>367</td>\n",
       "      <td>239</td>\n",
       "      <td>159</td>\n",
       "    </tr>\n",
       "    <tr>\n",
       "      <th>1438</th>\n",
       "      <td>2021-03-30</td>\n",
       "      <td>화</td>\n",
       "      <td>송도문화로</td>\n",
       "      <td>1650255500</td>\n",
       "      <td>SDTRVCT00100016</td>\n",
       "      <td>글로벌캠퍼스</td>\n",
       "      <td>상행</td>\n",
       "      <td>인천글로벌캠퍼스</td>\n",
       "      <td>송도에듀포레푸르지오</td>\n",
       "      <td>78</td>\n",
       "      <td>...</td>\n",
       "      <td>199</td>\n",
       "      <td>207</td>\n",
       "      <td>249</td>\n",
       "      <td>347</td>\n",
       "      <td>625</td>\n",
       "      <td>785</td>\n",
       "      <td>593</td>\n",
       "      <td>401</td>\n",
       "      <td>294</td>\n",
       "      <td>143</td>\n",
       "    </tr>\n",
       "    <tr>\n",
       "      <th>1439</th>\n",
       "      <td>2021-03-31</td>\n",
       "      <td>수</td>\n",
       "      <td>송도문화로</td>\n",
       "      <td>1650255500</td>\n",
       "      <td>SDTRVCT00100016</td>\n",
       "      <td>글로벌캠퍼스</td>\n",
       "      <td>상행</td>\n",
       "      <td>인천글로벌캠퍼스</td>\n",
       "      <td>송도에듀포레푸르지오</td>\n",
       "      <td>78</td>\n",
       "      <td>...</td>\n",
       "      <td>211</td>\n",
       "      <td>244</td>\n",
       "      <td>249</td>\n",
       "      <td>395</td>\n",
       "      <td>674</td>\n",
       "      <td>803</td>\n",
       "      <td>519</td>\n",
       "      <td>411</td>\n",
       "      <td>279</td>\n",
       "      <td>203</td>\n",
       "    </tr>\n",
       "  </tbody>\n",
       "</table>\n",
       "<p>1430 rows × 33 columns</p>\n",
       "</div>"
      ],
      "text/plain": [
       "              일자 요일     도로명       링크아이디           검지기아이디            지점명  방향  \\\n",
       "10    2021-01-11  월  테크노파크로  1640137900  SDTRVCT00100001  한국생산기술연구원 맞은편  상행   \n",
       "11    2021-01-12  화  테크노파크로  1640137900  SDTRVCT00100001  한국생산기술연구원 맞은편  상행   \n",
       "12    2021-01-13  수  테크노파크로  1640137900  SDTRVCT00100001  한국생산기술연구원 맞은편  상행   \n",
       "13    2021-01-14  목  테크노파크로  1640137900  SDTRVCT00100001  한국생산기술연구원 맞은편  상행   \n",
       "14    2021-01-15  금  테크노파크로  1640137900  SDTRVCT00100001  한국생산기술연구원 맞은편  상행   \n",
       "...          ... ..     ...         ...              ...            ...  ..   \n",
       "1435  2021-03-27  토   송도문화로  1650255500  SDTRVCT00100016         글로벌캠퍼스  상행   \n",
       "1436  2021-03-28  일   송도문화로  1650255500  SDTRVCT00100016         글로벌캠퍼스  상행   \n",
       "1437  2021-03-29  월   송도문화로  1650255500  SDTRVCT00100016         글로벌캠퍼스  상행   \n",
       "1438  2021-03-30  화   송도문화로  1650255500  SDTRVCT00100016         글로벌캠퍼스  상행   \n",
       "1439  2021-03-31  수   송도문화로  1650255500  SDTRVCT00100016         글로벌캠퍼스  상행   \n",
       "\n",
       "             시점명         종점명  00시  ...  14시  15시  16시  17시  18시  19시  20시  \\\n",
       "10    한국생산기술연구원앞     미추홀타워입구   88  ...  444  432  437  494  522  638  456   \n",
       "11    한국생산기술연구원앞     미추홀타워입구   66  ...  432  510  235  379  426  456  295   \n",
       "12    한국생산기술연구원앞     미추홀타워입구   61  ...  398  429  479  485  585  630  427   \n",
       "13    한국생산기술연구원앞     미추홀타워입구   68  ...  492  456  449  475  524  599  410   \n",
       "14    한국생산기술연구원앞     미추홀타워입구   76  ...  453  434  482  583  645  632  500   \n",
       "...          ...         ...  ...  ...  ...  ...  ...  ...  ...  ...  ...   \n",
       "1435    인천글로벌캠퍼스  송도에듀포레푸르지오  109  ...  441  425  497  393  345  279  220   \n",
       "1436    인천글로벌캠퍼스  송도에듀포레푸르지오   64  ...  345  320  338  294  313  248  187   \n",
       "1437    인천글로벌캠퍼스  송도에듀포레푸르지오   56  ...  168  223  237  355  659  818  528   \n",
       "1438    인천글로벌캠퍼스  송도에듀포레푸르지오   78  ...  199  207  249  347  625  785  593   \n",
       "1439    인천글로벌캠퍼스  송도에듀포레푸르지오   78  ...  211  244  249  395  674  803  519   \n",
       "\n",
       "      21시  22시  23시  \n",
       "10    343  298  115  \n",
       "11    175  172   75  \n",
       "12    340  274  133  \n",
       "13    305  272  144  \n",
       "14    324  268  134  \n",
       "...   ...  ...  ...  \n",
       "1435  205  177  117  \n",
       "1436  166  181   96  \n",
       "1437  367  239  159  \n",
       "1438  401  294  143  \n",
       "1439  411  279  203  \n",
       "\n",
       "[1430 rows x 33 columns]"
      ]
     },
     "execution_count": 150,
     "metadata": {},
     "output_type": "execute_result"
    }
   ],
   "source": [
    "df.drop(np.arange(10))"
   ]
  },
  {
   "cell_type": "code",
   "execution_count": 151,
   "id": "dfcacfd5",
   "metadata": {},
   "outputs": [
    {
     "data": {
      "text/html": [
       "<div>\n",
       "<style scoped>\n",
       "    .dataframe tbody tr th:only-of-type {\n",
       "        vertical-align: middle;\n",
       "    }\n",
       "\n",
       "    .dataframe tbody tr th {\n",
       "        vertical-align: top;\n",
       "    }\n",
       "\n",
       "    .dataframe thead th {\n",
       "        text-align: right;\n",
       "    }\n",
       "</style>\n",
       "<table border=\"1\" class=\"dataframe\">\n",
       "  <thead>\n",
       "    <tr style=\"text-align: right;\">\n",
       "      <th></th>\n",
       "      <th>일자</th>\n",
       "      <th>요일</th>\n",
       "      <th>도로명</th>\n",
       "      <th>링크아이디</th>\n",
       "      <th>검지기아이디</th>\n",
       "      <th>지점명</th>\n",
       "      <th>방향</th>\n",
       "      <th>시점명</th>\n",
       "      <th>종점명</th>\n",
       "      <th>00시</th>\n",
       "      <th>...</th>\n",
       "      <th>14시</th>\n",
       "      <th>15시</th>\n",
       "      <th>16시</th>\n",
       "      <th>17시</th>\n",
       "      <th>18시</th>\n",
       "      <th>19시</th>\n",
       "      <th>20시</th>\n",
       "      <th>21시</th>\n",
       "      <th>22시</th>\n",
       "      <th>23시</th>\n",
       "    </tr>\n",
       "  </thead>\n",
       "  <tbody>\n",
       "    <tr>\n",
       "      <th>0</th>\n",
       "      <td>2021-01-01</td>\n",
       "      <td>금</td>\n",
       "      <td>테크노파크로</td>\n",
       "      <td>1640137900</td>\n",
       "      <td>SDTRVCT00100001</td>\n",
       "      <td>한국생산기술연구원 맞은편</td>\n",
       "      <td>상행</td>\n",
       "      <td>한국생산기술연구원앞</td>\n",
       "      <td>미추홀타워입구</td>\n",
       "      <td>87</td>\n",
       "      <td>...</td>\n",
       "      <td>387</td>\n",
       "      <td>435</td>\n",
       "      <td>473</td>\n",
       "      <td>453</td>\n",
       "      <td>408</td>\n",
       "      <td>367</td>\n",
       "      <td>284</td>\n",
       "      <td>200</td>\n",
       "      <td>138</td>\n",
       "      <td>111</td>\n",
       "    </tr>\n",
       "    <tr>\n",
       "      <th>1</th>\n",
       "      <td>2021-01-02</td>\n",
       "      <td>토</td>\n",
       "      <td>테크노파크로</td>\n",
       "      <td>1640137900</td>\n",
       "      <td>SDTRVCT00100001</td>\n",
       "      <td>한국생산기술연구원 맞은편</td>\n",
       "      <td>상행</td>\n",
       "      <td>한국생산기술연구원앞</td>\n",
       "      <td>미추홀타워입구</td>\n",
       "      <td>69</td>\n",
       "      <td>...</td>\n",
       "      <td>514</td>\n",
       "      <td>579</td>\n",
       "      <td>522</td>\n",
       "      <td>546</td>\n",
       "      <td>518</td>\n",
       "      <td>427</td>\n",
       "      <td>303</td>\n",
       "      <td>249</td>\n",
       "      <td>205</td>\n",
       "      <td>91</td>\n",
       "    </tr>\n",
       "    <tr>\n",
       "      <th>2</th>\n",
       "      <td>2021-01-03</td>\n",
       "      <td>일</td>\n",
       "      <td>테크노파크로</td>\n",
       "      <td>1640137900</td>\n",
       "      <td>SDTRVCT00100001</td>\n",
       "      <td>한국생산기술연구원 맞은편</td>\n",
       "      <td>상행</td>\n",
       "      <td>한국생산기술연구원앞</td>\n",
       "      <td>미추홀타워입구</td>\n",
       "      <td>63</td>\n",
       "      <td>...</td>\n",
       "      <td>418</td>\n",
       "      <td>497</td>\n",
       "      <td>497</td>\n",
       "      <td>458</td>\n",
       "      <td>416</td>\n",
       "      <td>330</td>\n",
       "      <td>280</td>\n",
       "      <td>209</td>\n",
       "      <td>144</td>\n",
       "      <td>80</td>\n",
       "    </tr>\n",
       "    <tr>\n",
       "      <th>3</th>\n",
       "      <td>2021-01-04</td>\n",
       "      <td>월</td>\n",
       "      <td>테크노파크로</td>\n",
       "      <td>1640137900</td>\n",
       "      <td>SDTRVCT00100001</td>\n",
       "      <td>한국생산기술연구원 맞은편</td>\n",
       "      <td>상행</td>\n",
       "      <td>한국생산기술연구원앞</td>\n",
       "      <td>미추홀타워입구</td>\n",
       "      <td>50</td>\n",
       "      <td>...</td>\n",
       "      <td>395</td>\n",
       "      <td>424</td>\n",
       "      <td>410</td>\n",
       "      <td>455</td>\n",
       "      <td>592</td>\n",
       "      <td>534</td>\n",
       "      <td>423</td>\n",
       "      <td>288</td>\n",
       "      <td>187</td>\n",
       "      <td>113</td>\n",
       "    </tr>\n",
       "    <tr>\n",
       "      <th>4</th>\n",
       "      <td>2021-01-05</td>\n",
       "      <td>화</td>\n",
       "      <td>테크노파크로</td>\n",
       "      <td>1640137900</td>\n",
       "      <td>SDTRVCT00100001</td>\n",
       "      <td>한국생산기술연구원 맞은편</td>\n",
       "      <td>상행</td>\n",
       "      <td>한국생산기술연구원앞</td>\n",
       "      <td>미추홀타워입구</td>\n",
       "      <td>76</td>\n",
       "      <td>...</td>\n",
       "      <td>427</td>\n",
       "      <td>435</td>\n",
       "      <td>421</td>\n",
       "      <td>469</td>\n",
       "      <td>534</td>\n",
       "      <td>610</td>\n",
       "      <td>458</td>\n",
       "      <td>335</td>\n",
       "      <td>253</td>\n",
       "      <td>121</td>\n",
       "    </tr>\n",
       "    <tr>\n",
       "      <th>...</th>\n",
       "      <td>...</td>\n",
       "      <td>...</td>\n",
       "      <td>...</td>\n",
       "      <td>...</td>\n",
       "      <td>...</td>\n",
       "      <td>...</td>\n",
       "      <td>...</td>\n",
       "      <td>...</td>\n",
       "      <td>...</td>\n",
       "      <td>...</td>\n",
       "      <td>...</td>\n",
       "      <td>...</td>\n",
       "      <td>...</td>\n",
       "      <td>...</td>\n",
       "      <td>...</td>\n",
       "      <td>...</td>\n",
       "      <td>...</td>\n",
       "      <td>...</td>\n",
       "      <td>...</td>\n",
       "      <td>...</td>\n",
       "      <td>...</td>\n",
       "    </tr>\n",
       "    <tr>\n",
       "      <th>1435</th>\n",
       "      <td>2021-03-27</td>\n",
       "      <td>토</td>\n",
       "      <td>송도문화로</td>\n",
       "      <td>1650255500</td>\n",
       "      <td>SDTRVCT00100016</td>\n",
       "      <td>글로벌캠퍼스</td>\n",
       "      <td>상행</td>\n",
       "      <td>인천글로벌캠퍼스</td>\n",
       "      <td>송도에듀포레푸르지오</td>\n",
       "      <td>109</td>\n",
       "      <td>...</td>\n",
       "      <td>441</td>\n",
       "      <td>425</td>\n",
       "      <td>497</td>\n",
       "      <td>393</td>\n",
       "      <td>345</td>\n",
       "      <td>279</td>\n",
       "      <td>220</td>\n",
       "      <td>205</td>\n",
       "      <td>177</td>\n",
       "      <td>117</td>\n",
       "    </tr>\n",
       "    <tr>\n",
       "      <th>1436</th>\n",
       "      <td>2021-03-28</td>\n",
       "      <td>일</td>\n",
       "      <td>송도문화로</td>\n",
       "      <td>1650255500</td>\n",
       "      <td>SDTRVCT00100016</td>\n",
       "      <td>글로벌캠퍼스</td>\n",
       "      <td>상행</td>\n",
       "      <td>인천글로벌캠퍼스</td>\n",
       "      <td>송도에듀포레푸르지오</td>\n",
       "      <td>64</td>\n",
       "      <td>...</td>\n",
       "      <td>345</td>\n",
       "      <td>320</td>\n",
       "      <td>338</td>\n",
       "      <td>294</td>\n",
       "      <td>313</td>\n",
       "      <td>248</td>\n",
       "      <td>187</td>\n",
       "      <td>166</td>\n",
       "      <td>181</td>\n",
       "      <td>96</td>\n",
       "    </tr>\n",
       "    <tr>\n",
       "      <th>1437</th>\n",
       "      <td>2021-03-29</td>\n",
       "      <td>월</td>\n",
       "      <td>송도문화로</td>\n",
       "      <td>1650255500</td>\n",
       "      <td>SDTRVCT00100016</td>\n",
       "      <td>글로벌캠퍼스</td>\n",
       "      <td>상행</td>\n",
       "      <td>인천글로벌캠퍼스</td>\n",
       "      <td>송도에듀포레푸르지오</td>\n",
       "      <td>56</td>\n",
       "      <td>...</td>\n",
       "      <td>168</td>\n",
       "      <td>223</td>\n",
       "      <td>237</td>\n",
       "      <td>355</td>\n",
       "      <td>659</td>\n",
       "      <td>818</td>\n",
       "      <td>528</td>\n",
       "      <td>367</td>\n",
       "      <td>239</td>\n",
       "      <td>159</td>\n",
       "    </tr>\n",
       "    <tr>\n",
       "      <th>1438</th>\n",
       "      <td>2021-03-30</td>\n",
       "      <td>화</td>\n",
       "      <td>송도문화로</td>\n",
       "      <td>1650255500</td>\n",
       "      <td>SDTRVCT00100016</td>\n",
       "      <td>글로벌캠퍼스</td>\n",
       "      <td>상행</td>\n",
       "      <td>인천글로벌캠퍼스</td>\n",
       "      <td>송도에듀포레푸르지오</td>\n",
       "      <td>78</td>\n",
       "      <td>...</td>\n",
       "      <td>199</td>\n",
       "      <td>207</td>\n",
       "      <td>249</td>\n",
       "      <td>347</td>\n",
       "      <td>625</td>\n",
       "      <td>785</td>\n",
       "      <td>593</td>\n",
       "      <td>401</td>\n",
       "      <td>294</td>\n",
       "      <td>143</td>\n",
       "    </tr>\n",
       "    <tr>\n",
       "      <th>1439</th>\n",
       "      <td>2021-03-31</td>\n",
       "      <td>수</td>\n",
       "      <td>송도문화로</td>\n",
       "      <td>1650255500</td>\n",
       "      <td>SDTRVCT00100016</td>\n",
       "      <td>글로벌캠퍼스</td>\n",
       "      <td>상행</td>\n",
       "      <td>인천글로벌캠퍼스</td>\n",
       "      <td>송도에듀포레푸르지오</td>\n",
       "      <td>78</td>\n",
       "      <td>...</td>\n",
       "      <td>211</td>\n",
       "      <td>244</td>\n",
       "      <td>249</td>\n",
       "      <td>395</td>\n",
       "      <td>674</td>\n",
       "      <td>803</td>\n",
       "      <td>519</td>\n",
       "      <td>411</td>\n",
       "      <td>279</td>\n",
       "      <td>203</td>\n",
       "    </tr>\n",
       "  </tbody>\n",
       "</table>\n",
       "<p>1440 rows × 33 columns</p>\n",
       "</div>"
      ],
      "text/plain": [
       "              일자 요일     도로명       링크아이디           검지기아이디            지점명  방향  \\\n",
       "0     2021-01-01  금  테크노파크로  1640137900  SDTRVCT00100001  한국생산기술연구원 맞은편  상행   \n",
       "1     2021-01-02  토  테크노파크로  1640137900  SDTRVCT00100001  한국생산기술연구원 맞은편  상행   \n",
       "2     2021-01-03  일  테크노파크로  1640137900  SDTRVCT00100001  한국생산기술연구원 맞은편  상행   \n",
       "3     2021-01-04  월  테크노파크로  1640137900  SDTRVCT00100001  한국생산기술연구원 맞은편  상행   \n",
       "4     2021-01-05  화  테크노파크로  1640137900  SDTRVCT00100001  한국생산기술연구원 맞은편  상행   \n",
       "...          ... ..     ...         ...              ...            ...  ..   \n",
       "1435  2021-03-27  토   송도문화로  1650255500  SDTRVCT00100016         글로벌캠퍼스  상행   \n",
       "1436  2021-03-28  일   송도문화로  1650255500  SDTRVCT00100016         글로벌캠퍼스  상행   \n",
       "1437  2021-03-29  월   송도문화로  1650255500  SDTRVCT00100016         글로벌캠퍼스  상행   \n",
       "1438  2021-03-30  화   송도문화로  1650255500  SDTRVCT00100016         글로벌캠퍼스  상행   \n",
       "1439  2021-03-31  수   송도문화로  1650255500  SDTRVCT00100016         글로벌캠퍼스  상행   \n",
       "\n",
       "             시점명         종점명  00시  ...  14시  15시  16시  17시  18시  19시  20시  \\\n",
       "0     한국생산기술연구원앞     미추홀타워입구   87  ...  387  435  473  453  408  367  284   \n",
       "1     한국생산기술연구원앞     미추홀타워입구   69  ...  514  579  522  546  518  427  303   \n",
       "2     한국생산기술연구원앞     미추홀타워입구   63  ...  418  497  497  458  416  330  280   \n",
       "3     한국생산기술연구원앞     미추홀타워입구   50  ...  395  424  410  455  592  534  423   \n",
       "4     한국생산기술연구원앞     미추홀타워입구   76  ...  427  435  421  469  534  610  458   \n",
       "...          ...         ...  ...  ...  ...  ...  ...  ...  ...  ...  ...   \n",
       "1435    인천글로벌캠퍼스  송도에듀포레푸르지오  109  ...  441  425  497  393  345  279  220   \n",
       "1436    인천글로벌캠퍼스  송도에듀포레푸르지오   64  ...  345  320  338  294  313  248  187   \n",
       "1437    인천글로벌캠퍼스  송도에듀포레푸르지오   56  ...  168  223  237  355  659  818  528   \n",
       "1438    인천글로벌캠퍼스  송도에듀포레푸르지오   78  ...  199  207  249  347  625  785  593   \n",
       "1439    인천글로벌캠퍼스  송도에듀포레푸르지오   78  ...  211  244  249  395  674  803  519   \n",
       "\n",
       "      21시  22시  23시  \n",
       "0     200  138  111  \n",
       "1     249  205   91  \n",
       "2     209  144   80  \n",
       "3     288  187  113  \n",
       "4     335  253  121  \n",
       "...   ...  ...  ...  \n",
       "1435  205  177  117  \n",
       "1436  166  181   96  \n",
       "1437  367  239  159  \n",
       "1438  401  294  143  \n",
       "1439  411  279  203  \n",
       "\n",
       "[1440 rows x 33 columns]"
      ]
     },
     "execution_count": 151,
     "metadata": {},
     "output_type": "execute_result"
    }
   ],
   "source": [
    "df"
   ]
  },
  {
   "cell_type": "code",
   "execution_count": 152,
   "id": "a60c2d03",
   "metadata": {},
   "outputs": [
    {
     "data": {
      "text/html": [
       "<div>\n",
       "<style scoped>\n",
       "    .dataframe tbody tr th:only-of-type {\n",
       "        vertical-align: middle;\n",
       "    }\n",
       "\n",
       "    .dataframe tbody tr th {\n",
       "        vertical-align: top;\n",
       "    }\n",
       "\n",
       "    .dataframe thead th {\n",
       "        text-align: right;\n",
       "    }\n",
       "</style>\n",
       "<table border=\"1\" class=\"dataframe\">\n",
       "  <thead>\n",
       "    <tr style=\"text-align: right;\">\n",
       "      <th></th>\n",
       "      <th>일자</th>\n",
       "      <th>요일</th>\n",
       "      <th>도로명</th>\n",
       "      <th>지점명</th>\n",
       "      <th>방향</th>\n",
       "      <th>시점명</th>\n",
       "      <th>종점명</th>\n",
       "      <th>00시</th>\n",
       "      <th>01시</th>\n",
       "      <th>02시</th>\n",
       "      <th>...</th>\n",
       "      <th>14시</th>\n",
       "      <th>15시</th>\n",
       "      <th>16시</th>\n",
       "      <th>17시</th>\n",
       "      <th>18시</th>\n",
       "      <th>19시</th>\n",
       "      <th>20시</th>\n",
       "      <th>21시</th>\n",
       "      <th>22시</th>\n",
       "      <th>23시</th>\n",
       "    </tr>\n",
       "  </thead>\n",
       "  <tbody>\n",
       "    <tr>\n",
       "      <th>0</th>\n",
       "      <td>2021-01-01</td>\n",
       "      <td>금</td>\n",
       "      <td>테크노파크로</td>\n",
       "      <td>한국생산기술연구원 맞은편</td>\n",
       "      <td>상행</td>\n",
       "      <td>한국생산기술연구원앞</td>\n",
       "      <td>미추홀타워입구</td>\n",
       "      <td>87</td>\n",
       "      <td>57</td>\n",
       "      <td>53</td>\n",
       "      <td>...</td>\n",
       "      <td>387</td>\n",
       "      <td>435</td>\n",
       "      <td>473</td>\n",
       "      <td>453</td>\n",
       "      <td>408</td>\n",
       "      <td>367</td>\n",
       "      <td>284</td>\n",
       "      <td>200</td>\n",
       "      <td>138</td>\n",
       "      <td>111</td>\n",
       "    </tr>\n",
       "    <tr>\n",
       "      <th>1</th>\n",
       "      <td>2021-01-02</td>\n",
       "      <td>토</td>\n",
       "      <td>테크노파크로</td>\n",
       "      <td>한국생산기술연구원 맞은편</td>\n",
       "      <td>상행</td>\n",
       "      <td>한국생산기술연구원앞</td>\n",
       "      <td>미추홀타워입구</td>\n",
       "      <td>69</td>\n",
       "      <td>26</td>\n",
       "      <td>23</td>\n",
       "      <td>...</td>\n",
       "      <td>514</td>\n",
       "      <td>579</td>\n",
       "      <td>522</td>\n",
       "      <td>546</td>\n",
       "      <td>518</td>\n",
       "      <td>427</td>\n",
       "      <td>303</td>\n",
       "      <td>249</td>\n",
       "      <td>205</td>\n",
       "      <td>91</td>\n",
       "    </tr>\n",
       "    <tr>\n",
       "      <th>2</th>\n",
       "      <td>2021-01-03</td>\n",
       "      <td>일</td>\n",
       "      <td>테크노파크로</td>\n",
       "      <td>한국생산기술연구원 맞은편</td>\n",
       "      <td>상행</td>\n",
       "      <td>한국생산기술연구원앞</td>\n",
       "      <td>미추홀타워입구</td>\n",
       "      <td>63</td>\n",
       "      <td>43</td>\n",
       "      <td>29</td>\n",
       "      <td>...</td>\n",
       "      <td>418</td>\n",
       "      <td>497</td>\n",
       "      <td>497</td>\n",
       "      <td>458</td>\n",
       "      <td>416</td>\n",
       "      <td>330</td>\n",
       "      <td>280</td>\n",
       "      <td>209</td>\n",
       "      <td>144</td>\n",
       "      <td>80</td>\n",
       "    </tr>\n",
       "    <tr>\n",
       "      <th>3</th>\n",
       "      <td>2021-01-04</td>\n",
       "      <td>월</td>\n",
       "      <td>테크노파크로</td>\n",
       "      <td>한국생산기술연구원 맞은편</td>\n",
       "      <td>상행</td>\n",
       "      <td>한국생산기술연구원앞</td>\n",
       "      <td>미추홀타워입구</td>\n",
       "      <td>50</td>\n",
       "      <td>34</td>\n",
       "      <td>22</td>\n",
       "      <td>...</td>\n",
       "      <td>395</td>\n",
       "      <td>424</td>\n",
       "      <td>410</td>\n",
       "      <td>455</td>\n",
       "      <td>592</td>\n",
       "      <td>534</td>\n",
       "      <td>423</td>\n",
       "      <td>288</td>\n",
       "      <td>187</td>\n",
       "      <td>113</td>\n",
       "    </tr>\n",
       "    <tr>\n",
       "      <th>4</th>\n",
       "      <td>2021-01-05</td>\n",
       "      <td>화</td>\n",
       "      <td>테크노파크로</td>\n",
       "      <td>한국생산기술연구원 맞은편</td>\n",
       "      <td>상행</td>\n",
       "      <td>한국생산기술연구원앞</td>\n",
       "      <td>미추홀타워입구</td>\n",
       "      <td>76</td>\n",
       "      <td>35</td>\n",
       "      <td>16</td>\n",
       "      <td>...</td>\n",
       "      <td>427</td>\n",
       "      <td>435</td>\n",
       "      <td>421</td>\n",
       "      <td>469</td>\n",
       "      <td>534</td>\n",
       "      <td>610</td>\n",
       "      <td>458</td>\n",
       "      <td>335</td>\n",
       "      <td>253</td>\n",
       "      <td>121</td>\n",
       "    </tr>\n",
       "    <tr>\n",
       "      <th>...</th>\n",
       "      <td>...</td>\n",
       "      <td>...</td>\n",
       "      <td>...</td>\n",
       "      <td>...</td>\n",
       "      <td>...</td>\n",
       "      <td>...</td>\n",
       "      <td>...</td>\n",
       "      <td>...</td>\n",
       "      <td>...</td>\n",
       "      <td>...</td>\n",
       "      <td>...</td>\n",
       "      <td>...</td>\n",
       "      <td>...</td>\n",
       "      <td>...</td>\n",
       "      <td>...</td>\n",
       "      <td>...</td>\n",
       "      <td>...</td>\n",
       "      <td>...</td>\n",
       "      <td>...</td>\n",
       "      <td>...</td>\n",
       "      <td>...</td>\n",
       "    </tr>\n",
       "    <tr>\n",
       "      <th>1435</th>\n",
       "      <td>2021-03-27</td>\n",
       "      <td>토</td>\n",
       "      <td>송도문화로</td>\n",
       "      <td>글로벌캠퍼스</td>\n",
       "      <td>상행</td>\n",
       "      <td>인천글로벌캠퍼스</td>\n",
       "      <td>송도에듀포레푸르지오</td>\n",
       "      <td>109</td>\n",
       "      <td>59</td>\n",
       "      <td>37</td>\n",
       "      <td>...</td>\n",
       "      <td>441</td>\n",
       "      <td>425</td>\n",
       "      <td>497</td>\n",
       "      <td>393</td>\n",
       "      <td>345</td>\n",
       "      <td>279</td>\n",
       "      <td>220</td>\n",
       "      <td>205</td>\n",
       "      <td>177</td>\n",
       "      <td>117</td>\n",
       "    </tr>\n",
       "    <tr>\n",
       "      <th>1436</th>\n",
       "      <td>2021-03-28</td>\n",
       "      <td>일</td>\n",
       "      <td>송도문화로</td>\n",
       "      <td>글로벌캠퍼스</td>\n",
       "      <td>상행</td>\n",
       "      <td>인천글로벌캠퍼스</td>\n",
       "      <td>송도에듀포레푸르지오</td>\n",
       "      <td>64</td>\n",
       "      <td>37</td>\n",
       "      <td>27</td>\n",
       "      <td>...</td>\n",
       "      <td>345</td>\n",
       "      <td>320</td>\n",
       "      <td>338</td>\n",
       "      <td>294</td>\n",
       "      <td>313</td>\n",
       "      <td>248</td>\n",
       "      <td>187</td>\n",
       "      <td>166</td>\n",
       "      <td>181</td>\n",
       "      <td>96</td>\n",
       "    </tr>\n",
       "    <tr>\n",
       "      <th>1437</th>\n",
       "      <td>2021-03-29</td>\n",
       "      <td>월</td>\n",
       "      <td>송도문화로</td>\n",
       "      <td>글로벌캠퍼스</td>\n",
       "      <td>상행</td>\n",
       "      <td>인천글로벌캠퍼스</td>\n",
       "      <td>송도에듀포레푸르지오</td>\n",
       "      <td>56</td>\n",
       "      <td>24</td>\n",
       "      <td>12</td>\n",
       "      <td>...</td>\n",
       "      <td>168</td>\n",
       "      <td>223</td>\n",
       "      <td>237</td>\n",
       "      <td>355</td>\n",
       "      <td>659</td>\n",
       "      <td>818</td>\n",
       "      <td>528</td>\n",
       "      <td>367</td>\n",
       "      <td>239</td>\n",
       "      <td>159</td>\n",
       "    </tr>\n",
       "    <tr>\n",
       "      <th>1438</th>\n",
       "      <td>2021-03-30</td>\n",
       "      <td>화</td>\n",
       "      <td>송도문화로</td>\n",
       "      <td>글로벌캠퍼스</td>\n",
       "      <td>상행</td>\n",
       "      <td>인천글로벌캠퍼스</td>\n",
       "      <td>송도에듀포레푸르지오</td>\n",
       "      <td>78</td>\n",
       "      <td>30</td>\n",
       "      <td>21</td>\n",
       "      <td>...</td>\n",
       "      <td>199</td>\n",
       "      <td>207</td>\n",
       "      <td>249</td>\n",
       "      <td>347</td>\n",
       "      <td>625</td>\n",
       "      <td>785</td>\n",
       "      <td>593</td>\n",
       "      <td>401</td>\n",
       "      <td>294</td>\n",
       "      <td>143</td>\n",
       "    </tr>\n",
       "    <tr>\n",
       "      <th>1439</th>\n",
       "      <td>2021-03-31</td>\n",
       "      <td>수</td>\n",
       "      <td>송도문화로</td>\n",
       "      <td>글로벌캠퍼스</td>\n",
       "      <td>상행</td>\n",
       "      <td>인천글로벌캠퍼스</td>\n",
       "      <td>송도에듀포레푸르지오</td>\n",
       "      <td>78</td>\n",
       "      <td>39</td>\n",
       "      <td>19</td>\n",
       "      <td>...</td>\n",
       "      <td>211</td>\n",
       "      <td>244</td>\n",
       "      <td>249</td>\n",
       "      <td>395</td>\n",
       "      <td>674</td>\n",
       "      <td>803</td>\n",
       "      <td>519</td>\n",
       "      <td>411</td>\n",
       "      <td>279</td>\n",
       "      <td>203</td>\n",
       "    </tr>\n",
       "  </tbody>\n",
       "</table>\n",
       "<p>1440 rows × 31 columns</p>\n",
       "</div>"
      ],
      "text/plain": [
       "              일자 요일     도로명            지점명  방향         시점명         종점명  00시  \\\n",
       "0     2021-01-01  금  테크노파크로  한국생산기술연구원 맞은편  상행  한국생산기술연구원앞     미추홀타워입구   87   \n",
       "1     2021-01-02  토  테크노파크로  한국생산기술연구원 맞은편  상행  한국생산기술연구원앞     미추홀타워입구   69   \n",
       "2     2021-01-03  일  테크노파크로  한국생산기술연구원 맞은편  상행  한국생산기술연구원앞     미추홀타워입구   63   \n",
       "3     2021-01-04  월  테크노파크로  한국생산기술연구원 맞은편  상행  한국생산기술연구원앞     미추홀타워입구   50   \n",
       "4     2021-01-05  화  테크노파크로  한국생산기술연구원 맞은편  상행  한국생산기술연구원앞     미추홀타워입구   76   \n",
       "...          ... ..     ...            ...  ..         ...         ...  ...   \n",
       "1435  2021-03-27  토   송도문화로         글로벌캠퍼스  상행    인천글로벌캠퍼스  송도에듀포레푸르지오  109   \n",
       "1436  2021-03-28  일   송도문화로         글로벌캠퍼스  상행    인천글로벌캠퍼스  송도에듀포레푸르지오   64   \n",
       "1437  2021-03-29  월   송도문화로         글로벌캠퍼스  상행    인천글로벌캠퍼스  송도에듀포레푸르지오   56   \n",
       "1438  2021-03-30  화   송도문화로         글로벌캠퍼스  상행    인천글로벌캠퍼스  송도에듀포레푸르지오   78   \n",
       "1439  2021-03-31  수   송도문화로         글로벌캠퍼스  상행    인천글로벌캠퍼스  송도에듀포레푸르지오   78   \n",
       "\n",
       "      01시  02시  ...  14시  15시  16시  17시  18시  19시  20시  21시  22시  23시  \n",
       "0      57   53  ...  387  435  473  453  408  367  284  200  138  111  \n",
       "1      26   23  ...  514  579  522  546  518  427  303  249  205   91  \n",
       "2      43   29  ...  418  497  497  458  416  330  280  209  144   80  \n",
       "3      34   22  ...  395  424  410  455  592  534  423  288  187  113  \n",
       "4      35   16  ...  427  435  421  469  534  610  458  335  253  121  \n",
       "...   ...  ...  ...  ...  ...  ...  ...  ...  ...  ...  ...  ...  ...  \n",
       "1435   59   37  ...  441  425  497  393  345  279  220  205  177  117  \n",
       "1436   37   27  ...  345  320  338  294  313  248  187  166  181   96  \n",
       "1437   24   12  ...  168  223  237  355  659  818  528  367  239  159  \n",
       "1438   30   21  ...  199  207  249  347  625  785  593  401  294  143  \n",
       "1439   39   19  ...  211  244  249  395  674  803  519  411  279  203  \n",
       "\n",
       "[1440 rows x 31 columns]"
      ]
     },
     "execution_count": 152,
     "metadata": {},
     "output_type": "execute_result"
    }
   ],
   "source": [
    "df.drop(['링크아이디', '검지기아이디'], axis=1)"
   ]
  },
  {
   "cell_type": "code",
   "execution_count": 153,
   "id": "e50e8ad3",
   "metadata": {},
   "outputs": [],
   "source": [
    "df.drop(['링크아이디', '검지기아이디'], axis=1, inplace=True)"
   ]
  },
  {
   "cell_type": "code",
   "execution_count": 154,
   "id": "076e1125",
   "metadata": {},
   "outputs": [
    {
     "ename": "KeyError",
     "evalue": "\"['링크아이디', '검지기아이디'] not found in axis\"",
     "output_type": "error",
     "traceback": [
      "\u001b[31m---------------------------------------------------------------------------\u001b[39m",
      "\u001b[31mKeyError\u001b[39m                                  Traceback (most recent call last)",
      "\u001b[36mCell\u001b[39m\u001b[36m \u001b[39m\u001b[32mIn[154]\u001b[39m\u001b[32m, line 1\u001b[39m\n\u001b[32m----> \u001b[39m\u001b[32m1\u001b[39m \u001b[43mdf\u001b[49m\u001b[43m.\u001b[49m\u001b[43mdrop\u001b[49m\u001b[43m(\u001b[49m\u001b[43m[\u001b[49m\u001b[33;43m'\u001b[39;49m\u001b[33;43m링크아이디\u001b[39;49m\u001b[33;43m'\u001b[39;49m\u001b[43m,\u001b[49m\u001b[43m \u001b[49m\u001b[33;43m'\u001b[39;49m\u001b[33;43m검지기아이디\u001b[39;49m\u001b[33;43m'\u001b[39;49m\u001b[43m]\u001b[49m\u001b[43m,\u001b[49m\u001b[43m \u001b[49m\u001b[43maxis\u001b[49m\u001b[43m=\u001b[49m\u001b[32;43m1\u001b[39;49m\u001b[43m,\u001b[49m\u001b[43m \u001b[49m\u001b[43minplace\u001b[49m\u001b[43m=\u001b[49m\u001b[38;5;28;43;01mTrue\u001b[39;49;00m\u001b[43m)\u001b[49m\n",
      "\u001b[36mFile \u001b[39m\u001b[32m~/week1/.venv/lib/python3.11/site-packages/pandas/core/frame.py:5588\u001b[39m, in \u001b[36mDataFrame.drop\u001b[39m\u001b[34m(self, labels, axis, index, columns, level, inplace, errors)\u001b[39m\n\u001b[32m   5440\u001b[39m \u001b[38;5;28;01mdef\u001b[39;00m\u001b[38;5;250m \u001b[39m\u001b[34mdrop\u001b[39m(\n\u001b[32m   5441\u001b[39m     \u001b[38;5;28mself\u001b[39m,\n\u001b[32m   5442\u001b[39m     labels: IndexLabel | \u001b[38;5;28;01mNone\u001b[39;00m = \u001b[38;5;28;01mNone\u001b[39;00m,\n\u001b[32m   (...)\u001b[39m\u001b[32m   5449\u001b[39m     errors: IgnoreRaise = \u001b[33m\"\u001b[39m\u001b[33mraise\u001b[39m\u001b[33m\"\u001b[39m,\n\u001b[32m   5450\u001b[39m ) -> DataFrame | \u001b[38;5;28;01mNone\u001b[39;00m:\n\u001b[32m   5451\u001b[39m \u001b[38;5;250m    \u001b[39m\u001b[33;03m\"\"\"\u001b[39;00m\n\u001b[32m   5452\u001b[39m \u001b[33;03m    Drop specified labels from rows or columns.\u001b[39;00m\n\u001b[32m   5453\u001b[39m \n\u001b[32m   (...)\u001b[39m\u001b[32m   5586\u001b[39m \u001b[33;03m            weight  1.0     0.8\u001b[39;00m\n\u001b[32m   5587\u001b[39m \u001b[33;03m    \"\"\"\u001b[39;00m\n\u001b[32m-> \u001b[39m\u001b[32m5588\u001b[39m     \u001b[38;5;28;01mreturn\u001b[39;00m \u001b[38;5;28;43msuper\u001b[39;49m\u001b[43m(\u001b[49m\u001b[43m)\u001b[49m\u001b[43m.\u001b[49m\u001b[43mdrop\u001b[49m\u001b[43m(\u001b[49m\n\u001b[32m   5589\u001b[39m \u001b[43m        \u001b[49m\u001b[43mlabels\u001b[49m\u001b[43m=\u001b[49m\u001b[43mlabels\u001b[49m\u001b[43m,\u001b[49m\n\u001b[32m   5590\u001b[39m \u001b[43m        \u001b[49m\u001b[43maxis\u001b[49m\u001b[43m=\u001b[49m\u001b[43maxis\u001b[49m\u001b[43m,\u001b[49m\n\u001b[32m   5591\u001b[39m \u001b[43m        \u001b[49m\u001b[43mindex\u001b[49m\u001b[43m=\u001b[49m\u001b[43mindex\u001b[49m\u001b[43m,\u001b[49m\n\u001b[32m   5592\u001b[39m \u001b[43m        \u001b[49m\u001b[43mcolumns\u001b[49m\u001b[43m=\u001b[49m\u001b[43mcolumns\u001b[49m\u001b[43m,\u001b[49m\n\u001b[32m   5593\u001b[39m \u001b[43m        \u001b[49m\u001b[43mlevel\u001b[49m\u001b[43m=\u001b[49m\u001b[43mlevel\u001b[49m\u001b[43m,\u001b[49m\n\u001b[32m   5594\u001b[39m \u001b[43m        \u001b[49m\u001b[43minplace\u001b[49m\u001b[43m=\u001b[49m\u001b[43minplace\u001b[49m\u001b[43m,\u001b[49m\n\u001b[32m   5595\u001b[39m \u001b[43m        \u001b[49m\u001b[43merrors\u001b[49m\u001b[43m=\u001b[49m\u001b[43merrors\u001b[49m\u001b[43m,\u001b[49m\n\u001b[32m   5596\u001b[39m \u001b[43m    \u001b[49m\u001b[43m)\u001b[49m\n",
      "\u001b[36mFile \u001b[39m\u001b[32m~/week1/.venv/lib/python3.11/site-packages/pandas/core/generic.py:4807\u001b[39m, in \u001b[36mNDFrame.drop\u001b[39m\u001b[34m(self, labels, axis, index, columns, level, inplace, errors)\u001b[39m\n\u001b[32m   4805\u001b[39m \u001b[38;5;28;01mfor\u001b[39;00m axis, labels \u001b[38;5;129;01min\u001b[39;00m axes.items():\n\u001b[32m   4806\u001b[39m     \u001b[38;5;28;01mif\u001b[39;00m labels \u001b[38;5;129;01mis\u001b[39;00m \u001b[38;5;129;01mnot\u001b[39;00m \u001b[38;5;28;01mNone\u001b[39;00m:\n\u001b[32m-> \u001b[39m\u001b[32m4807\u001b[39m         obj = \u001b[43mobj\u001b[49m\u001b[43m.\u001b[49m\u001b[43m_drop_axis\u001b[49m\u001b[43m(\u001b[49m\u001b[43mlabels\u001b[49m\u001b[43m,\u001b[49m\u001b[43m \u001b[49m\u001b[43maxis\u001b[49m\u001b[43m,\u001b[49m\u001b[43m \u001b[49m\u001b[43mlevel\u001b[49m\u001b[43m=\u001b[49m\u001b[43mlevel\u001b[49m\u001b[43m,\u001b[49m\u001b[43m \u001b[49m\u001b[43merrors\u001b[49m\u001b[43m=\u001b[49m\u001b[43merrors\u001b[49m\u001b[43m)\u001b[49m\n\u001b[32m   4809\u001b[39m \u001b[38;5;28;01mif\u001b[39;00m inplace:\n\u001b[32m   4810\u001b[39m     \u001b[38;5;28mself\u001b[39m._update_inplace(obj)\n",
      "\u001b[36mFile \u001b[39m\u001b[32m~/week1/.venv/lib/python3.11/site-packages/pandas/core/generic.py:4849\u001b[39m, in \u001b[36mNDFrame._drop_axis\u001b[39m\u001b[34m(self, labels, axis, level, errors, only_slice)\u001b[39m\n\u001b[32m   4847\u001b[39m         new_axis = axis.drop(labels, level=level, errors=errors)\n\u001b[32m   4848\u001b[39m     \u001b[38;5;28;01melse\u001b[39;00m:\n\u001b[32m-> \u001b[39m\u001b[32m4849\u001b[39m         new_axis = \u001b[43maxis\u001b[49m\u001b[43m.\u001b[49m\u001b[43mdrop\u001b[49m\u001b[43m(\u001b[49m\u001b[43mlabels\u001b[49m\u001b[43m,\u001b[49m\u001b[43m \u001b[49m\u001b[43merrors\u001b[49m\u001b[43m=\u001b[49m\u001b[43merrors\u001b[49m\u001b[43m)\u001b[49m\n\u001b[32m   4850\u001b[39m     indexer = axis.get_indexer(new_axis)\n\u001b[32m   4852\u001b[39m \u001b[38;5;66;03m# Case for non-unique axis\u001b[39;00m\n\u001b[32m   4853\u001b[39m \u001b[38;5;28;01melse\u001b[39;00m:\n",
      "\u001b[36mFile \u001b[39m\u001b[32m~/week1/.venv/lib/python3.11/site-packages/pandas/core/indexes/base.py:7136\u001b[39m, in \u001b[36mIndex.drop\u001b[39m\u001b[34m(self, labels, errors)\u001b[39m\n\u001b[32m   7134\u001b[39m \u001b[38;5;28;01mif\u001b[39;00m mask.any():\n\u001b[32m   7135\u001b[39m     \u001b[38;5;28;01mif\u001b[39;00m errors != \u001b[33m\"\u001b[39m\u001b[33mignore\u001b[39m\u001b[33m\"\u001b[39m:\n\u001b[32m-> \u001b[39m\u001b[32m7136\u001b[39m         \u001b[38;5;28;01mraise\u001b[39;00m \u001b[38;5;167;01mKeyError\u001b[39;00m(\u001b[33mf\u001b[39m\u001b[33m\"\u001b[39m\u001b[38;5;132;01m{\u001b[39;00mlabels[mask].tolist()\u001b[38;5;132;01m}\u001b[39;00m\u001b[33m not found in axis\u001b[39m\u001b[33m\"\u001b[39m)\n\u001b[32m   7137\u001b[39m     indexer = indexer[~mask]\n\u001b[32m   7138\u001b[39m \u001b[38;5;28;01mreturn\u001b[39;00m \u001b[38;5;28mself\u001b[39m.delete(indexer)\n",
      "\u001b[31mKeyError\u001b[39m: \"['링크아이디', '검지기아이디'] not found in axis\""
     ]
    }
   ],
   "source": [
    "df.drop(['링크아이디', '검지기아이디'], axis=1, inplace=True)"
   ]
  },
  {
   "cell_type": "code",
   "execution_count": 155,
   "id": "3cc1beba",
   "metadata": {},
   "outputs": [
    {
     "data": {
      "text/html": [
       "<div>\n",
       "<style scoped>\n",
       "    .dataframe tbody tr th:only-of-type {\n",
       "        vertical-align: middle;\n",
       "    }\n",
       "\n",
       "    .dataframe tbody tr th {\n",
       "        vertical-align: top;\n",
       "    }\n",
       "\n",
       "    .dataframe thead th {\n",
       "        text-align: right;\n",
       "    }\n",
       "</style>\n",
       "<table border=\"1\" class=\"dataframe\">\n",
       "  <thead>\n",
       "    <tr style=\"text-align: right;\">\n",
       "      <th></th>\n",
       "      <th>일자</th>\n",
       "      <th>요일</th>\n",
       "      <th>도로명</th>\n",
       "      <th>지점명</th>\n",
       "      <th>방향</th>\n",
       "      <th>시점명</th>\n",
       "      <th>종점명</th>\n",
       "      <th>00시</th>\n",
       "      <th>01시</th>\n",
       "      <th>02시</th>\n",
       "      <th>...</th>\n",
       "      <th>14시</th>\n",
       "      <th>15시</th>\n",
       "      <th>16시</th>\n",
       "      <th>17시</th>\n",
       "      <th>18시</th>\n",
       "      <th>19시</th>\n",
       "      <th>20시</th>\n",
       "      <th>21시</th>\n",
       "      <th>22시</th>\n",
       "      <th>23시</th>\n",
       "    </tr>\n",
       "  </thead>\n",
       "  <tbody>\n",
       "    <tr>\n",
       "      <th>0</th>\n",
       "      <td>2021-01-01</td>\n",
       "      <td>금</td>\n",
       "      <td>테크노파크로</td>\n",
       "      <td>한국생산기술연구원 맞은편</td>\n",
       "      <td>상행</td>\n",
       "      <td>한국생산기술연구원앞</td>\n",
       "      <td>미추홀타워입구</td>\n",
       "      <td>87</td>\n",
       "      <td>57</td>\n",
       "      <td>53</td>\n",
       "      <td>...</td>\n",
       "      <td>387</td>\n",
       "      <td>435</td>\n",
       "      <td>473</td>\n",
       "      <td>453</td>\n",
       "      <td>408</td>\n",
       "      <td>367</td>\n",
       "      <td>284</td>\n",
       "      <td>200</td>\n",
       "      <td>138</td>\n",
       "      <td>111</td>\n",
       "    </tr>\n",
       "    <tr>\n",
       "      <th>1</th>\n",
       "      <td>2021-01-02</td>\n",
       "      <td>토</td>\n",
       "      <td>테크노파크로</td>\n",
       "      <td>한국생산기술연구원 맞은편</td>\n",
       "      <td>상행</td>\n",
       "      <td>한국생산기술연구원앞</td>\n",
       "      <td>미추홀타워입구</td>\n",
       "      <td>69</td>\n",
       "      <td>26</td>\n",
       "      <td>23</td>\n",
       "      <td>...</td>\n",
       "      <td>514</td>\n",
       "      <td>579</td>\n",
       "      <td>522</td>\n",
       "      <td>546</td>\n",
       "      <td>518</td>\n",
       "      <td>427</td>\n",
       "      <td>303</td>\n",
       "      <td>249</td>\n",
       "      <td>205</td>\n",
       "      <td>91</td>\n",
       "    </tr>\n",
       "    <tr>\n",
       "      <th>2</th>\n",
       "      <td>2021-01-03</td>\n",
       "      <td>일</td>\n",
       "      <td>테크노파크로</td>\n",
       "      <td>한국생산기술연구원 맞은편</td>\n",
       "      <td>상행</td>\n",
       "      <td>한국생산기술연구원앞</td>\n",
       "      <td>미추홀타워입구</td>\n",
       "      <td>63</td>\n",
       "      <td>43</td>\n",
       "      <td>29</td>\n",
       "      <td>...</td>\n",
       "      <td>418</td>\n",
       "      <td>497</td>\n",
       "      <td>497</td>\n",
       "      <td>458</td>\n",
       "      <td>416</td>\n",
       "      <td>330</td>\n",
       "      <td>280</td>\n",
       "      <td>209</td>\n",
       "      <td>144</td>\n",
       "      <td>80</td>\n",
       "    </tr>\n",
       "    <tr>\n",
       "      <th>3</th>\n",
       "      <td>2021-01-04</td>\n",
       "      <td>월</td>\n",
       "      <td>테크노파크로</td>\n",
       "      <td>한국생산기술연구원 맞은편</td>\n",
       "      <td>상행</td>\n",
       "      <td>한국생산기술연구원앞</td>\n",
       "      <td>미추홀타워입구</td>\n",
       "      <td>50</td>\n",
       "      <td>34</td>\n",
       "      <td>22</td>\n",
       "      <td>...</td>\n",
       "      <td>395</td>\n",
       "      <td>424</td>\n",
       "      <td>410</td>\n",
       "      <td>455</td>\n",
       "      <td>592</td>\n",
       "      <td>534</td>\n",
       "      <td>423</td>\n",
       "      <td>288</td>\n",
       "      <td>187</td>\n",
       "      <td>113</td>\n",
       "    </tr>\n",
       "    <tr>\n",
       "      <th>4</th>\n",
       "      <td>2021-01-05</td>\n",
       "      <td>화</td>\n",
       "      <td>테크노파크로</td>\n",
       "      <td>한국생산기술연구원 맞은편</td>\n",
       "      <td>상행</td>\n",
       "      <td>한국생산기술연구원앞</td>\n",
       "      <td>미추홀타워입구</td>\n",
       "      <td>76</td>\n",
       "      <td>35</td>\n",
       "      <td>16</td>\n",
       "      <td>...</td>\n",
       "      <td>427</td>\n",
       "      <td>435</td>\n",
       "      <td>421</td>\n",
       "      <td>469</td>\n",
       "      <td>534</td>\n",
       "      <td>610</td>\n",
       "      <td>458</td>\n",
       "      <td>335</td>\n",
       "      <td>253</td>\n",
       "      <td>121</td>\n",
       "    </tr>\n",
       "    <tr>\n",
       "      <th>...</th>\n",
       "      <td>...</td>\n",
       "      <td>...</td>\n",
       "      <td>...</td>\n",
       "      <td>...</td>\n",
       "      <td>...</td>\n",
       "      <td>...</td>\n",
       "      <td>...</td>\n",
       "      <td>...</td>\n",
       "      <td>...</td>\n",
       "      <td>...</td>\n",
       "      <td>...</td>\n",
       "      <td>...</td>\n",
       "      <td>...</td>\n",
       "      <td>...</td>\n",
       "      <td>...</td>\n",
       "      <td>...</td>\n",
       "      <td>...</td>\n",
       "      <td>...</td>\n",
       "      <td>...</td>\n",
       "      <td>...</td>\n",
       "      <td>...</td>\n",
       "    </tr>\n",
       "    <tr>\n",
       "      <th>1435</th>\n",
       "      <td>2021-03-27</td>\n",
       "      <td>토</td>\n",
       "      <td>송도문화로</td>\n",
       "      <td>글로벌캠퍼스</td>\n",
       "      <td>상행</td>\n",
       "      <td>인천글로벌캠퍼스</td>\n",
       "      <td>송도에듀포레푸르지오</td>\n",
       "      <td>109</td>\n",
       "      <td>59</td>\n",
       "      <td>37</td>\n",
       "      <td>...</td>\n",
       "      <td>441</td>\n",
       "      <td>425</td>\n",
       "      <td>497</td>\n",
       "      <td>393</td>\n",
       "      <td>345</td>\n",
       "      <td>279</td>\n",
       "      <td>220</td>\n",
       "      <td>205</td>\n",
       "      <td>177</td>\n",
       "      <td>117</td>\n",
       "    </tr>\n",
       "    <tr>\n",
       "      <th>1436</th>\n",
       "      <td>2021-03-28</td>\n",
       "      <td>일</td>\n",
       "      <td>송도문화로</td>\n",
       "      <td>글로벌캠퍼스</td>\n",
       "      <td>상행</td>\n",
       "      <td>인천글로벌캠퍼스</td>\n",
       "      <td>송도에듀포레푸르지오</td>\n",
       "      <td>64</td>\n",
       "      <td>37</td>\n",
       "      <td>27</td>\n",
       "      <td>...</td>\n",
       "      <td>345</td>\n",
       "      <td>320</td>\n",
       "      <td>338</td>\n",
       "      <td>294</td>\n",
       "      <td>313</td>\n",
       "      <td>248</td>\n",
       "      <td>187</td>\n",
       "      <td>166</td>\n",
       "      <td>181</td>\n",
       "      <td>96</td>\n",
       "    </tr>\n",
       "    <tr>\n",
       "      <th>1437</th>\n",
       "      <td>2021-03-29</td>\n",
       "      <td>월</td>\n",
       "      <td>송도문화로</td>\n",
       "      <td>글로벌캠퍼스</td>\n",
       "      <td>상행</td>\n",
       "      <td>인천글로벌캠퍼스</td>\n",
       "      <td>송도에듀포레푸르지오</td>\n",
       "      <td>56</td>\n",
       "      <td>24</td>\n",
       "      <td>12</td>\n",
       "      <td>...</td>\n",
       "      <td>168</td>\n",
       "      <td>223</td>\n",
       "      <td>237</td>\n",
       "      <td>355</td>\n",
       "      <td>659</td>\n",
       "      <td>818</td>\n",
       "      <td>528</td>\n",
       "      <td>367</td>\n",
       "      <td>239</td>\n",
       "      <td>159</td>\n",
       "    </tr>\n",
       "    <tr>\n",
       "      <th>1438</th>\n",
       "      <td>2021-03-30</td>\n",
       "      <td>화</td>\n",
       "      <td>송도문화로</td>\n",
       "      <td>글로벌캠퍼스</td>\n",
       "      <td>상행</td>\n",
       "      <td>인천글로벌캠퍼스</td>\n",
       "      <td>송도에듀포레푸르지오</td>\n",
       "      <td>78</td>\n",
       "      <td>30</td>\n",
       "      <td>21</td>\n",
       "      <td>...</td>\n",
       "      <td>199</td>\n",
       "      <td>207</td>\n",
       "      <td>249</td>\n",
       "      <td>347</td>\n",
       "      <td>625</td>\n",
       "      <td>785</td>\n",
       "      <td>593</td>\n",
       "      <td>401</td>\n",
       "      <td>294</td>\n",
       "      <td>143</td>\n",
       "    </tr>\n",
       "    <tr>\n",
       "      <th>1439</th>\n",
       "      <td>2021-03-31</td>\n",
       "      <td>수</td>\n",
       "      <td>송도문화로</td>\n",
       "      <td>글로벌캠퍼스</td>\n",
       "      <td>상행</td>\n",
       "      <td>인천글로벌캠퍼스</td>\n",
       "      <td>송도에듀포레푸르지오</td>\n",
       "      <td>78</td>\n",
       "      <td>39</td>\n",
       "      <td>19</td>\n",
       "      <td>...</td>\n",
       "      <td>211</td>\n",
       "      <td>244</td>\n",
       "      <td>249</td>\n",
       "      <td>395</td>\n",
       "      <td>674</td>\n",
       "      <td>803</td>\n",
       "      <td>519</td>\n",
       "      <td>411</td>\n",
       "      <td>279</td>\n",
       "      <td>203</td>\n",
       "    </tr>\n",
       "  </tbody>\n",
       "</table>\n",
       "<p>1440 rows × 31 columns</p>\n",
       "</div>"
      ],
      "text/plain": [
       "              일자 요일     도로명            지점명  방향         시점명         종점명  00시  \\\n",
       "0     2021-01-01  금  테크노파크로  한국생산기술연구원 맞은편  상행  한국생산기술연구원앞     미추홀타워입구   87   \n",
       "1     2021-01-02  토  테크노파크로  한국생산기술연구원 맞은편  상행  한국생산기술연구원앞     미추홀타워입구   69   \n",
       "2     2021-01-03  일  테크노파크로  한국생산기술연구원 맞은편  상행  한국생산기술연구원앞     미추홀타워입구   63   \n",
       "3     2021-01-04  월  테크노파크로  한국생산기술연구원 맞은편  상행  한국생산기술연구원앞     미추홀타워입구   50   \n",
       "4     2021-01-05  화  테크노파크로  한국생산기술연구원 맞은편  상행  한국생산기술연구원앞     미추홀타워입구   76   \n",
       "...          ... ..     ...            ...  ..         ...         ...  ...   \n",
       "1435  2021-03-27  토   송도문화로         글로벌캠퍼스  상행    인천글로벌캠퍼스  송도에듀포레푸르지오  109   \n",
       "1436  2021-03-28  일   송도문화로         글로벌캠퍼스  상행    인천글로벌캠퍼스  송도에듀포레푸르지오   64   \n",
       "1437  2021-03-29  월   송도문화로         글로벌캠퍼스  상행    인천글로벌캠퍼스  송도에듀포레푸르지오   56   \n",
       "1438  2021-03-30  화   송도문화로         글로벌캠퍼스  상행    인천글로벌캠퍼스  송도에듀포레푸르지오   78   \n",
       "1439  2021-03-31  수   송도문화로         글로벌캠퍼스  상행    인천글로벌캠퍼스  송도에듀포레푸르지오   78   \n",
       "\n",
       "      01시  02시  ...  14시  15시  16시  17시  18시  19시  20시  21시  22시  23시  \n",
       "0      57   53  ...  387  435  473  453  408  367  284  200  138  111  \n",
       "1      26   23  ...  514  579  522  546  518  427  303  249  205   91  \n",
       "2      43   29  ...  418  497  497  458  416  330  280  209  144   80  \n",
       "3      34   22  ...  395  424  410  455  592  534  423  288  187  113  \n",
       "4      35   16  ...  427  435  421  469  534  610  458  335  253  121  \n",
       "...   ...  ...  ...  ...  ...  ...  ...  ...  ...  ...  ...  ...  ...  \n",
       "1435   59   37  ...  441  425  497  393  345  279  220  205  177  117  \n",
       "1436   37   27  ...  345  320  338  294  313  248  187  166  181   96  \n",
       "1437   24   12  ...  168  223  237  355  659  818  528  367  239  159  \n",
       "1438   30   21  ...  199  207  249  347  625  785  593  401  294  143  \n",
       "1439   39   19  ...  211  244  249  395  674  803  519  411  279  203  \n",
       "\n",
       "[1440 rows x 31 columns]"
      ]
     },
     "execution_count": 155,
     "metadata": {},
     "output_type": "execute_result"
    }
   ],
   "source": [
    "df"
   ]
  },
  {
   "cell_type": "code",
   "execution_count": 167,
   "id": "a5f5fb0d",
   "metadata": {},
   "outputs": [],
   "source": [
    "hour_columns = [f\"{str(i).zfill(2)}시\" for i in range(24)]\n",
    "df['총교통량'] = df[hour_columns].sum(axis=1)\n",
    "\n"
   ]
  },
  {
   "cell_type": "code",
   "execution_count": 165,
   "id": "8b0ef65d",
   "metadata": {},
   "outputs": [],
   "source": [
    "hour_columns = []   # 빈 리스트 만들기\n",
    "\n",
    "for i in range(24):\n",
    "    hour = str(i).zfill(2) + \"시\"   # 0~9는 앞에 0 붙이고 \"시\" 추가\n",
    "    hour_columns.append(hour)      # 리스트에 하나씩 추가\n"
   ]
  },
  {
   "cell_type": "code",
   "execution_count": 166,
   "id": "80c0d151",
   "metadata": {},
   "outputs": [
    {
     "data": {
      "text/plain": [
       "['00시',\n",
       " '01시',\n",
       " '02시',\n",
       " '03시',\n",
       " '04시',\n",
       " '05시',\n",
       " '06시',\n",
       " '07시',\n",
       " '08시',\n",
       " '09시',\n",
       " '10시',\n",
       " '11시',\n",
       " '12시',\n",
       " '13시',\n",
       " '14시',\n",
       " '15시',\n",
       " '16시',\n",
       " '17시',\n",
       " '18시',\n",
       " '19시',\n",
       " '20시',\n",
       " '21시',\n",
       " '22시',\n",
       " '23시']"
      ]
     },
     "execution_count": 166,
     "metadata": {},
     "output_type": "execute_result"
    }
   ],
   "source": [
    "hour_columns"
   ]
  },
  {
   "cell_type": "code",
   "execution_count": 171,
   "id": "f086b27f",
   "metadata": {},
   "outputs": [
    {
     "data": {
      "text/plain": [
       "0       4767\n",
       "1       5983\n",
       "2       4939\n",
       "3       6887\n",
       "4       7195\n",
       "        ... \n",
       "1435    4843\n",
       "1436    3633\n",
       "1437    5282\n",
       "1438    5380\n",
       "1439    5611\n",
       "Name: 총교통량, Length: 1440, dtype: int64"
      ]
     },
     "execution_count": 171,
     "metadata": {},
     "output_type": "execute_result"
    }
   ],
   "source": [
    "df['총교통량']"
   ]
  },
  {
   "cell_type": "code",
   "execution_count": 173,
   "id": "af46512e",
   "metadata": {},
   "outputs": [],
   "source": [
    "df['교통정체'] = (df['총교통량']>7000)"
   ]
  },
  {
   "cell_type": "code",
   "execution_count": 174,
   "id": "e85754e3",
   "metadata": {},
   "outputs": [
    {
     "data": {
      "text/html": [
       "<div>\n",
       "<style scoped>\n",
       "    .dataframe tbody tr th:only-of-type {\n",
       "        vertical-align: middle;\n",
       "    }\n",
       "\n",
       "    .dataframe tbody tr th {\n",
       "        vertical-align: top;\n",
       "    }\n",
       "\n",
       "    .dataframe thead th {\n",
       "        text-align: right;\n",
       "    }\n",
       "</style>\n",
       "<table border=\"1\" class=\"dataframe\">\n",
       "  <thead>\n",
       "    <tr style=\"text-align: right;\">\n",
       "      <th></th>\n",
       "      <th>일자</th>\n",
       "      <th>요일</th>\n",
       "      <th>도로명</th>\n",
       "      <th>지점명</th>\n",
       "      <th>방향</th>\n",
       "      <th>시점명</th>\n",
       "      <th>종점명</th>\n",
       "      <th>00시</th>\n",
       "      <th>01시</th>\n",
       "      <th>02시</th>\n",
       "      <th>...</th>\n",
       "      <th>16시</th>\n",
       "      <th>17시</th>\n",
       "      <th>18시</th>\n",
       "      <th>19시</th>\n",
       "      <th>20시</th>\n",
       "      <th>21시</th>\n",
       "      <th>22시</th>\n",
       "      <th>23시</th>\n",
       "      <th>총교통량</th>\n",
       "      <th>교통정체</th>\n",
       "    </tr>\n",
       "  </thead>\n",
       "  <tbody>\n",
       "    <tr>\n",
       "      <th>0</th>\n",
       "      <td>2021-01-01</td>\n",
       "      <td>금</td>\n",
       "      <td>테크노파크로</td>\n",
       "      <td>한국생산기술연구원 맞은편</td>\n",
       "      <td>상행</td>\n",
       "      <td>한국생산기술연구원앞</td>\n",
       "      <td>미추홀타워입구</td>\n",
       "      <td>87</td>\n",
       "      <td>57</td>\n",
       "      <td>53</td>\n",
       "      <td>...</td>\n",
       "      <td>473</td>\n",
       "      <td>453</td>\n",
       "      <td>408</td>\n",
       "      <td>367</td>\n",
       "      <td>284</td>\n",
       "      <td>200</td>\n",
       "      <td>138</td>\n",
       "      <td>111</td>\n",
       "      <td>4767</td>\n",
       "      <td>False</td>\n",
       "    </tr>\n",
       "    <tr>\n",
       "      <th>1</th>\n",
       "      <td>2021-01-02</td>\n",
       "      <td>토</td>\n",
       "      <td>테크노파크로</td>\n",
       "      <td>한국생산기술연구원 맞은편</td>\n",
       "      <td>상행</td>\n",
       "      <td>한국생산기술연구원앞</td>\n",
       "      <td>미추홀타워입구</td>\n",
       "      <td>69</td>\n",
       "      <td>26</td>\n",
       "      <td>23</td>\n",
       "      <td>...</td>\n",
       "      <td>522</td>\n",
       "      <td>546</td>\n",
       "      <td>518</td>\n",
       "      <td>427</td>\n",
       "      <td>303</td>\n",
       "      <td>249</td>\n",
       "      <td>205</td>\n",
       "      <td>91</td>\n",
       "      <td>5983</td>\n",
       "      <td>False</td>\n",
       "    </tr>\n",
       "    <tr>\n",
       "      <th>2</th>\n",
       "      <td>2021-01-03</td>\n",
       "      <td>일</td>\n",
       "      <td>테크노파크로</td>\n",
       "      <td>한국생산기술연구원 맞은편</td>\n",
       "      <td>상행</td>\n",
       "      <td>한국생산기술연구원앞</td>\n",
       "      <td>미추홀타워입구</td>\n",
       "      <td>63</td>\n",
       "      <td>43</td>\n",
       "      <td>29</td>\n",
       "      <td>...</td>\n",
       "      <td>497</td>\n",
       "      <td>458</td>\n",
       "      <td>416</td>\n",
       "      <td>330</td>\n",
       "      <td>280</td>\n",
       "      <td>209</td>\n",
       "      <td>144</td>\n",
       "      <td>80</td>\n",
       "      <td>4939</td>\n",
       "      <td>False</td>\n",
       "    </tr>\n",
       "    <tr>\n",
       "      <th>3</th>\n",
       "      <td>2021-01-04</td>\n",
       "      <td>월</td>\n",
       "      <td>테크노파크로</td>\n",
       "      <td>한국생산기술연구원 맞은편</td>\n",
       "      <td>상행</td>\n",
       "      <td>한국생산기술연구원앞</td>\n",
       "      <td>미추홀타워입구</td>\n",
       "      <td>50</td>\n",
       "      <td>34</td>\n",
       "      <td>22</td>\n",
       "      <td>...</td>\n",
       "      <td>410</td>\n",
       "      <td>455</td>\n",
       "      <td>592</td>\n",
       "      <td>534</td>\n",
       "      <td>423</td>\n",
       "      <td>288</td>\n",
       "      <td>187</td>\n",
       "      <td>113</td>\n",
       "      <td>6887</td>\n",
       "      <td>False</td>\n",
       "    </tr>\n",
       "    <tr>\n",
       "      <th>4</th>\n",
       "      <td>2021-01-05</td>\n",
       "      <td>화</td>\n",
       "      <td>테크노파크로</td>\n",
       "      <td>한국생산기술연구원 맞은편</td>\n",
       "      <td>상행</td>\n",
       "      <td>한국생산기술연구원앞</td>\n",
       "      <td>미추홀타워입구</td>\n",
       "      <td>76</td>\n",
       "      <td>35</td>\n",
       "      <td>16</td>\n",
       "      <td>...</td>\n",
       "      <td>421</td>\n",
       "      <td>469</td>\n",
       "      <td>534</td>\n",
       "      <td>610</td>\n",
       "      <td>458</td>\n",
       "      <td>335</td>\n",
       "      <td>253</td>\n",
       "      <td>121</td>\n",
       "      <td>7195</td>\n",
       "      <td>True</td>\n",
       "    </tr>\n",
       "  </tbody>\n",
       "</table>\n",
       "<p>5 rows × 33 columns</p>\n",
       "</div>"
      ],
      "text/plain": [
       "           일자 요일     도로명            지점명  방향         시점명      종점명  00시  01시  \\\n",
       "0  2021-01-01  금  테크노파크로  한국생산기술연구원 맞은편  상행  한국생산기술연구원앞  미추홀타워입구   87   57   \n",
       "1  2021-01-02  토  테크노파크로  한국생산기술연구원 맞은편  상행  한국생산기술연구원앞  미추홀타워입구   69   26   \n",
       "2  2021-01-03  일  테크노파크로  한국생산기술연구원 맞은편  상행  한국생산기술연구원앞  미추홀타워입구   63   43   \n",
       "3  2021-01-04  월  테크노파크로  한국생산기술연구원 맞은편  상행  한국생산기술연구원앞  미추홀타워입구   50   34   \n",
       "4  2021-01-05  화  테크노파크로  한국생산기술연구원 맞은편  상행  한국생산기술연구원앞  미추홀타워입구   76   35   \n",
       "\n",
       "   02시  ...  16시  17시  18시  19시  20시  21시  22시  23시  총교통량   교통정체  \n",
       "0   53  ...  473  453  408  367  284  200  138  111  4767  False  \n",
       "1   23  ...  522  546  518  427  303  249  205   91  5983  False  \n",
       "2   29  ...  497  458  416  330  280  209  144   80  4939  False  \n",
       "3   22  ...  410  455  592  534  423  288  187  113  6887  False  \n",
       "4   16  ...  421  469  534  610  458  335  253  121  7195   True  \n",
       "\n",
       "[5 rows x 33 columns]"
      ]
     },
     "execution_count": 174,
     "metadata": {},
     "output_type": "execute_result"
    }
   ],
   "source": [
    "df.head()"
   ]
  },
  {
   "cell_type": "code",
   "execution_count": 175,
   "id": "71e2422f",
   "metadata": {},
   "outputs": [],
   "source": [
    "plt.rcParams['font.family'] = 'Malgun Gothic'"
   ]
  },
  {
   "cell_type": "code",
   "execution_count": 176,
   "id": "9b1851cd",
   "metadata": {},
   "outputs": [],
   "source": [
    "plt.rcParams['axes.unicode_minus'] = False  # 음수 기호 표시를 위한 설정"
   ]
  },
  {
   "cell_type": "code",
   "execution_count": 177,
   "id": "8ad1a839",
   "metadata": {},
   "outputs": [
    {
     "data": {
      "text/plain": [
       "<Figure size 1200x600 with 0 Axes>"
      ]
     },
     "execution_count": 177,
     "metadata": {},
     "output_type": "execute_result"
    },
    {
     "data": {
      "text/plain": [
       "<Figure size 1200x600 with 0 Axes>"
      ]
     },
     "metadata": {},
     "output_type": "display_data"
    }
   ],
   "source": [
    "plt.figure(figsize=(12,6))"
   ]
  },
  {
   "cell_type": "code",
   "execution_count": 182,
   "id": "f1ccb6fa",
   "metadata": {},
   "outputs": [
    {
     "data": {
      "image/png": "[encoded data removed]",
      "text/plain": [
       "<Figure size 1200x600 with 1 Axes>"
      ]
     },
     "metadata": {},
     "output_type": "display_data"
    }
   ],
   "source": [
    "plt.rcParams['font.family'] = 'AppleGothic'\n",
    "plt.rcParams['axes.unicode_minus'] = False  # 음수 기호 표시를 위한 설정\n",
    "plt.figure(figsize=(12,6))\n",
    "plt.bar(df['도로명'], df['총교통량'], color='skyblue')\n",
    "plt.title('도로별 총교통량', fontsize=16)\n",
    "plt.show()"
   ]
  },
  {
   "cell_type": "code",
   "execution_count": 179,
   "id": "d27e6a13",
   "metadata": {},
   "outputs": [
    {
     "data": {
      "text/plain": [
       "Text(0.5, 1.0, '도로별 총교통량')"
      ]
     },
     "execution_count": 179,
     "metadata": {},
     "output_type": "execute_result"
    },
    {
     "name": "stderr",
     "output_type": "stream",
     "text": [
      "findfont: Font family 'Malgun Gothic' not found.\n",
      "findfont: Font family 'Malgun Gothic' not found.\n",
      "findfont: Font family 'Malgun Gothic' not found.\n",
      "findfont: Font family 'Malgun Gothic' not found.\n",
      "findfont: Font family 'Malgun Gothic' not found.\n",
      "findfont: Font family 'Malgun Gothic' not found.\n",
      "findfont: Font family 'Malgun Gothic' not found.\n",
      "findfont: Font family 'Malgun Gothic' not found.\n",
      "findfont: Font family 'Malgun Gothic' not found.\n",
      "/Users/admin/week1/.venv/lib/python3.11/site-packages/IPython/core/events.py:82: UserWarning: Glyph 46020 (\\N{HANGUL SYLLABLE DO}) missing from font(s) DejaVu Sans.\n",
      "  func(*args, **kwargs)\n",
      "/Users/admin/week1/.venv/lib/python3.11/site-packages/IPython/core/events.py:82: UserWarning: Glyph 47196 (\\N{HANGUL SYLLABLE RO}) missing from font(s) DejaVu Sans.\n",
      "  func(*args, **kwargs)\n",
      "/Users/admin/week1/.venv/lib/python3.11/site-packages/IPython/core/events.py:82: UserWarning: Glyph 48324 (\\N{HANGUL SYLLABLE BYEOL}) missing from font(s) DejaVu Sans.\n",
      "  func(*args, **kwargs)\n",
      "/Users/admin/week1/.venv/lib/python3.11/site-packages/IPython/core/events.py:82: UserWarning: Glyph 52509 (\\N{HANGUL SYLLABLE CONG}) missing from font(s) DejaVu Sans.\n",
      "  func(*args, **kwargs)\n",
      "/Users/admin/week1/.venv/lib/python3.11/site-packages/IPython/core/events.py:82: UserWarning: Glyph 44368 (\\N{HANGUL SYLLABLE GYO}) missing from font(s) DejaVu Sans.\n",
      "  func(*args, **kwargs)\n",
      "/Users/admin/week1/.venv/lib/python3.11/site-packages/IPython/core/events.py:82: UserWarning: Glyph 53685 (\\N{HANGUL SYLLABLE TONG}) missing from font(s) DejaVu Sans.\n",
      "  func(*args, **kwargs)\n",
      "/Users/admin/week1/.venv/lib/python3.11/site-packages/IPython/core/events.py:82: UserWarning: Glyph 47049 (\\N{HANGUL SYLLABLE RYANG}) missing from font(s) DejaVu Sans.\n",
      "  func(*args, **kwargs)\n",
      "findfont: Font family 'Malgun Gothic' not found.\n",
      "findfont: Font family 'Malgun Gothic' not found.\n",
      "findfont: Font family 'Malgun Gothic' not found.\n",
      "findfont: Font family 'Malgun Gothic' not found.\n",
      "findfont: Font family 'Malgun Gothic' not found.\n",
      "findfont: Font family 'Malgun Gothic' not found.\n",
      "findfont: Font family 'Malgun Gothic' not found.\n",
      "findfont: Font family 'Malgun Gothic' not found.\n",
      "findfont: Font family 'Malgun Gothic' not found.\n",
      "findfont: Font family 'Malgun Gothic' not found.\n",
      "findfont: Font family 'Malgun Gothic' not found.\n",
      "findfont: Font family 'Malgun Gothic' not found.\n",
      "findfont: Font family 'Malgun Gothic' not found.\n",
      "findfont: Font family 'Malgun Gothic' not found.\n",
      "findfont: Font family 'Malgun Gothic' not found.\n",
      "findfont: Font family 'Malgun Gothic' not found.\n",
      "findfont: Font family 'Malgun Gothic' not found.\n",
      "findfont: Font family 'Malgun Gothic' not found.\n",
      "findfont: Font family 'Malgun Gothic' not found.\n",
      "findfont: Font family 'Malgun Gothic' not found.\n",
      "findfont: Font family 'Malgun Gothic' not found.\n",
      "findfont: Font family 'Malgun Gothic' not found.\n",
      "/Users/admin/week1/.venv/lib/python3.11/site-packages/IPython/core/pylabtools.py:170: UserWarning: Glyph 46020 (\\N{HANGUL SYLLABLE DO}) missing from font(s) DejaVu Sans.\n",
      "  fig.canvas.print_figure(bytes_io, **kw)\n",
      "/Users/admin/week1/.venv/lib/python3.11/site-packages/IPython/core/pylabtools.py:170: UserWarning: Glyph 47196 (\\N{HANGUL SYLLABLE RO}) missing from font(s) DejaVu Sans.\n",
      "  fig.canvas.print_figure(bytes_io, **kw)\n",
      "/Users/admin/week1/.venv/lib/python3.11/site-packages/IPython/core/pylabtools.py:170: UserWarning: Glyph 48324 (\\N{HANGUL SYLLABLE BYEOL}) missing from font(s) DejaVu Sans.\n",
      "  fig.canvas.print_figure(bytes_io, **kw)\n",
      "/Users/admin/week1/.venv/lib/python3.11/site-packages/IPython/core/pylabtools.py:170: UserWarning: Glyph 52509 (\\N{HANGUL SYLLABLE CONG}) missing from font(s) DejaVu Sans.\n",
      "  fig.canvas.print_figure(bytes_io, **kw)\n",
      "/Users/admin/week1/.venv/lib/python3.11/site-packages/IPython/core/pylabtools.py:170: UserWarning: Glyph 44368 (\\N{HANGUL SYLLABLE GYO}) missing from font(s) DejaVu Sans.\n",
      "  fig.canvas.print_figure(bytes_io, **kw)\n",
      "/Users/admin/week1/.venv/lib/python3.11/site-packages/IPython/core/pylabtools.py:170: UserWarning: Glyph 53685 (\\N{HANGUL SYLLABLE TONG}) missing from font(s) DejaVu Sans.\n",
      "  fig.canvas.print_figure(bytes_io, **kw)\n",
      "/Users/admin/week1/.venv/lib/python3.11/site-packages/IPython/core/pylabtools.py:170: UserWarning: Glyph 47049 (\\N{HANGUL SYLLABLE RYANG}) missing from font(s) DejaVu Sans.\n",
      "  fig.canvas.print_figure(bytes_io, **kw)\n",
      "findfont: Font family 'Malgun Gothic' not found.\n",
      "findfont: Font family 'Malgun Gothic' not found.\n",
      "findfont: Font family 'Malgun Gothic' not found.\n",
      "findfont: Font family 'Malgun Gothic' not found.\n",
      "findfont: Font family 'Malgun Gothic' not found.\n",
      "findfont: Font family 'Malgun Gothic' not found.\n",
      "findfont: Font family 'Malgun Gothic' not found.\n",
      "findfont: Font family 'Malgun Gothic' not found.\n",
      "findfont: Font family 'Malgun Gothic' not found.\n",
      "findfont: Font family 'Malgun Gothic' not found.\n",
      "findfont: Font family 'Malgun Gothic' not found.\n",
      "findfont: Font family 'Malgun Gothic' not found.\n",
      "findfont: Font family 'Malgun Gothic' not found.\n"
     ]
    },
    {
     "data": {
      "image/png": "[encoded data removed]",
      "text/plain": [
       "<Figure size 640x480 with 1 Axes>"
      ]
     },
     "metadata": {},
     "output_type": "display_data"
    }
   ],
   "source": [
    "plt.title('도로별 총교통량', fontsize=16)"
   ]
  },
  {
   "cell_type": "code",
   "execution_count": 180,
   "id": "c1138467",
   "metadata": {},
   "outputs": [],
   "source": [
    "plt.show()"
   ]
  },
  {
   "cell_type": "code",
   "execution_count": 183,
   "id": "4f83c398",
   "metadata": {},
   "outputs": [],
   "source": [
    "hour_by_road = df.groupby('도로명')[hour_columns].mean()"
   ]
  },
  {
   "cell_type": "code",
   "execution_count": 184,
   "id": "921c5d36",
   "metadata": {},
   "outputs": [
    {
     "data": {
      "image/png": "[encoded data removed]",
      "text/plain": [
       "<Figure size 1500x600 with 1 Axes>"
      ]
     },
     "metadata": {},
     "output_type": "display_data"
    }
   ],
   "source": [
    "plt.figure(figsize=(15, 6))\n",
    "\n",
    "for road_name, row in hour_by_road.iterrows():\n",
    "    plt.plot(hour_columns, row.values, label=road_name, marker='o')\n",
    "\n",
    "plt.title('도로별 시간대별 교통량', fontsize=16)\n",
    "plt.xlabel('시간대', fontsize=14)\n",
    "plt.ylabel('교통량', fontsize=14)\n",
    "plt.legend(title='도로명', fontsize=12)\n",
    "plt.show()"
   ]
  },
  {
   "cell_type": "code",
   "execution_count": 185,
   "id": "367b846f",
   "metadata": {},
   "outputs": [
    {
     "data": {
      "text/html": [
       "<div>\n",
       "<style scoped>\n",
       "    .dataframe tbody tr th:only-of-type {\n",
       "        vertical-align: middle;\n",
       "    }\n",
       "\n",
       "    .dataframe tbody tr th {\n",
       "        vertical-align: top;\n",
       "    }\n",
       "\n",
       "    .dataframe thead th {\n",
       "        text-align: right;\n",
       "    }\n",
       "</style>\n",
       "<table border=\"1\" class=\"dataframe\">\n",
       "  <thead>\n",
       "    <tr style=\"text-align: right;\">\n",
       "      <th></th>\n",
       "      <th>도로명</th>\n",
       "      <th>방향</th>\n",
       "      <th>09시</th>\n",
       "    </tr>\n",
       "  </thead>\n",
       "  <tbody>\n",
       "    <tr>\n",
       "      <th>0</th>\n",
       "      <td>테크노파크로</td>\n",
       "      <td>상행</td>\n",
       "      <td>106</td>\n",
       "    </tr>\n",
       "    <tr>\n",
       "      <th>1</th>\n",
       "      <td>테크노파크로</td>\n",
       "      <td>상행</td>\n",
       "      <td>144</td>\n",
       "    </tr>\n",
       "    <tr>\n",
       "      <th>2</th>\n",
       "      <td>테크노파크로</td>\n",
       "      <td>상행</td>\n",
       "      <td>93</td>\n",
       "    </tr>\n",
       "    <tr>\n",
       "      <th>3</th>\n",
       "      <td>테크노파크로</td>\n",
       "      <td>상행</td>\n",
       "      <td>654</td>\n",
       "    </tr>\n",
       "    <tr>\n",
       "      <th>4</th>\n",
       "      <td>테크노파크로</td>\n",
       "      <td>상행</td>\n",
       "      <td>663</td>\n",
       "    </tr>\n",
       "    <tr>\n",
       "      <th>...</th>\n",
       "      <td>...</td>\n",
       "      <td>...</td>\n",
       "      <td>...</td>\n",
       "    </tr>\n",
       "    <tr>\n",
       "      <th>1435</th>\n",
       "      <td>송도문화로</td>\n",
       "      <td>상행</td>\n",
       "      <td>143</td>\n",
       "    </tr>\n",
       "    <tr>\n",
       "      <th>1436</th>\n",
       "      <td>송도문화로</td>\n",
       "      <td>상행</td>\n",
       "      <td>72</td>\n",
       "    </tr>\n",
       "    <tr>\n",
       "      <th>1437</th>\n",
       "      <td>송도문화로</td>\n",
       "      <td>상행</td>\n",
       "      <td>381</td>\n",
       "    </tr>\n",
       "    <tr>\n",
       "      <th>1438</th>\n",
       "      <td>송도문화로</td>\n",
       "      <td>상행</td>\n",
       "      <td>358</td>\n",
       "    </tr>\n",
       "    <tr>\n",
       "      <th>1439</th>\n",
       "      <td>송도문화로</td>\n",
       "      <td>상행</td>\n",
       "      <td>369</td>\n",
       "    </tr>\n",
       "  </tbody>\n",
       "</table>\n",
       "<p>1440 rows × 3 columns</p>\n",
       "</div>"
      ],
      "text/plain": [
       "         도로명  방향  09시\n",
       "0     테크노파크로  상행  106\n",
       "1     테크노파크로  상행  144\n",
       "2     테크노파크로  상행   93\n",
       "3     테크노파크로  상행  654\n",
       "4     테크노파크로  상행  663\n",
       "...      ...  ..  ...\n",
       "1435   송도문화로  상행  143\n",
       "1436   송도문화로  상행   72\n",
       "1437   송도문화로  상행  381\n",
       "1438   송도문화로  상행  358\n",
       "1439   송도문화로  상행  369\n",
       "\n",
       "[1440 rows x 3 columns]"
      ]
     },
     "execution_count": 185,
     "metadata": {},
     "output_type": "execute_result"
    }
   ],
   "source": [
    "df_9am"
   ]
  },
  {
   "cell_type": "code",
   "execution_count": 186,
   "id": "e5588d1d",
   "metadata": {},
   "outputs": [],
   "source": [
    "df_9am = df[[\"일자\", \"도로명\", \"09시\"]]"
   ]
  },
  {
   "cell_type": "code",
   "execution_count": 187,
   "id": "f217ecfb",
   "metadata": {},
   "outputs": [
    {
     "name": "stderr",
     "output_type": "stream",
     "text": [
      "/var/folders/sh/kdmn5r8d37g7thc_ndsngxyw0000gn/T/ipykernel_8565/4057009972.py:1: SettingWithCopyWarning: \n",
      "A value is trying to be set on a copy of a slice from a DataFrame\n",
      "\n",
      "See the caveats in the documentation: https://pandas.pydata.org/pandas-docs/stable/user_guide/indexing.html#returning-a-view-versus-a-copy\n",
      "  df_9am.rename(columns={\"09시\": \"교통량\"}, inplace=True)\n"
     ]
    }
   ],
   "source": [
    "df_9am.rename(columns={\"09시\": \"교통량\"}, inplace=True)"
   ]
  },
  {
   "cell_type": "code",
   "execution_count": 188,
   "id": "e9a05f51",
   "metadata": {},
   "outputs": [
    {
     "data": {
      "text/html": [
       "<div>\n",
       "<style scoped>\n",
       "    .dataframe tbody tr th:only-of-type {\n",
       "        vertical-align: middle;\n",
       "    }\n",
       "\n",
       "    .dataframe tbody tr th {\n",
       "        vertical-align: top;\n",
       "    }\n",
       "\n",
       "    .dataframe thead th {\n",
       "        text-align: right;\n",
       "    }\n",
       "</style>\n",
       "<table border=\"1\" class=\"dataframe\">\n",
       "  <thead>\n",
       "    <tr style=\"text-align: right;\">\n",
       "      <th></th>\n",
       "      <th>일자</th>\n",
       "      <th>도로명</th>\n",
       "      <th>교통량</th>\n",
       "    </tr>\n",
       "  </thead>\n",
       "  <tbody>\n",
       "    <tr>\n",
       "      <th>0</th>\n",
       "      <td>2021-01-01</td>\n",
       "      <td>테크노파크로</td>\n",
       "      <td>106</td>\n",
       "    </tr>\n",
       "    <tr>\n",
       "      <th>1</th>\n",
       "      <td>2021-01-02</td>\n",
       "      <td>테크노파크로</td>\n",
       "      <td>144</td>\n",
       "    </tr>\n",
       "    <tr>\n",
       "      <th>2</th>\n",
       "      <td>2021-01-03</td>\n",
       "      <td>테크노파크로</td>\n",
       "      <td>93</td>\n",
       "    </tr>\n",
       "    <tr>\n",
       "      <th>3</th>\n",
       "      <td>2021-01-04</td>\n",
       "      <td>테크노파크로</td>\n",
       "      <td>654</td>\n",
       "    </tr>\n",
       "    <tr>\n",
       "      <th>4</th>\n",
       "      <td>2021-01-05</td>\n",
       "      <td>테크노파크로</td>\n",
       "      <td>663</td>\n",
       "    </tr>\n",
       "    <tr>\n",
       "      <th>...</th>\n",
       "      <td>...</td>\n",
       "      <td>...</td>\n",
       "      <td>...</td>\n",
       "    </tr>\n",
       "    <tr>\n",
       "      <th>1435</th>\n",
       "      <td>2021-03-27</td>\n",
       "      <td>송도문화로</td>\n",
       "      <td>143</td>\n",
       "    </tr>\n",
       "    <tr>\n",
       "      <th>1436</th>\n",
       "      <td>2021-03-28</td>\n",
       "      <td>송도문화로</td>\n",
       "      <td>72</td>\n",
       "    </tr>\n",
       "    <tr>\n",
       "      <th>1437</th>\n",
       "      <td>2021-03-29</td>\n",
       "      <td>송도문화로</td>\n",
       "      <td>381</td>\n",
       "    </tr>\n",
       "    <tr>\n",
       "      <th>1438</th>\n",
       "      <td>2021-03-30</td>\n",
       "      <td>송도문화로</td>\n",
       "      <td>358</td>\n",
       "    </tr>\n",
       "    <tr>\n",
       "      <th>1439</th>\n",
       "      <td>2021-03-31</td>\n",
       "      <td>송도문화로</td>\n",
       "      <td>369</td>\n",
       "    </tr>\n",
       "  </tbody>\n",
       "</table>\n",
       "<p>1440 rows × 3 columns</p>\n",
       "</div>"
      ],
      "text/plain": [
       "              일자     도로명  교통량\n",
       "0     2021-01-01  테크노파크로  106\n",
       "1     2021-01-02  테크노파크로  144\n",
       "2     2021-01-03  테크노파크로   93\n",
       "3     2021-01-04  테크노파크로  654\n",
       "4     2021-01-05  테크노파크로  663\n",
       "...          ...     ...  ...\n",
       "1435  2021-03-27   송도문화로  143\n",
       "1436  2021-03-28   송도문화로   72\n",
       "1437  2021-03-29   송도문화로  381\n",
       "1438  2021-03-30   송도문화로  358\n",
       "1439  2021-03-31   송도문화로  369\n",
       "\n",
       "[1440 rows x 3 columns]"
      ]
     },
     "execution_count": 188,
     "metadata": {},
     "output_type": "execute_result"
    }
   ],
   "source": [
    "df_9am"
   ]
  },
  {
   "cell_type": "code",
   "execution_count": 192,
   "id": "c041bf96",
   "metadata": {},
   "outputs": [
    {
     "name": "stderr",
     "output_type": "stream",
     "text": [
      "/var/folders/sh/kdmn5r8d37g7thc_ndsngxyw0000gn/T/ipykernel_8565/116123473.py:1: FutureWarning: \n",
      "\n",
      "Passing `palette` without assigning `hue` is deprecated and will be removed in v0.14.0. Assign the `x` variable to `hue` and set `legend=False` for the same effect.\n",
      "\n",
      "  sns.boxplot(x='도로명', y='교통량', data=df_9am, showfliers=False, palette='Set1')\n"
     ]
    },
    {
     "data": {
      "text/plain": [
       "([0, 1, 2, 3, 4, 5, 6, 7, 8],\n",
       " [Text(0, 0, '테크노파크로'),\n",
       "  Text(1, 0, '아트센터대로'),\n",
       "  Text(2, 0, '컨벤시아대로'),\n",
       "  Text(3, 0, '송도국제대로'),\n",
       "  Text(4, 0, '인천타워대로'),\n",
       "  Text(5, 0, '첨단대로'),\n",
       "  Text(6, 0, '송도과학로'),\n",
       "  Text(7, 0, '송도바이오대로'),\n",
       "  Text(8, 0, '송도문화로')])"
      ]
     },
     "execution_count": 192,
     "metadata": {},
     "output_type": "execute_result"
    },
    {
     "data": {
      "image/png": "[encoded data removed]",
      "text/plain": [
       "<Figure size 640x480 with 1 Axes>"
      ]
     },
     "metadata": {},
     "output_type": "display_data"
    }
   ],
   "source": [
    "sns.boxplot(x='도로명', y='교통량', data=df_9am, showfliers=False, palette='Set1')\n",
    "sns.stripplot(x='도로명', y='교통량', data=df_9am, jitter=True, color='black', alpha=0.5)\n",
    "\n",
    "plt.xticks(rotation=45)"
   ]
  },
  {
   "cell_type": "code",
   "execution_count": null,
   "id": "4f129a5b",
   "metadata": {},
   "outputs": [],
   "source": []
  }
 ],
 "metadata": {
  "kernelspec": {
   "display_name": ".venv",
   "language": "python",
   "name": "python3"
  },
  "language_info": {
   "codemirror_mode": {
    "name": "ipython",
    "version": 3
   },
   "file_extension": ".py",
   "mimetype": "text/x-python",
   "name": "python",
   "nbconvert_exporter": "python",
   "pygments_lexer": "ipython3",
   "version": "3.11.0"
  }
 },
 "nbformat": 4,
 "nbformat_minor": 5
}
